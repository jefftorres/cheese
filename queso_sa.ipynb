{
 "cells": [
  {
   "metadata": {
    "ExecuteTime": {
     "end_time": "2024-11-27T03:34:32.563587Z",
     "start_time": "2024-11-27T03:34:30.015955Z"
    }
   },
   "cell_type": "code",
   "source": [
    "import timeit\n",
    "\n",
    "import numpy as np\n",
    "import matplotlib.pyplot as plt\n",
    "\n",
    "from scripts.queso_model import model_data, model_vars, objective_func, balance, alloc_df"
   ],
   "outputs": [],
   "execution_count": 1
  },
  {
   "metadata": {},
   "cell_type": "markdown",
   "source": "# Enfriamiento Simulado"
  },
  {
   "metadata": {},
   "cell_type": "markdown",
   "source": "## Parámetros"
  },
  {
   "metadata": {
    "ExecuteTime": {
     "end_time": "2024-11-27T03:34:32.574975Z",
     "start_time": "2024-11-27T03:34:32.566530Z"
    }
   },
   "cell_type": "code",
   "source": [
    "# ¿Cómo se obtienen estas variables desde el sistema de información?\n",
    "\n",
    "# Carpeta con los datos\n",
    "folder = './data/test2/'\n",
    "# Datos de centros de acopio\n",
    "info_acopios = 'centros_acopio.xlsx'\n",
    "# Matriz de costos de transporte entre CA\n",
    "costo_transporte = 'costo_transporte.xlsx'\n",
    "# Matriz de tiempos de transporte entre CA\n",
    "tiempo_transporte = 'tiempos_transporte.xlsx'\n",
    "# Demanda del cliente\n",
    "demanda = 3000\n",
    "# Costo por unidad de tiempo\n",
    "ctiempo = 100\n",
    "\n",
    "# Temperatura inicial\n",
    "max_anneal = 1e4\n",
    "# Temperatura final de enfriamiento (terminación)\n",
    "min_anneal = 1e-9\n",
    "# Energía mínima (terminación)\n",
    "energy = 1e-6\n",
    "# Ratio de enfriamiento\n",
    "r_anneal = 0.995"
   ],
   "outputs": [],
   "execution_count": 2
  },
  {
   "metadata": {
    "ExecuteTime": {
     "end_time": "2024-11-27T03:34:33.048818Z",
     "start_time": "2024-11-27T03:34:32.576939Z"
    }
   },
   "cell_type": "code",
   "source": [
    "archivos = {\n",
    "    'info_acopios': info_acopios,\n",
    "    'costo_transporte' : costo_transporte,\n",
    "    'tiempo_transporte' : tiempo_transporte,\n",
    "}\n",
    "\n",
    "data = model_data(archivos, demanda, ctiempo, folder=folder)\n",
    "\n",
    "demanda = data['demanda']\n",
    "ctiempo = data['ctiempo']\n",
    "# t_max = data['t_max']\n",
    "params_df = data['params_df']\n",
    "\n",
    "N, seed, capacidades = model_vars(params_df)"
   ],
   "outputs": [],
   "execution_count": 3
  },
  {
   "metadata": {},
   "cell_type": "markdown",
   "source": [
    "## Generación\n",
    "De nuevas posibles soluciones"
   ]
  },
  {
   "metadata": {
    "ExecuteTime": {
     "end_time": "2024-11-27T03:34:33.057001Z",
     "start_time": "2024-11-27T03:34:33.050192Z"
    }
   },
   "cell_type": "code",
   "source": [
    "# Generador del estado inicial\n",
    "def gen_s0(n_vars):\n",
    "    # Se indexan los centros de acopio\n",
    "    gen_vector = np.zeros(n_vars+1, dtype=float)\n",
    "\n",
    "    # Se reorganizan todos los índices de los centros de acopio, de forma aleatoria\n",
    "    indices = np.arange(n_vars)\n",
    "    np.random.shuffle(indices)\n",
    "\n",
    "    while np.sum(gen_vector) < demanda and indices.size > 0:\n",
    "        idx = indices[0]\n",
    "        gen_vector[idx] += capacidades[idx]\n",
    "        indices = np.delete(indices, 0)\n",
    "\n",
    "        if np.sum(gen_vector) > demanda:\n",
    "            gen_vector[idx] = gen_vector[idx] - (np.sum(gen_vector) - demanda)\n",
    "            break\n",
    "\n",
    "    gen_vector[n_vars] = np.random.randint(capacidades[n_vars] + 1)\n",
    "\n",
    "    return gen_vector"
   ],
   "outputs": [],
   "execution_count": 4
  },
  {
   "metadata": {
    "ExecuteTime": {
     "end_time": "2024-11-27T03:34:33.065823Z",
     "start_time": "2024-11-27T03:34:33.059010Z"
    }
   },
   "cell_type": "code",
   "source": [
    "# def gen_s(self, problem, X):\n",
    "#     for i in range(len(X)):\n",
    "#         r = np.random.random()\n",
    "# \n",
    "#         if r < self.prob:\n",
    "#             # Se toma un índice aleatorio\n",
    "#             individual = X[i]\n",
    "#             idx_mut = np.random.randint(individual.shape)\n",
    "# \n",
    "#             # Si es el índice del centro de acopio principal (N*2)\n",
    "#             if idx_mut == N*2:\n",
    "#                 X[i, problem.n_var-1] = np.random.randint(CAPACIDADES[N*2] + 1)\n",
    "# \n",
    "#             else:\n",
    "#                 if individual[idx_mut] == 0:\n",
    "#                     # Se asigna la máxima cantidad posible del índice\n",
    "#                     delta = CAPACIDADES[idx_mut]\n",
    "#                     individual[idx_mut] = CAPACIDADES[idx_mut]\n",
    "#                     diff = True\n",
    "#                 else:\n",
    "#                     # Se asigna cero a la cantidad del índice\n",
    "#                     delta = individual[idx_mut]\n",
    "#                     individual[idx_mut] = 0\n",
    "#                     diff = False\n",
    "# \n",
    "#                 balance(individual, delta, diff)\n",
    "# \n",
    "#                 for j in range(individual.shape[0]):\n",
    "#                     X[i, j] = individual[j]\n",
    "# \n",
    "#     return X"
   ],
   "outputs": [],
   "execution_count": 5
  },
  {
   "metadata": {},
   "cell_type": "markdown",
   "source": [
    "Pseudocódigo del método de enfriamiento simulado implementado:\n",
    "\n",
    "$$\n",
    "\\textit{Sea } s = s_0 \\\\ \n",
    "\\textit{Mientras } t > t_{min}, e > e_{th}: \\\\\n",
    "\\qquad \\text{Generar una nueva solución aleatoria, } s_{new} \\leftarrow genS(s) \\\\ \n",
    "\\qquad \\textit{Si } f(s) > f(s_{new}): \\\\\n",
    "\\qquad \\qquad \\textit{entonces } s \\leftarrow s_{new} \\\\\n",
    "\\qquad \\textit{Sino:} \\\\\n",
    "\\qquad \\qquad \\textit{Si } P(f(s), f(s_{new}), t) \\geq rand(0, 1): \\\\ \n",
    "\\qquad \\qquad \\qquad \\textit{entonces } s \\leftarrow s_{new} \\\\\n",
    "\\text{Salida: } s_{final}\n",
    "$$"
   ]
  },
  {
   "metadata": {
    "ExecuteTime": {
     "end_time": "2024-11-27T03:34:33.078174Z",
     "start_time": "2024-11-27T03:34:33.066821Z"
    }
   },
   "cell_type": "code",
   "source": [
    "def anneal(t, t_min, e_th, alpha):\n",
    "    size = capacidades.shape[0] - 1\n",
    "    # Función objetivo\n",
    "    f = objective_func\n",
    "    # Estado inicial (s0)\n",
    "    s = gen_s0(N*2)\n",
    "    # función objetivo a minimizar (a.k.a energía, fitness)\n",
    "    e = f(s, N, data)\n",
    "    # Contador de iteraciones o pasos\n",
    "    k = 0\n",
    "\n",
    "    while t > t_min and e > e_th:\n",
    "        s_new = gen_s0(size)\n",
    "        e_new = f(s_new, N, data)\n",
    "\n",
    "        delta = e_new - e\n",
    "\n",
    "        if delta < 0:\n",
    "            s = s_new\n",
    "            e = e_new\n",
    "        else:\n",
    "            asd = -delta / t\n",
    "            p = np.exp(asd)\n",
    "            r = np.random.rand()\n",
    "\n",
    "            if r < p:\n",
    "                s = s_new\n",
    "                e = e_new\n",
    "\n",
    "        t *= alpha\n",
    "        k += 1\n",
    "\n",
    "    return s, k\n",
    "\n",
    "\n",
    "def sa(t_max, t_min, e_th, alpha, key=1):\n",
    "    np.random.seed(key)\n",
    "    x, count = anneal(t_max, t_min, e_th, alpha)\n",
    "    print(f'Count: ', count)\n",
    "    return x\n"
   ],
   "outputs": [],
   "execution_count": 6
  },
  {
   "metadata": {},
   "cell_type": "markdown",
   "source": "## Aplicación"
  },
  {
   "metadata": {
    "ExecuteTime": {
     "end_time": "2024-11-27T03:34:35.916793Z",
     "start_time": "2024-11-27T03:34:33.079500Z"
    }
   },
   "cell_type": "code",
   "source": [
    "t_start_sa = timeit.default_timer()\n",
    "sa = sa(max_anneal, min_anneal, energy, r_anneal)\n",
    "t_end_sa = timeit.default_timer()\n",
    "\n",
    "t_delta_sa = t_end_sa - t_start_sa"
   ],
   "outputs": [
    {
     "name": "stdout",
     "output_type": "stream",
     "text": [
      "Count:  5972\n"
     ]
    }
   ],
   "execution_count": 7
  },
  {
   "metadata": {
    "ExecuteTime": {
     "end_time": "2024-11-27T03:34:35.925353Z",
     "start_time": "2024-11-27T03:34:35.918308Z"
    }
   },
   "cell_type": "code",
   "source": [
    "print(f'Centro de acopio principal: {params_df['Id_CA'].iloc[int(sa[N*2])]}')\n",
    "print(f'Precio: {objective_func(sa, N, data)}')\n",
    "print(f'Tiempo: {round(t_delta_sa * 1000)}ms, ({t_delta_sa})')"
   ],
   "outputs": [
    {
     "name": "stdout",
     "output_type": "stream",
     "text": [
      "Centro de acopio principal: CA5\n",
      "Precio: 61805513.91152742\n",
      "Tiempo: 2827ms, (2.8272935999993933)\n"
     ]
    }
   ],
   "execution_count": 8
  },
  {
   "metadata": {
    "ExecuteTime": {
     "end_time": "2024-11-27T03:34:35.952832Z",
     "start_time": "2024-11-27T03:34:35.926338Z"
    }
   },
   "cell_type": "code",
   "source": [
    "asignaciones = alloc_df(sa, params_df, N, capacidades)\n",
    "asignaciones.head()"
   ],
   "outputs": [
    {
     "data": {
      "text/plain": [
       "   index        CAcopio  Capacidad  Asignada\n",
       "0      0      CA1 Stock     1256.0    1256.0\n",
       "1      1  CA1 Potencial      223.0     223.0\n",
       "2      2      CA2 Stock     1830.0       0.0\n",
       "3      3  CA2 Potencial      242.0       0.0\n",
       "4      4      CA3 Stock     1350.0       0.0"
      ],
      "text/html": [
       "<div>\n",
       "<style scoped>\n",
       "    .dataframe tbody tr th:only-of-type {\n",
       "        vertical-align: middle;\n",
       "    }\n",
       "\n",
       "    .dataframe tbody tr th {\n",
       "        vertical-align: top;\n",
       "    }\n",
       "\n",
       "    .dataframe thead th {\n",
       "        text-align: right;\n",
       "    }\n",
       "</style>\n",
       "<table border=\"1\" class=\"dataframe\">\n",
       "  <thead>\n",
       "    <tr style=\"text-align: right;\">\n",
       "      <th></th>\n",
       "      <th>index</th>\n",
       "      <th>CAcopio</th>\n",
       "      <th>Capacidad</th>\n",
       "      <th>Asignada</th>\n",
       "    </tr>\n",
       "  </thead>\n",
       "  <tbody>\n",
       "    <tr>\n",
       "      <th>0</th>\n",
       "      <td>0</td>\n",
       "      <td>CA1 Stock</td>\n",
       "      <td>1256.0</td>\n",
       "      <td>1256.0</td>\n",
       "    </tr>\n",
       "    <tr>\n",
       "      <th>1</th>\n",
       "      <td>1</td>\n",
       "      <td>CA1 Potencial</td>\n",
       "      <td>223.0</td>\n",
       "      <td>223.0</td>\n",
       "    </tr>\n",
       "    <tr>\n",
       "      <th>2</th>\n",
       "      <td>2</td>\n",
       "      <td>CA2 Stock</td>\n",
       "      <td>1830.0</td>\n",
       "      <td>0.0</td>\n",
       "    </tr>\n",
       "    <tr>\n",
       "      <th>3</th>\n",
       "      <td>3</td>\n",
       "      <td>CA2 Potencial</td>\n",
       "      <td>242.0</td>\n",
       "      <td>0.0</td>\n",
       "    </tr>\n",
       "    <tr>\n",
       "      <th>4</th>\n",
       "      <td>4</td>\n",
       "      <td>CA3 Stock</td>\n",
       "      <td>1350.0</td>\n",
       "      <td>0.0</td>\n",
       "    </tr>\n",
       "  </tbody>\n",
       "</table>\n",
       "</div>"
      ]
     },
     "execution_count": 9,
     "metadata": {},
     "output_type": "execute_result"
    }
   ],
   "execution_count": 9
  },
  {
   "metadata": {},
   "cell_type": "markdown",
   "source": "## Resultados"
  },
  {
   "metadata": {
    "ExecuteTime": {
     "end_time": "2024-11-27T03:34:36.338534Z",
     "start_time": "2024-11-27T03:34:35.953817Z"
    }
   },
   "cell_type": "code",
   "source": [
    "even = np.arange(0, N*2-1, 2)\n",
    "odd = np.arange(1, N*2, 2)\n",
    "\n",
    "cap_stock = np.take(capacidades, even)\n",
    "cap_potencial = np.take(capacidades, odd)\n",
    "\n",
    "ca_stock = np.take(sa, even)\n",
    "ca_potencial = np.take(sa, odd)\n",
    "    \n",
    "labels = params_df['Id_CA']\n",
    "x = np.arange(len(labels))\n",
    "y1 = ca_stock\n",
    "y2 = ca_potencial\n",
    "\n",
    "fig, ax = plt.subplots()\n",
    "y_lim = np.array(np.mean([np.max(capacidades), np.max(sa)])) * 1.1\n",
    "ax.set_ylim([0, y_lim])\n",
    "x1_bar = ax.bar(x-0.2, y1, width=0.4, label='stock', color='orange')\n",
    "x2_bar = ax.bar(x+0.2, y2, width=0.4, label='potencial', color='violet')\n",
    "\n",
    "plt.xticks(x, labels)\n",
    "plt.xlabel('Centros de acopio')\n",
    "plt.ylabel('Cantidad asignada')\n",
    "plt.legend(loc='upper left', ncol=2)\n",
    "plt.show()"
   ],
   "outputs": [
    {
     "data": {
      "text/plain": [
       "<Figure size 640x480 with 1 Axes>"
      ],
      "image/png": "[encoded data removed]"
     },
     "metadata": {},
     "output_type": "display_data"
    }
   ],
   "execution_count": 10
  },
  {
   "metadata": {
    "ExecuteTime": {
     "end_time": "2024-11-27T03:34:36.624072Z",
     "start_time": "2024-11-27T03:34:36.340501Z"
    }
   },
   "cell_type": "code",
   "source": [
    "from pymoo.visualization.heatmap import Heatmap\n",
    "\n",
    "ca_stock_norm = ca_stock / cap_stock\n",
    "ca_potencial_norm = ca_potencial / cap_potencial\n",
    "ca_heatmap = np.vstack((ca_stock_norm, ca_potencial_norm))\n",
    "\n",
    "heatmap = Heatmap(bounds=(0, 1),\n",
    "                  title='% relativo de asignación',\n",
    "                  cmap='Purples',\n",
    "                  labels=labels.values.tolist(),\n",
    "                  y_labels=['Stock', 'Potencial'])\n",
    "heatmap.add(ca_heatmap)\n",
    "heatmap.show()"
   ],
   "outputs": [
    {
     "data": {
      "text/plain": [
       "<pymoo.visualization.heatmap.Heatmap at 0x20b7cc2e360>"
      ]
     },
     "execution_count": 11,
     "metadata": {},
     "output_type": "execute_result"
    },
    {
     "data": {
      "text/plain": [
       "<Figure size 800x600 with 1 Axes>"
      ],
      "image/png": "[encoded data removed]"
     },
     "metadata": {},
     "output_type": "display_data"
    }
   ],
   "execution_count": 11
  },
  {
   "metadata": {
    "ExecuteTime": {
     "end_time": "2024-11-27T03:34:36.790298Z",
     "start_time": "2024-11-27T03:34:36.626036Z"
    }
   },
   "cell_type": "code",
   "source": [
    "from pymoo.visualization.petal import Petal\n",
    "# add both petals in a single graph?\n",
    "petal = Petal(bounds=(0, 1),\n",
    "              cmap='Paired',\n",
    "              title='Stock',\n",
    "              labels=labels.values.tolist(),\n",
    "              reverse=True)\n",
    "petal.add(ca_stock_norm)\n",
    "petal.show()"
   ],
   "outputs": [
    {
     "data": {
      "text/plain": [
       "<pymoo.visualization.petal.Petal at 0x20b7cb77380>"
      ]
     },
     "execution_count": 12,
     "metadata": {},
     "output_type": "execute_result"
    },
    {
     "data": {
      "text/plain": [
       "<Figure size 800x600 with 1 Axes>"
      ],
      "image/png": "[encoded data removed]"
     },
     "metadata": {},
     "output_type": "display_data"
    }
   ],
   "execution_count": 12
  },
  {
   "metadata": {
    "ExecuteTime": {
     "end_time": "2024-11-27T03:34:36.798209Z",
     "start_time": "2024-11-27T03:34:36.791282Z"
    }
   },
   "cell_type": "code",
   "source": [
    "petal = Petal(bounds=(0, 1),\n",
    "              cmap='Set3_r',\n",
    "              title='Potencial',\n",
    "              labels=labels.values.tolist(),\n",
    "              reverse=True)\n",
    "petal.add(ca_potencial_norm)\n",
    "# petal.show()"
   ],
   "outputs": [
    {
     "data": {
      "text/plain": [
       "<pymoo.visualization.petal.Petal at 0x20b7d4b9a00>"
      ]
     },
     "execution_count": 13,
     "metadata": {},
     "output_type": "execute_result"
    }
   ],
   "execution_count": 13
  },
  {
   "metadata": {},
   "cell_type": "markdown",
   "source": ""
  },
  {
   "metadata": {},
   "cell_type": "markdown",
   "source": [
    "# todo\n",
    "\n",
    "Comenzar a buscar parámetros óptimos y documentar los resultados (La solución es óptima?) \n",
    "\n",
    "Hacer varias ejecuciones y medir estadísticos sobre los resultados obtenidos (varianza)"
   ]
  }
 ],
 "metadata": {
  "colab": {
   "provenance": []
  },
  "kernelspec": {
   "display_name": "Python 3 (ipykernel)",
   "language": "python",
   "name": "python3"
  },
  "language_info": {
   "codemirror_mode": {
    "name": "ipython",
    "version": 3
   },
   "file_extension": ".py",
   "mimetype": "text/x-python",
   "name": "python",
   "nbconvert_exporter": "python",
   "pygments_lexer": "ipython3",
   "version": "3.11.7"
  }
 },
 "nbformat": 4,
 "nbformat_minor": 4
}
