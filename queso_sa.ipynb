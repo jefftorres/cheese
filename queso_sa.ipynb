{
 "cells": [
  {
   "metadata": {
    "ExecuteTime": {
     "end_time": "2025-03-20T07:31:44.652622Z",
     "start_time": "2025-03-20T07:31:42.778637Z"
    }
   },
   "cell_type": "code",
   "source": [
    "import timeit\n",
    "\n",
    "import numpy as np\n",
    "import matplotlib.pyplot as plt\n",
    "\n",
    "from scripts.queso_model import model_data, model_vars, objective_func, balance, alloc_df"
   ],
   "outputs": [],
   "execution_count": 1
  },
  {
   "metadata": {},
   "cell_type": "markdown",
   "source": "# Enfriamiento Simulado"
  },
  {
   "metadata": {},
   "cell_type": "markdown",
   "source": "## Parámetros"
  },
  {
   "metadata": {
    "ExecuteTime": {
     "end_time": "2025-03-20T07:31:44.661349Z",
     "start_time": "2025-03-20T07:31:44.655131Z"
    }
   },
   "cell_type": "code",
   "source": [
    "# ¿Cómo se obtienen estas variables desde el sistema de información?\n",
    "\n",
    "# Escenario 1\n",
    "folder = './data/test1/' # Carpeta con los datos\n",
    "info_acopios = 'nuevo_info_acopios.xlsx' # Datos de centros de acopio \n",
    "costo_transporte = 'costoTransporteCAi.xlsx' # Matriz de costos de transporte entre CAs \n",
    "tiempo_transporte = 'tiempoTransporteCAi.xlsx' # Matriz de tiempos de transporte entre CAs\n",
    "demanda = 60 # Demanda del cliente\n",
    "ctiempo = 100 # Costo por unidad de tiempo\n",
    "\n",
    "# Escenario 2\n",
    "# folder = './data/test2/'\n",
    "# info_acopios = 'centros_acopio.xlsx'\n",
    "# costo_transporte = 'costo_transporte.xlsx'\n",
    "# tiempo_transporte = 'tiempos_transporte.xlsx'\n",
    "# demanda = 4000\n",
    "# ctiempo = 100\n",
    "\n",
    "# Escenario 3\n",
    "# folder = './data/test3/'\n",
    "# info_acopios = 'info_acopios_escenario3.xlsx'\n",
    "# costo_transporte = 'costo_transporte_escenario3.xlsx'\n",
    "# tiempo_transporte = 'tiempos_transporte_escenario3.xlsx'\n",
    "# demanda = 60\n",
    "# ctiempo = 1000\n",
    "\n",
    "# Temperatura inicial\n",
    "max_anneal = 1.e7\n",
    "# Temperatura final de enfriamiento (terminación)\n",
    "min_anneal = 1.e-2\n",
    "# Energía mínima (terminación)\n",
    "energy = 1.5e5\n",
    "# Ratio de enfriamiento\n",
    "# r_anneal = 0.9871\n",
    "r_anneal = 0.9921"
   ],
   "outputs": [],
   "execution_count": 2
  },
  {
   "metadata": {
    "ExecuteTime": {
     "end_time": "2025-03-20T07:31:45.378510Z",
     "start_time": "2025-03-20T07:31:44.663346Z"
    }
   },
   "cell_type": "code",
   "source": [
    "archivos = {\n",
    "    'info_acopios': info_acopios,\n",
    "    'costo_transporte' : costo_transporte,\n",
    "    'tiempo_transporte' : tiempo_transporte,\n",
    "}\n",
    "\n",
    "data = model_data(archivos, demanda, ctiempo, folder=folder)\n",
    "\n",
    "demanda = data['demanda']\n",
    "ctiempo = data['ctiempo']\n",
    "# t_max = data['t_max']\n",
    "params_df = data['params_df']\n",
    "\n",
    "N, seed, capacidades = model_vars(params_df)"
   ],
   "outputs": [],
   "execution_count": 3
  },
  {
   "metadata": {},
   "cell_type": "markdown",
   "source": "## Generación"
  },
  {
   "metadata": {},
   "cell_type": "markdown",
   "source": "Solución inicial $s_0$"
  },
  {
   "metadata": {
    "ExecuteTime": {
     "end_time": "2025-03-20T07:31:45.385814Z",
     "start_time": "2025-03-20T07:31:45.379509Z"
    }
   },
   "cell_type": "code",
   "source": [
    "# Generador del estado inicial\n",
    "def gen_s0(n_vars):\n",
    "    # Se indexan los centros de acopio\n",
    "    gen_vector = np.zeros(n_vars+1, dtype=float)\n",
    "\n",
    "    # Se reorganizan todos los índices de los centros de acopio, de forma aleatoria\n",
    "    indices = np.arange(n_vars)\n",
    "    np.random.shuffle(indices)\n",
    "\n",
    "    while np.sum(gen_vector) < demanda and indices.size > 0:\n",
    "        idx = indices[0]\n",
    "        gen_vector[idx] += capacidades[idx]\n",
    "        indices = np.delete(indices, 0)\n",
    "\n",
    "        if np.sum(gen_vector) > demanda:\n",
    "            gen_vector[idx] = gen_vector[idx] - (np.sum(gen_vector) - demanda)\n",
    "            break\n",
    "\n",
    "    gen_vector[n_vars] = np.random.randint(capacidades[n_vars] + 1)\n",
    "\n",
    "    return gen_vector"
   ],
   "outputs": [],
   "execution_count": 4
  },
  {
   "metadata": {},
   "cell_type": "markdown",
   "source": "Soluciones consecutivas $s_n$"
  },
  {
   "metadata": {
    "ExecuteTime": {
     "end_time": "2025-03-20T07:31:45.397913Z",
     "start_time": "2025-03-20T07:31:45.386900Z"
    }
   },
   "cell_type": "code",
   "source": [
    "def gen_s(sol):\n",
    "    # Se indexan y reorganizan las asignaciones del vector\n",
    "    indices = np.arange(N*2+1)\n",
    "    np.random.shuffle(indices)\n",
    "\n",
    "    idx = indices[0]\n",
    "\n",
    "    while indices.size > 0:\n",
    "        # Si es el índice del centro de acopio principal (N*2)\n",
    "        if idx == N*2:\n",
    "            cap = sol[idx].astype(int)\n",
    "            # Se escoge cualquier centro de acopio distinto al actual\n",
    "            cap = np.delete(np.arange(capacidades[N*2]+1), cap)\n",
    "            sol[idx] = np.random.choice(cap)\n",
    "            break\n",
    "\n",
    "        # Si la cantidad máxima posible es cero...\n",
    "        if sol[idx] == 0 == capacidades[idx]:\n",
    "            # Probar con el siguiente índice\n",
    "            indices = np.delete(indices, 0)\n",
    "            idx = indices[0]\n",
    "            continue\n",
    "\n",
    "        # Asignación de centros de acopio sin el centro principal\n",
    "        s = np.delete(sol, N*2)\n",
    "\n",
    "        if s[idx] == 0:\n",
    "            # Se asigna la máxima cantidad posible del índice\n",
    "            delta = capacidades[idx]\n",
    "            s[idx] = capacidades[idx]\n",
    "            diff = True\n",
    "        else:\n",
    "            # Se asigna cero a la cantidad del índice\n",
    "            delta = s[idx]\n",
    "            s[idx] = 0\n",
    "            diff = False\n",
    "\n",
    "        balance(s, capacidades, delta, diff)\n",
    "        sol = np.append(s, sol[N*2])\n",
    "        break\n",
    "\n",
    "    return sol"
   ],
   "outputs": [],
   "execution_count": 5
  },
  {
   "metadata": {},
   "cell_type": "markdown",
   "source": [
    "Pseudocódigo del método de enfriamiento simulado implementado:\n",
    "\n",
    "$$\n",
    "\\textit{Sea } s = s_0 \\\\ \n",
    "\\textit{Mientras } t > t_{min}, e > e_{th}: \\\\\n",
    "\\qquad \\text{Generar una nueva solución aleatoria, } s_{new} \\leftarrow genS(s) \\\\ \n",
    "\\qquad \\textit{Si } f(s) > f(s_{new}): \\\\\n",
    "\\qquad \\qquad \\textit{entonces } s \\leftarrow s_{new} \\\\\n",
    "\\qquad \\textit{Sino:} \\\\\n",
    "\\qquad \\qquad \\textit{Si } P(f(s), f(s_{new}), t) \\geq rand(0, 1): \\\\ \n",
    "\\qquad \\qquad \\qquad \\textit{entonces } s \\leftarrow s_{new} \\\\\n",
    "\\text{Salida: } s_{final}\n",
    "$$"
   ]
  },
  {
   "metadata": {
    "ExecuteTime": {
     "end_time": "2025-03-20T07:31:45.408673Z",
     "start_time": "2025-03-20T07:31:45.400908Z"
    }
   },
   "cell_type": "code",
   "source": [
    "historial_delta = []\n",
    "historial_t = []\n",
    "historial_e = []\n",
    "\n",
    "def anneal(t, t_min, e_th, alpha):\n",
    "    # Función objetivo\n",
    "    f = objective_func\n",
    "    # Estado inicial (s0)\n",
    "    s = gen_s0(N*2)\n",
    "    # función a optimizar (a.k.a energía, fitness)\n",
    "    e = f(s, N, data)\n",
    "    # Contador de iteraciones o pasos\n",
    "    k = 0\n",
    "    \n",
    "    historial_f = []\n",
    "\n",
    "    while t > t_min and e > e_th:\n",
    "        s_new = gen_s(s)\n",
    "        e_new = f(s_new, N, data)\n",
    "        \n",
    "        ' !!!!!!!! '\n",
    "        historial_f.append(e)\n",
    "\n",
    "        delta = e_new - e\n",
    "        historial_delta.append(delta)\n",
    "\n",
    "        if delta < 0:\n",
    "            s = s_new\n",
    "            e = e_new\n",
    "        else:\n",
    "            p = np.exp(-delta / t)\n",
    "            historial_e.append(p)\n",
    "            r = np.random.rand()\n",
    "\n",
    "            if r < p:\n",
    "                s = s_new\n",
    "                e = e_new\n",
    "\n",
    "        t *= alpha\n",
    "        historial_t.append(t)\n",
    "        k += 1\n",
    "\n",
    "    return s, k, historial_f\n"
   ],
   "outputs": [],
   "execution_count": 6
  },
  {
   "metadata": {},
   "cell_type": "markdown",
   "source": "## Aplicación"
  },
  {
   "metadata": {
    "ExecuteTime": {
     "end_time": "2025-03-20T07:31:47.180553Z",
     "start_time": "2025-03-20T07:31:45.411670Z"
    }
   },
   "cell_type": "code",
   "source": [
    "def sa(t_max, t_min, e_th, alpha, key=1):\n",
    "    # np.random.seed(key)\n",
    "    x, count, historial_f = anneal(t_max, t_min, e_th, alpha)\n",
    "    return x, historial_f\n",
    "\n",
    "t_start_sa = timeit.default_timer()\n",
    "annealing, historial = sa(max_anneal, min_anneal, energy, r_anneal)\n",
    "t_end_sa = timeit.default_timer()\n",
    "\n",
    "t_delta_sa = t_end_sa - t_start_sa"
   ],
   "outputs": [],
   "execution_count": 7
  },
  {
   "metadata": {
    "ExecuteTime": {
     "end_time": "2025-03-20T07:31:47.187544Z",
     "start_time": "2025-03-20T07:31:47.181599Z"
    }
   },
   "cell_type": "code",
   "source": [
    "# print(f'Centro de acopio principal: {params_df['Id_CA'].iloc[int(annealing[N*2])]}')\n",
    "print(f'Precio: {objective_func(annealing, N, data)}')\n",
    "print(f'Tiempo: {round(t_delta_sa * 1000)}ms, ({t_delta_sa}s)')\n",
    "# print(np.min(historial))\n",
    "# print(annealing)"
   ],
   "outputs": [
    {
     "name": "stdout",
     "output_type": "stream",
     "text": [
      "Precio: 1080001.0\n",
      "Tiempo: 1762ms, (1.7615678000001935s)\n"
     ]
    }
   ],
   "execution_count": 8
  },
  {
   "metadata": {
    "ExecuteTime": {
     "end_time": "2025-03-20T07:31:47.608884Z",
     "start_time": "2025-03-20T07:31:47.190574Z"
    }
   },
   "cell_type": "code",
   "source": [
    "plt.figure(figsize=(12,3))\n",
    "plt.title('Convergencia (SA)')\n",
    "plt.xlabel('Iteración')\n",
    "plt.ylabel('Costo')\n",
    "plt.plot(historial, '-', c='orange')\n",
    "plt.yscale('log')\n",
    "plt.show()"
   ],
   "outputs": [
    {
     "data": {
      "text/plain": [
       "<Figure size 1200x300 with 1 Axes>"
      ],
      "image/png": "[encoded data removed]"
     },
     "metadata": {},
     "output_type": "display_data"
    }
   ],
   "execution_count": 9
  },
  {
   "metadata": {
    "ExecuteTime": {
     "end_time": "2025-03-20T07:31:47.771765Z",
     "start_time": "2025-03-20T07:31:47.610353Z"
    }
   },
   "cell_type": "code",
   "source": [
    "plt.plot(historial_t, c='orange')\n",
    "plt.title('Temperatura vs. Tiempo')\n",
    "plt.xlabel('Iteración')\n",
    "plt.ylabel('Temperatura')\n",
    "plt.show()"
   ],
   "outputs": [
    {
     "data": {
      "text/plain": [
       "<Figure size 640x480 with 1 Axes>"
      ],
      "image/png": "[encoded data removed]"
     },
     "metadata": {},
     "output_type": "display_data"
    }
   ],
   "execution_count": 10
  },
  {
   "metadata": {
    "ExecuteTime": {
     "end_time": "2025-03-20T07:31:47.995150Z",
     "start_time": "2025-03-20T07:31:47.773768Z"
    }
   },
   "cell_type": "code",
   "source": [
    "plt.figure(figsize=(12,3))\n",
    "plt.title('Probabilidad de Boltzmann')\n",
    "plt.xlabel('Iteración')\n",
    "plt.ylabel('$exp(-Δe/t)$')\n",
    "plt.scatter(np.arange(len(historial_e)), historial_e, 5, 'orange')\n",
    "plt.show()"
   ],
   "outputs": [
    {
     "data": {
      "text/plain": [
       "<Figure size 1200x300 with 1 Axes>"
      ],
      "image/png": "[encoded data removed]"
     },
     "metadata": {},
     "output_type": "display_data"
    }
   ],
   "execution_count": 11
  },
  {
   "metadata": {
    "ExecuteTime": {
     "end_time": "2025-03-20T07:31:48.015539Z",
     "start_time": "2025-03-20T07:31:47.996251Z"
    }
   },
   "cell_type": "code",
   "source": [
    "asignaciones = alloc_df(annealing, params_df, N, capacidades)\n",
    "asignaciones"
   ],
   "outputs": [
    {
     "data": {
      "text/plain": [
       "  CAcopio  C.Stock   Stock  C.Potencial  Potencial\n",
       "0     CA1     10.0  10.000        0.500      0.500\n",
       "1     CA2     12.0   4.875        0.625      0.625\n",
       "2     CA3      4.0   4.000       14.000      2.000\n",
       "3     CA4      8.0   2.000       13.000      7.000\n",
       "4     CA5     18.0   2.000       15.000      5.375\n",
       "5     CA6      6.0   0.500       14.000      0.500\n",
       "6     CA7     12.0   0.625       13.000      6.000\n",
       "7     CA8      2.0   2.000       12.500      4.000\n",
       "8     CA9     30.0   0.500       15.000      2.000\n",
       "9    CA10     15.0   4.000       18.000      1.500"
      ],
      "text/html": [
       "<div>\n",
       "<style scoped>\n",
       "    .dataframe tbody tr th:only-of-type {\n",
       "        vertical-align: middle;\n",
       "    }\n",
       "\n",
       "    .dataframe tbody tr th {\n",
       "        vertical-align: top;\n",
       "    }\n",
       "\n",
       "    .dataframe thead th {\n",
       "        text-align: right;\n",
       "    }\n",
       "</style>\n",
       "<table border=\"1\" class=\"dataframe\">\n",
       "  <thead>\n",
       "    <tr style=\"text-align: right;\">\n",
       "      <th></th>\n",
       "      <th>CAcopio</th>\n",
       "      <th>C.Stock</th>\n",
       "      <th>Stock</th>\n",
       "      <th>C.Potencial</th>\n",
       "      <th>Potencial</th>\n",
       "    </tr>\n",
       "  </thead>\n",
       "  <tbody>\n",
       "    <tr>\n",
       "      <th>0</th>\n",
       "      <td>CA1</td>\n",
       "      <td>10.0</td>\n",
       "      <td>10.000</td>\n",
       "      <td>0.500</td>\n",
       "      <td>0.500</td>\n",
       "    </tr>\n",
       "    <tr>\n",
       "      <th>1</th>\n",
       "      <td>CA2</td>\n",
       "      <td>12.0</td>\n",
       "      <td>4.875</td>\n",
       "      <td>0.625</td>\n",
       "      <td>0.625</td>\n",
       "    </tr>\n",
       "    <tr>\n",
       "      <th>2</th>\n",
       "      <td>CA3</td>\n",
       "      <td>4.0</td>\n",
       "      <td>4.000</td>\n",
       "      <td>14.000</td>\n",
       "      <td>2.000</td>\n",
       "    </tr>\n",
       "    <tr>\n",
       "      <th>3</th>\n",
       "      <td>CA4</td>\n",
       "      <td>8.0</td>\n",
       "      <td>2.000</td>\n",
       "      <td>13.000</td>\n",
       "      <td>7.000</td>\n",
       "    </tr>\n",
       "    <tr>\n",
       "      <th>4</th>\n",
       "      <td>CA5</td>\n",
       "      <td>18.0</td>\n",
       "      <td>2.000</td>\n",
       "      <td>15.000</td>\n",
       "      <td>5.375</td>\n",
       "    </tr>\n",
       "    <tr>\n",
       "      <th>5</th>\n",
       "      <td>CA6</td>\n",
       "      <td>6.0</td>\n",
       "      <td>0.500</td>\n",
       "      <td>14.000</td>\n",
       "      <td>0.500</td>\n",
       "    </tr>\n",
       "    <tr>\n",
       "      <th>6</th>\n",
       "      <td>CA7</td>\n",
       "      <td>12.0</td>\n",
       "      <td>0.625</td>\n",
       "      <td>13.000</td>\n",
       "      <td>6.000</td>\n",
       "    </tr>\n",
       "    <tr>\n",
       "      <th>7</th>\n",
       "      <td>CA8</td>\n",
       "      <td>2.0</td>\n",
       "      <td>2.000</td>\n",
       "      <td>12.500</td>\n",
       "      <td>4.000</td>\n",
       "    </tr>\n",
       "    <tr>\n",
       "      <th>8</th>\n",
       "      <td>CA9</td>\n",
       "      <td>30.0</td>\n",
       "      <td>0.500</td>\n",
       "      <td>15.000</td>\n",
       "      <td>2.000</td>\n",
       "    </tr>\n",
       "    <tr>\n",
       "      <th>9</th>\n",
       "      <td>CA10</td>\n",
       "      <td>15.0</td>\n",
       "      <td>4.000</td>\n",
       "      <td>18.000</td>\n",
       "      <td>1.500</td>\n",
       "    </tr>\n",
       "  </tbody>\n",
       "</table>\n",
       "</div>"
      ]
     },
     "execution_count": 12,
     "metadata": {},
     "output_type": "execute_result"
    }
   ],
   "execution_count": 12
  },
  {
   "metadata": {},
   "cell_type": "markdown",
   "source": "## Resultados"
  },
  {
   "metadata": {
    "ExecuteTime": {
     "end_time": "2025-03-20T07:31:48.281975Z",
     "start_time": "2025-03-20T07:31:48.016661Z"
    }
   },
   "cell_type": "code",
   "source": [
    "even = np.arange(0, N*2-1, 2)\n",
    "odd = np.arange(1, N*2, 2)\n",
    "\n",
    "cap_stock = np.take(capacidades, even)\n",
    "cap_potencial = np.take(capacidades, odd)\n",
    "\n",
    "ca_stock = np.take(annealing, even)\n",
    "ca_potencial = np.take(annealing, odd)\n",
    "    \n",
    "labels = params_df['Id_CA']\n",
    "x = np.arange(len(labels))\n",
    "y1 = ca_stock\n",
    "y2 = ca_potencial\n",
    "\n",
    "_, ax = plt.subplots()\n",
    "y_lim = np.array(np.mean([np.max(capacidades), np.max(annealing)])) * 1.1\n",
    "ax.set_ylim([0, y_lim])\n",
    "x1_bar = ax.bar(x-0.2, y1, width=0.4, label='stock', color='lime')\n",
    "x2_bar = ax.bar(x+0.2, y2, width=0.4, label='potencial', color='cornflowerblue')\n",
    "\n",
    "plt.xticks(x, labels)\n",
    "plt.title('Asignación (SA)')\n",
    "plt.xlabel('Centros de acopio')\n",
    "plt.ylabel('Cantidad asignada')\n",
    "plt.legend(loc='upper left', ncol=2)\n",
    "plt.show()"
   ],
   "outputs": [
    {
     "data": {
      "text/plain": [
       "<Figure size 640x480 with 1 Axes>"
      ],
      "image/png": "[encoded data removed]"
     },
     "metadata": {},
     "output_type": "display_data"
    }
   ],
   "execution_count": 13
  },
  {
   "metadata": {
    "ExecuteTime": {
     "end_time": "2025-03-20T07:31:48.301002Z",
     "start_time": "2025-03-20T07:31:48.283979Z"
    }
   },
   "cell_type": "code",
   "source": [
    "ca_stock_norm = ca_stock / cap_stock\n",
    "ca_potencial_norm = ca_potencial / cap_potencial\n",
    "\n",
    "ca_norm = ca_stock_norm.tolist()\n",
    "for i,v in enumerate(ca_potencial_norm):\n",
    "    ca_norm.insert(2 * i + 1, v)\n",
    "ca_norm.append(0)\n",
    "ca_norm = np.round(ca_norm, 3)\n",
    "ca_norm = ca_norm * 100\n",
    "\n",
    "ca_norm_df = alloc_df(ca_norm, params_df, N, capacidades, '% Stock', '% Potencial')\n",
    "ca_norm_df"
   ],
   "outputs": [
    {
     "data": {
      "text/plain": [
       "  CAcopio  C.Stock  % Stock  C.Potencial  % Potencial\n",
       "0     CA1     10.0    100.0        0.500        100.0\n",
       "1     CA2     12.0     40.6        0.625        100.0\n",
       "2     CA3      4.0    100.0       14.000         14.3\n",
       "3     CA4      8.0     25.0       13.000         53.8\n",
       "4     CA5     18.0     11.1       15.000         35.8\n",
       "5     CA6      6.0      8.3       14.000          3.6\n",
       "6     CA7     12.0      5.2       13.000         46.2\n",
       "7     CA8      2.0    100.0       12.500         32.0\n",
       "8     CA9     30.0      1.7       15.000         13.3\n",
       "9    CA10     15.0     26.7       18.000          8.3"
      ],
      "text/html": [
       "<div>\n",
       "<style scoped>\n",
       "    .dataframe tbody tr th:only-of-type {\n",
       "        vertical-align: middle;\n",
       "    }\n",
       "\n",
       "    .dataframe tbody tr th {\n",
       "        vertical-align: top;\n",
       "    }\n",
       "\n",
       "    .dataframe thead th {\n",
       "        text-align: right;\n",
       "    }\n",
       "</style>\n",
       "<table border=\"1\" class=\"dataframe\">\n",
       "  <thead>\n",
       "    <tr style=\"text-align: right;\">\n",
       "      <th></th>\n",
       "      <th>CAcopio</th>\n",
       "      <th>C.Stock</th>\n",
       "      <th>% Stock</th>\n",
       "      <th>C.Potencial</th>\n",
       "      <th>% Potencial</th>\n",
       "    </tr>\n",
       "  </thead>\n",
       "  <tbody>\n",
       "    <tr>\n",
       "      <th>0</th>\n",
       "      <td>CA1</td>\n",
       "      <td>10.0</td>\n",
       "      <td>100.0</td>\n",
       "      <td>0.500</td>\n",
       "      <td>100.0</td>\n",
       "    </tr>\n",
       "    <tr>\n",
       "      <th>1</th>\n",
       "      <td>CA2</td>\n",
       "      <td>12.0</td>\n",
       "      <td>40.6</td>\n",
       "      <td>0.625</td>\n",
       "      <td>100.0</td>\n",
       "    </tr>\n",
       "    <tr>\n",
       "      <th>2</th>\n",
       "      <td>CA3</td>\n",
       "      <td>4.0</td>\n",
       "      <td>100.0</td>\n",
       "      <td>14.000</td>\n",
       "      <td>14.3</td>\n",
       "    </tr>\n",
       "    <tr>\n",
       "      <th>3</th>\n",
       "      <td>CA4</td>\n",
       "      <td>8.0</td>\n",
       "      <td>25.0</td>\n",
       "      <td>13.000</td>\n",
       "      <td>53.8</td>\n",
       "    </tr>\n",
       "    <tr>\n",
       "      <th>4</th>\n",
       "      <td>CA5</td>\n",
       "      <td>18.0</td>\n",
       "      <td>11.1</td>\n",
       "      <td>15.000</td>\n",
       "      <td>35.8</td>\n",
       "    </tr>\n",
       "    <tr>\n",
       "      <th>5</th>\n",
       "      <td>CA6</td>\n",
       "      <td>6.0</td>\n",
       "      <td>8.3</td>\n",
       "      <td>14.000</td>\n",
       "      <td>3.6</td>\n",
       "    </tr>\n",
       "    <tr>\n",
       "      <th>6</th>\n",
       "      <td>CA7</td>\n",
       "      <td>12.0</td>\n",
       "      <td>5.2</td>\n",
       "      <td>13.000</td>\n",
       "      <td>46.2</td>\n",
       "    </tr>\n",
       "    <tr>\n",
       "      <th>7</th>\n",
       "      <td>CA8</td>\n",
       "      <td>2.0</td>\n",
       "      <td>100.0</td>\n",
       "      <td>12.500</td>\n",
       "      <td>32.0</td>\n",
       "    </tr>\n",
       "    <tr>\n",
       "      <th>8</th>\n",
       "      <td>CA9</td>\n",
       "      <td>30.0</td>\n",
       "      <td>1.7</td>\n",
       "      <td>15.000</td>\n",
       "      <td>13.3</td>\n",
       "    </tr>\n",
       "    <tr>\n",
       "      <th>9</th>\n",
       "      <td>CA10</td>\n",
       "      <td>15.0</td>\n",
       "      <td>26.7</td>\n",
       "      <td>18.000</td>\n",
       "      <td>8.3</td>\n",
       "    </tr>\n",
       "  </tbody>\n",
       "</table>\n",
       "</div>"
      ]
     },
     "execution_count": 14,
     "metadata": {},
     "output_type": "execute_result"
    }
   ],
   "execution_count": 14
  },
  {
   "metadata": {},
   "cell_type": "markdown",
   "source": ""
  },
  {
   "metadata": {},
   "cell_type": "markdown",
   "source": [
    "# todo\n",
    "\n",
    "Comenzar a buscar parámetros óptimos y documentar los resultados (La solución es óptima?) \n",
    "\n",
    "Hacer varias ejecuciones y medir estadísticos sobre los resultados obtenidos (varianza)"
   ]
  },
  {
   "metadata": {
    "ExecuteTime": {
     "end_time": "2025-03-20T07:31:56.629527Z",
     "start_time": "2025-03-20T07:31:48.303010Z"
    }
   },
   "cell_type": "code",
   "source": [
    "# Media, varianza, mejor solución costo y vector, tiempo \n",
    "\n",
    "# n ejecuciones\n",
    "evals = []\n",
    "def sa_test(n):\n",
    "    hist = []\n",
    "    hist_t = []\n",
    "\n",
    "    for i in range(n):\n",
    "\n",
    "        t_i = timeit.default_timer()\n",
    "        opt, graph = sa(max_anneal, min_anneal, energy, r_anneal)\n",
    "        t_f = timeit.default_timer()\n",
    "\n",
    "        t_delta = t_f - t_i\n",
    "        hist.append(objective_func(opt, N, data))\n",
    "        hist_t.append(t_delta)\n",
    "\n",
    "    return hist, hist_t, n\n",
    "\n",
    "history, hist_time, times = sa_test(5)\n",
    "print(history, '\\n', hist_time, '\\n', np.var(hist_time), '\\n', np.mean(hist_time))"
   ],
   "outputs": [
    {
     "name": "stdout",
     "output_type": "stream",
     "text": [
      "[930626.0, 1045667.0, 537647.0, 697045.0, 515113.0] \n",
      " [2.724511299998994, 1.7016460999984702, 1.267672300000413, 1.3842440000007628, 1.236002700003155] \n",
      " 0.3089230365180778 \n",
      " 1.662815280000359\n"
     ]
    }
   ],
   "execution_count": 15
  },
  {
   "metadata": {
    "ExecuteTime": {
     "end_time": "2025-03-20T07:31:56.634729Z",
     "start_time": "2025-03-20T07:31:56.631526Z"
    }
   },
   "cell_type": "code",
   "source": [
    "# _, ax = plt.subplots(5, 1, figsize=(12, 8))\n",
    "# # Convergencia para N iteraciones\n",
    "# \n",
    "# for m in range(5):\n",
    "#     ax[m].plot(evals[m])\n",
    "# plt.show()"
   ],
   "outputs": [],
   "execution_count": 16
  },
  {
   "metadata": {
    "ExecuteTime": {
     "end_time": "2025-03-20T07:31:56.644860Z",
     "start_time": "2025-03-20T07:31:56.635831Z"
    }
   },
   "cell_type": "code",
   "source": [
    "# plt.bar(np.arange(times), hist_time)\n",
    "# plt.ylim([np.min(hist_time)*0.975, np.max(hist_time)*1.025])\n",
    "# plt.title('Tiempo por optimización')\n",
    "# plt.show()"
   ],
   "outputs": [],
   "execution_count": 17
  }
 ],
 "metadata": {
  "colab": {
   "provenance": []
  },
  "kernelspec": {
   "display_name": "Python 3 (ipykernel)",
   "language": "python",
   "name": "python3"
  },
  "language_info": {
   "codemirror_mode": {
    "name": "ipython",
    "version": 3
   },
   "file_extension": ".py",
   "mimetype": "text/x-python",
   "name": "python",
   "nbconvert_exporter": "python",
   "pygments_lexer": "ipython3",
   "version": "3.11.7"
  }
 },
 "nbformat": 4,
 "nbformat_minor": 4
}
