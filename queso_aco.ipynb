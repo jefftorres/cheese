{
 "cells": [
  {
   "cell_type": "code",
   "id": "initial_id",
   "metadata": {
    "collapsed": true,
    "ExecuteTime": {
     "end_time": "2025-02-10T20:48:22.027145Z",
     "start_time": "2025-02-10T20:48:22.022144Z"
    }
   },
   "source": [
    "import numpy as np\n",
    "import matplotlib.pyplot as plt\n",
    "import pandas as pd\n",
    "import random\n",
    "import copy\n",
    "\n",
    "from scripts.queso_model import model_data, model_vars, objective_func, balance, alloc_df"
   ],
   "outputs": [],
   "execution_count": 2
  },
  {
   "metadata": {},
   "cell_type": "markdown",
   "source": "## Parámetros",
   "id": "1f75f608f530f6e7"
  },
  {
   "metadata": {
    "ExecuteTime": {
     "end_time": "2025-02-10T20:48:23.824862Z",
     "start_time": "2025-02-10T20:48:23.819713Z"
    }
   },
   "cell_type": "code",
   "source": [
    "# Escenario 1\n",
    "folder = './data/test1/' # Carpeta con los datos\n",
    "info_acopios = 'nuevo_info_acopios.xlsx' # Datos de centros de acopio \n",
    "costo_transporte = 'costoTransporteCAi.xlsx' # Matriz de costos de transporte entre CAs \n",
    "tiempo_transporte = 'tiempoTransporteCAi.xlsx' # Matriz de tiempos de transporte entre CAs\n",
    "demanda = 60 # Demanda del cliente\n",
    "ctiempo = 100 # Costo por unidad de tiempo\n",
    "\n",
    "feromona_inicial = 1e-2\n",
    "alpha = 1\n",
    "beta = 1\n",
    "rho = 0.999\n",
    "Q = 1e3\n",
    "tam_hormiguero = 30\n",
    "max_iter = 300"
   ],
   "id": "a70f93ca63d864bc",
   "outputs": [],
   "execution_count": 3
  },
  {
   "metadata": {
    "ExecuteTime": {
     "end_time": "2025-02-10T20:48:27.283377Z",
     "start_time": "2025-02-10T20:48:27.205713Z"
    }
   },
   "cell_type": "code",
   "source": [
    "archivos = {\n",
    "    'info_acopios': info_acopios,\n",
    "    'costo_transporte' : costo_transporte,\n",
    "    'tiempo_transporte' : tiempo_transporte,\n",
    "}\n",
    "\n",
    "data = model_data(archivos, demanda, ctiempo, folder=folder)\n",
    "\n",
    "demanda = data['demanda']\n",
    "ctiempo = data['ctiempo']\n",
    "# t_max = data['t_max']\n",
    "params_df = data['params_df']\n",
    "\n",
    "N, seed, capacidades = model_vars(params_df)"
   ],
   "id": "6c3df86ee640edbc",
   "outputs": [],
   "execution_count": 5
  },
  {
   "metadata": {
    "ExecuteTime": {
     "end_time": "2025-02-10T21:17:54.530198Z",
     "start_time": "2025-02-10T21:17:54.525676Z"
    }
   },
   "cell_type": "code",
   "source": [
    "class CA:  # Centros de acopio\n",
    "    def __init__(self, idCA, cant_stock, cant_pot):\n",
    "        self.idCA = idCA\n",
    "        self.en_stock = cant_stock  # True: disponible en stock, si no, es capacidad potencial\n",
    "        self.potencial = cant_pot"
   ],
   "id": "df3e018c7b777c54",
   "outputs": [],
   "execution_count": 6
  },
  {
   "metadata": {},
   "cell_type": "markdown",
   "source": "Modelo de hormiga",
   "id": "54369407f2605ffb"
  },
  {
   "metadata": {},
   "cell_type": "markdown",
   "source": [
    "$$\n",
    "    p^{k}_{ij}(t) = \n",
    "        \\frac{ [\\tau_{ij}(t)]^\\alpha \\cdot [\\eta_{ij}(t)]^\\beta }{ \\sum_{l \\in J_i^k}[\\tau_{ij}(t)]^\\alpha \\cdot [\\eta_{il}]^\\beta }\n",
    "$$"
   ],
   "id": "c06f6e3132922591"
  },
  {
   "metadata": {},
   "cell_type": "code",
   "outputs": [],
   "execution_count": null,
   "source": [
    "class Ant:\n",
    "    def __init__(self, demanda, CAs_list, i, Q):\n",
    "        self.ant_id = i\n",
    "        self.sol_CAs = []\n",
    "        self.cheese_cant = 0\n",
    "        self.available_CAs = copy.deepcopy(CAs_list)\n",
    "        self.demanda = demanda\n",
    "        self.CAP = 0\n",
    "        self.idx_CAP = 0\n",
    "        self.eta_CAP = 0\n",
    "        self.costo_total = 0\n",
    "        self.pheromone_delta = np.zeros(len(self.available_CAs))\n",
    "        self.Q = Q\n",
    "        self.tao_ini = Q/Q\n",
    "        \n",
    "    \n",
    "    def select_CAP(self, df_infoCA, costo_tiempo, alpha, beta):\n",
    "        deltica = 1.e-5  # Para evitar división por 0\n",
    "        tao = self.tao_ini  # Asumiendo feromona constante hasta el momento\n",
    "        temp = np.zeros(len(self.available_CAs))\n",
    "        denominador = 0\n",
    "        i = 0\n",
    "        \n",
    "        for CA in self.available_CAs:\n",
    "            if CA.en_Stock > 0:\n",
    "                # Cantidad para asignar\n",
    "                to_take = min(CA.en_Stock, self.demanda)\n",
    "                eta = to_take * df_infoCA.loc[CA.idCA, 'Precio'] + df_infoCA.loc[CA.idCA, 'Ctransp'] + df_infoCA.loc[CA.idCA, 'TiempoTransp'] * costo_tiempo\n",
    "                \n",
    "                eta_beta = eta ** beta\n",
    "                tao_alpha = tao ** alpha\n",
    "                \n",
    "                temp[i] = (eta_beta * tao_alpha)\n",
    "                denominador += temp[i]\n",
    "                \n",
    "            i += 1\n",
    "            \n",
    "        probabilities = np.divide(temp, denominador + deltica)\n",
    "        \n",
    "        ids = 0\n",
    "        rand = np.random.random()\n",
    "        \n",
    "        for i, prob in enumerate(probabilities):\n",
    "            rand -= prob\n",
    "            if rand <= 0:\n",
    "                ids = i\n",
    "                break\n",
    "                \n",
    "        self.CAP = self.available_CAs[ids].idCA\n",
    "        self.cheese_cant = min(self.available_CAs[ids].en_Stock, self.demanda)\n",
    "        self.available_CAs[ids].en_Stock = self.available_CAs[ids].en_Stock - self.cheese_cant\n",
    "        self.idx_CAP = ids\n",
    "        self.sol_CAs.append((self.CAP, self.cheese_cant, 'Stock'))\n",
    "        self.eta_CAP = self.cheese_cant * df_infoCA.loc[self.CAP, 'Precio'] + df_infoCA.loc[self.CAP, 'Ctransp'] + df_infoCA.loc[self.CAP, 'TiempoTransp'] * costo_tiempo\n",
    "        self.costo_total = self.eta_CAP\n",
    "        \n",
    "        \n",
    "    def select_next_CA(self, df_infoCA, df_cTransp, df_tTransp, costo_tiempo, alpha, beta, pheromone):\n",
    "        prob_temp = np.zeros(len(self.available_CAs))\n",
    "        idx = 0\n",
    "        eta = 0\n",
    "        denominador = 0\n",
    "        \n",
    "        for CA in self.available_CAs:\n",
    "            if CA.en_Stock + CA.potencial > 0:\n",
    "                if CA.en_Stock > 0:\n",
    "                    to_take = min(CA.en_Stock, self.demanda - self.cheese_cant)\n",
    "                    eta = to_take * df_infoCA.loc[CA.idCA, 'Precio'] + df_cTransp.loc[self.CAP, CA.idCA] + df_tTransp.loc[self.CAP, CA.idCA] * costo_tiempo\n",
    "                    \n",
    "                elif CA.potencial > 0:\n",
    "                    to_take = min(CA.potencial, self.demanda - self.cheese_cant)\n",
    "                    eta = to_take * df_infoCA.loc[CA.idCA, 'Precio'] + df_infoCA.loc[CA.idCA, 'TiempoAlistam']\n",
    "                        \n",
    "                eta_beta = (eta + self.costo_total) ** beta\n",
    "                tao_alpha = pheromone[self.idx_CAP][idx] ** alpha\n",
    "                prob_temp[idx] = (eta_beta * tao_alpha)\n",
    "                denominador += prob_temp[idx]\n",
    "                \n",
    "            idx += 1\n",
    "        \n",
    "        if denominador == 0: return -1\n",
    "        probabilities = np.divide(prob_temp, denominador)\n",
    "        \n",
    "        ids = 0\n",
    "        rand = np.random.random()\n",
    "        for i, prob in enumerate(probabilities):\n",
    "            rand -= prob\n",
    "            if rand <= 0:\n",
    "                ids = i\n",
    "                break\n",
    "                \n",
    "        if self.available_CAs[ids].en_Stock + self.available_CAs[ids].potencial == 0:\n",
    "            print('No hay queso disponible para asignar')\n",
    "            return -1\n",
    "        \n",
    "        taken = 0\n",
    "        if self.available_CAs[ids].en_Stock > 0:\n",
    "            tipo = 'Stock'\n",
    "            taken = min(self.available_CAs[ids].en_Stock, self.demanda - self.cheese_cant)\n",
    "            self.cheese_cant += taken\n",
    "            CA = self.available_CAs[ids].idCA\n",
    "            self.available_CAs[ids].en_Stock = self.available_CAs[ids].en_Stock - taken\n",
    "            costo = taken * df_infoCA.loc[CA, 'Precio'] + df_infoCA.loc[CA, 'TiempoAlistam'] * costo_tiempo\n",
    "            \n",
    "            if taken > 0:\n",
    "                self.costo_total += costo\n",
    "                self.sol_CAs.append((CA, taken, tipo))\n",
    "                self.pheromone_delta[ids] += Q / costo\n",
    "            return ids\n",
    "\n",
    "\n",
    "    def complet_order(self, df_infoCA, df_cTransp, df_tTransp, costo_tiempo, beta, alpha, pheromone):\n",
    "        while self.cheese_cant < self.demanda :\n",
    "            self.select_next_CA(df_infoCA, df_cTransp, df_tTransp, costo_tiempo, alpha, beta, pheromone)\n",
    "\n",
    "\n",
    "    def show_availableCAs(self):\n",
    "        for CA in self.available_CAs:\n",
    "            print(CA.idCA, CA.cantidad, CA.en_Stock)  "
   ],
   "id": "45c13c94b35582cb"
  }
 ],
 "metadata": {
  "kernelspec": {
   "display_name": "Python 3",
   "language": "python",
   "name": "python3"
  },
  "language_info": {
   "codemirror_mode": {
    "name": "ipython",
    "version": 2
   },
   "file_extension": ".py",
   "mimetype": "text/x-python",
   "name": "python",
   "nbconvert_exporter": "python",
   "pygments_lexer": "ipython2",
   "version": "2.7.6"
  }
 },
 "nbformat": 4,
 "nbformat_minor": 5
}
