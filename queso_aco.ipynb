{
 "cells": [
  {
   "cell_type": "code",
   "id": "initial_id",
   "metadata": {
    "collapsed": true,
    "ExecuteTime": {
     "end_time": "2025-02-12T14:03:09.926047Z",
     "start_time": "2025-02-12T14:03:08.897909Z"
    }
   },
   "source": [
    "import numpy as np\n",
    "import matplotlib.pyplot as plt\n",
    "import pandas as pd\n",
    "import copy"
   ],
   "outputs": [],
   "execution_count": 1
  },
  {
   "metadata": {},
   "cell_type": "markdown",
   "source": "## Parámetros",
   "id": "1f75f608f530f6e7"
  },
  {
   "metadata": {
    "ExecuteTime": {
     "end_time": "2025-02-12T14:03:09.932491Z",
     "start_time": "2025-02-12T14:03:09.928064Z"
    }
   },
   "cell_type": "code",
   "source": [
    "# Escenario 1\n",
    "folder = '' # Carpeta con los datos\n",
    "info_CA = './data/test1/nuevo_info_acopios.xlsx' # Datos de centros de acopio \n",
    "info_costTransp = './data/test1/costoTransporteCAi.xlsx' # Matriz de costos de transporte entre CAs \n",
    "info_timeTransp = './data/test1/tiempoTransporteCAi.xlsx' # Matriz de tiempos de transporte entre CAs\n",
    "demanda = 60 # Demanda del cliente\n",
    "ctiempo = 100 # Costo por unidad de tiempo\n",
    "\n",
    "feromona_inicial = 1e-2\n",
    "alpha = 1\n",
    "beta = 1\n",
    "rho = 0.999\n",
    "Q = 1e3\n",
    "tam_hormiguero = 30\n",
    "max_iter = 300"
   ],
   "id": "a70f93ca63d864bc",
   "outputs": [],
   "execution_count": 2
  },
  {
   "metadata": {
    "ExecuteTime": {
     "end_time": "2025-02-12T14:03:09.941914Z",
     "start_time": "2025-02-12T14:03:09.933499Z"
    }
   },
   "cell_type": "code",
   "source": [
    "class CA:  # Centros de acopio\n",
    "    def __init__(self, idCA, cant_stock, cant_pot):\n",
    "        self.idCA = idCA\n",
    "        self.en_Stock = cant_stock  # True: disponible en stock, si no, es capacidad potencial\n",
    "        self.potencial = cant_pot"
   ],
   "id": "df3e018c7b777c54",
   "outputs": [],
   "execution_count": 3
  },
  {
   "metadata": {},
   "cell_type": "markdown",
   "source": "Modelo de hormiga",
   "id": "54369407f2605ffb"
  },
  {
   "metadata": {},
   "cell_type": "markdown",
   "source": [
    "$$\n",
    "    p^{k}_{ij}(t) = \n",
    "        \\frac{ [\\tau_{ij}(t)]^\\alpha \\cdot [\\eta_{ij}(t)]^\\beta }{ \\sum_{l \\in J_i^k}[\\tau_{ij}(t)]^\\alpha \\cdot [\\eta_{il}]^\\beta }\n",
    "$$"
   ],
   "id": "c06f6e3132922591"
  },
  {
   "metadata": {
    "ExecuteTime": {
     "end_time": "2025-02-12T14:03:09.957009Z",
     "start_time": "2025-02-12T14:03:09.942922Z"
    }
   },
   "cell_type": "code",
   "source": [
    "class Ant:\n",
    "    def __init__(self, demanda, CAs_list, i, Q):\n",
    "        self.ant_id = i\n",
    "        self.sol_CAs = []\n",
    "        self.cheese_cant = 0\n",
    "        self.available_CAs = copy.deepcopy(CAs_list)\n",
    "        self.demanda = demanda\n",
    "        self.CAP = 0\n",
    "        self.idx_CAP = 0\n",
    "        self.eta_CAP = 0\n",
    "        self.costo_total = 0\n",
    "        self.pheromone_delta = np.zeros(len(self.available_CAs))\n",
    "        self.Q = Q\n",
    "        self.tao_ini = Q/Q\n",
    "        \n",
    "    \n",
    "    def select_CAP(self, df_infoCA, costo_tiempo, alpha, beta):\n",
    "        deltica = 1.e-5  # Para evitar división por 0\n",
    "        tao = self.tao_ini  # Asumiendo feromona constante hasta el momento\n",
    "        temp = np.zeros(len(self.available_CAs))\n",
    "        denominador = 0\n",
    "        i = 0\n",
    "        \n",
    "        for CA in self.available_CAs:\n",
    "            if CA.en_Stock > 0:\n",
    "                # Cantidad para asignar\n",
    "                to_take = min(CA.en_Stock, self.demanda)\n",
    "                eta = to_take * df_infoCA.loc[CA.idCA, 'Precio'] + df_infoCA.loc[CA.idCA, 'Ctransp'] + df_infoCA.loc[CA.idCA, 'TiempoTransp'] * costo_tiempo\n",
    "                \n",
    "                eta_beta = eta ** beta\n",
    "                tao_alpha = tao ** alpha\n",
    "                \n",
    "                temp[i] = (eta_beta * tao_alpha)\n",
    "                denominador += temp[i]\n",
    "                \n",
    "            i += 1\n",
    "            \n",
    "        probabilities = np.divide(temp, denominador + deltica)\n",
    "        \n",
    "        ids = 0\n",
    "        rand = np.random.random()\n",
    "        \n",
    "        for i, prob in enumerate(probabilities):\n",
    "            rand -= prob\n",
    "            if rand <= 0:\n",
    "                ids = i\n",
    "                break\n",
    "                \n",
    "        self.CAP = self.available_CAs[ids].idCA\n",
    "        self.cheese_cant = min(self.available_CAs[ids].en_Stock, self.demanda)\n",
    "        self.available_CAs[ids].en_Stock = self.available_CAs[ids].en_Stock - self.cheese_cant\n",
    "        self.idx_CAP = ids\n",
    "        self.sol_CAs.append((self.CAP, self.cheese_cant, 'Stock'))\n",
    "        self.eta_CAP = self.cheese_cant * df_infoCA.loc[self.CAP, 'Precio'] + df_infoCA.loc[self.CAP, 'Ctransp'] + df_infoCA.loc[self.CAP, 'TiempoTransp'] * costo_tiempo\n",
    "        self.costo_total = self.eta_CAP\n",
    "        \n",
    "        \n",
    "    def select_next_CA(self, df_infoCA, df_cTransp, df_tTransp, costo_tiempo, alpha, beta, pheromone):\n",
    "        prob_temp = np.zeros(len(self.available_CAs))\n",
    "        idx = 0\n",
    "        eta = 0\n",
    "        denominador = 0\n",
    "        \n",
    "        for CA in self.available_CAs:\n",
    "            if CA.en_Stock + CA.potencial > 0:\n",
    "                if CA.en_Stock > 0:\n",
    "                    to_take = min(CA.en_Stock, self.demanda - self.cheese_cant)\n",
    "                    eta = to_take * df_infoCA.loc[CA.idCA, 'Precio'] + df_cTransp.loc[self.CAP, CA.idCA] + df_tTransp.loc[self.CAP, CA.idCA] * costo_tiempo\n",
    "                    \n",
    "                elif CA.potencial > 0:\n",
    "                    to_take = min(CA.potencial, self.demanda - self.cheese_cant)\n",
    "                    eta = to_take * df_infoCA.loc[CA.idCA, 'Precio'] + df_infoCA.loc[CA.idCA, 'TiempoAlistam']\n",
    "                        \n",
    "                eta_beta = (eta + self.costo_total) ** beta\n",
    "                tao_alpha = pheromone[self.idx_CAP][idx] ** alpha\n",
    "                prob_temp[idx] = (eta_beta * tao_alpha)\n",
    "                denominador += prob_temp[idx]\n",
    "                \n",
    "            idx += 1\n",
    "        \n",
    "        if denominador == 0: return -1\n",
    "        probabilities = np.divide(prob_temp, denominador)\n",
    "        \n",
    "        ids = 0\n",
    "        rand = np.random.random()\n",
    "        for i, prob in enumerate(probabilities):\n",
    "            rand -= prob\n",
    "            if rand <= 0:\n",
    "                ids = i\n",
    "                break\n",
    "                \n",
    "        if self.available_CAs[ids].en_Stock + self.available_CAs[ids].potencial == 0:\n",
    "            print('No hay queso disponible para asignar')\n",
    "            return -1\n",
    "        \n",
    "        taken = 0\n",
    "        if self.available_CAs[ids].en_Stock > 0:\n",
    "            tipo = 'Stock'\n",
    "            taken = min(self.available_CAs[ids].en_Stock, self.demanda - self.cheese_cant)\n",
    "            self.cheese_cant += taken\n",
    "            CA = self.available_CAs[ids].idCA\n",
    "            self.available_CAs[ids].en_Stock = self.available_CAs[ids].en_Stock - taken\n",
    "            costo = taken * df_infoCA.loc[CA, 'Precio'] + df_infoCA.loc[CA, 'TiempoAlistam'] * costo_tiempo\n",
    "            \n",
    "            if taken > 0:\n",
    "                self.costo_total += costo\n",
    "                self.sol_CAs.append((CA, taken, tipo))\n",
    "                self.pheromone_delta[ids] += Q / costo\n",
    "            return ids\n",
    "\n",
    "\n",
    "    def complet_order(self, df_infoCA, df_cTransp, df_tTransp, costo_tiempo, beta, alpha, pheromone):\n",
    "        while self.cheese_cant < self.demanda :\n",
    "            self.select_next_CA(df_infoCA, df_cTransp, df_tTransp, costo_tiempo, alpha, beta, pheromone)\n",
    "\n",
    "\n",
    "    def show_availableCAs(self):\n",
    "        for CA in self.available_CAs:\n",
    "            print(CA.idCA, CA.cantidad, CA.en_Stock)  "
   ],
   "id": "45c13c94b35582cb",
   "outputs": [],
   "execution_count": 4
  },
  {
   "metadata": {
    "ExecuteTime": {
     "end_time": "2025-02-12T14:03:09.970322Z",
     "start_time": "2025-02-12T14:03:09.959013Z"
    }
   },
   "cell_type": "code",
   "source": [
    "class ACO_cheese:\n",
    "    def __init__(self, demanda_g, colony_size, feromona_inicial, alpha, beta, rho, Q):\n",
    "        self.df_infoCA = 0\n",
    "        self.df_cTransp = 0\n",
    "        self.df_tTransp = 0\n",
    "        self.demanda_g = demanda_g\n",
    "        self.N_CA = 0\n",
    "        self.costo_tiempo = 0\n",
    "        self.alpha = 0\n",
    "        self.beta = 0\n",
    "        self.rho = 0\n",
    "        self.Q = Q\n",
    "        self.colony_size = colony_size\n",
    "        self.disponibles = []\n",
    "        self.pheromone = []\n",
    "        self.feromona_inicial = feromona_inicial\n",
    "        \n",
    "        \n",
    "    def read_infoProblem(self, info_CAs, info_costTransporte, info_tiempoTransporte, costo_tiempo):\n",
    "        self.df_infoCA = pd.read_excel(info_CAs)\n",
    "        self.df_infoCA.set_index(self.df_infoCA.columns[0], inplace=True)\n",
    "        self.N_CA = len(self.df_infoCA)\n",
    "    \n",
    "        self.df_cTransp = pd.read_excel(info_costTransporte)\n",
    "        self.df_cTransp.set_index(self.df_cTransp.columns[0], inplace=True)\n",
    "        \n",
    "        self.df_tTransp = pd.read_excel(info_tiempoTransporte)\n",
    "        self.df_tTransp.set_index(self.df_tTransp.columns[0], inplace=True)\n",
    "        \n",
    "        self.crea_lista_disponibles()\n",
    "        self.costo_tiempo = costo_tiempo\n",
    "    \n",
    "    def crea_lista_disponibles(self):\n",
    "        df_infoCA = self.df_infoCA\n",
    "        \n",
    "        for index, r in df_infoCA.iterrows():\n",
    "            oferta1 = CA(index, df_infoCA.loc[index, 'Stock'], df_infoCA.loc[index, 'Ppotencial'])\n",
    "            self.disponibles.append(oferta1)\n",
    "        self.pheromone = [[self.feromona_inicial for _ in range(self.N_CA)] for _ in range(self.N_CA)]\n",
    "        \n",
    "    def update_pheromone(self, colony):\n",
    "        for i in range(self.N_CA):\n",
    "            for j in range(self.N_CA):\n",
    "                self.pheromone[i][j] *= self.rho\n",
    "                \n",
    "        for ant in colony:\n",
    "            i = ant.idx_CAP\n",
    "            for j in range(self.N_CA):\n",
    "                self.pheromone[i][j] += ant.costo_total\n",
    "                \n",
    "    def ACO_run(self, max_iter):\n",
    "        N_Ants = self.colony_size\n",
    "        best_costo = float('inf')\n",
    "        best_sol = []\n",
    "        progress = []\n",
    "        \n",
    "        for iteracion in range(max_iter):\n",
    "            colony = []\n",
    "            \n",
    "            for i in range(N_Ants):\n",
    "                a = Ant(self.demanda_g, self.disponibles, i, self.Q)\n",
    "                a.select_CAP(self.df_infoCA, self.costo_tiempo, 1, 1)\n",
    "                a.complet_order(self.df_infoCA, self.df_cTransp, self.df_tTransp, self.costo_tiempo, self.alpha, self.beta, self.pheromone)\n",
    "                \n",
    "                colony.append(a)\n",
    "                \n",
    "                if a.costo_total < best_costo:\n",
    "                    best_costo = a.costo_total\n",
    "                    best_sol = a.sol_CAs\n",
    "                    \n",
    "            self.update_pheromone(colony)\n",
    "            progress.append(best_costo)\n",
    "            \n",
    "        return progress, best_sol, best_costo"
   ],
   "id": "8bc3e9e796882baa",
   "outputs": [],
   "execution_count": 5
  },
  {
   "metadata": {
    "ExecuteTime": {
     "end_time": "2025-02-12T14:03:09.978754Z",
     "start_time": "2025-02-12T14:03:09.971857Z"
    }
   },
   "cell_type": "code",
   "source": [
    "def plot_convergence(fitness_list):\n",
    "    plt.plot([i for i in range(len(fitness_list))], fitness_list)\n",
    "    plt.ylabel('Fitness')\n",
    "    plt.xlabel('Iteracion')\n",
    "    plt.show()"
   ],
   "id": "1dbc60eca8ffed27",
   "outputs": [],
   "execution_count": 6
  },
  {
   "metadata": {
    "ExecuteTime": {
     "end_time": "2025-02-12T14:03:09.986889Z",
     "start_time": "2025-02-12T14:03:09.979840Z"
    }
   },
   "cell_type": "code",
   "source": [
    "def show_bestResult(best_solution, best_costo):\n",
    "    print('La mejor solución encontrada: ')\n",
    "    print(best_solution)\n",
    "    print('Con costo total: ')\n",
    "    print(best_costo)"
   ],
   "id": "656cd8b2d7a88f94",
   "outputs": [],
   "execution_count": 7
  },
  {
   "metadata": {
    "ExecuteTime": {
     "end_time": "2025-02-12T14:03:28.204051Z",
     "start_time": "2025-02-12T14:03:09.987891Z"
    }
   },
   "cell_type": "code",
   "source": [
    "cheese_order = ACO_cheese(demanda, tam_hormiguero, feromona_inicial, alpha, beta, rho, Q)\n",
    "cheese_order.read_infoProblem(info_CA, info_costTransp, info_timeTransp, ctiempo)\n",
    "\n",
    "progress, best_sol, best_costo = cheese_order.ACO_run(max_iter)\n",
    "plot_convergence(progress)\n",
    "show_bestResult(best_sol, best_costo)"
   ],
   "id": "774d32c197229802",
   "outputs": [
    {
     "data": {
      "text/plain": [
       "<Figure size 640x480 with 1 Axes>"
      ],
      "image/png": "[encoded data removed]"
     },
     "metadata": {},
     "output_type": "display_data"
    },
    {
     "name": "stdout",
     "output_type": "stream",
     "text": [
      "La mejor solución encontrada: \n",
      "[('CA8', 2, 'Stock'), ('CA1', 10, 'Stock'), ('CA7', 12, 'Stock'), ('CA4', 8, 'Stock'), ('CA3', 4, 'Stock'), ('CA2', 12, 'Stock'), ('CA10', 12, 'Stock')]\n",
      "Con costo total: \n",
      "696358\n"
     ]
    }
   ],
   "execution_count": 8
  }
 ],
 "metadata": {
  "kernelspec": {
   "display_name": "Python 3",
   "language": "python",
   "name": "python3"
  },
  "language_info": {
   "codemirror_mode": {
    "name": "ipython",
    "version": 2
   },
   "file_extension": ".py",
   "mimetype": "text/x-python",
   "name": "python",
   "nbconvert_exporter": "python",
   "pygments_lexer": "ipython2",
   "version": "2.7.6"
  }
 },
 "nbformat": 4,
 "nbformat_minor": 5
}
