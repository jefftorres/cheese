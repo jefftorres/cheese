{
 "cells": [
  {
   "cell_type": "code",
   "id": "initial_id",
   "metadata": {
    "collapsed": true,
    "ExecuteTime": {
     "end_time": "2024-11-27T03:26:31.418862Z",
     "start_time": "2024-11-27T03:26:29.985686Z"
    }
   },
   "source": [
    "import timeit\n",
    "\n",
    "import numpy as np\n",
    "import matplotlib.pyplot as plt\n",
    "\n",
    "from scripts.queso_model import model_vars, model_data, objective_func, balance, alloc_df\n",
    "# Ejecutar esta línea si pymoo no ha sido instalado\n",
    "# %pip install -U pymoo"
   ],
   "outputs": [],
   "execution_count": 1
  },
  {
   "metadata": {},
   "cell_type": "markdown",
   "source": [
    "# Algoritmo Genético\n",
    "Utilizando la librería [pymoo](https://pymoo.org/index.html), redefiniendo los operadores para cumplir con las restricciones del modelo de optimización."
   ],
   "id": "2a875ae7214260bd"
  },
  {
   "metadata": {},
   "cell_type": "markdown",
   "source": "## Parámetros",
   "id": "830b8a6a48414886"
  },
  {
   "metadata": {
    "ExecuteTime": {
     "end_time": "2024-11-27T03:26:31.425816Z",
     "start_time": "2024-11-27T03:26:31.421187Z"
    }
   },
   "cell_type": "code",
   "source": [
    "# ¿Cómo se obtienen estas variables desde el sistema de información?\n",
    "\n",
    "# Carpeta con los datos\n",
    "folder = './data/test1/'\n",
    "# Datos de centros de acopio\n",
    "info_acopios = 'nuevo_info_acopios.xlsx'\n",
    "# Matriz de costos de transporte entre CA\n",
    "costo_transporte = 'costoTransporteCAi.xlsx'\n",
    "# Matriz de tiempos de transporte entre CA\n",
    "tiempo_transporte = 'tiempoTransporteCAi.xlsx'\n",
    "# Demanda del cliente\n",
    "demanda = 60\n",
    "# Costo por unidad de tiempo\n",
    "ctiempo = 100\n",
    "\n",
    "# Probabilidad de cruce\n",
    "p_cross = 0.8\n",
    "# Probabilidad de mutación\n",
    "p_mutate = 0.9\n",
    "# Tamaño de la población\n",
    "pop_size = 100\n",
    "# Número de iteraciones antes de finalizar \n",
    "# al no encontrar una mejor solución\n",
    "period = 100\n",
    "# Máximo número de generaciones\n",
    "max_gen = 1000\n",
    "# Máximo de evaluaciones de función objetivo\n",
    "max_evals = 100000"
   ],
   "id": "dca64004fe198ee3",
   "outputs": [],
   "execution_count": 2
  },
  {
   "metadata": {
    "ExecuteTime": {
     "end_time": "2024-11-27T03:26:31.731922Z",
     "start_time": "2024-11-27T03:26:31.426808Z"
    }
   },
   "cell_type": "code",
   "source": [
    "archivos = {\n",
    "    'info_acopios': info_acopios,\n",
    "    'costo_transporte' : costo_transporte,\n",
    "    'tiempo_transporte' : tiempo_transporte,\n",
    "}\n",
    "\n",
    "data = model_data(archivos, demanda, ctiempo, folder=folder)\n",
    "\n",
    "demanda = data['demanda']\n",
    "ctiempo = data['ctiempo']\n",
    "# t_max = data['t_max']\n",
    "params_df = data['params_df']\n",
    "\n",
    "N, seed, capacidades = model_vars(params_df)"
   ],
   "id": "a097b9086585fbe8",
   "outputs": [],
   "execution_count": 3
  },
  {
   "metadata": {},
   "cell_type": "markdown",
   "source": [
    "## Definición \n",
    "Del modelo de optimización"
   ],
   "id": "3f976cbe7e9f7b7a"
  },
  {
   "metadata": {
    "ExecuteTime": {
     "end_time": "2024-11-27T03:26:31.860491Z",
     "start_time": "2024-11-27T03:26:31.733884Z"
    }
   },
   "cell_type": "code",
   "source": [
    "from pymoo.core.problem import ElementwiseProblem\n",
    "\n",
    "xl = np.zeros(capacidades.shape[0])\n",
    "xu = capacidades\n",
    "\n",
    "\n",
    "class Queso(ElementwiseProblem):\n",
    "    def __init__(self):\n",
    "        super().__init__(\n",
    "            n_var=len(xl),\n",
    "            n_obj=1,\n",
    "            n_eq_constr=1,\n",
    "            xl=xl,\n",
    "            xu=xu\n",
    "        )\n",
    "\n",
    "    def _evaluate(self, x, out, *args, **kwargs):\n",
    "        out['F'] = objective_func(x, N, data)\n",
    "        # Se retira el último elemento del vector (centro de acopio principal), \n",
    "        # para validar la restricción de igualdad\n",
    "        individual = np.delete(x, N * 2)\n",
    "        out['H'] = demanda - np.sum(individual)\n",
    "\n",
    "\n",
    "model = Queso()"
   ],
   "id": "bc918fd1bf372fc9",
   "outputs": [],
   "execution_count": 4
  },
  {
   "metadata": {},
   "cell_type": "markdown",
   "source": [
    "## Generación \n",
    "De nuevas posibles soluciones"
   ],
   "id": "d085753c7fe27e89"
  },
  {
   "metadata": {
    "ExecuteTime": {
     "end_time": "2024-11-27T03:26:31.870294Z",
     "start_time": "2024-11-27T03:26:31.862475Z"
    }
   },
   "cell_type": "code",
   "source": [
    "from pymoo.core.sampling import Sampling\n",
    "\n",
    "\n",
    "class TopOrZeroSampling(Sampling):\n",
    "    def _do(self, problem, n_samples, **kwargs):\n",
    "        gen_matrix = np.zeros((n_samples, problem.n_var), dtype=float)\n",
    "        # Se indexan los centros de acopio\n",
    "        n_vars = problem.n_var\n",
    "\n",
    "        for i in range(n_samples):\n",
    "            # Se reorganizan todos los índices de los centros de acopio, de forma aleatoria\n",
    "            indices = np.arange(n_vars - 1)\n",
    "            np.random.shuffle(indices)\n",
    "\n",
    "            while np.sum(gen_matrix[i]) < demanda and indices.size > 0:\n",
    "                idx = indices[0]\n",
    "                gen_matrix[i, idx] += capacidades[idx]\n",
    "                indices = np.delete(indices, 0)\n",
    "\n",
    "                if np.sum(gen_matrix[i]) > demanda:\n",
    "                    gen_matrix[i, idx] = gen_matrix[i, idx] - (np.sum(gen_matrix[i]) - demanda)\n",
    "                    break\n",
    "\n",
    "            gen_matrix[i, N * 2] = np.random.randint(capacidades[N * 2] + 1)\n",
    "\n",
    "        return gen_matrix"
   ],
   "id": "101efd99b9fd105b",
   "outputs": [],
   "execution_count": 5
  },
  {
   "metadata": {},
   "cell_type": "markdown",
   "source": [
    "## Cruce\n",
    "\n",
    "Implementación de cruce en un punto"
   ],
   "id": "58db9b9c9f9a1e10"
  },
  {
   "metadata": {
    "ExecuteTime": {
     "end_time": "2024-11-27T03:26:31.888012Z",
     "start_time": "2024-11-27T03:26:31.871282Z"
    }
   },
   "cell_type": "code",
   "source": [
    "from pymoo.core.crossover import Crossover\n",
    "\n",
    "class SinglePointCross(Crossover):\n",
    "    def __init__(self, prob):\n",
    "        # Para la implementación personalizada de este método, se consideraron 2 padres,\n",
    "        # entonces cambiar los valores de la llamada a init no tendrá efecto.\n",
    "        # Lo mismo pasa con el único offspring.\n",
    "        super().__init__(n_parents=2, n_offsprings=1, prob=prob)\n",
    "\n",
    "    def _do(self, problem, X, **kwargs):\n",
    "        # n_parents, n_matings, n_var\n",
    "        _, n_matings, n_var = X.shape\n",
    "\n",
    "        T = np.zeros((1, n_matings, n_var))\n",
    "        Y = np.full_like(T, None, dtype=float)\n",
    "\n",
    "        for idx in range(n_matings):\n",
    "\n",
    "            # Primera mitad\n",
    "            p1 = X[0, idx, : n_var//2]\n",
    "            # Segunda mitad\n",
    "            p2 = X[1, idx, n_var//2 : n_var - 1]\n",
    "\n",
    "            offspring = np.concatenate((p1, p2))\n",
    "\n",
    "            if np.sum(offspring) > demanda:\n",
    "                delta = np.sum(offspring) - demanda\n",
    "                balance(offspring, capacidades, delta, True)\n",
    "            else:\n",
    "                delta = demanda - np.sum(offspring)\n",
    "                balance(offspring, capacidades, delta, False)\n",
    "\n",
    "            for i in range(offspring.shape[0]):\n",
    "                Y[0, idx, i] = offspring[i]\n",
    "\n",
    "            # Centro de acopio principal (última posición)\n",
    "            main = np.random.choice([X[0, idx, n_var-1], X[1, idx, n_var-1]])\n",
    "            Y[0, idx, n_var-1] = main\n",
    "\n",
    "        return Y"
   ],
   "id": "aff3207504e2e357",
   "outputs": [],
   "execution_count": 6
  },
  {
   "metadata": {},
   "cell_type": "markdown",
   "source": [
    "## Mutación\n",
    "Con una probabilidad dada, reasignar la cantidad asignada a un centro de acopio **o**, reasignar el centro de acopio principal."
   ],
   "id": "9ce276c8a811e84b"
  },
  {
   "metadata": {
    "ExecuteTime": {
     "end_time": "2024-11-27T03:26:31.898469Z",
     "start_time": "2024-11-27T03:26:31.889038Z"
    }
   },
   "cell_type": "code",
   "source": [
    "from pymoo.core.mutation import Mutation\n",
    "\n",
    "class ReassignMutation(Mutation):\n",
    "    def __init__(self, prob):\n",
    "        super().__init__()\n",
    "        self.prob = prob\n",
    "\n",
    "    def _do(self, problem, X, **kwargs):\n",
    "        for i in range(len(X)):\n",
    "            r = np.random.random()\n",
    "\n",
    "            if r < self.prob:\n",
    "                # Se toma un índice aleatorio\n",
    "                individual = X[i]\n",
    "                idx_mut = np.random.randint(individual.shape)\n",
    "\n",
    "                # Si es el índice del centro de acopio principal (N*2)\n",
    "                if idx_mut == N*2:\n",
    "                    X[i, problem.n_var-1] = np.random.randint(capacidades[N * 2] + 1)\n",
    "\n",
    "                else:\n",
    "                    if individual[idx_mut] == 0:\n",
    "                        # Se asigna la máxima cantidad posible del índice\n",
    "                        delta = capacidades[idx_mut]\n",
    "                        individual[idx_mut] = capacidades[idx_mut]\n",
    "                        diff = True\n",
    "                    else:\n",
    "                        # Se asigna cero a la cantidad del índice\n",
    "                        delta = individual[idx_mut]\n",
    "                        individual[idx_mut] = 0\n",
    "                        diff = False\n",
    "\n",
    "                    balance(individual, capacidades, delta, diff)\n",
    "\n",
    "                    for j in range(individual.shape[0]):\n",
    "                        X[i, j] = individual[j]\n",
    "\n",
    "        return X"
   ],
   "id": "65d3bab3c66626cc",
   "outputs": [],
   "execution_count": 7
  },
  {
   "metadata": {},
   "cell_type": "markdown",
   "source": "## Aplicación",
   "id": "3c74ccdfdd7b3509"
  },
  {
   "metadata": {},
   "cell_type": "markdown",
   "source": "Definición del algoritmo genético\n",
   "id": "64edae265c930405"
  },
  {
   "metadata": {
    "ExecuteTime": {
     "end_time": "2024-11-27T03:26:32.087046Z",
     "start_time": "2024-11-27T03:26:31.901442Z"
    }
   },
   "cell_type": "code",
   "source": [
    "from pymoo.algorithms.soo.nonconvex.ga import GA\n",
    "\n",
    "algorithm = GA(\n",
    "    pop_size=pop_size,\n",
    "    sampling=TopOrZeroSampling(),\n",
    "    crossover=SinglePointCross(prob=p_cross),\n",
    "    mutation=ReassignMutation(prob=p_mutate),\n",
    "    eliminate_duplicates=True\n",
    ")"
   ],
   "id": "3c6cf74b331b4dd2",
   "outputs": [
    {
     "name": "stdout",
     "output_type": "stream",
     "text": [
      "\n",
      "Compiled modules for significant speedup can not be used!\n",
      "https://pymoo.org/installation.html#installation\n",
      "\n",
      "To disable this warning:\n",
      "from pymoo.config import Config\n",
      "Config.warnings['not_compiled'] = False\n",
      "\n"
     ]
    }
   ],
   "execution_count": 8
  },
  {
   "metadata": {},
   "cell_type": "markdown",
   "source": "Criterio de terminación: https://pymoo.org/interface/termination.html",
   "id": "5ed769a5a406691"
  },
  {
   "metadata": {
    "ExecuteTime": {
     "end_time": "2024-11-27T03:26:32.096806Z",
     "start_time": "2024-11-27T03:26:32.089097Z"
    }
   },
   "cell_type": "code",
   "source": [
    "# Criterios simples\n",
    "# from pymoo.termination import get_termination\n",
    "\n",
    "# termination = get_termination('n_eval', 1000)\n",
    "# termination = get_termination('n_gen', 50)\n",
    "# termination = get_termination('time', '00:00:03')\n",
    "\n",
    "from pymoo.termination.default import DefaultSingleObjectiveTermination\n",
    "\n",
    "termination = DefaultSingleObjectiveTermination(\n",
    "    # Definición de tolerancia para lo que se \n",
    "    # considera una solución diferente\n",
    "    xtol=1e-8,\n",
    "    cvtol=1e-6,\n",
    "    ftol=1e-6,\n",
    "    period=period, \n",
    "    n_max_gen=max_gen,\n",
    "    n_max_evals=max_evals\n",
    ")"
   ],
   "id": "94ee60a796ae07a4",
   "outputs": [],
   "execution_count": 9
  },
  {
   "metadata": {},
   "cell_type": "markdown",
   "source": "Optimización y resultados",
   "id": "7ecc3d29961a3068"
  },
  {
   "metadata": {
    "ExecuteTime": {
     "end_time": "2024-11-27T03:26:49.545452Z",
     "start_time": "2024-11-27T03:26:32.100324Z"
    }
   },
   "cell_type": "code",
   "source": [
    "from pymoo.optimize import minimize\n",
    "\n",
    "t_start_ga = timeit.default_timer()\n",
    "ga = minimize(model, algorithm, termination, seed=seed, save_history=True, verbose=False)\n",
    "t_end_ga = timeit.default_timer()\n",
    "\n",
    "t_delta_ga = t_end_ga - t_start_ga"
   ],
   "id": "bec823f0e83113d1",
   "outputs": [],
   "execution_count": 10
  },
  {
   "metadata": {
    "ExecuteTime": {
     "end_time": "2024-11-27T03:26:49.551991Z",
     "start_time": "2024-11-27T03:26:49.546456Z"
    }
   },
   "cell_type": "code",
   "source": [
    "print(f'Centro de acopio principal: {params_df['Id_CA'].iloc[int(ga.X[N * 2])]}')\n",
    "print(f'Precio: {ga.F}')\n",
    "print(f'Tiempo: {round(t_delta_ga * 1000)}ms, ({t_delta_ga})')"
   ],
   "id": "995df0e3c5d629",
   "outputs": [
    {
     "name": "stdout",
     "output_type": "stream",
     "text": [
      "Centro de acopio principal: CA2\n",
      "Precio: [392608.]\n",
      "Tiempo: 17428ms, (17.428320099999837)\n"
     ]
    }
   ],
   "execution_count": 11
  },
  {
   "metadata": {
    "ExecuteTime": {
     "end_time": "2024-11-27T03:26:49.575719Z",
     "start_time": "2024-11-27T03:26:49.552975Z"
    }
   },
   "cell_type": "code",
   "source": [
    "asignaciones = alloc_df(ga.X, params_df, N, capacidades)\n",
    "asignaciones.head()"
   ],
   "id": "5d20df5e5dd46a8c",
   "outputs": [
    {
     "data": {
      "text/plain": [
       "   index        CAcopio  Capacidad  Asignada\n",
       "0      0      CA1 Stock     10.000    10.000\n",
       "1      1  CA1 Potencial      0.500     0.500\n",
       "2      2      CA2 Stock     12.000    12.000\n",
       "3      3  CA2 Potencial      0.625     0.625\n",
       "4      4      CA3 Stock      4.000     0.000"
      ],
      "text/html": [
       "<div>\n",
       "<style scoped>\n",
       "    .dataframe tbody tr th:only-of-type {\n",
       "        vertical-align: middle;\n",
       "    }\n",
       "\n",
       "    .dataframe tbody tr th {\n",
       "        vertical-align: top;\n",
       "    }\n",
       "\n",
       "    .dataframe thead th {\n",
       "        text-align: right;\n",
       "    }\n",
       "</style>\n",
       "<table border=\"1\" class=\"dataframe\">\n",
       "  <thead>\n",
       "    <tr style=\"text-align: right;\">\n",
       "      <th></th>\n",
       "      <th>index</th>\n",
       "      <th>CAcopio</th>\n",
       "      <th>Capacidad</th>\n",
       "      <th>Asignada</th>\n",
       "    </tr>\n",
       "  </thead>\n",
       "  <tbody>\n",
       "    <tr>\n",
       "      <th>0</th>\n",
       "      <td>0</td>\n",
       "      <td>CA1 Stock</td>\n",
       "      <td>10.000</td>\n",
       "      <td>10.000</td>\n",
       "    </tr>\n",
       "    <tr>\n",
       "      <th>1</th>\n",
       "      <td>1</td>\n",
       "      <td>CA1 Potencial</td>\n",
       "      <td>0.500</td>\n",
       "      <td>0.500</td>\n",
       "    </tr>\n",
       "    <tr>\n",
       "      <th>2</th>\n",
       "      <td>2</td>\n",
       "      <td>CA2 Stock</td>\n",
       "      <td>12.000</td>\n",
       "      <td>12.000</td>\n",
       "    </tr>\n",
       "    <tr>\n",
       "      <th>3</th>\n",
       "      <td>3</td>\n",
       "      <td>CA2 Potencial</td>\n",
       "      <td>0.625</td>\n",
       "      <td>0.625</td>\n",
       "    </tr>\n",
       "    <tr>\n",
       "      <th>4</th>\n",
       "      <td>4</td>\n",
       "      <td>CA3 Stock</td>\n",
       "      <td>4.000</td>\n",
       "      <td>0.000</td>\n",
       "    </tr>\n",
       "  </tbody>\n",
       "</table>\n",
       "</div>"
      ]
     },
     "execution_count": 12,
     "metadata": {},
     "output_type": "execute_result"
    }
   ],
   "execution_count": 12
  },
  {
   "metadata": {
    "ExecuteTime": {
     "end_time": "2024-11-27T03:26:50.091776Z",
     "start_time": "2024-11-27T03:26:49.576707Z"
    }
   },
   "cell_type": "code",
   "source": [
    "n_evals = np.array([e.evaluator.n_eval for e in ga.history])\n",
    "opt = np.array([e.opt[0].F for e in ga.history])\n",
    "gen_evals = np.arange(opt.shape[0])\n",
    "\n",
    "plt.title('Convergencia')\n",
    "plt.plot(gen_evals, opt, '--')\n",
    "plt.yscale('log')\n",
    "plt.show()"
   ],
   "id": "8131e4d1442aa1bc",
   "outputs": [
    {
     "data": {
      "text/plain": [
       "<Figure size 640x480 with 1 Axes>"
      ],
      "image/png": "[encoded data removed]"
     },
     "metadata": {},
     "output_type": "display_data"
    }
   ],
   "execution_count": 13
  },
  {
   "metadata": {},
   "cell_type": "markdown",
   "source": "## Resultados",
   "id": "ec5836d9de97c199"
  },
  {
   "metadata": {
    "ExecuteTime": {
     "end_time": "2024-11-27T03:26:50.359519Z",
     "start_time": "2024-11-27T03:26:50.097219Z"
    }
   },
   "cell_type": "code",
   "source": [
    "even = np.arange(0, N*2-1, 2)\n",
    "odd = np.arange(1, N*2, 2)\n",
    "\n",
    "cap_stock = np.take(capacidades, even)\n",
    "cap_potencial = np.take(capacidades, odd)\n",
    "\n",
    "ca_stock = np.take(ga.X, even)\n",
    "ca_potencial = np.take(ga.X, odd)\n",
    "\n",
    "labels = params_df['Id_CA']\n",
    "x = np.arange(len(labels))\n",
    "y1 = ca_stock\n",
    "y2 = ca_potencial\n",
    "\n",
    "fig, ax = plt.subplots()\n",
    "y_lim = np.array(np.mean([np.max(capacidades), np.max(ga.X)])) * 1.1\n",
    "ax.set_ylim([0, y_lim])\n",
    "x1_bar = ax.bar(x-0.2, y1, width=0.4, label='stock', color='lime')\n",
    "x2_bar = ax.bar(x+0.2, y2, width=0.4, label='potencial', color='cornflowerblue')\n",
    "\n",
    "plt.xticks(x, labels)\n",
    "plt.xlabel('Centros de acopio')\n",
    "plt.ylabel('Cantidad asignada')\n",
    "plt.legend(loc='upper left', ncol=2)\n",
    "plt.show()"
   ],
   "id": "58aa966e26b3f03d",
   "outputs": [
    {
     "data": {
      "text/plain": [
       "<Figure size 640x480 with 1 Axes>"
      ],
      "image/png": "[encoded data removed]"
     },
     "metadata": {},
     "output_type": "display_data"
    }
   ],
   "execution_count": 14
  },
  {
   "metadata": {},
   "cell_type": "markdown",
   "source": "testing https://pymoo.org/visualization/heatmap.html",
   "id": "f5e8410192782d7d"
  },
  {
   "metadata": {
    "ExecuteTime": {
     "end_time": "2024-11-27T03:26:50.568950Z",
     "start_time": "2024-11-27T03:26:50.361884Z"
    }
   },
   "cell_type": "code",
   "source": [
    "from pymoo.visualization.heatmap import Heatmap\n",
    "\n",
    "ca_stock_norm = ca_stock / cap_stock\n",
    "ca_potencial_norm = ca_potencial / cap_potencial\n",
    "ca_heatmap = np.vstack((ca_stock_norm, ca_potencial_norm))\n",
    "\n",
    "heatmap = Heatmap(bounds=(0, 1),\n",
    "                  title='% relativo de asignación',\n",
    "                  cmap='Blues',\n",
    "                  labels=labels.values.tolist(),\n",
    "                  y_labels=['Stock', 'Potencial'])\n",
    "heatmap.add(ca_heatmap)\n",
    "heatmap.show()"
   ],
   "id": "5f3973a4c810ed54",
   "outputs": [
    {
     "data": {
      "text/plain": [
       "<pymoo.visualization.heatmap.Heatmap at 0x1586d0026f0>"
      ]
     },
     "execution_count": 15,
     "metadata": {},
     "output_type": "execute_result"
    },
    {
     "data": {
      "text/plain": [
       "<Figure size 800x600 with 1 Axes>"
      ],
      "image/png": "[encoded data removed]"
     },
     "metadata": {},
     "output_type": "display_data"
    }
   ],
   "execution_count": 15
  },
  {
   "metadata": {
    "ExecuteTime": {
     "end_time": "2024-11-27T03:26:50.774316Z",
     "start_time": "2024-11-27T03:26:50.585134Z"
    }
   },
   "cell_type": "code",
   "source": [
    "from pymoo.visualization.petal import Petal\n",
    "\n",
    "petal = Petal(bounds=(0, 1),\n",
    "              cmap='Paired',\n",
    "              title='Stock',\n",
    "              labels=labels.values.tolist(),\n",
    "              reverse=True)\n",
    "petal.add(ca_stock_norm)\n",
    "petal.show()"
   ],
   "id": "1f6c5da6474668a1",
   "outputs": [
    {
     "data": {
      "text/plain": [
       "<pymoo.visualization.petal.Petal at 0x1586d0ae4e0>"
      ]
     },
     "execution_count": 16,
     "metadata": {},
     "output_type": "execute_result"
    },
    {
     "data": {
      "text/plain": [
       "<Figure size 800x600 with 1 Axes>"
      ],
      "image/png": "[encoded data removed]"
     },
     "metadata": {},
     "output_type": "display_data"
    }
   ],
   "execution_count": 16
  },
  {
   "metadata": {
    "ExecuteTime": {
     "end_time": "2024-11-27T03:26:50.787452Z",
     "start_time": "2024-11-27T03:26:50.775304Z"
    }
   },
   "cell_type": "code",
   "source": [
    "petal = Petal(bounds=(0, 1),\n",
    "              cmap='Set3_r',\n",
    "              title='Potencial',\n",
    "              labels=labels.values.tolist(),\n",
    "              reverse=True)\n",
    "petal.add(ca_potencial_norm)\n",
    "# petal.show()"
   ],
   "id": "528e2d939adb81e9",
   "outputs": [
    {
     "data": {
      "text/plain": [
       "<pymoo.visualization.petal.Petal at 0x1586d086600>"
      ]
     },
     "execution_count": 17,
     "metadata": {},
     "output_type": "execute_result"
    }
   ],
   "execution_count": 17
  }
 ],
 "metadata": {
  "kernelspec": {
   "display_name": "Python 3",
   "language": "python",
   "name": "python3"
  },
  "language_info": {
   "codemirror_mode": {
    "name": "ipython",
    "version": 2
   },
   "file_extension": ".py",
   "mimetype": "text/x-python",
   "name": "python",
   "nbconvert_exporter": "python",
   "pygments_lexer": "ipython2",
   "version": "2.7.6"
  }
 },
 "nbformat": 4,
 "nbformat_minor": 5
}
