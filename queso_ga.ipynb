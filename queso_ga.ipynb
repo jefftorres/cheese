{
 "cells": [
  {
   "cell_type": "code",
   "id": "initial_id",
   "metadata": {
    "collapsed": true,
    "ExecuteTime": {
     "end_time": "2024-11-22T16:57:37.122419Z",
     "start_time": "2024-11-22T16:57:36.135578Z"
    }
   },
   "source": [
    "import timeit\n",
    "\n",
    "import numpy as np\n",
    "import pandas as pd\n",
    "import matplotlib.pyplot as plt\n",
    "\n",
    "# Ejecutar esta línea si pymoo no ha sido instalado\n",
    "# %pip install -U pymoo"
   ],
   "outputs": [],
   "execution_count": 1
  },
  {
   "metadata": {
    "ExecuteTime": {
     "end_time": "2024-11-22T16:57:37.384798Z",
     "start_time": "2024-11-22T16:57:37.122419Z"
    }
   },
   "cell_type": "code",
   "source": [
    "# Demanda\n",
    "DEMANDA = 60\n",
    "# Costo por unidad de tiempo\n",
    "CTIEMPO = 100\n",
    "# Tiempo máximo definido\n",
    "T_MAX = 360\n",
    "# Parámetros de entrada\n",
    "params_df = pd.read_excel('./data/' + 'nuevo_info_acopios.xlsx')\n",
    "# Matriz de costos de transporte\n",
    "trans_cost_df = pd.read_excel('./data/' + 'costoTransporteCAi.xlsx', index_col=0)\n",
    "# Matriz de tiempos de transporte\n",
    "trans_time_df = pd.read_excel('./data/' + 'tiempoTransporteCAi.xlsx', index_col=0)"
   ],
   "id": "a097b9086585fbe8",
   "outputs": [],
   "execution_count": 2
  },
  {
   "metadata": {
    "ExecuteTime": {
     "end_time": "2024-11-22T16:57:37.390548Z",
     "start_time": "2024-11-22T16:57:37.384798Z"
    }
   },
   "cell_type": "code",
   "source": [
    "# Número de centros de acopio\n",
    "N = params_df.shape[0]\n",
    "\n",
    "# Vector de representación\n",
    "CAPACIDADES = np.empty(N*2, dtype=float)\n",
    "\n",
    "# Capacidades en stock y potencial por centro de acopio\n",
    "for cap_i in range(0, N*2, 2):\n",
    "    CAPACIDADES[cap_i] = params_df['Stock'].iloc[cap_i//2]\n",
    "    CAPACIDADES[cap_i+1] = params_df['Ppotencial'].iloc[cap_i//2]\n",
    "\n",
    "CAPACIDADES = np.append(CAPACIDADES, N-1)"
   ],
   "id": "16bd99ce918a207a",
   "outputs": [],
   "execution_count": 3
  },
  {
   "metadata": {
    "ExecuteTime": {
     "end_time": "2024-11-22T16:57:37.402134Z",
     "start_time": "2024-11-22T16:57:37.390548Z"
    }
   },
   "cell_type": "code",
   "source": [
    "def get_delta(x, i, idx_acopio, idx_principal=-1):\n",
    "    kca = x[i] + x[i + 1]\n",
    "    precio = params_df['Precio'].iloc[idx_acopio]\n",
    "    talistam = 0\n",
    "\n",
    "    if x[i + 1]:\n",
    "        talistam = params_df['TiempoAlistam'].iloc[idx_acopio]\n",
    "\n",
    "    ' Si es el centro de acopio principal (idx_principal=-1) '\n",
    "    if idx_principal < 0:\n",
    "        ctransp = params_df['Ctransp'].iloc[idx_acopio]\n",
    "        ttransp = params_df['TiempoTransp'].iloc[idx_acopio]\n",
    "        tiempo = talistam + ttransp\n",
    "\n",
    "        return (kca * precio) + ctransp + (tiempo * CTIEMPO)\n",
    "    else:\n",
    "        ctransp = trans_cost_df.iloc[idx_acopio, idx_principal]\n",
    "        ttransp = trans_time_df.iloc[idx_acopio, idx_principal]\n",
    "        tiempo = talistam + ttransp\n",
    "\n",
    "        return (kca * precio) + ctransp + (tiempo * CTIEMPO)"
   ],
   "id": "677da54c8a3779e6",
   "outputs": [],
   "execution_count": 4
  },
  {
   "metadata": {
    "ExecuteTime": {
     "end_time": "2024-11-22T16:57:37.413047Z",
     "start_time": "2024-11-22T16:57:37.402134Z"
    }
   },
   "cell_type": "code",
   "source": [
    "def f(x):\n",
    "    delta = 0\n",
    "    idx_principal = int(x[N*2])\n",
    "\n",
    "    for i in range(0, N*2, 2):\n",
    "        idx_acopio = i//2\n",
    "\n",
    "        if x[i] == 0 and x[i+1] == 0:\n",
    "            continue\n",
    "\n",
    "        if idx_acopio == idx_principal:\n",
    "            # Única suma de kCAp\n",
    "            delta += get_delta(x, i, idx_acopio)\n",
    "            continue\n",
    "\n",
    "        # Sumas con kCAi\n",
    "        delta += get_delta(x, i, idx_acopio, idx_principal)\n",
    "\n",
    "    return delta"
   ],
   "id": "52cfa35070e6e479",
   "outputs": [],
   "execution_count": 5
  },
  {
   "metadata": {
    "ExecuteTime": {
     "end_time": "2024-11-22T16:57:37.424664Z",
     "start_time": "2024-11-22T16:57:37.413047Z"
    }
   },
   "cell_type": "code",
   "source": [
    "def balance(individual, delta, diff):\n",
    "    delta = np.squeeze(delta)\n",
    "\n",
    "    # Reducir para igualar a la demanda\n",
    "    if diff:\n",
    "        acopios = list(np.nonzero(individual)[0])\n",
    "\n",
    "        while delta > 0 and len(acopios) > 0:\n",
    "            idx = np.random.choice(acopios)\n",
    "            acopios.remove(idx)\n",
    "\n",
    "            if delta <= individual[idx]:\n",
    "                individual[idx] -= delta\n",
    "                delta = 0\n",
    "            else:\n",
    "                delta -= individual[idx]\n",
    "                individual[idx] = 0\n",
    "    # Aumentar para igualar a la demanda\n",
    "    else:\n",
    "        acopios = list(np.where(individual == 0)[0])\n",
    "\n",
    "        while delta > 0 and len(acopios) > 0:\n",
    "            idx = np.random.choice(acopios)\n",
    "            acopios.remove(idx)\n",
    "\n",
    "            if delta <= CAPACIDADES[idx]:\n",
    "                individual[idx] = delta\n",
    "                delta = 0\n",
    "            else:\n",
    "                individual[idx] = CAPACIDADES[idx]\n",
    "                delta -= CAPACIDADES[idx]"
   ],
   "id": "ea9dfe99aac27603",
   "outputs": [],
   "execution_count": 6
  },
  {
   "metadata": {},
   "cell_type": "markdown",
   "source": "# Algoritmo Genético (pymoo)",
   "id": "2a875ae7214260bd"
  },
  {
   "metadata": {},
   "cell_type": "markdown",
   "source": "Definición del modelo de optimización",
   "id": "3f976cbe7e9f7b7a"
  },
  {
   "metadata": {
    "ExecuteTime": {
     "end_time": "2024-11-22T16:57:37.516670Z",
     "start_time": "2024-11-22T16:57:37.424664Z"
    }
   },
   "cell_type": "code",
   "source": [
    "from pymoo.core.problem import ElementwiseProblem\n",
    "\n",
    "xl = np.zeros(CAPACIDADES.shape[0])\n",
    "xu = CAPACIDADES\n",
    "\n",
    "\n",
    "class Queso(ElementwiseProblem):\n",
    "    def __init__(self):\n",
    "        super().__init__(\n",
    "            n_var=len(xl),\n",
    "            n_obj=1,\n",
    "            n_eq_constr=1,\n",
    "            # n_ieq_constr=1,\n",
    "            xl=xl,\n",
    "            xu=xu\n",
    "        )\n",
    "\n",
    "    def _evaluate(self, x, out, *args, **kwargs):\n",
    "        out['F'] = f(x)\n",
    "        # Se retira el último elemento del vector (centro de acopio principal), \n",
    "        # para validar la restricción de igualdad\n",
    "        individual = np.delete(x, N * 2)\n",
    "        out['H'] = DEMANDA - np.sum(individual)\n",
    "\n",
    "\n",
    "model = Queso()"
   ],
   "id": "bc918fd1bf372fc9",
   "outputs": [],
   "execution_count": 7
  },
  {
   "metadata": {},
   "cell_type": "markdown",
   "source": [
    "## Generación \n",
    "De nuevas posibles soluciones"
   ],
   "id": "d085753c7fe27e89"
  },
  {
   "metadata": {
    "ExecuteTime": {
     "end_time": "2024-11-22T16:57:37.523402Z",
     "start_time": "2024-11-22T16:57:37.516670Z"
    }
   },
   "cell_type": "code",
   "source": [
    "from pymoo.core.sampling import Sampling\n",
    "\n",
    "\n",
    "class TopOrZeroSampling(Sampling):\n",
    "    def _do(self, problem, n_samples, **kwargs):\n",
    "        gen_matrix = np.zeros((n_samples, problem.n_var), dtype=float)\n",
    "        # Se indexan los centros de acopio\n",
    "        n_vars = problem.n_var\n",
    "\n",
    "        for i in range(n_samples):\n",
    "            # Se reorganizan todos los índices de los centros de acopio, de forma aleatoria\n",
    "            indices = np.arange(n_vars - 1)\n",
    "            np.random.shuffle(indices)\n",
    "\n",
    "            while np.sum(gen_matrix[i]) < DEMANDA and indices.size > 0:\n",
    "                idx = indices[0]\n",
    "                gen_matrix[i, idx] += CAPACIDADES[idx]\n",
    "                indices = np.delete(indices, 0)\n",
    "\n",
    "                if np.sum(gen_matrix[i]) > DEMANDA:\n",
    "                    gen_matrix[i, idx] = gen_matrix[i, idx] - (np.sum(gen_matrix[i]) - DEMANDA)\n",
    "                    break\n",
    "\n",
    "            gen_matrix[i, N * 2] = np.random.randint(CAPACIDADES[N * 2] + 1)\n",
    "\n",
    "        return gen_matrix"
   ],
   "id": "101efd99b9fd105b",
   "outputs": [],
   "execution_count": 8
  },
  {
   "metadata": {},
   "cell_type": "markdown",
   "source": [
    "## Cruce\n",
    "\n",
    "Implementación de cruce en un punto"
   ],
   "id": "58db9b9c9f9a1e10"
  },
  {
   "metadata": {
    "ExecuteTime": {
     "end_time": "2024-11-22T16:57:37.539012Z",
     "start_time": "2024-11-22T16:57:37.523402Z"
    }
   },
   "cell_type": "code",
   "source": [
    "from pymoo.core.crossover import Crossover\n",
    "\n",
    "class SinglePointCross(Crossover):\n",
    "    def __init__(self, prob):\n",
    "        # Para la implementación personalizada de este método, se consideraron 2 padres,\n",
    "        # entonces cambiar los valores de la llamada a init no tendrá efecto.\n",
    "        # Lo mismo pasa con el único offspring.\n",
    "        super().__init__(n_parents=2, n_offsprings=1, prob=prob)\n",
    "\n",
    "    def _do(self, problem, X, **kwargs):\n",
    "        # n_parents, n_matings, n_var\n",
    "        _, n_matings, n_var = X.shape\n",
    "\n",
    "        T = np.zeros((1, n_matings, n_var))\n",
    "        Y = np.full_like(T, None, dtype=float)\n",
    "\n",
    "        for idx in range(n_matings):\n",
    "\n",
    "            # Primera mitad\n",
    "            p1 = X[0, idx, : n_var//2]\n",
    "            # Segunda mitad\n",
    "            p2 = X[1, idx, n_var//2 : n_var - 1]\n",
    "\n",
    "            offspring = np.concatenate((p1, p2))\n",
    "\n",
    "            if np.sum(offspring) > DEMANDA:\n",
    "                delta = np.sum(offspring) - DEMANDA\n",
    "                balance(offspring, delta, True)\n",
    "            else:\n",
    "                delta = DEMANDA - np.sum(offspring)\n",
    "                balance(offspring, delta, False)\n",
    "\n",
    "            for i in range(offspring.shape[0]):\n",
    "                Y[0, idx, i] = offspring[i]\n",
    "\n",
    "            # Centro de acopio principal (última posición)\n",
    "            main = np.random.choice([X[0, idx, n_var-1], X[1, idx, n_var-1]])\n",
    "            Y[0, idx, n_var-1] = main\n",
    "\n",
    "        return Y"
   ],
   "id": "aff3207504e2e357",
   "outputs": [],
   "execution_count": 9
  },
  {
   "metadata": {},
   "cell_type": "markdown",
   "source": [
    "## Mutación\n",
    "Con una probabilidad dada, reasignar la cantidad asignada a un centro de acopio **o**, reasignar el centro de acopio principal."
   ],
   "id": "9ce276c8a811e84b"
  },
  {
   "metadata": {
    "ExecuteTime": {
     "end_time": "2024-11-22T16:57:37.548350Z",
     "start_time": "2024-11-22T16:57:37.539012Z"
    }
   },
   "cell_type": "code",
   "source": [
    "from pymoo.core.mutation import Mutation\n",
    "\n",
    "class ReassignMutation(Mutation):\n",
    "    def __init__(self, prob):\n",
    "        super().__init__()\n",
    "        self.prob = prob\n",
    "\n",
    "    def _do(self, problem, X, **kwargs):\n",
    "        for i in range(len(X)):\n",
    "            r = np.random.random()\n",
    "\n",
    "            if r < self.prob:\n",
    "                # Se toma un índice aleatorio\n",
    "                individual = X[i]\n",
    "                idx_mut = np.random.randint(individual.shape)\n",
    "\n",
    "                # Si es el índice del centro de acopio principal (N*2)\n",
    "                if idx_mut == N*2:\n",
    "                    X[i, problem.n_var-1] = np.random.randint(CAPACIDADES[N*2] + 1)\n",
    "\n",
    "                else:\n",
    "                    if individual[idx_mut] == 0:\n",
    "                        # Se asigna la máxima cantidad posible del índice\n",
    "                        delta = CAPACIDADES[idx_mut]\n",
    "                        individual[idx_mut] = CAPACIDADES[idx_mut]\n",
    "                        diff = True\n",
    "                    else:\n",
    "                        # Se asigna cero a la cantidad del índice\n",
    "                        delta = individual[idx_mut]\n",
    "                        individual[idx_mut] = 0\n",
    "                        diff = False\n",
    "\n",
    "                    balance(individual, delta, diff)\n",
    "\n",
    "                    for j in range(individual.shape[0]):\n",
    "                        X[i, j] = individual[j]\n",
    "\n",
    "        return X"
   ],
   "id": "65d3bab3c66626cc",
   "outputs": [],
   "execution_count": 10
  },
  {
   "metadata": {},
   "cell_type": "markdown",
   "source": "## Aplicación",
   "id": "3c74ccdfdd7b3509"
  },
  {
   "metadata": {
    "ExecuteTime": {
     "end_time": "2024-11-22T16:57:37.558722Z",
     "start_time": "2024-11-22T16:57:37.548350Z"
    }
   },
   "cell_type": "code",
   "source": [
    "' Algoritmo genético '\n",
    "\n",
    "# Probabilidad de cruce\n",
    "p_cross = 0.8\n",
    "# Probabilidad de mutación\n",
    "p_mutate = 0.9\n",
    "# Tamaño de la población\n",
    "pop_size = 100\n",
    "# Máximo número de generaciones\n",
    "max_gen = 1000\n",
    "# Máximo número de llamados a la función objetivo\n",
    "max_evals = 100000"
   ],
   "id": "642f79519855698e",
   "outputs": [],
   "execution_count": 11
  },
  {
   "metadata": {},
   "cell_type": "markdown",
   "source": "Definición del algoritmo genético\n",
   "id": "64edae265c930405"
  },
  {
   "metadata": {
    "ExecuteTime": {
     "end_time": "2024-11-22T16:57:37.661893Z",
     "start_time": "2024-11-22T16:57:37.558722Z"
    }
   },
   "cell_type": "code",
   "source": [
    "from pymoo.algorithms.soo.nonconvex.ga import GA\n",
    "\n",
    "algorithm = GA(\n",
    "    pop_size=pop_size,\n",
    "    sampling=TopOrZeroSampling(),\n",
    "    crossover=SinglePointCross(prob=p_cross),\n",
    "    mutation=ReassignMutation(prob=p_mutate),\n",
    "    eliminate_duplicates=True\n",
    ")"
   ],
   "id": "3c6cf74b331b4dd2",
   "outputs": [
    {
     "name": "stdout",
     "output_type": "stream",
     "text": [
      "\n",
      "Compiled modules for significant speedup can not be used!\n",
      "https://pymoo.org/installation.html#installation\n",
      "\n",
      "To disable this warning:\n",
      "from pymoo.config import Config\n",
      "Config.warnings['not_compiled'] = False\n",
      "\n"
     ]
    }
   ],
   "execution_count": 12
  },
  {
   "metadata": {},
   "cell_type": "markdown",
   "source": "Criterio de terminación: https://pymoo.org/interface/termination.html",
   "id": "5ed769a5a406691"
  },
  {
   "metadata": {
    "ExecuteTime": {
     "end_time": "2024-11-22T16:57:37.667543Z",
     "start_time": "2024-11-22T16:57:37.661893Z"
    }
   },
   "cell_type": "code",
   "source": [
    "# Criterios simples\n",
    "# from pymoo.termination import get_termination\n",
    "\n",
    "# termination = get_termination('n_eval', 1000)\n",
    "# termination = get_termination('n_gen', 50)\n",
    "# termination = get_termination('time', '00:00:03')\n",
    "\n",
    "from pymoo.termination.default import DefaultSingleObjectiveTermination\n",
    "\n",
    "termination = DefaultSingleObjectiveTermination(\n",
    "    # Definición de tolerancia para lo que se \n",
    "    # considera una solución diferente\n",
    "    xtol=1e-8,\n",
    "    cvtol=1e-6,\n",
    "    ftol=1e-6,\n",
    "    # Número de iteraciones antes de finalizar \n",
    "    # al no encontrar una mejor solución\n",
    "    period=100,\n",
    "    # Máximo de generaciones \n",
    "    n_max_gen=max_gen,\n",
    "    # Máximo de evaluaciones de función objetivo\n",
    "    n_max_evals=max_evals\n",
    ")"
   ],
   "id": "94ee60a796ae07a4",
   "outputs": [],
   "execution_count": 13
  },
  {
   "metadata": {},
   "cell_type": "markdown",
   "source": "Optimización y resultados",
   "id": "7ecc3d29961a3068"
  },
  {
   "metadata": {
    "ExecuteTime": {
     "end_time": "2024-11-22T16:57:53.679048Z",
     "start_time": "2024-11-22T16:57:37.667543Z"
    }
   },
   "cell_type": "code",
   "source": [
    "from pymoo.optimize import minimize\n",
    "\n",
    "t_start_ga = timeit.default_timer()\n",
    "ga = minimize(model, algorithm, termination, seed=1, save_history=True, verbose=False)\n",
    "t_end_ga = timeit.default_timer()\n",
    "\n",
    "t_delta_ga = t_end_ga - t_start_ga\n",
    "\n",
    "# print_acopios(res.X)\n",
    "print(f'Centro de acopio principal: {params_df['Id_CA'].iloc[int(ga.X[N * 2])]}')\n",
    "print(f'Precio: {ga.F}')\n",
    "print(f'Tiempo: {round(t_delta_ga * 1000)}ms, ({t_delta_ga})')"
   ],
   "id": "bec823f0e83113d1",
   "outputs": [
    {
     "name": "stdout",
     "output_type": "stream",
     "text": [
      "Centro de acopio principal: CA2\n",
      "Precio: [392608.]\n",
      "Tiempo: 15997ms, (15.997141500003636)\n"
     ]
    }
   ],
   "execution_count": 14
  },
  {
   "metadata": {
    "ExecuteTime": {
     "end_time": "2024-11-22T16:57:53.703289Z",
     "start_time": "2024-11-22T16:57:53.679048Z"
    }
   },
   "cell_type": "code",
   "source": [
    "rep = pd.DataFrame(np.repeat(params_df, [2], axis=0))[0].rename('CAcopio')\n",
    "rep.loc[rep.reset_index().index % 2 == 0] = rep + ' Stock'\n",
    "rep.loc[rep.reset_index().index % 2 == 1] = rep + ' Potencial'\n",
    "rep = rep.reset_index()\n",
    "rep.insert(2, 'Capacidad', np.delete(CAPACIDADES, N*2))\n",
    "rep.insert(3, 'Asignada', np.delete(ga.X, N * 2))\n",
    "rep"
   ],
   "id": "5d20df5e5dd46a8c",
   "outputs": [
    {
     "data": {
      "text/plain": [
       "    index         CAcopio  Capacidad  Asignada\n",
       "0       0       CA1 Stock     10.000    10.000\n",
       "1       1   CA1 Potencial      0.500     0.500\n",
       "2       2       CA2 Stock     12.000    12.000\n",
       "3       3   CA2 Potencial      0.625     0.625\n",
       "4       4       CA3 Stock      4.000     0.000\n",
       "5       5   CA3 Potencial     14.000     0.000\n",
       "6       6       CA4 Stock      8.000     8.000\n",
       "7       7   CA4 Potencial     13.000    13.000\n",
       "8       8       CA5 Stock     18.000     0.000\n",
       "9       9   CA5 Potencial     15.000     0.000\n",
       "10     10       CA6 Stock      6.000     0.000\n",
       "11     11   CA6 Potencial     14.000     0.000\n",
       "12     12       CA7 Stock     12.000     1.375\n",
       "13     13   CA7 Potencial     13.000     0.000\n",
       "14     14       CA8 Stock      2.000     2.000\n",
       "15     15   CA8 Potencial     12.500    12.500\n",
       "16     16       CA9 Stock     30.000     0.000\n",
       "17     17   CA9 Potencial     15.000     0.000\n",
       "18     18      CA10 Stock     15.000     0.000\n",
       "19     19  CA10 Potencial     18.000     0.000"
      ],
      "text/html": [
       "<div>\n",
       "<style scoped>\n",
       "    .dataframe tbody tr th:only-of-type {\n",
       "        vertical-align: middle;\n",
       "    }\n",
       "\n",
       "    .dataframe tbody tr th {\n",
       "        vertical-align: top;\n",
       "    }\n",
       "\n",
       "    .dataframe thead th {\n",
       "        text-align: right;\n",
       "    }\n",
       "</style>\n",
       "<table border=\"1\" class=\"dataframe\">\n",
       "  <thead>\n",
       "    <tr style=\"text-align: right;\">\n",
       "      <th></th>\n",
       "      <th>index</th>\n",
       "      <th>CAcopio</th>\n",
       "      <th>Capacidad</th>\n",
       "      <th>Asignada</th>\n",
       "    </tr>\n",
       "  </thead>\n",
       "  <tbody>\n",
       "    <tr>\n",
       "      <th>0</th>\n",
       "      <td>0</td>\n",
       "      <td>CA1 Stock</td>\n",
       "      <td>10.000</td>\n",
       "      <td>10.000</td>\n",
       "    </tr>\n",
       "    <tr>\n",
       "      <th>1</th>\n",
       "      <td>1</td>\n",
       "      <td>CA1 Potencial</td>\n",
       "      <td>0.500</td>\n",
       "      <td>0.500</td>\n",
       "    </tr>\n",
       "    <tr>\n",
       "      <th>2</th>\n",
       "      <td>2</td>\n",
       "      <td>CA2 Stock</td>\n",
       "      <td>12.000</td>\n",
       "      <td>12.000</td>\n",
       "    </tr>\n",
       "    <tr>\n",
       "      <th>3</th>\n",
       "      <td>3</td>\n",
       "      <td>CA2 Potencial</td>\n",
       "      <td>0.625</td>\n",
       "      <td>0.625</td>\n",
       "    </tr>\n",
       "    <tr>\n",
       "      <th>4</th>\n",
       "      <td>4</td>\n",
       "      <td>CA3 Stock</td>\n",
       "      <td>4.000</td>\n",
       "      <td>0.000</td>\n",
       "    </tr>\n",
       "    <tr>\n",
       "      <th>5</th>\n",
       "      <td>5</td>\n",
       "      <td>CA3 Potencial</td>\n",
       "      <td>14.000</td>\n",
       "      <td>0.000</td>\n",
       "    </tr>\n",
       "    <tr>\n",
       "      <th>6</th>\n",
       "      <td>6</td>\n",
       "      <td>CA4 Stock</td>\n",
       "      <td>8.000</td>\n",
       "      <td>8.000</td>\n",
       "    </tr>\n",
       "    <tr>\n",
       "      <th>7</th>\n",
       "      <td>7</td>\n",
       "      <td>CA4 Potencial</td>\n",
       "      <td>13.000</td>\n",
       "      <td>13.000</td>\n",
       "    </tr>\n",
       "    <tr>\n",
       "      <th>8</th>\n",
       "      <td>8</td>\n",
       "      <td>CA5 Stock</td>\n",
       "      <td>18.000</td>\n",
       "      <td>0.000</td>\n",
       "    </tr>\n",
       "    <tr>\n",
       "      <th>9</th>\n",
       "      <td>9</td>\n",
       "      <td>CA5 Potencial</td>\n",
       "      <td>15.000</td>\n",
       "      <td>0.000</td>\n",
       "    </tr>\n",
       "    <tr>\n",
       "      <th>10</th>\n",
       "      <td>10</td>\n",
       "      <td>CA6 Stock</td>\n",
       "      <td>6.000</td>\n",
       "      <td>0.000</td>\n",
       "    </tr>\n",
       "    <tr>\n",
       "      <th>11</th>\n",
       "      <td>11</td>\n",
       "      <td>CA6 Potencial</td>\n",
       "      <td>14.000</td>\n",
       "      <td>0.000</td>\n",
       "    </tr>\n",
       "    <tr>\n",
       "      <th>12</th>\n",
       "      <td>12</td>\n",
       "      <td>CA7 Stock</td>\n",
       "      <td>12.000</td>\n",
       "      <td>1.375</td>\n",
       "    </tr>\n",
       "    <tr>\n",
       "      <th>13</th>\n",
       "      <td>13</td>\n",
       "      <td>CA7 Potencial</td>\n",
       "      <td>13.000</td>\n",
       "      <td>0.000</td>\n",
       "    </tr>\n",
       "    <tr>\n",
       "      <th>14</th>\n",
       "      <td>14</td>\n",
       "      <td>CA8 Stock</td>\n",
       "      <td>2.000</td>\n",
       "      <td>2.000</td>\n",
       "    </tr>\n",
       "    <tr>\n",
       "      <th>15</th>\n",
       "      <td>15</td>\n",
       "      <td>CA8 Potencial</td>\n",
       "      <td>12.500</td>\n",
       "      <td>12.500</td>\n",
       "    </tr>\n",
       "    <tr>\n",
       "      <th>16</th>\n",
       "      <td>16</td>\n",
       "      <td>CA9 Stock</td>\n",
       "      <td>30.000</td>\n",
       "      <td>0.000</td>\n",
       "    </tr>\n",
       "    <tr>\n",
       "      <th>17</th>\n",
       "      <td>17</td>\n",
       "      <td>CA9 Potencial</td>\n",
       "      <td>15.000</td>\n",
       "      <td>0.000</td>\n",
       "    </tr>\n",
       "    <tr>\n",
       "      <th>18</th>\n",
       "      <td>18</td>\n",
       "      <td>CA10 Stock</td>\n",
       "      <td>15.000</td>\n",
       "      <td>0.000</td>\n",
       "    </tr>\n",
       "    <tr>\n",
       "      <th>19</th>\n",
       "      <td>19</td>\n",
       "      <td>CA10 Potencial</td>\n",
       "      <td>18.000</td>\n",
       "      <td>0.000</td>\n",
       "    </tr>\n",
       "  </tbody>\n",
       "</table>\n",
       "</div>"
      ]
     },
     "execution_count": 15,
     "metadata": {},
     "output_type": "execute_result"
    }
   ],
   "execution_count": 15
  },
  {
   "metadata": {
    "ExecuteTime": {
     "end_time": "2024-11-22T16:57:54.072997Z",
     "start_time": "2024-11-22T16:57:53.703289Z"
    }
   },
   "cell_type": "code",
   "source": [
    "n_evals = np.array([e.evaluator.n_eval for e in ga.history])\n",
    "opt = np.array([e.opt[0].F for e in ga.history])\n",
    "gen_evals = np.arange(opt.shape[0])\n",
    "\n",
    "plt.title('Convergencia')\n",
    "plt.plot(gen_evals, opt, '--')\n",
    "plt.yscale('log')\n",
    "plt.show()"
   ],
   "id": "8131e4d1442aa1bc",
   "outputs": [
    {
     "data": {
      "text/plain": [
       "<Figure size 640x480 with 1 Axes>"
      ],
      "image/png": "[encoded data removed]"
     },
     "metadata": {},
     "output_type": "display_data"
    }
   ],
   "execution_count": 16
  }
 ],
 "metadata": {
  "kernelspec": {
   "display_name": "Python 3",
   "language": "python",
   "name": "python3"
  },
  "language_info": {
   "codemirror_mode": {
    "name": "ipython",
    "version": 2
   },
   "file_extension": ".py",
   "mimetype": "text/x-python",
   "name": "python",
   "nbconvert_exporter": "python",
   "pygments_lexer": "ipython2",
   "version": "2.7.6"
  }
 },
 "nbformat": 4,
 "nbformat_minor": 5
}
