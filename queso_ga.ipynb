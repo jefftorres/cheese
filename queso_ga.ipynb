{
 "cells": [
  {
   "metadata": {
    "ExecuteTime": {
     "end_time": "2025-02-10T20:59:01.533550Z",
     "start_time": "2025-02-10T20:58:58.853189Z"
    }
   },
   "cell_type": "code",
   "source": [
    "import timeit\n",
    "\n",
    "import numpy as np\n",
    "import matplotlib.pyplot as plt\n",
    "\n",
    "from scripts.queso_model import model_vars, model_data, objective_func, balance, alloc_df\n",
    "# Ejecutar esta línea si pymoo no ha sido instalado\n",
    "# %pip install -U pymoo"
   ],
   "id": "f296fbee1667a15b",
   "outputs": [],
   "execution_count": 1
  },
  {
   "metadata": {},
   "cell_type": "markdown",
   "source": [
    "# Algoritmo Genético\n",
    "Utilizando la librería [pymoo](https://pymoo.org/index.html), redefiniendo los operadores para cumplir con las restricciones del modelo de optimización."
   ],
   "id": "684b6b486bc4a599"
  },
  {
   "metadata": {},
   "cell_type": "markdown",
   "source": "## Parámetros",
   "id": "4a1344a07cdaed7a"
  },
  {
   "metadata": {
    "ExecuteTime": {
     "end_time": "2025-02-10T20:59:01.539979Z",
     "start_time": "2025-02-10T20:59:01.535551Z"
    }
   },
   "cell_type": "code",
   "source": [
    "# Escenario 1\n",
    "folder = './data/test1/' # Carpeta con los datos\n",
    "info_acopios = 'nuevo_info_acopios.xlsx' # Datos de centros de acopio \n",
    "costo_transporte = 'costoTransporteCAi.xlsx' # Matriz de costos de transporte entre CAs \n",
    "tiempo_transporte = 'tiempoTransporteCAi.xlsx' # Matriz de tiempos de transporte entre CAs\n",
    "demanda = 60 # Demanda del cliente\n",
    "ctiempo = 100 # Costo por unidad de tiempo\n",
    "\n",
    "# Escenario 2\n",
    "# folder = './data/test2/'\n",
    "# info_acopios = 'centros_acopio.xlsx'\n",
    "# costo_transporte = 'costo_transporte.xlsx'\n",
    "# tiempo_transporte = 'tiempos_transporte.xlsx'\n",
    "# demanda = 4000\n",
    "# ctiempo = 100\n",
    "\n",
    "# Escenario 3\n",
    "# folder = './data/test3/'\n",
    "# info_acopios = 'info_acopios_escenario3.xlsx'\n",
    "# costo_transporte = 'costo_transporte_escenario3.xlsx'\n",
    "# tiempo_transporte = 'tiempos_transporte_escenario3.xlsx'\n",
    "# demanda = 60\n",
    "# ctiempo = 1000\n",
    "\n",
    "# Probabilidad de cruce\n",
    "p_cross = 0.55\n",
    "# Probabilidad de mutación\n",
    "p_mutate = 0.8\n",
    "# Tamaño de la población\n",
    "pop_size = 100\n",
    "# Número de iteraciones antes de finalizar \n",
    "# al no encontrar una mejor solución\n",
    "period = 100\n",
    "# Máximo número de generaciones\n",
    "max_gen = 1000\n",
    "# Máximo de evaluaciones de función objetivo\n",
    "max_evals = 100000"
   ],
   "id": "19d6862160569aa4",
   "outputs": [],
   "execution_count": 2
  },
  {
   "metadata": {
    "ExecuteTime": {
     "end_time": "2025-02-10T20:59:01.994721Z",
     "start_time": "2025-02-10T20:59:01.540969Z"
    }
   },
   "cell_type": "code",
   "source": [
    "archivos = {\n",
    "    'info_acopios': info_acopios,\n",
    "    'costo_transporte' : costo_transporte,\n",
    "    'tiempo_transporte' : tiempo_transporte,\n",
    "}\n",
    "\n",
    "data = model_data(archivos, demanda, ctiempo, folder=folder)\n",
    "\n",
    "demanda = data['demanda']\n",
    "ctiempo = data['ctiempo']\n",
    "# t_max = data['t_max']\n",
    "params_df = data['params_df']\n",
    "\n",
    "N, seed, capacidades = model_vars(params_df)"
   ],
   "id": "6cf9dbfd88f5253",
   "outputs": [],
   "execution_count": 3
  },
  {
   "metadata": {},
   "cell_type": "markdown",
   "source": [
    "## Definición \n",
    "Del modelo de optimización"
   ],
   "id": "cc540ed3593c64d5"
  },
  {
   "metadata": {
    "ExecuteTime": {
     "end_time": "2025-02-10T20:59:02.101510Z",
     "start_time": "2025-02-10T20:59:01.995721Z"
    }
   },
   "cell_type": "code",
   "source": [
    "from pymoo.core.problem import ElementwiseProblem\n",
    "\n",
    "xl = np.zeros(capacidades.shape[0])\n",
    "xu = capacidades\n",
    "\n",
    "\n",
    "class Queso(ElementwiseProblem):\n",
    "    def __init__(self):\n",
    "        super().__init__(\n",
    "            n_var=len(xl),\n",
    "            n_obj=1,\n",
    "            n_eq_constr=1,\n",
    "            xl=xl,\n",
    "            xu=xu\n",
    "        )\n",
    "\n",
    "    def _evaluate(self, x, out, *args, **kwargs):\n",
    "        out['F'] = objective_func(x, N, data)\n",
    "        # Se retira el último elemento del vector (centro de acopio principal), \n",
    "        # para validar la restricción de igualdad\n",
    "        individual = np.delete(x, N * 2)\n",
    "        out['H'] = demanda - np.sum(individual)\n",
    "\n",
    "\n",
    "model = Queso()"
   ],
   "id": "e0dc112feaf58382",
   "outputs": [],
   "execution_count": 4
  },
  {
   "metadata": {},
   "cell_type": "markdown",
   "source": [
    "## Generación \n",
    "De nuevas posibles soluciones"
   ],
   "id": "ddfe43048012cb70"
  },
  {
   "metadata": {
    "ExecuteTime": {
     "end_time": "2025-02-10T20:59:02.109851Z",
     "start_time": "2025-02-10T20:59:02.103508Z"
    }
   },
   "cell_type": "code",
   "source": [
    "from pymoo.core.sampling import Sampling\n",
    "\n",
    "\n",
    "class TopOrZeroSampling(Sampling):\n",
    "    def _do(self, problem, n_samples, **kwargs):\n",
    "        gen_matrix = np.zeros((n_samples, problem.n_var), dtype=float)\n",
    "        # Se indexan los centros de acopio\n",
    "        n_vars = problem.n_var\n",
    "\n",
    "        for i in range(n_samples):\n",
    "            # Se reorganizan todos los índices de los centros de acopio, de forma aleatoria\n",
    "            indices = np.arange(n_vars - 1)\n",
    "            np.random.shuffle(indices)\n",
    "\n",
    "            while np.sum(gen_matrix[i]) < demanda and indices.size > 0:\n",
    "                idx = indices[0]\n",
    "                gen_matrix[i, idx] += capacidades[idx]\n",
    "                indices = np.delete(indices, 0)\n",
    "\n",
    "                if np.sum(gen_matrix[i]) > demanda:\n",
    "                    gen_matrix[i, idx] = gen_matrix[i, idx] - (np.sum(gen_matrix[i]) - demanda)\n",
    "                    break\n",
    "\n",
    "            gen_matrix[i, N * 2] = np.random.randint(capacidades[N * 2] + 1)\n",
    "\n",
    "        return gen_matrix"
   ],
   "id": "aeb68013a3ecc3a0",
   "outputs": [],
   "execution_count": 5
  },
  {
   "metadata": {},
   "cell_type": "markdown",
   "source": [
    "## Cruce\n",
    "\n",
    "Implementación de cruce en un punto"
   ],
   "id": "aafd2f116fd7945d"
  },
  {
   "metadata": {
    "ExecuteTime": {
     "end_time": "2025-02-10T20:59:02.133918Z",
     "start_time": "2025-02-10T20:59:02.110844Z"
    }
   },
   "cell_type": "code",
   "source": [
    "from pymoo.core.crossover import Crossover\n",
    "\n",
    "class SinglePointCross(Crossover):\n",
    "    def __init__(self, prob):\n",
    "        # Para la implementación personalizada de este método, se consideraron 2 padres,\n",
    "        # entonces cambiar los valores de la llamada a init no tendrá efecto.\n",
    "        # Lo mismo pasa con el único offspring.\n",
    "        super().__init__(n_parents=2, n_offsprings=1, prob=prob)\n",
    "\n",
    "    def _do(self, problem, X, **kwargs):\n",
    "        # n_parents, n_matings, n_var\n",
    "        _, n_matings, n_var = X.shape\n",
    "\n",
    "        T = np.zeros((1, n_matings, n_var))\n",
    "        Y = np.full_like(T, None, dtype=float)\n",
    "\n",
    "        for idx in range(n_matings):\n",
    "\n",
    "            # Primera mitad\n",
    "            p1 = X[0, idx, : n_var//2]\n",
    "            # Segunda mitad\n",
    "            p2 = X[1, idx, n_var//2 : n_var - 1]\n",
    "\n",
    "            offspring = np.concatenate((p1, p2))\n",
    "\n",
    "            if np.sum(offspring) > demanda:\n",
    "                delta = np.sum(offspring) - demanda\n",
    "                balance(offspring, capacidades, delta, True)\n",
    "            else:\n",
    "                delta = demanda - np.sum(offspring)\n",
    "                balance(offspring, capacidades, delta, False)\n",
    "\n",
    "            for i in range(offspring.shape[0]):\n",
    "                Y[0, idx, i] = offspring[i]\n",
    "\n",
    "            # Centro de acopio principal (última posición)\n",
    "            main = np.random.choice([X[0, idx, n_var-1], X[1, idx, n_var-1]])\n",
    "            Y[0, idx, n_var-1] = main\n",
    "\n",
    "        return Y"
   ],
   "id": "69f0f74c48a0cab6",
   "outputs": [],
   "execution_count": 6
  },
  {
   "metadata": {},
   "cell_type": "markdown",
   "source": [
    "## Mutación\n",
    "Con una probabilidad dada, reasignar la cantidad asignada a un centro de acopio **o**, reasignar el centro de acopio principal."
   ],
   "id": "c854c698aa2a3bfe"
  },
  {
   "metadata": {
    "ExecuteTime": {
     "end_time": "2025-02-10T20:59:02.142339Z",
     "start_time": "2025-02-10T20:59:02.134925Z"
    }
   },
   "cell_type": "code",
   "source": [
    "from pymoo.core.mutation import Mutation\n",
    "\n",
    "class ReassignMutation(Mutation):\n",
    "    def __init__(self, prob):\n",
    "        super().__init__()\n",
    "        self.prob = prob\n",
    "\n",
    "    def _do(self, problem, X, **kwargs):\n",
    "        for i in range(len(X)):\n",
    "            r = np.random.random()\n",
    "\n",
    "            if r < self.prob:\n",
    "                # Se toma un índice aleatorio\n",
    "                individual = X[i]\n",
    "                idx_mut = np.random.randint(individual.shape)\n",
    "\n",
    "                # Si es el índice del centro de acopio principal (N*2)\n",
    "                if idx_mut == N*2:\n",
    "                    X[i, problem.n_var-1] = np.random.randint(capacidades[N * 2] + 1)\n",
    "\n",
    "                else:\n",
    "                    if individual[idx_mut] == 0:\n",
    "                        # Se asigna la máxima cantidad posible del índice\n",
    "                        delta = capacidades[idx_mut]\n",
    "                        individual[idx_mut] = capacidades[idx_mut]\n",
    "                        diff = True\n",
    "                    else:\n",
    "                        # Se asigna cero a la cantidad del índice\n",
    "                        delta = individual[idx_mut]\n",
    "                        individual[idx_mut] = 0\n",
    "                        diff = False\n",
    "\n",
    "                    balance(individual, capacidades, delta, diff)\n",
    "\n",
    "                    for j in range(individual.shape[0]):\n",
    "                        X[i, j] = individual[j]\n",
    "\n",
    "        return X"
   ],
   "id": "8eeb3da6e5728eab",
   "outputs": [],
   "execution_count": 7
  },
  {
   "metadata": {},
   "cell_type": "markdown",
   "source": "## Aplicación",
   "id": "653bfabcf6de33e8"
  },
  {
   "metadata": {},
   "cell_type": "markdown",
   "source": "Definición del algoritmo genético\n",
   "id": "bb05874eb2d60674"
  },
  {
   "metadata": {
    "ExecuteTime": {
     "end_time": "2025-02-10T20:59:02.256642Z",
     "start_time": "2025-02-10T20:59:02.143338Z"
    }
   },
   "cell_type": "code",
   "source": [
    "from pymoo.algorithms.soo.nonconvex.ga import GA\n",
    "\n",
    "algorithm = GA(\n",
    "    pop_size=pop_size,\n",
    "    sampling=TopOrZeroSampling(),\n",
    "    crossover=SinglePointCross(prob=p_cross),\n",
    "    mutation=ReassignMutation(prob=p_mutate),\n",
    "    eliminate_duplicates=True\n",
    ")"
   ],
   "id": "1cf4e142cf2d709",
   "outputs": [
    {
     "name": "stdout",
     "output_type": "stream",
     "text": [
      "\n",
      "Compiled modules for significant speedup can not be used!\n",
      "https://pymoo.org/installation.html#installation\n",
      "\n",
      "To disable this warning:\n",
      "from pymoo.config import Config\n",
      "Config.warnings['not_compiled'] = False\n",
      "\n"
     ]
    }
   ],
   "execution_count": 8
  },
  {
   "metadata": {},
   "cell_type": "markdown",
   "source": "Criterio de terminación: https://pymoo.org/interface/termination.html",
   "id": "4db4cde82876b9d6"
  },
  {
   "metadata": {
    "ExecuteTime": {
     "end_time": "2025-02-10T20:59:02.262277Z",
     "start_time": "2025-02-10T20:59:02.257640Z"
    }
   },
   "cell_type": "code",
   "source": [
    "from pymoo.termination.default import DefaultSingleObjectiveTermination\n",
    "\n",
    "termination = DefaultSingleObjectiveTermination(\n",
    "    # Definición de tolerancia para lo que se \n",
    "    # considera una solución diferente\n",
    "    xtol=1e-8,\n",
    "    cvtol=1e-6,\n",
    "    ftol=1e-6,\n",
    "    period=period, \n",
    "    n_max_gen=max_gen,\n",
    "    n_max_evals=max_evals\n",
    ")"
   ],
   "id": "70a9d6bae298c8b0",
   "outputs": [],
   "execution_count": 9
  },
  {
   "metadata": {},
   "cell_type": "markdown",
   "source": "Optimización y resultados",
   "id": "c628b8f9af5d9ff0"
  },
  {
   "metadata": {
    "ExecuteTime": {
     "end_time": "2025-02-10T20:59:17.093961Z",
     "start_time": "2025-02-10T20:59:02.263275Z"
    }
   },
   "cell_type": "code",
   "source": [
    "from pymoo.optimize import minimize\n",
    "\n",
    "t_start_ga = timeit.default_timer()\n",
    "ga = minimize(model, algorithm, termination, seed=seed, save_history=True, verbose=False)\n",
    "t_end_ga = timeit.default_timer()\n",
    "\n",
    "t_delta_ga = t_end_ga - t_start_ga"
   ],
   "id": "83a486027aff00c5",
   "outputs": [],
   "execution_count": 10
  },
  {
   "metadata": {
    "ExecuteTime": {
     "end_time": "2025-02-10T20:59:17.099209Z",
     "start_time": "2025-02-10T20:59:17.094996Z"
    }
   },
   "cell_type": "code",
   "source": [
    "# print(f'Centro de acopio principal: {params_df['Id_CA'].iloc[int(ga.X[N * 2])]}')\n",
    "print(f'Precio: {np.squeeze(ga.F)}')\n",
    "print(f'Tiempo: {round(t_delta_ga * 1000)}ms, ({t_delta_ga}s)')"
   ],
   "id": "7c90f7fd3e379833",
   "outputs": [
    {
     "name": "stdout",
     "output_type": "stream",
     "text": [
      "Precio: 392608.0\n",
      "Tiempo: 14816ms, (14.816473899991252s)\n"
     ]
    }
   ],
   "execution_count": 11
  },
  {
   "metadata": {
    "ExecuteTime": {
     "end_time": "2025-02-10T20:59:17.131539Z",
     "start_time": "2025-02-10T20:59:17.100238Z"
    }
   },
   "cell_type": "code",
   "source": [
    "asignaciones = alloc_df(ga.X, params_df, N, capacidades)\n",
    "asignaciones"
   ],
   "id": "5d20df5e5dd46a8c",
   "outputs": [
    {
     "data": {
      "text/plain": [
       "  CAcopio  C.Stock   Stock  C.Potencial  Potencial\n",
       "0     CA1     10.0  10.000        0.500      0.500\n",
       "1     CA2     12.0  12.000        0.625      0.625\n",
       "2     CA3      4.0   0.000       14.000      0.000\n",
       "3     CA4      8.0   8.000       13.000     13.000\n",
       "4     CA5     18.0   0.000       15.000      0.000\n",
       "5     CA6      6.0   0.000       14.000      0.000\n",
       "6     CA7     12.0   1.375       13.000      0.000\n",
       "7     CA8      2.0   2.000       12.500     12.500\n",
       "8     CA9     30.0   0.000       15.000      0.000\n",
       "9    CA10     15.0   0.000       18.000      0.000"
      ],
      "text/html": [
       "<div>\n",
       "<style scoped>\n",
       "    .dataframe tbody tr th:only-of-type {\n",
       "        vertical-align: middle;\n",
       "    }\n",
       "\n",
       "    .dataframe tbody tr th {\n",
       "        vertical-align: top;\n",
       "    }\n",
       "\n",
       "    .dataframe thead th {\n",
       "        text-align: right;\n",
       "    }\n",
       "</style>\n",
       "<table border=\"1\" class=\"dataframe\">\n",
       "  <thead>\n",
       "    <tr style=\"text-align: right;\">\n",
       "      <th></th>\n",
       "      <th>CAcopio</th>\n",
       "      <th>C.Stock</th>\n",
       "      <th>Stock</th>\n",
       "      <th>C.Potencial</th>\n",
       "      <th>Potencial</th>\n",
       "    </tr>\n",
       "  </thead>\n",
       "  <tbody>\n",
       "    <tr>\n",
       "      <th>0</th>\n",
       "      <td>CA1</td>\n",
       "      <td>10.0</td>\n",
       "      <td>10.000</td>\n",
       "      <td>0.500</td>\n",
       "      <td>0.500</td>\n",
       "    </tr>\n",
       "    <tr>\n",
       "      <th>1</th>\n",
       "      <td>CA2</td>\n",
       "      <td>12.0</td>\n",
       "      <td>12.000</td>\n",
       "      <td>0.625</td>\n",
       "      <td>0.625</td>\n",
       "    </tr>\n",
       "    <tr>\n",
       "      <th>2</th>\n",
       "      <td>CA3</td>\n",
       "      <td>4.0</td>\n",
       "      <td>0.000</td>\n",
       "      <td>14.000</td>\n",
       "      <td>0.000</td>\n",
       "    </tr>\n",
       "    <tr>\n",
       "      <th>3</th>\n",
       "      <td>CA4</td>\n",
       "      <td>8.0</td>\n",
       "      <td>8.000</td>\n",
       "      <td>13.000</td>\n",
       "      <td>13.000</td>\n",
       "    </tr>\n",
       "    <tr>\n",
       "      <th>4</th>\n",
       "      <td>CA5</td>\n",
       "      <td>18.0</td>\n",
       "      <td>0.000</td>\n",
       "      <td>15.000</td>\n",
       "      <td>0.000</td>\n",
       "    </tr>\n",
       "    <tr>\n",
       "      <th>5</th>\n",
       "      <td>CA6</td>\n",
       "      <td>6.0</td>\n",
       "      <td>0.000</td>\n",
       "      <td>14.000</td>\n",
       "      <td>0.000</td>\n",
       "    </tr>\n",
       "    <tr>\n",
       "      <th>6</th>\n",
       "      <td>CA7</td>\n",
       "      <td>12.0</td>\n",
       "      <td>1.375</td>\n",
       "      <td>13.000</td>\n",
       "      <td>0.000</td>\n",
       "    </tr>\n",
       "    <tr>\n",
       "      <th>7</th>\n",
       "      <td>CA8</td>\n",
       "      <td>2.0</td>\n",
       "      <td>2.000</td>\n",
       "      <td>12.500</td>\n",
       "      <td>12.500</td>\n",
       "    </tr>\n",
       "    <tr>\n",
       "      <th>8</th>\n",
       "      <td>CA9</td>\n",
       "      <td>30.0</td>\n",
       "      <td>0.000</td>\n",
       "      <td>15.000</td>\n",
       "      <td>0.000</td>\n",
       "    </tr>\n",
       "    <tr>\n",
       "      <th>9</th>\n",
       "      <td>CA10</td>\n",
       "      <td>15.0</td>\n",
       "      <td>0.000</td>\n",
       "      <td>18.000</td>\n",
       "      <td>0.000</td>\n",
       "    </tr>\n",
       "  </tbody>\n",
       "</table>\n",
       "</div>"
      ]
     },
     "execution_count": 12,
     "metadata": {},
     "output_type": "execute_result"
    }
   ],
   "execution_count": 12
  },
  {
   "metadata": {
    "ExecuteTime": {
     "end_time": "2025-02-10T20:59:17.647460Z",
     "start_time": "2025-02-10T20:59:17.132564Z"
    }
   },
   "cell_type": "code",
   "source": [
    "n_evals = np.array([e.evaluator.n_eval for e in ga.history])\n",
    "opt = np.array([e.opt[0].F for e in ga.history])\n",
    "gen_evals = np.arange(opt.shape[0])\n",
    "\n",
    "plt.figure(figsize=(12,3))\n",
    "plt.title('Convergencia (GA)')\n",
    "plt.xlabel('Iteración')\n",
    "plt.ylabel('Costo')\n",
    "plt.plot(gen_evals, opt, '--')\n",
    "plt.yscale('log')\n",
    "plt.show()"
   ],
   "id": "8131e4d1442aa1bc",
   "outputs": [
    {
     "data": {
      "text/plain": [
       "<Figure size 1200x300 with 1 Axes>"
      ],
      "image/png": "[encoded data removed]"
     },
     "metadata": {},
     "output_type": "display_data"
    }
   ],
   "execution_count": 13
  },
  {
   "metadata": {},
   "cell_type": "markdown",
   "source": "## Resultados",
   "id": "ec5836d9de97c199"
  },
  {
   "metadata": {
    "ExecuteTime": {
     "end_time": "2025-02-10T20:59:17.823168Z",
     "start_time": "2025-02-10T20:59:17.648455Z"
    }
   },
   "cell_type": "code",
   "source": [
    "even = np.arange(0, N*2-1, 2)\n",
    "odd = np.arange(1, N*2, 2)\n",
    "\n",
    "cap_stock = np.take(capacidades, even)\n",
    "cap_potencial = np.take(capacidades, odd)\n",
    "\n",
    "ca_stock = np.take(ga.X, even)\n",
    "ca_potencial = np.take(ga.X, odd)\n",
    "\n",
    "labels = params_df['Id_CA']\n",
    "x = np.arange(len(labels))\n",
    "y1 = ca_stock\n",
    "y2 = ca_potencial\n",
    "\n",
    "fig, ax = plt.subplots()\n",
    "y_lim = np.array(np.mean([np.max(capacidades), np.max(ga.X)])) * 1.1\n",
    "ax.set_ylim([0, y_lim])\n",
    "x1_bar = ax.bar(x-0.2, y1, width=0.4, label='stock', color='lime')\n",
    "x2_bar = ax.bar(x+0.2, y2, width=0.4, label='potencial', color='cornflowerblue')\n",
    "\n",
    "plt.xticks(x, labels)\n",
    "plt.title('Asignación (GA)')\n",
    "plt.xlabel('Centros de acopio')\n",
    "plt.ylabel('Cantidad asignada')\n",
    "plt.legend(loc='upper left', ncol=2)\n",
    "plt.show()"
   ],
   "id": "58aa966e26b3f03d",
   "outputs": [
    {
     "data": {
      "text/plain": [
       "<Figure size 640x480 with 1 Axes>"
      ],
      "image/png": "[encoded data removed]"
     },
     "metadata": {},
     "output_type": "display_data"
    }
   ],
   "execution_count": 14
  },
  {
   "metadata": {
    "ExecuteTime": {
     "end_time": "2025-02-10T20:59:17.838080Z",
     "start_time": "2025-02-10T20:59:17.825165Z"
    }
   },
   "cell_type": "code",
   "source": [
    "ca_stock_norm = ca_stock / cap_stock\n",
    "ca_potencial_norm = ca_potencial / cap_potencial\n",
    "\n",
    "ca_norm = ca_stock_norm.tolist()\n",
    "for i,v in enumerate(ca_potencial_norm):\n",
    "    ca_norm.insert(2 * i + 1, v)\n",
    "ca_norm.append(0)\n",
    "ca_norm = np.round(ca_norm, 3)\n",
    "ca_norm = ca_norm * 100 \n",
    "\n",
    "ca_norm_df = alloc_df(ca_norm, params_df, N, capacidades, '% Stock', '% Potencial')\n",
    "ca_norm_df"
   ],
   "id": "477a57a4c5462427",
   "outputs": [
    {
     "data": {
      "text/plain": [
       "  CAcopio  C.Stock  % Stock  C.Potencial  % Potencial\n",
       "0     CA1     10.0    100.0        0.500        100.0\n",
       "1     CA2     12.0    100.0        0.625        100.0\n",
       "2     CA3      4.0      0.0       14.000          0.0\n",
       "3     CA4      8.0    100.0       13.000        100.0\n",
       "4     CA5     18.0      0.0       15.000          0.0\n",
       "5     CA6      6.0      0.0       14.000          0.0\n",
       "6     CA7     12.0     11.5       13.000          0.0\n",
       "7     CA8      2.0    100.0       12.500        100.0\n",
       "8     CA9     30.0      0.0       15.000          0.0\n",
       "9    CA10     15.0      0.0       18.000          0.0"
      ],
      "text/html": [
       "<div>\n",
       "<style scoped>\n",
       "    .dataframe tbody tr th:only-of-type {\n",
       "        vertical-align: middle;\n",
       "    }\n",
       "\n",
       "    .dataframe tbody tr th {\n",
       "        vertical-align: top;\n",
       "    }\n",
       "\n",
       "    .dataframe thead th {\n",
       "        text-align: right;\n",
       "    }\n",
       "</style>\n",
       "<table border=\"1\" class=\"dataframe\">\n",
       "  <thead>\n",
       "    <tr style=\"text-align: right;\">\n",
       "      <th></th>\n",
       "      <th>CAcopio</th>\n",
       "      <th>C.Stock</th>\n",
       "      <th>% Stock</th>\n",
       "      <th>C.Potencial</th>\n",
       "      <th>% Potencial</th>\n",
       "    </tr>\n",
       "  </thead>\n",
       "  <tbody>\n",
       "    <tr>\n",
       "      <th>0</th>\n",
       "      <td>CA1</td>\n",
       "      <td>10.0</td>\n",
       "      <td>100.0</td>\n",
       "      <td>0.500</td>\n",
       "      <td>100.0</td>\n",
       "    </tr>\n",
       "    <tr>\n",
       "      <th>1</th>\n",
       "      <td>CA2</td>\n",
       "      <td>12.0</td>\n",
       "      <td>100.0</td>\n",
       "      <td>0.625</td>\n",
       "      <td>100.0</td>\n",
       "    </tr>\n",
       "    <tr>\n",
       "      <th>2</th>\n",
       "      <td>CA3</td>\n",
       "      <td>4.0</td>\n",
       "      <td>0.0</td>\n",
       "      <td>14.000</td>\n",
       "      <td>0.0</td>\n",
       "    </tr>\n",
       "    <tr>\n",
       "      <th>3</th>\n",
       "      <td>CA4</td>\n",
       "      <td>8.0</td>\n",
       "      <td>100.0</td>\n",
       "      <td>13.000</td>\n",
       "      <td>100.0</td>\n",
       "    </tr>\n",
       "    <tr>\n",
       "      <th>4</th>\n",
       "      <td>CA5</td>\n",
       "      <td>18.0</td>\n",
       "      <td>0.0</td>\n",
       "      <td>15.000</td>\n",
       "      <td>0.0</td>\n",
       "    </tr>\n",
       "    <tr>\n",
       "      <th>5</th>\n",
       "      <td>CA6</td>\n",
       "      <td>6.0</td>\n",
       "      <td>0.0</td>\n",
       "      <td>14.000</td>\n",
       "      <td>0.0</td>\n",
       "    </tr>\n",
       "    <tr>\n",
       "      <th>6</th>\n",
       "      <td>CA7</td>\n",
       "      <td>12.0</td>\n",
       "      <td>11.5</td>\n",
       "      <td>13.000</td>\n",
       "      <td>0.0</td>\n",
       "    </tr>\n",
       "    <tr>\n",
       "      <th>7</th>\n",
       "      <td>CA8</td>\n",
       "      <td>2.0</td>\n",
       "      <td>100.0</td>\n",
       "      <td>12.500</td>\n",
       "      <td>100.0</td>\n",
       "    </tr>\n",
       "    <tr>\n",
       "      <th>8</th>\n",
       "      <td>CA9</td>\n",
       "      <td>30.0</td>\n",
       "      <td>0.0</td>\n",
       "      <td>15.000</td>\n",
       "      <td>0.0</td>\n",
       "    </tr>\n",
       "    <tr>\n",
       "      <th>9</th>\n",
       "      <td>CA10</td>\n",
       "      <td>15.0</td>\n",
       "      <td>0.0</td>\n",
       "      <td>18.000</td>\n",
       "      <td>0.0</td>\n",
       "    </tr>\n",
       "  </tbody>\n",
       "</table>\n",
       "</div>"
      ]
     },
     "execution_count": 15,
     "metadata": {},
     "output_type": "execute_result"
    }
   ],
   "execution_count": 15
  },
  {
   "metadata": {
    "ExecuteTime": {
     "end_time": "2025-02-10T20:59:17.848914Z",
     "start_time": "2025-02-10T20:59:17.839078Z"
    }
   },
   "cell_type": "code",
   "source": [
    "# # Prueba con n iteraciones\n",
    "# def ga_test(n):\n",
    "#     hist = []\n",
    "#     hist_t = []\n",
    "# \n",
    "#     for i in range(n):\n",
    "# \n",
    "#         t_i = timeit.default_timer()\n",
    "#         ga_opt = minimize(model, algorithm, termination, seed=seed, save_history=False, verbose=False)\n",
    "#         t_f = timeit.default_timer()\n",
    "# \n",
    "#         t_delta = t_f - t_i\n",
    "#         hist.append(ga_opt.F)\n",
    "#         hist_t.append(t_delta)\n",
    "# \n",
    "#     return hist, hist_t, n\n",
    "# \n",
    "# history, hist_time, times = ga_test(10)\n",
    "# print(history, '\\n', hist_time, '\\n', times)"
   ],
   "id": "a982f2fa16f028ed",
   "outputs": [],
   "execution_count": 16
  }
 ],
 "metadata": {
  "kernelspec": {
   "display_name": "Python 3",
   "language": "python",
   "name": "python3"
  },
  "language_info": {
   "codemirror_mode": {
    "name": "ipython",
    "version": 2
   },
   "file_extension": ".py",
   "mimetype": "text/x-python",
   "name": "python",
   "nbconvert_exporter": "python",
   "pygments_lexer": "ipython2",
   "version": "2.7.6"
  }
 },
 "nbformat": 4,
 "nbformat_minor": 5
}
