{
 "cells": [
  {
   "metadata": {},
   "cell_type": "markdown",
   "source": [
    "# Info\n",
    "\n",
    "self-note: the code for most of this is actually on the .py file of the same name\n",
    "\n",
    "this is mostly for $f(x)$ latex rendering on IDE *(or may also work as a prototype ig)*\n",
    " \n",
    "at least until I actually update the README.md"
   ],
   "id": "87faaca7c6fd65d2"
  },
  {
   "cell_type": "code",
   "id": "initial_id",
   "metadata": {
    "collapsed": true
   },
   "source": [
    "import numpy as np\n",
    "import pandas as pd"
   ],
   "outputs": [],
   "execution_count": null
  },
  {
   "metadata": {},
   "cell_type": "markdown",
   "source": [
    "## Datos\n",
    "\n",
    "Información que obtiene el modelo del sistema de información"
   ],
   "id": "373a8715967350b0"
  },
  {
   "metadata": {},
   "cell_type": "code",
   "source": [
    "def model_data():\n",
    "    pass"
   ],
   "id": "fe1d46ccb3c6c331",
   "outputs": [],
   "execution_count": null
  },
  {
   "metadata": {},
   "cell_type": "markdown",
   "source": [
    "## Variables\n",
    "\n",
    "Definición de variables para el modelo"
   ],
   "id": "bc6ac68d3795534e"
  },
  {
   "metadata": {},
   "cell_type": "code",
   "source": [
    "def model_vars():\n",
    "    pass"
   ],
   "id": "65ecda8449731f8d",
   "outputs": [],
   "execution_count": null
  },
  {
   "metadata": {},
   "cell_type": "markdown",
   "source": [
    "# Función objetivo\n",
    "$$\n",
    "\\begin{align*}\n",
    "    \\sum_{i=1 \\quad i\\neq p}^{N} &\\big[ \\, kCA_i \\times Precio(CA_i) + cTransp(CA_i) + Tiempo(CA_i) \\times cTiempo \\, \\big] \\, + \\\\\n",
    "                                 &\\big[ \\, kCA_p \\times Precio(CA_p) + cTransp(CA_p) + Tiempo(CA_p) \\times cTiempo \\, \\big]\n",
    "\\end{align*}\n",
    "$$"
   ],
   "id": "170014b8c1f40771"
  },
  {
   "metadata": {},
   "cell_type": "markdown",
   "source": [
    "Sujeta a las restricciones:\n",
    "$$\n",
    "\\begin{align*}\n",
    "    \\sum_{i=0}^{N} kCA_i &= Demanda \\\\\n",
    "    kCA_i &\\leq Stock(CA_i) + Ppotencial(CA_i) &\\therefore \\, i=0,\\cdots ,N \\\\\n",
    "    TiempoAlistam(CA_i) &\\leq TiempoMaxDefinido &\\therefore \\, i=0,\\cdots ,N \\\\\n",
    "    Tiempo(CA_i) &= TiempoAlistam(CA_i) + TiempoTransp(CA_i) \\\\\n",
    "\\end{align*}\n",
    "$$"
   ],
   "id": "d7b21d8e57e3f07b"
  },
  {
   "metadata": {},
   "cell_type": "code",
   "source": [
    "def __get_delta(x, i, idx_acopio, idx_principal=-1):\n",
    "    pass"
   ],
   "id": "feee88d012b54134",
   "outputs": [],
   "execution_count": null
  },
  {
   "metadata": {},
   "cell_type": "code",
   "source": [
    "def f(x, n):\n",
    "    delta = 0\n",
    "    idx_principal = int(x[n*2])\n",
    "\n",
    "    for i in range(0, n*2, 2):\n",
    "        idx_acopio = i//2\n",
    "\n",
    "        if x[i] == 0 and x[i+1] == 0:\n",
    "            continue\n",
    "\n",
    "        if idx_acopio == idx_principal:\n",
    "            # Única suma de kCAp\n",
    "            delta += __get_delta(x, i, idx_acopio)\n",
    "            continue\n",
    "\n",
    "        # Sumas con kCAi\n",
    "        delta += __get_delta(x, i, idx_acopio, idx_principal)\n",
    "\n",
    "    return delta"
   ],
   "id": "af49dc3537975a20",
   "outputs": [],
   "execution_count": null
  },
  {
   "metadata": {},
   "cell_type": "markdown",
   "source": "Función que altera el vector para que cumpla con la restricción de igualdad",
   "id": "11f27ffa8fa6f9c1"
  },
  {
   "metadata": {},
   "cell_type": "code",
   "source": [
    "def balance(vector, cap, delta, diff):\n",
    "    pass"
   ],
   "id": "528c998a84a1bfa0",
   "outputs": [],
   "execution_count": null
  }
 ],
 "metadata": {
  "kernelspec": {
   "display_name": "Python 3",
   "language": "python",
   "name": "python3"
  },
  "language_info": {
   "codemirror_mode": {
    "name": "ipython",
    "version": 2
   },
   "file_extension": ".py",
   "mimetype": "text/x-python",
   "name": "python",
   "nbconvert_exporter": "python",
   "pygments_lexer": "ipython2",
   "version": "2.7.6"
  }
 },
 "nbformat": 4,
 "nbformat_minor": 5
}
