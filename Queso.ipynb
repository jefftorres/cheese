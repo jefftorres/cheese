{
 "nbformat": 4,
 "nbformat_minor": 0,
 "metadata": {
  "colab": {
   "provenance": []
  },
  "kernelspec": {
   "name": "python3",
   "language": "python",
   "display_name": "Python 3 (ipykernel)"
  },
  "language_info": {
   "name": "python"
  }
 },
 "cells": [
  {
   "cell_type": "code",
   "metadata": {
    "id": "sLLmzB6qJwiG",
    "ExecuteTime": {
     "end_time": "2024-07-04T16:52:34.046121Z",
     "start_time": "2024-07-04T16:52:34.040683Z"
    }
   },
   "source": [
    "import numpy as np\n",
    "import pandas as pd"
   ],
   "outputs": [],
   "execution_count": 63
  },
  {
   "cell_type": "markdown",
   "source": [
    "## Conjuntos \n",
    "Del modelo de optimización\n",
    "\n",
    "| **Término**  | **Descripción**                |\n",
    "|--------------|--------------------------------|\n",
    "| $cacopios$   | Conjunto de centros de acopio  |\n",
    "| $clientes$   | Conjunto de clientes           |\n",
    "| $productos$  | Conjunto de productos          |"
   ],
   "metadata": {
    "id": "ZZ20H0g88fr9"
   }
  },
  {
   "cell_type": "code",
   "source": [
    "cacopios = 'CAcopios'\n",
    "clientes = 'Clientes'\n",
    "productos = 'Productos'"
   ],
   "metadata": {
    "id": "rIc1Q2z08Ejj",
    "ExecuteTime": {
     "end_time": "2024-07-04T16:52:34.138372Z",
     "start_time": "2024-07-04T16:52:34.131605Z"
    }
   },
   "outputs": [],
   "execution_count": 64
  },
  {
   "cell_type": "code",
   "source": [
    "csv_base = './csv/'\n",
    "\n",
    "routes = {\n",
    "    # Capacidades de centros de acopio\n",
    "    'cic': 'CapInvCA.csv',\n",
    "    'cictest': 'CapInvCAtest.csv',\n",
    "    # Costo de inventario del centro de acopio\n",
    "    'cia' : 'CostoInvCA.csv',\n",
    "    'ciatest' : 'CostoInvCAtest.csv',\n",
    "    # Costo de transporte del centro de acopio al cliente\n",
    "    'ctac' : 'CostoTransCAClie.csv',\n",
    "    'ctactest' : 'CostoTransCAClietest.csv'\n",
    "}\n",
    "\n",
    "csv_config = {\n",
    "    'delimiter' : ';',\n",
    "    'decimal' : ','\n",
    "}"
   ],
   "metadata": {
    "id": "vQTQCvL0-G49",
    "ExecuteTime": {
     "end_time": "2024-07-04T16:52:34.149037Z",
     "start_time": "2024-07-04T16:52:34.138372Z"
    }
   },
   "outputs": [],
   "execution_count": 65
  },
  {
   "metadata": {},
   "cell_type": "markdown",
   "source": [
    "## Centros de acopio"
   ]
  },
  {
   "metadata": {
    "ExecuteTime": {
     "end_time": "2024-07-04T16:52:34.163574Z",
     "start_time": "2024-07-04T16:52:34.153076Z"
    }
   },
   "cell_type": "code",
   "source": [
    "cacopios_df = pd.read_csv(csv_base + cacopios + 'test' + '.csv')\n",
    "cacopios_df"
   ],
   "outputs": [
    {
     "data": {
      "text/plain": [
       "             CAcopios\n",
       "0  San Juan del Cesar\n",
       "1            Riohacha\n",
       "2              Maicao"
      ],
      "text/html": [
       "<div>\n",
       "<style scoped>\n",
       "    .dataframe tbody tr th:only-of-type {\n",
       "        vertical-align: middle;\n",
       "    }\n",
       "\n",
       "    .dataframe tbody tr th {\n",
       "        vertical-align: top;\n",
       "    }\n",
       "\n",
       "    .dataframe thead th {\n",
       "        text-align: right;\n",
       "    }\n",
       "</style>\n",
       "<table border=\"1\" class=\"dataframe\">\n",
       "  <thead>\n",
       "    <tr style=\"text-align: right;\">\n",
       "      <th></th>\n",
       "      <th>CAcopios</th>\n",
       "    </tr>\n",
       "  </thead>\n",
       "  <tbody>\n",
       "    <tr>\n",
       "      <th>0</th>\n",
       "      <td>San Juan del Cesar</td>\n",
       "    </tr>\n",
       "    <tr>\n",
       "      <th>1</th>\n",
       "      <td>Riohacha</td>\n",
       "    </tr>\n",
       "    <tr>\n",
       "      <th>2</th>\n",
       "      <td>Maicao</td>\n",
       "    </tr>\n",
       "  </tbody>\n",
       "</table>\n",
       "</div>"
      ]
     },
     "execution_count": 66,
     "metadata": {},
     "output_type": "execute_result"
    }
   ],
   "execution_count": 66
  },
  {
   "metadata": {},
   "cell_type": "markdown",
   "source": [
    "## Clientes"
   ]
  },
  {
   "metadata": {
    "ExecuteTime": {
     "end_time": "2024-07-04T16:52:34.173772Z",
     "start_time": "2024-07-04T16:52:34.163574Z"
    }
   },
   "cell_type": "code",
   "source": [
    "clientes_df = pd.read_csv(csv_base + clientes + 'test' + '.csv')\n",
    "clientes_df"
   ],
   "outputs": [
    {
     "data": {
      "text/plain": [
       "        Clientes\n",
       "0  Distribuidor1\n",
       "1  Distribuidor2"
      ],
      "text/html": [
       "<div>\n",
       "<style scoped>\n",
       "    .dataframe tbody tr th:only-of-type {\n",
       "        vertical-align: middle;\n",
       "    }\n",
       "\n",
       "    .dataframe tbody tr th {\n",
       "        vertical-align: top;\n",
       "    }\n",
       "\n",
       "    .dataframe thead th {\n",
       "        text-align: right;\n",
       "    }\n",
       "</style>\n",
       "<table border=\"1\" class=\"dataframe\">\n",
       "  <thead>\n",
       "    <tr style=\"text-align: right;\">\n",
       "      <th></th>\n",
       "      <th>Clientes</th>\n",
       "    </tr>\n",
       "  </thead>\n",
       "  <tbody>\n",
       "    <tr>\n",
       "      <th>0</th>\n",
       "      <td>Distribuidor1</td>\n",
       "    </tr>\n",
       "    <tr>\n",
       "      <th>1</th>\n",
       "      <td>Distribuidor2</td>\n",
       "    </tr>\n",
       "  </tbody>\n",
       "</table>\n",
       "</div>"
      ]
     },
     "execution_count": 67,
     "metadata": {},
     "output_type": "execute_result"
    }
   ],
   "execution_count": 67
  },
  {
   "metadata": {},
   "cell_type": "markdown",
   "source": [
    "## Productos"
   ]
  },
  {
   "metadata": {
    "ExecuteTime": {
     "end_time": "2024-07-04T16:52:34.204923Z",
     "start_time": "2024-07-04T16:52:34.197796Z"
    }
   },
   "cell_type": "code",
   "source": [
    "productos_df = pd.read_csv(csv_base + productos + '.csv')\n",
    "productos_df.head()"
   ],
   "outputs": [
    {
     "data": {
      "text/plain": [
       "      Productos\n",
       "0    Queso duro\n",
       "1  Queso blando"
      ],
      "text/html": [
       "<div>\n",
       "<style scoped>\n",
       "    .dataframe tbody tr th:only-of-type {\n",
       "        vertical-align: middle;\n",
       "    }\n",
       "\n",
       "    .dataframe tbody tr th {\n",
       "        vertical-align: top;\n",
       "    }\n",
       "\n",
       "    .dataframe thead th {\n",
       "        text-align: right;\n",
       "    }\n",
       "</style>\n",
       "<table border=\"1\" class=\"dataframe\">\n",
       "  <thead>\n",
       "    <tr style=\"text-align: right;\">\n",
       "      <th></th>\n",
       "      <th>Productos</th>\n",
       "    </tr>\n",
       "  </thead>\n",
       "  <tbody>\n",
       "    <tr>\n",
       "      <th>0</th>\n",
       "      <td>Queso duro</td>\n",
       "    </tr>\n",
       "    <tr>\n",
       "      <th>1</th>\n",
       "      <td>Queso blando</td>\n",
       "    </tr>\n",
       "  </tbody>\n",
       "</table>\n",
       "</div>"
      ]
     },
     "execution_count": 68,
     "metadata": {},
     "output_type": "execute_result"
    }
   ],
   "execution_count": 68
  },
  {
   "metadata": {},
   "cell_type": "markdown",
   "source": [
    "# Escenarios de prueba\n",
    "Tomando demandas por cada centro de acopio, se definen distintos escenarios de posibles casos.\n",
    "\n",
    "**Escenario 1**: Un centro de acopio sobrepasa la demanda del cliente\n",
    "- El modelo puede asignar dicho centro de acopio para suplir con la demanda\n",
    "- El centro de acopio debe proveer esa demanda\n",
    "\n",
    "**Escenario 2**: Ningún centro de acopio cumple con toda la demanda del cliente\n",
    "- El modelo debe dar una solución de varios centros de acopio\n",
    "- La suma de la demanda por cada centro de acopio debe ser igual a la demanda\n",
    "\n",
    "**Escenario 3**: Un centro de acopio tiene en stock exactamente la cantidad de la demanda de un cliente.\n",
    "- El modelo puede tomar el centro de acopio que tiene en stock exactamente la demanda a cumplir"
   ]
  },
  {
   "metadata": {},
   "cell_type": "markdown",
   "source": [
    "### Demandas\n",
    "Generando demandas para cada cliente, se usarán como entrada para el modelo"
   ]
  },
  {
   "metadata": {
    "ExecuteTime": {
     "end_time": "2024-07-04T16:52:34.225073Z",
     "start_time": "2024-07-04T16:52:34.214433Z"
    }
   },
   "cell_type": "code",
   "source": [
    "demanda_clientes = clientes_df[clientes].drop_duplicates()\n",
    "\n",
    "demandas = []\n",
    "\n",
    "for client in demanda_clientes:\n",
    "    demandas.append(20 * np.random.randint(10))\n",
    "\n",
    "demanda_clientes = pd.DataFrame(demanda_clientes)\n",
    "\n",
    "demanda_clientes['Demanda'] = pd.DataFrame(demandas)\n",
    "demanda_clientes"
   ],
   "outputs": [
    {
     "data": {
      "text/plain": [
       "        Clientes  Demanda\n",
       "0  Distribuidor1       80\n",
       "1  Distribuidor2      100"
      ],
      "text/html": [
       "<div>\n",
       "<style scoped>\n",
       "    .dataframe tbody tr th:only-of-type {\n",
       "        vertical-align: middle;\n",
       "    }\n",
       "\n",
       "    .dataframe tbody tr th {\n",
       "        vertical-align: top;\n",
       "    }\n",
       "\n",
       "    .dataframe thead th {\n",
       "        text-align: right;\n",
       "    }\n",
       "</style>\n",
       "<table border=\"1\" class=\"dataframe\">\n",
       "  <thead>\n",
       "    <tr style=\"text-align: right;\">\n",
       "      <th></th>\n",
       "      <th>Clientes</th>\n",
       "      <th>Demanda</th>\n",
       "    </tr>\n",
       "  </thead>\n",
       "  <tbody>\n",
       "    <tr>\n",
       "      <th>0</th>\n",
       "      <td>Distribuidor1</td>\n",
       "      <td>80</td>\n",
       "    </tr>\n",
       "    <tr>\n",
       "      <th>1</th>\n",
       "      <td>Distribuidor2</td>\n",
       "      <td>100</td>\n",
       "    </tr>\n",
       "  </tbody>\n",
       "</table>\n",
       "</div>"
      ]
     },
     "execution_count": 69,
     "metadata": {},
     "output_type": "execute_result"
    }
   ],
   "execution_count": 69
  },
  {
   "metadata": {},
   "cell_type": "markdown",
   "source": [
    "### Capacidades \n",
    "Obteniendo las capacidades de cada centro de acopio"
   ]
  },
  {
   "metadata": {
    "ExecuteTime": {
     "end_time": "2024-07-04T16:52:34.240935Z",
     "start_time": "2024-07-04T16:52:34.225073Z"
    }
   },
   "cell_type": "code",
   "source": [
    "cap_df = pd.read_csv(csv_base + routes['cictest'], **csv_config)\n",
    "\n",
    "cap_df"
   ],
   "outputs": [
    {
     "data": {
      "text/plain": [
       "             CAcopios     Productos  CapInvCA\n",
       "0  San Juan del Cesar    Queso duro        50\n",
       "1  San Juan del Cesar  Queso blando       320\n",
       "2            Riohacha    Queso duro        60\n",
       "3            Riohacha  Queso blando        90\n",
       "4              Maicao    Queso duro       100\n",
       "5              Maicao  Queso blando         0"
      ],
      "text/html": [
       "<div>\n",
       "<style scoped>\n",
       "    .dataframe tbody tr th:only-of-type {\n",
       "        vertical-align: middle;\n",
       "    }\n",
       "\n",
       "    .dataframe tbody tr th {\n",
       "        vertical-align: top;\n",
       "    }\n",
       "\n",
       "    .dataframe thead th {\n",
       "        text-align: right;\n",
       "    }\n",
       "</style>\n",
       "<table border=\"1\" class=\"dataframe\">\n",
       "  <thead>\n",
       "    <tr style=\"text-align: right;\">\n",
       "      <th></th>\n",
       "      <th>CAcopios</th>\n",
       "      <th>Productos</th>\n",
       "      <th>CapInvCA</th>\n",
       "    </tr>\n",
       "  </thead>\n",
       "  <tbody>\n",
       "    <tr>\n",
       "      <th>0</th>\n",
       "      <td>San Juan del Cesar</td>\n",
       "      <td>Queso duro</td>\n",
       "      <td>50</td>\n",
       "    </tr>\n",
       "    <tr>\n",
       "      <th>1</th>\n",
       "      <td>San Juan del Cesar</td>\n",
       "      <td>Queso blando</td>\n",
       "      <td>320</td>\n",
       "    </tr>\n",
       "    <tr>\n",
       "      <th>2</th>\n",
       "      <td>Riohacha</td>\n",
       "      <td>Queso duro</td>\n",
       "      <td>60</td>\n",
       "    </tr>\n",
       "    <tr>\n",
       "      <th>3</th>\n",
       "      <td>Riohacha</td>\n",
       "      <td>Queso blando</td>\n",
       "      <td>90</td>\n",
       "    </tr>\n",
       "    <tr>\n",
       "      <th>4</th>\n",
       "      <td>Maicao</td>\n",
       "      <td>Queso duro</td>\n",
       "      <td>100</td>\n",
       "    </tr>\n",
       "    <tr>\n",
       "      <th>5</th>\n",
       "      <td>Maicao</td>\n",
       "      <td>Queso blando</td>\n",
       "      <td>0</td>\n",
       "    </tr>\n",
       "  </tbody>\n",
       "</table>\n",
       "</div>"
      ]
     },
     "execution_count": 70,
     "metadata": {},
     "output_type": "execute_result"
    }
   ],
   "execution_count": 70
  },
  {
   "metadata": {},
   "cell_type": "markdown",
   "source": ""
  },
  {
   "cell_type": "markdown",
   "source": [
    "#### Costos de Inventario\n",
    "$$\n",
    "  CInventario_t = \\sum_{j \\in J} \\sum_{p \\in P} CostoInvAcopio_{pjt} InvCA_{pjt} \\qquad \\forall_t \\in T\n",
    "$$"
   ],
   "metadata": {
    "collapsed": false
   }
  },
  {
   "cell_type": "code",
   "source": [
    "cia_df = pd.read_csv(csv_base + routes['ciatest'], **csv_config)\n",
    "cia_df.head()"
   ],
   "metadata": {
    "collapsed": false,
    "ExecuteTime": {
     "end_time": "2024-07-04T16:52:34.251481Z",
     "start_time": "2024-07-04T16:52:34.240935Z"
    }
   },
   "outputs": [
    {
     "data": {
      "text/plain": [
       "             CAcopios     Productos  CostoInvCA\n",
       "0  San Juan del Cesar    Queso duro        1000\n",
       "1  San Juan del Cesar  Queso blando        1500\n",
       "2            Riohacha    Queso duro         500\n",
       "3            Riohacha  Queso blando         800\n",
       "4              Maicao    Queso duro         900"
      ],
      "text/html": [
       "<div>\n",
       "<style scoped>\n",
       "    .dataframe tbody tr th:only-of-type {\n",
       "        vertical-align: middle;\n",
       "    }\n",
       "\n",
       "    .dataframe tbody tr th {\n",
       "        vertical-align: top;\n",
       "    }\n",
       "\n",
       "    .dataframe thead th {\n",
       "        text-align: right;\n",
       "    }\n",
       "</style>\n",
       "<table border=\"1\" class=\"dataframe\">\n",
       "  <thead>\n",
       "    <tr style=\"text-align: right;\">\n",
       "      <th></th>\n",
       "      <th>CAcopios</th>\n",
       "      <th>Productos</th>\n",
       "      <th>CostoInvCA</th>\n",
       "    </tr>\n",
       "  </thead>\n",
       "  <tbody>\n",
       "    <tr>\n",
       "      <th>0</th>\n",
       "      <td>San Juan del Cesar</td>\n",
       "      <td>Queso duro</td>\n",
       "      <td>1000</td>\n",
       "    </tr>\n",
       "    <tr>\n",
       "      <th>1</th>\n",
       "      <td>San Juan del Cesar</td>\n",
       "      <td>Queso blando</td>\n",
       "      <td>1500</td>\n",
       "    </tr>\n",
       "    <tr>\n",
       "      <th>2</th>\n",
       "      <td>Riohacha</td>\n",
       "      <td>Queso duro</td>\n",
       "      <td>500</td>\n",
       "    </tr>\n",
       "    <tr>\n",
       "      <th>3</th>\n",
       "      <td>Riohacha</td>\n",
       "      <td>Queso blando</td>\n",
       "      <td>800</td>\n",
       "    </tr>\n",
       "    <tr>\n",
       "      <th>4</th>\n",
       "      <td>Maicao</td>\n",
       "      <td>Queso duro</td>\n",
       "      <td>900</td>\n",
       "    </tr>\n",
       "  </tbody>\n",
       "</table>\n",
       "</div>"
      ]
     },
     "execution_count": 71,
     "metadata": {},
     "output_type": "execute_result"
    }
   ],
   "execution_count": 71
  },
  {
   "cell_type": "markdown",
   "source": [
    "#### Costos de Transporte\n",
    "$$\n",
    "  CTransporte_t = \\sum_{k \\in K} \\sum_{j \\in J} \\sum_{p \\in P} CostoTransAcopioClie_{pjkt} \\qquad \\forall_t \\in T\n",
    "$$"
   ],
   "metadata": {
    "collapsed": false
   }
  },
  {
   "cell_type": "code",
   "source": [
    "ctac_df = pd.read_csv(csv_base + routes['ctactest'], **csv_config)\n",
    "ctac_df.head()"
   ],
   "metadata": {
    "collapsed": false,
    "ExecuteTime": {
     "end_time": "2024-07-04T16:52:34.370Z",
     "start_time": "2024-07-04T16:52:34.359501Z"
    }
   },
   "outputs": [
    {
     "data": {
      "text/plain": [
       "             CAcopios       Clientes  CostoTransCAClie\n",
       "0  San Juan del Cesar  Distribuidor1             68000\n",
       "1  San Juan del Cesar  Distribuidor2             38000\n",
       "2            Riohacha  Distribuidor1             21000\n",
       "3            Riohacha  Distribuidor2             15000\n",
       "4              Maicao  Distribuidor1             99000"
      ],
      "text/html": [
       "<div>\n",
       "<style scoped>\n",
       "    .dataframe tbody tr th:only-of-type {\n",
       "        vertical-align: middle;\n",
       "    }\n",
       "\n",
       "    .dataframe tbody tr th {\n",
       "        vertical-align: top;\n",
       "    }\n",
       "\n",
       "    .dataframe thead th {\n",
       "        text-align: right;\n",
       "    }\n",
       "</style>\n",
       "<table border=\"1\" class=\"dataframe\">\n",
       "  <thead>\n",
       "    <tr style=\"text-align: right;\">\n",
       "      <th></th>\n",
       "      <th>CAcopios</th>\n",
       "      <th>Clientes</th>\n",
       "      <th>CostoTransCAClie</th>\n",
       "    </tr>\n",
       "  </thead>\n",
       "  <tbody>\n",
       "    <tr>\n",
       "      <th>0</th>\n",
       "      <td>San Juan del Cesar</td>\n",
       "      <td>Distribuidor1</td>\n",
       "      <td>68000</td>\n",
       "    </tr>\n",
       "    <tr>\n",
       "      <th>1</th>\n",
       "      <td>San Juan del Cesar</td>\n",
       "      <td>Distribuidor2</td>\n",
       "      <td>38000</td>\n",
       "    </tr>\n",
       "    <tr>\n",
       "      <th>2</th>\n",
       "      <td>Riohacha</td>\n",
       "      <td>Distribuidor1</td>\n",
       "      <td>21000</td>\n",
       "    </tr>\n",
       "    <tr>\n",
       "      <th>3</th>\n",
       "      <td>Riohacha</td>\n",
       "      <td>Distribuidor2</td>\n",
       "      <td>15000</td>\n",
       "    </tr>\n",
       "    <tr>\n",
       "      <th>4</th>\n",
       "      <td>Maicao</td>\n",
       "      <td>Distribuidor1</td>\n",
       "      <td>99000</td>\n",
       "    </tr>\n",
       "  </tbody>\n",
       "</table>\n",
       "</div>"
      ]
     },
     "execution_count": 72,
     "metadata": {},
     "output_type": "execute_result"
    }
   ],
   "execution_count": 72
  },
  {
   "metadata": {},
   "cell_type": "markdown",
   "source": [
    "## Esquema de representación\n",
    "Se recibe la demanda $DemandaClie_{pkt}$ como parámetro de entrada.\n",
    "\n",
    "Se representa la cantidad $n$ de centros de acopio como un vector, donde se asigna una cantidad $x_i$ para cada centro de acopio $J_i$, la cantidad asignada representa la demanda que va a ser suplida por ese centro de acopio.\n",
    "$$\n",
    "\\begin{array} {|r|r|r|r|r|r|}\n",
    "    \\hline x_0 & x_1 & x_2 & x_3 & \\cdots & x_n \\\\\n",
    "    \\hline\n",
    "\\end{array}\n",
    "\\quad \\therefore \\quad x_i = AC_{pjkt}\n",
    "$$\n",
    "Donde se aplican las restricciones:\n",
    "$$\n",
    "\\begin{align*}\n",
    "    \\sum_{i=0}^{n} x_i &= DemandaClie_{pkt} \\\\\n",
    "    x_i &\\leq InvCA_{pjt}\n",
    "\\end{align*}\n",
    "$$"
   ]
  },
  {
   "metadata": {
    "ExecuteTime": {
     "end_time": "2024-07-04T16:52:34.529159Z",
     "start_time": "2024-07-04T16:52:34.519949Z"
    }
   },
   "cell_type": "code",
   "source": [
    "X = np.zeros(cacopios_df.shape)\n",
    "# Se toma la primera demanda como parámetro de entrada\n",
    "demanda = demanda_clientes.loc[0, 'Demanda']\n",
    "\n",
    "cap_queso = cap_df[cap_df[productos] == 'Queso duro']\n",
    "\n",
    "for i in range(X.shape[0]):\n",
    "    rand = np.random.randint(demanda)\n",
    "    cap = cap_df.loc[i, 'CapInvCA']\n",
    "        \n",
    "    if i == X.size - 1 and demanda != 0:\n",
    "        X[i] = demanda\n",
    "        demanda -= demanda\n",
    "    else:\n",
    "        if rand > cap:\n",
    "            X[i] = cap\n",
    "            demanda -= cap\n",
    "        else:\n",
    "            X[i] = rand\n",
    "            demanda -= rand\n",
    "    \n",
    "suma_demanda = X.sum()\n",
    "    \n",
    "# print(X)\n",
    "# print(f'Suma de la distribución: {suma_demanda}')"
   ],
   "outputs": [],
   "execution_count": 73
  },
  {
   "metadata": {},
   "cell_type": "markdown",
   "source": "### Cálculo de costos en función objetivo"
  },
  {
   "metadata": {
    "ExecuteTime": {
     "end_time": "2024-07-04T16:52:34.618268Z",
     "start_time": "2024-07-04T16:52:34.611441Z"
    }
   },
   "cell_type": "code",
   "source": [
    "# Esta función calcula los costos por cada centro de acopio, y los anexa al nombre del centro de acopio, no es necesario mantenerla debido a que este cálculo se hace en la función objetivo, se eliminará pronto\n",
    "\n",
    "def costos():\n",
    "    sum_costos_ca = []\n",
    "\n",
    "    for costo in range(X.shape[0]):\n",
    "        ca = cacopios_df.loc[costo]\n",
    "        delta = 0\n",
    "        \n",
    "        if X[costo] == 0:\n",
    "            sum_costos_ca.append((ca.tolist()[0], 0.))\n",
    "            continue\n",
    "    \n",
    "        costo_inv_ca = cia_df[(cia_df[cacopios] == ca[cacopios]) & (cia_df[productos] == 'Queso duro')]\n",
    "        costo_trans_ca = ctac_df[(ctac_df[cacopios] == ca[cacopios]) & (ctac_df[clientes] == 'Distribuidor1')]\n",
    "    \n",
    "        delta += X[costo] * costo_inv_ca['CostoInvCA']\n",
    "        delta += np.array(costo_trans_ca['CostoTransCAClie'])\n",
    "    \n",
    "        sum_costos_ca.append((ca.tolist()[0], delta.tolist()[0]))\n",
    "        \n",
    "    return sum_costos_ca"
   ],
   "outputs": [],
   "execution_count": 74
  },
  {
   "metadata": {},
   "cell_type": "markdown",
   "source": [
    "## Función objetivo\n",
    "$$\n",
    "Min(F) = CInventario + CTransporte\n",
    "$$"
   ]
  },
  {
   "metadata": {
    "ExecuteTime": {
     "end_time": "2024-07-04T20:09:03.440094Z",
     "start_time": "2024-07-04T20:09:03.430576Z"
    }
   },
   "cell_type": "code",
   "source": [
    "# F(x)\n",
    "def f(x):\n",
    "    delta = 0\n",
    "    # print(f'{x} -> Suma: {x.sum()}')\n",
    "\n",
    "    for idx in range(x.shape[0]):\n",
    "        ca = cacopios_df.loc[idx]\n",
    "\n",
    "        if x[idx] == 0.:\n",
    "            continue\n",
    "\n",
    "        # Costos de Inventario\n",
    "        costo_inv_ca = cia_df[(cia_df[cacopios] == ca[cacopios]) & (cia_df[productos] == 'Queso duro')]\n",
    "        # Costos de Transporte\n",
    "        costo_trans_ca = ctac_df[(ctac_df[cacopios] == ca[cacopios]) & (ctac_df[clientes] == 'Distribuidor1')]\n",
    "\n",
    "        delta += x[idx] * costo_inv_ca['CostoInvCA'].values[0]\n",
    "        delta += np.array(costo_trans_ca['CostoTransCAClie'].values[0])\n",
    "    \n",
    "    # if np.round(x.sum()) != suma_demanda:\n",
    "    #     delta *= 2\n",
    "    \n",
    "    return delta\n",
    "\n",
    "print(f'Costo: {f(X)}')"
   ],
   "outputs": [
    {
     "name": "stdout",
     "output_type": "stream",
     "text": [
      "Costo: [254200.]\n"
     ]
    }
   ],
   "execution_count": 156
  },
  {
   "metadata": {},
   "cell_type": "markdown",
   "source": "## scipy"
  },
  {
   "metadata": {},
   "cell_type": "markdown",
   "source": [
    "**LinearConstraint**: $ lb \\leq A*v[x] \\leq ub $\n",
    "\n",
    "**NonLinearConstraint**: $ lb \\leq g(x) \\leq ub $"
   ]
  },
  {
   "metadata": {
    "ExecuteTime": {
     "end_time": "2024-07-04T20:09:08.043258Z",
     "start_time": "2024-07-04T20:09:08.026486Z"
    }
   },
   "cell_type": "code",
   "source": [
    "from scipy.optimize import LinearConstraint\n",
    "from scipy.optimize import NonlinearConstraint\n",
    "\n",
    "cons = {'constraints': LinearConstraint(np.ones(X.shape[0]), suma_demanda, suma_demanda)}\n",
    "\n",
    "g = lambda x : x.sum()\n",
    "non_cons = {'constraints': NonlinearConstraint(g, suma_demanda, suma_demanda)}\n"
   ],
   "outputs": [],
   "execution_count": 157
  },
  {
   "cell_type": "code",
   "source": [
    "from scipy.optimize import dual_annealing\n",
    "# from scipy.optimize import differential_evolution\n",
    "\n",
    "bounds = [(0, x_i) for x_i in cap_queso['CapInvCA']]\n",
    "x0 = [x[0] for x in X]"
   ],
   "metadata": {
    "collapsed": false,
    "ExecuteTime": {
     "end_time": "2024-07-04T20:09:09.346606Z",
     "start_time": "2024-07-04T20:09:09.329684Z"
    }
   },
   "outputs": [],
   "execution_count": 158
  },
  {
   "metadata": {
    "ExecuteTime": {
     "end_time": "2024-07-04T20:09:32.299534Z",
     "start_time": "2024-07-04T20:09:11.193713Z"
    }
   },
   "cell_type": "code",
   "source": [
    "result = dual_annealing(\n",
    "    f,\n",
    "    bounds=bounds,\n",
    "    minimizer_kwargs=cons,\n",
    "    # maxiter=200,\n",
    "    x0=np.array(x0)\n",
    ")\n",
    "print(result)"
   ],
   "outputs": [
    {
     "name": "stdout",
     "output_type": "stream",
     "text": [
      " message: ['Maximum number of iteration reached']\n",
      " success: True\n",
      "  status: 0\n",
      "     fun: 188000.2642195216\n",
      "       x: [ 7.767e-05  1.344e-04  1.326e-04]\n",
      "     nit: 1000\n",
      "    nfev: 9611\n",
      "    njev: 900\n",
      "    nhev: 0\n"
     ]
    }
   ],
   "execution_count": 159
  },
  {
   "metadata": {
    "ExecuteTime": {
     "end_time": "2024-07-04T20:15:51.809041Z",
     "start_time": "2024-07-04T20:15:51.796348Z"
    }
   },
   "cell_type": "code",
   "source": [
    "from pymoo.core.problem import ElementwiseProblem\n",
    "\n",
    "xu = np.asarray([b for _, b in bounds])\n",
    "\n",
    "class Queso(ElementwiseProblem):\n",
    "    def __init__(self):\n",
    "        super().__init__(\n",
    "            n_var=len(x0),\n",
    "            n_obj=1,\n",
    "            n_eq_constr=1,\n",
    "            # n_ieq_constr=1,\n",
    "            xl=0,\n",
    "            xu=xu,\n",
    "            vtype=int\n",
    "        )\n",
    "        \n",
    "    def _evaluate(self, x, out, *args, **kwargs):\n",
    "        out['F'] = f(X)\n",
    "        out['H'] = suma_demanda - (np.sum(x))\n",
    "\n",
    "problem = Queso()"
   ],
   "outputs": [],
   "execution_count": 164
  },
  {
   "metadata": {
    "ExecuteTime": {
     "end_time": "2024-07-04T20:16:09.723313Z",
     "start_time": "2024-07-04T20:15:53.594019Z"
    }
   },
   "cell_type": "code",
   "source": [
    "from pymoo.algorithms.soo.nonconvex.ga import GA\n",
    "from pymoo.optimize import minimize\n",
    "\n",
    "algorithm = GA(\n",
    "    pop_size=100,\n",
    "    eliminate_duplicates=True\n",
    ")\n",
    "\n",
    "res = minimize(problem,\n",
    "               algorithm,\n",
    "               seed=1,\n",
    "               verbose=True)"
   ],
   "outputs": [
    {
     "name": "stdout",
     "output_type": "stream",
     "text": [
      "=================================================================================\n",
      "n_gen  |  n_eval  |     cv_min    |     cv_avg    |     f_avg     |     f_min    \n",
      "=================================================================================\n",
      "     1 |      100 |  0.1231220684 |  3.749666E+01 |             - |             -\n",
      "     2 |      200 |  0.1231220684 |  1.372719E+01 |             - |             -\n",
      "     3 |      300 |  0.1231220684 |  7.4636389482 |             - |             -\n",
      "     4 |      400 |  0.1140847452 |  3.8834761885 |             - |             -\n",
      "     5 |      500 |  0.0013370196 |  1.9472008873 |             - |             -\n",
      "     6 |      600 |  0.0013370196 |  1.2868988746 |             - |             -\n",
      "     7 |      700 |  0.0013370196 |  0.8386537792 |             - |             -\n",
      "     8 |      800 |  0.0013370196 |  0.5892792720 |             - |             -\n",
      "     9 |      900 |  0.0013370196 |  0.4554472989 |             - |             -\n",
      "    10 |     1000 |  0.0013370196 |  0.3524700515 |             - |             -\n",
      "    11 |     1100 |  0.0013370196 |  0.3067622629 |             - |             -\n",
      "    12 |     1200 |  0.0013370196 |  0.2776789880 |             - |             -\n",
      "    13 |     1300 |  0.0013370196 |  0.2417829640 |             - |             -\n",
      "    14 |     1400 |  0.0013370196 |  0.2027005317 |             - |             -\n",
      "    15 |     1500 |  0.0006274502 |  0.1805697750 |             - |             -\n",
      "    16 |     1600 |  0.0006274502 |  0.1476300866 |             - |             -\n",
      "    17 |     1700 |  0.0006274502 |  0.1245329362 |             - |             -\n",
      "    18 |     1800 |  0.0006274502 |  0.1077293471 |             - |             -\n",
      "    19 |     1900 |  0.0006274502 |  0.0871056946 |             - |             -\n",
      "    20 |     2000 |  0.0006274502 |  0.0683942980 |             - |             -\n",
      "    21 |     2100 |  0.0006274502 |  0.0563529119 |             - |             -\n",
      "    22 |     2200 |  0.0006274502 |  0.0418947752 |             - |             -\n",
      "    23 |     2300 |  0.0006274502 |  0.0358707376 |             - |             -\n",
      "    24 |     2400 |  0.0006274502 |  0.0283863767 |             - |             -\n",
      "    25 |     2500 |  0.0006274502 |  0.0241475194 |             - |             -\n",
      "    26 |     2600 |  0.0006274502 |  0.0202002753 |             - |             -\n",
      "    27 |     2700 |  0.0004027170 |  0.0172127536 |             - |             -\n",
      "    28 |     2800 |  0.0004027170 |  0.0135488035 |             - |             -\n",
      "    29 |     2900 |  0.0004027170 |  0.0116838522 |             - |             -\n",
      "    30 |     3000 |  0.0004027170 |  0.0107180775 |             - |             -\n",
      "    31 |     3100 |  0.0004027170 |  0.0091378719 |             - |             -\n",
      "    32 |     3200 |  0.0004027170 |  0.0078849989 |             - |             -\n",
      "    33 |     3300 |  0.0001902997 |  0.0058518658 |             - |             -\n",
      "    34 |     3400 |  0.0001902997 |  0.0045590577 |             - |             -\n",
      "    35 |     3500 |  0.0001902997 |  0.0038744516 |             - |             -\n",
      "    36 |     3600 |  0.000000E+00 |  0.0030031771 |  2.542000E+05 |  2.542000E+05\n",
      "    37 |     3700 |  0.000000E+00 |  0.0022647613 |  2.542000E+05 |  2.542000E+05\n",
      "    38 |     3800 |  0.000000E+00 |  0.0019524017 |  2.542000E+05 |  2.542000E+05\n",
      "    39 |     3900 |  0.000000E+00 |  0.0017887236 |  2.542000E+05 |  2.542000E+05\n",
      "    40 |     4000 |  0.000000E+00 |  0.0013464929 |  2.542000E+05 |  2.542000E+05\n",
      "    41 |     4100 |  0.000000E+00 |  0.0010666595 |  2.542000E+05 |  2.542000E+05\n",
      "    42 |     4200 |  0.000000E+00 |  0.0008710224 |  2.542000E+05 |  2.542000E+05\n",
      "    43 |     4300 |  0.000000E+00 |  0.0006234087 |  2.542000E+05 |  2.542000E+05\n",
      "    44 |     4400 |  0.000000E+00 |  0.0005179166 |  2.542000E+05 |  2.542000E+05\n",
      "    45 |     4500 |  0.000000E+00 |  0.0004037994 |  2.542000E+05 |  2.542000E+05\n",
      "    46 |     4600 |  0.000000E+00 |  0.0002977992 |  2.542000E+05 |  2.542000E+05\n",
      "    47 |     4700 |  0.000000E+00 |  0.0002481916 |  2.542000E+05 |  2.542000E+05\n",
      "    48 |     4800 |  0.000000E+00 |  0.0002027164 |  2.542000E+05 |  2.542000E+05\n",
      "    49 |     4900 |  0.000000E+00 |  0.0001619635 |  2.542000E+05 |  2.542000E+05\n",
      "    50 |     5000 |  0.000000E+00 |  0.0001420189 |  2.542000E+05 |  2.542000E+05\n",
      "    51 |     5100 |  0.000000E+00 |  0.0001062782 |  2.542000E+05 |  2.542000E+05\n",
      "    52 |     5200 |  0.000000E+00 |  0.0000858223 |  2.542000E+05 |  2.542000E+05\n",
      "    53 |     5300 |  0.000000E+00 |  0.0000682632 |  2.542000E+05 |  2.542000E+05\n",
      "    54 |     5400 |  0.000000E+00 |  0.0000518480 |  2.542000E+05 |  2.542000E+05\n",
      "    55 |     5500 |  0.000000E+00 |  0.0000233852 |  2.542000E+05 |  2.542000E+05\n",
      "    56 |     5600 |  0.000000E+00 |  8.811715E-06 |  2.542000E+05 |  2.542000E+05\n",
      "    57 |     5700 |  0.000000E+00 |  1.131904E-06 |  2.542000E+05 |  2.542000E+05\n",
      "    58 |     5800 |  0.000000E+00 |  0.000000E+00 |  2.542000E+05 |  2.542000E+05\n",
      "    59 |     5900 |  0.000000E+00 |  0.000000E+00 |  2.542000E+05 |  2.542000E+05\n",
      "    60 |     6000 |  0.000000E+00 |  0.000000E+00 |  2.542000E+05 |  2.542000E+05\n",
      "    61 |     6100 |  0.000000E+00 |  0.000000E+00 |  2.542000E+05 |  2.542000E+05\n",
      "    62 |     6200 |  0.000000E+00 |  0.000000E+00 |  2.542000E+05 |  2.542000E+05\n",
      "    63 |     6300 |  0.000000E+00 |  0.000000E+00 |  2.542000E+05 |  2.542000E+05\n",
      "    64 |     6400 |  0.000000E+00 |  0.000000E+00 |  2.542000E+05 |  2.542000E+05\n",
      "    65 |     6500 |  0.000000E+00 |  0.000000E+00 |  2.542000E+05 |  2.542000E+05\n",
      "    66 |     6600 |  0.000000E+00 |  0.000000E+00 |  2.542000E+05 |  2.542000E+05\n"
     ]
    }
   ],
   "execution_count": 165
  },
  {
   "metadata": {
    "ExecuteTime": {
     "end_time": "2024-07-04T20:16:16.296953Z",
     "start_time": "2024-07-04T20:16:16.281550Z"
    }
   },
   "cell_type": "code",
   "source": "res.X",
   "outputs": [
    {
     "data": {
      "text/plain": [
       "array([45.15314918, 34.76151805,  0.08525385])"
      ]
     },
     "execution_count": 166,
     "metadata": {},
     "output_type": "execute_result"
    }
   ],
   "execution_count": 166
  }
 ]
}
