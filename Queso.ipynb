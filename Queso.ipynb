{
 "cells": [
  {
   "cell_type": "code",
   "metadata": {
    "id": "sLLmzB6qJwiG",
    "ExecuteTime": {
     "end_time": "2024-08-08T17:48:30.823555Z",
     "start_time": "2024-08-08T17:48:29.924397Z"
    }
   },
   "source": [
    "import numpy as np\n",
    "import pandas as pd"
   ],
   "outputs": [],
   "execution_count": 1
  },
  {
   "metadata": {},
   "cell_type": "markdown",
   "source": [
    "### Parámetros de entrada\n",
    "Información que obtiene el modelo del sistema de información"
   ]
  },
  {
   "cell_type": "code",
   "metadata": {
    "ExecuteTime": {
     "end_time": "2024-08-08T17:48:31.345935Z",
     "start_time": "2024-08-08T17:48:30.824558Z"
    }
   },
   "source": [
    "# Demanda\n",
    "DEMANDA = 60\n",
    "# Costo por unidad de tiempo\n",
    "CTIEMPO = 100\n",
    "# Tiempo máximo definido\n",
    "T_MAX = 360\n",
    "\n",
    "# Parámetros de entrada\n",
    "params_df = pd.read_excel('./data/' + 'nuevo_info_acopios.xlsx')\n",
    "\n",
    "# Matriz de costos de transporte\n",
    "costo_df = pd.read_excel('./data/' + 'costoTransporteCAi.xlsx', index_col=0)\n",
    "\n",
    "# Matriz de tiempo de transporte\n",
    "tiempo_df = pd.read_excel('./data/' + 'tiempoTransporteCAi.xlsx', index_col=0)"
   ],
   "outputs": [],
   "execution_count": 2
  },
  {
   "metadata": {},
   "cell_type": "markdown",
   "source": [
    "### Variables\n",
    "Definición de variables para el modelo de optimización"
   ]
  },
  {
   "cell_type": "code",
   "metadata": {
    "ExecuteTime": {
     "end_time": "2024-08-08T17:48:31.356913Z",
     "start_time": "2024-08-08T17:48:31.346935Z"
    }
   },
   "source": [
    "N = params_df.shape[0]\n",
    "capacidades = np.empty(N * 2, dtype=float)\n",
    "\n",
    "for cap_i in range(0, N * 2, 2):\n",
    "    capacidades[cap_i] = params_df['Stock'].iloc[cap_i // 2]\n",
    "    capacidades[cap_i + 1] = params_df['Ppotencial'].iloc[cap_i // 2]\n",
    "    \n",
    "capacidades"
   ],
   "outputs": [
    {
     "data": {
      "text/plain": [
       "array([10.   ,  0.5  , 12.   ,  0.625,  4.   , 14.   ,  8.   , 13.   ,\n",
       "       18.   , 15.   ,  6.   , 14.   , 12.   , 13.   ,  2.   , 12.5  ,\n",
       "       30.   , 15.   , 15.   , 18.   ])"
      ]
     },
     "execution_count": 3,
     "metadata": {},
     "output_type": "execute_result"
    }
   ],
   "execution_count": 3
  },
  {
   "metadata": {},
   "cell_type": "markdown",
   "source": [
    "# Función objetivo\n",
    "$$\n",
    "\\begin{align*}\n",
    "    \\sum_{i=1 \\quad i\\neq p}^{N} &\\big[ \\, kCA_i \\times Precio(CA_i) + kCA_i \\times cTransp(CA_i) + Tiempo(CA_i) \\times cTiempo \\, \\big] \\, + \\\\\n",
    "                                 &\\big[ \\, kCA_p \\times Precio(CA_p) + Demanda \\times cTransp(CA_p) + Tiempo(CA_p) \\times cTiempo \\, \\big]\n",
    "\\end{align*}\n",
    "$$"
   ]
  },
  {
   "metadata": {
    "ExecuteTime": {
     "end_time": "2024-08-08T17:48:31.371843Z",
     "start_time": "2024-08-08T17:48:31.357914Z"
    }
   },
   "cell_type": "code",
   "source": [
    "def f(x, idx_principal=0):\n",
    "    delta = 0\n",
    "    \n",
    "    for i in range(0, N*2, 2):\n",
    "        idx_acopio = i // 2\n",
    "\n",
    "        if i == idx_principal or (x[i] == 0 and x[i+1] == 0):\n",
    "            continue\n",
    "            \n",
    "        delta += get_delta(x, idx_acopio, idx_principal)\n",
    "\n",
    "    delta += get_delta(x, idx_principal)\n",
    "    \n",
    "    return delta\n",
    "\n",
    "def get_delta(x, idx_acopio, idx_principal=-1):\n",
    "    kca = x[idx_acopio] + x[idx_acopio + 1]\n",
    "    precio = params_df['Precio'].iloc[idx_acopio]\n",
    "    talistam = params_df['TiempoAlistam'].iloc[idx_acopio]\n",
    "\n",
    "    # Si es el centro de acopio principal (idx=-1)\n",
    "    if idx_principal < 0:\n",
    "        ctransp = params_df['Ctransp'].iloc[idx_acopio]\n",
    "        ttransp = params_df['TiempoTransp'].iloc[idx_acopio]\n",
    "        tiempo = talistam + ttransp\n",
    "        \n",
    "        return (kca * precio) + (DEMANDA * ctransp) + (tiempo * CTIEMPO)\n",
    "    else:\n",
    "        ctransp = costo_df.iloc[idx_acopio, idx_principal]\n",
    "        ttransp = tiempo_df.iloc[idx_acopio, idx_principal]\n",
    "        tiempo = talistam + ttransp\n",
    "        \n",
    "        return (kca * precio) + (kca * ctransp) + (tiempo * CTIEMPO)\n",
    "\n",
    "\n",
    "# f((0, 0, 0, 0, 4, 0, 8, 0, 18, 0, 0, 0, 0, 0, 0, 0, 0, 0, 0, 0))"
   ],
   "outputs": [],
   "execution_count": 4
  },
  {
   "metadata": {},
   "cell_type": "markdown",
   "source": [
    "Sujeta a las restricciones:\n",
    "$$\n",
    "\\begin{align*}\n",
    "    \\sum_{i=0}^{N} kCA_i &= Demanda \\\\\n",
    "    kCA_i &\\leq Stock(CA_i) + Ppotencial(CA_i) &\\therefore \\, i=0,\\cdots ,N \\\\\n",
    "    TiempoAlistam(CA_i) &\\leq TiempoMaxDefinido &\\therefore \\, i=0,\\cdots ,N \\\\\n",
    "    Tiempo(CA_i) &= TiempoAlistam(CA_i) + TiempoTransp(CA_i) \\\\\n",
    "\\end{align*}\n",
    "$$"
   ]
  },
  {
   "cell_type": "markdown",
   "metadata": {},
   "source": [
    "## scipy"
   ]
  },
  {
   "cell_type": "code",
   "metadata": {
    "ExecuteTime": {
     "end_time": "2024-08-08T17:48:31.381784Z",
     "start_time": "2024-08-08T17:48:31.372845Z"
    }
   },
   "source": [
    "# c = tuple(idx for (_, idx) in bounds)\n",
    "# Aeq = np.ones((1, len(c)))\n",
    "# beq = 1"
   ],
   "outputs": [],
   "execution_count": 5
  },
  {
   "cell_type": "code",
   "metadata": {
    "ExecuteTime": {
     "end_time": "2024-08-08T17:48:31.391684Z",
     "start_time": "2024-08-08T17:48:31.384780Z"
    }
   },
   "source": [
    "# from scipy.optimize import linprog\n",
    "# # from scipy.optimize import differential_evolution\n",
    "# \n",
    "# result = linprog(\n",
    "#     c,\n",
    "#     A_ub=Aeq,\n",
    "#     b_ub=beq,\n",
    "#     bounds=bounds,\n",
    "#     method='highs',\n",
    "#     integrality=1\n",
    "# )\n",
    "# print(result)"
   ],
   "outputs": [],
   "execution_count": 6
  },
  {
   "metadata": {},
   "cell_type": "markdown",
   "source": "## pymoo"
  },
  {
   "metadata": {},
   "cell_type": "markdown",
   "source": [
    "Iterar el modelo n veces según centros de acopio haya. La idea es asumir en cada iteración que el cacopio principal sea cada uno, desde i=0 hasta n.\n",
    "\n",
    "Se evalúa el modelo tomando cada centro de acopio como el principal, y la ejecución da resultados para cada uno, luego de todas las soluciones se toma la mejor solución.\n",
    "\n",
    "**Costo a optimizar: 1.981.725** "
   ]
  },
  {
   "cell_type": "code",
   "metadata": {
    "ExecuteTime": {
     "end_time": "2024-08-08T17:48:31.470283Z",
     "start_time": "2024-08-08T17:48:31.392687Z"
    }
   },
   "source": [
    "from pymoo.core.problem import ElementwiseProblem\n",
    "\n",
    "xl = np.zeros(N*2)\n",
    "xu = capacidades\n",
    "\n",
    "class Queso(ElementwiseProblem):\n",
    "    def __init__(self):\n",
    "        super().__init__(\n",
    "            n_var=len(xl),\n",
    "            n_obj=1,\n",
    "            n_eq_constr=1,\n",
    "            # n_ieq_constr=1,\n",
    "            xl=xl,\n",
    "            xu=xu\n",
    "        )\n",
    "        \n",
    "    def _evaluate(self, x, out, *args, **kwargs):\n",
    "        out['F'] = f(x)\n",
    "        out['H'] = DEMANDA - np.sum(x)"
   ],
   "outputs": [],
   "execution_count": 7
  },
  {
   "cell_type": "code",
   "metadata": {
    "ExecuteTime": {
     "end_time": "2024-08-08T17:48:34.350059Z",
     "start_time": "2024-08-08T17:48:31.471283Z"
    }
   },
   "source": [
    "from pymoo.algorithms.soo.nonconvex.ga import GA\n",
    "from pymoo.optimize import minimize\n",
    "from pymoo.operators.sampling.rnd import IntegerRandomSampling\n",
    "from pymoo.operators.crossover.sbx import SBX\n",
    "from pymoo.operators.mutation.pm import PM\n",
    "from pymoo.operators.repair.rounding import RoundingRepair\n",
    "\n",
    "model = Queso()\n",
    "\n",
    "algorithm = GA(\n",
    "    # pop_size=200,\n",
    "    sampling=IntegerRandomSampling(),\n",
    "    crossover=SBX(prob=1.0, eta=3.0, vtype=float, repair=RoundingRepair()),\n",
    "    mutation=PM(prob=1.0, eta=3.0, vtype=float, repair=RoundingRepair()),\n",
    "    eliminate_duplicates=True\n",
    ")\n",
    "\n",
    "res = minimize(model,\n",
    "               algorithm,\n",
    "               # termination,\n",
    "               seed=1,\n",
    "               verbose=False)\n",
    "\n",
    "print(f'F: {res.F}, \\nX: {res.X}')"
   ],
   "outputs": [
    {
     "name": "stdout",
     "output_type": "stream",
     "text": [
      "\n",
      "Compiled modules for significant speedup can not be used!\n",
      "https://pymoo.org/installation.html#installation\n",
      "\n",
      "To disable this warning:\n",
      "from pymoo.config import Config\n",
      "Config.warnings['not_compiled'] = False\n",
      "\n",
      "F: [2029383.], \n",
      "X: [ 1  0  2  0  0  0  2  3  0  2  1 12  8  3  0  6  5  0 14  1]\n"
     ]
    }
   ],
   "execution_count": 8
  },
  {
   "metadata": {
    "ExecuteTime": {
     "end_time": "2024-08-08T17:48:34.356469Z",
     "start_time": "2024-08-08T17:48:34.351058Z"
    }
   },
   "cell_type": "code",
   "source": [
    "# Alterar elementos en un individuo, esto puede usarse para mutación en GA y SA\n",
    "\n",
    "# Valores en cero\n",
    "def alter_lower(single, idx_mut, capacidades):\n",
    "    delta = capacidades[idx_mut]\n",
    "    ca = list(np.nonzero(single)[0])\n",
    "    idx = -1\n",
    "    \n",
    "    single[idx_mut] = delta\n",
    "    \n",
    "    while np.sum(single) != DEMANDA:\n",
    "        if len(ca) > 0:\n",
    "            idx = random.choice(ca)\n",
    "            ca.remove(idx)\n",
    "        \n",
    "        if single[idx] - delta >= 0:\n",
    "            single[idx] -= delta\n",
    "        else:\n",
    "            delta -= single[idx]\n",
    "            single[idx] = 0\n",
    "            \n",
    "\n",
    "# Valores no cero\n",
    "def alter_upper(single, idx_mut, capacidades):\n",
    "    delta = single[idx_mut]\n",
    "    ca = list(np.where(single == 0)[0])\n",
    "    idx = -1\n",
    "    \n",
    "    single[idx_mut] = 0\n",
    "    \n",
    "    while np.sum(single) < DEMANDA:\n",
    "        if len(ca) > 0:\n",
    "            idx = random.choice(ca)\n",
    "            ca.remove(idx)\n",
    "        \n",
    "        if capacidades[idx] == single[idx]:\n",
    "            continue\n",
    "        \n",
    "        if single[idx] + delta > capacidades[idx]:\n",
    "            delta -= capacidades[idx] - single[idx]\n",
    "            single[idx] = capacidades[idx]\n",
    "        else:\n",
    "            single[idx] += delta\n",
    "            delta = 0"
   ],
   "outputs": [],
   "execution_count": 9
  },
  {
   "metadata": {},
   "cell_type": "markdown",
   "source": [
    "## Generación \n",
    "De nuevas posibles soluciones"
   ]
  },
  {
   "metadata": {
    "ExecuteTime": {
     "end_time": "2024-08-08T17:48:34.368342Z",
     "start_time": "2024-08-08T17:48:34.358468Z"
    }
   },
   "cell_type": "code",
   "source": [
    "from pymoo.core.sampling import Sampling\n",
    "import random\n",
    "\n",
    "class TopOrZeroSampling(Sampling):\n",
    "    def _do(self, problem, n_samples, **kwargs):\n",
    "        vec = np.zeros(problem.n_var, dtype=float)\n",
    "        \n",
    "        while np.sum(vec) < DEMANDA:\n",
    "            idx = np.random.randint(problem.n_var)\n",
    "            vec[idx] += random.choice((0, capacidades[idx]))\n",
    "            \n",
    "            if np.sum(vec) > DEMANDA:\n",
    "                vec[idx] = vec[idx] - (np.sum(vec) - DEMANDA)\n",
    "                \n",
    "        return [vec,]"
   ],
   "outputs": [],
   "execution_count": 10
  },
  {
   "metadata": {},
   "cell_type": "markdown",
   "source": [
    "## Cruce\n",
    "1. Tomar dos individuos aleatorios como padres\n",
    "2. Utilizar un índice separador (la mitad)\n",
    "3. Crear un nuevo individuo, para "
   ]
  },
  {
   "metadata": {
    "ExecuteTime": {
     "end_time": "2024-08-08T17:48:34.379896Z",
     "start_time": "2024-08-08T17:48:34.370339Z"
    }
   },
   "cell_type": "code",
   "source": [
    "from pymoo.core.crossover import Crossover\n",
    "\n",
    "\n",
    "        "
   ],
   "outputs": [],
   "execution_count": 11
  },
  {
   "metadata": {},
   "cell_type": "markdown",
   "source": [
    "## Mutación\n",
    "1. Tomar un índice (cacopio) aleatorio\n",
    "2. **Si es cero:**\n",
    "3. Cambiar a la cantidad máxima de la capacidad del centro de acopio\n",
    "4. La cantidad que se asignó, restarla a lo largo de los demás centros de acopio para mantener la restricción de igualdad\n",
    "5. **Sino:**\n",
    "6. Cambiar a cero\n",
    "7. La cantidad que se eliminó, sumarla en los demás centros de acopio para mantener la restricción de igualdad"
   ]
  },
  {
   "metadata": {
    "ExecuteTime": {
     "end_time": "2024-08-08T17:48:34.391480Z",
     "start_time": "2024-08-08T17:48:34.380898Z"
    }
   },
   "cell_type": "code",
   "source": [
    "from pymoo.core.mutation import Mutation\n",
    "\n",
    "class Mut(Mutation):\n",
    "    def __init__(self):\n",
    "        super().__init__()\n",
    "\n",
    "    def _do(self, problem, X, **kwargs):\n",
    "        for i in range(len(X)):\n",
    "            r = np.random.random()\n",
    "\n",
    "            if r < 0.4:\n",
    "                idx_mut = np.random.randint(X.shape[1])\n",
    "\n",
    "                if X[i][idx_mut] == 0:\n",
    "                    alter_lower(X[i], idx_mut, capacidades)\n",
    "\n",
    "                else:\n",
    "                    alter_upper(X[i], idx_mut, capacidades)\n",
    "        return X\n"
   ],
   "outputs": [],
   "execution_count": 12
  },
  {
   "metadata": {
    "ExecuteTime": {
     "end_time": "2024-08-08T19:24:09.195511Z",
     "start_time": "2024-08-08T19:24:09.072613Z"
    }
   },
   "cell_type": "code",
   "source": [
    "class Cross(Crossover):\n",
    "    def __init__(self):\n",
    "        # Parents, Offspring\n",
    "        super().__init__(2, 1)\n",
    "\n",
    "    def _do(self, problem, X, **kwargs):\n",
    "        # n_parents, n_matings, n_var\n",
    "        _, n_matings, n_var = X.shape\n",
    "        \n",
    "        Y = np.zeros((1, n_matings, n_var))\n",
    "        \n",
    "        for idx in range(n_matings):\n",
    "            p1 = X[0, idx, : n_var//2]\n",
    "            p2 = X[1, idx, n_var//2 : n_var]\n",
    "            child = np.concatenate((p1, p2))\n",
    "            Y[0, idx, :] = child\n",
    "            \n",
    "        return Y\n",
    "\n",
    "algorithm = GA(\n",
    "    pop_size=3,\n",
    "    sampling=TopOrZeroSampling(),\n",
    "    crossover=Cross(),\n",
    "    # mutation=Mut(),\n",
    "    eliminate_duplicates=True\n",
    ")\n",
    "\n",
    "res = minimize(model,\n",
    "               algorithm,\n",
    "               seed=1,\n",
    "               verbose=True)\n",
    "\n",
    "print(f'F: {res.F}, \\nX: {res.X}')"
   ],
   "outputs": [
    {
     "name": "stdout",
     "output_type": "stream",
     "text": [
      "=================================================================================\n",
      "n_gen  |  n_eval  |     cv_min    |     cv_avg    |     f_avg     |     f_min    \n",
      "=================================================================================\n",
      "     1 |        1 |  0.000000E+00 |  0.000000E+00 |  3.157650E+06 |  3.157650E+06\n",
      "     2 |        4 |  0.000000E+00 |  0.3305861576 |  3.157650E+06 |  3.157650E+06\n",
      "     3 |        7 |  0.000000E+00 |  0.2052635391 |  3.157650E+06 |  3.157650E+06\n",
      "     4 |       10 |  0.000000E+00 |  0.0936174631 |  3.157650E+06 |  3.157650E+06\n",
      "     5 |       13 |  0.000000E+00 |  0.0299106396 |  3.157650E+06 |  3.157650E+06\n",
      "     6 |       16 |  0.000000E+00 |  0.0299106396 |  3.157650E+06 |  3.157650E+06\n",
      "     7 |       19 |  0.000000E+00 |  0.0176448643 |  3.157650E+06 |  3.157650E+06\n",
      "     8 |       22 |  0.000000E+00 |  0.0176448643 |  3.157650E+06 |  3.157650E+06\n",
      "     9 |       25 |  0.000000E+00 |  0.0176448643 |  3.157650E+06 |  3.157650E+06\n",
      "    10 |       28 |  0.000000E+00 |  0.0176448643 |  3.157650E+06 |  3.157650E+06\n",
      "    11 |       31 |  0.000000E+00 |  0.0093242757 |  3.157650E+06 |  3.157650E+06\n",
      "    12 |       34 |  0.000000E+00 |  0.0093242757 |  3.157650E+06 |  3.157650E+06\n",
      "    13 |       37 |  0.000000E+00 |  0.0093242757 |  3.157650E+06 |  3.157650E+06\n",
      "    14 |       40 |  0.000000E+00 |  0.0093242757 |  3.157650E+06 |  3.157650E+06\n",
      "    15 |       43 |  0.000000E+00 |  0.0037813772 |  3.157650E+06 |  3.157650E+06\n",
      "    16 |       46 |  0.000000E+00 |  0.0037813772 |  3.157650E+06 |  3.157650E+06\n",
      "    17 |       49 |  0.000000E+00 |  0.0037813772 |  3.157650E+06 |  3.157650E+06\n",
      "    18 |       52 |  0.000000E+00 |  0.0037813772 |  3.157650E+06 |  3.157650E+06\n",
      "    19 |       55 |  0.000000E+00 |  0.0037813772 |  3.157650E+06 |  3.157650E+06\n",
      "    20 |       58 |  0.000000E+00 |  0.0037813772 |  3.157650E+06 |  3.157650E+06\n",
      "    21 |       61 |  0.000000E+00 |  0.0037813772 |  3.157650E+06 |  3.157650E+06\n",
      "    22 |       64 |  0.000000E+00 |  0.0037813772 |  3.157650E+06 |  3.157650E+06\n",
      "    23 |       67 |  0.000000E+00 |  0.0037813772 |  3.157650E+06 |  3.157650E+06\n",
      "    24 |       70 |  0.000000E+00 |  0.0019419681 |  3.157650E+06 |  3.157650E+06\n",
      "    25 |       73 |  0.000000E+00 |  0.0019419681 |  3.157650E+06 |  3.157650E+06\n",
      "    26 |       76 |  0.000000E+00 |  0.0019419681 |  3.157650E+06 |  3.157650E+06\n",
      "    27 |       79 |  0.000000E+00 |  0.0019419681 |  3.157650E+06 |  3.157650E+06\n",
      "    28 |       82 |  0.000000E+00 |  0.0019419681 |  3.157650E+06 |  3.157650E+06\n",
      "    29 |       85 |  0.000000E+00 |  0.0019419681 |  3.157650E+06 |  3.157650E+06\n",
      "    30 |       88 |  0.000000E+00 |  0.0018353611 |  3.157650E+06 |  3.157650E+06\n",
      "    31 |       91 |  0.000000E+00 |  0.0018353611 |  3.157650E+06 |  3.157650E+06\n",
      "F: [3157650.], \n",
      "X: [ 0.  0.  0.  0.  0. 14.  0.  0.  0. 15.  0. 14. 12.  0.  0.  5.  0.  0.\n",
      "  0.  0.]\n"
     ]
    }
   ],
   "execution_count": 27
  },
  {
   "metadata": {},
   "cell_type": "code",
   "source": "",
   "outputs": [],
   "execution_count": null
  }
 ],
 "metadata": {
  "colab": {
   "provenance": []
  },
  "kernelspec": {
   "display_name": "Python 3 (ipykernel)",
   "language": "python",
   "name": "python3"
  },
  "language_info": {
   "codemirror_mode": {
    "name": "ipython",
    "version": 3
   },
   "file_extension": ".py",
   "mimetype": "text/x-python",
   "name": "python",
   "nbconvert_exporter": "python",
   "pygments_lexer": "ipython3",
   "version": "3.11.7"
  }
 },
 "nbformat": 4,
 "nbformat_minor": 4
}
