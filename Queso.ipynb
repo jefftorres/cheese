{
 "cells": [
  {
   "cell_type": "code",
   "metadata": {
    "id": "sLLmzB6qJwiG",
    "ExecuteTime": {
     "end_time": "2024-10-04T18:01:28.011106Z",
     "start_time": "2024-10-04T18:01:26.229569Z"
    }
   },
   "source": [
    "import numpy as np\n",
    "import pandas as pd\n",
    "\n",
    "# %pip install -U pymoo"
   ],
   "outputs": [],
   "execution_count": 1
  },
  {
   "metadata": {},
   "cell_type": "markdown",
   "source": [
    "### Parámetros de entrada\n",
    "Información que obtiene el modelo del sistema de información"
   ]
  },
  {
   "metadata": {
    "ExecuteTime": {
     "end_time": "2024-10-04T18:01:28.362744Z",
     "start_time": "2024-10-04T18:01:28.011106Z"
    }
   },
   "cell_type": "code",
   "source": [
    "# Demanda\n",
    "DEMANDA = 60\n",
    "# Costo por unidad de tiempo\n",
    "CTIEMPO = 100\n",
    "# Tiempo máximo definido\n",
    "T_MAX = 360\n",
    "\n",
    "# Parámetros de entrada\n",
    "params_df = pd.read_excel('./data/' + 'nuevo_info_acopios.xlsx')\n",
    "\n",
    "# Matriz de costos de transporte\n",
    "trans_cost_df = pd.read_excel('./data/' + 'costoTransporteCAi.xlsx', index_col=0)\n",
    "\n",
    "# Matriz de tiempo de transporte\n",
    "trans_time_df = pd.read_excel('./data/' + 'tiempoTransporteCAi.xlsx', index_col=0)"
   ],
   "outputs": [],
   "execution_count": 2
  },
  {
   "metadata": {},
   "cell_type": "markdown",
   "source": [
    "### Variables\n",
    "Definición de variables para el modelo de optimización"
   ]
  },
  {
   "metadata": {
    "ExecuteTime": {
     "end_time": "2024-10-04T18:01:28.372530Z",
     "start_time": "2024-10-04T18:01:28.362744Z"
    }
   },
   "cell_type": "code",
   "source": [
    "# Número de centros de acopio\n",
    "N = params_df.shape[0]\n",
    "# Capacidades en stock y potencial por centro de acopio\n",
    "CAPACIDADES = np.empty(N*2, dtype=float)\n",
    "\n",
    "for cap_i in range(0, N*2, 2):\n",
    "    CAPACIDADES[cap_i] = params_df['Stock'].iloc[cap_i//2]\n",
    "    CAPACIDADES[cap_i+1] = params_df['Ppotencial'].iloc[cap_i//2]\n",
    "    \n",
    "CAPACIDADES = np.append(CAPACIDADES, N-1)\n",
    "CAPACIDADES"
   ],
   "outputs": [
    {
     "data": {
      "text/plain": [
       "array([10.   ,  0.5  , 12.   ,  0.625,  4.   , 14.   ,  8.   , 13.   ,\n",
       "       18.   , 15.   ,  6.   , 14.   , 12.   , 13.   ,  2.   , 12.5  ,\n",
       "       30.   , 15.   , 15.   , 18.   ,  9.   ])"
      ]
     },
     "execution_count": 3,
     "metadata": {},
     "output_type": "execute_result"
    }
   ],
   "execution_count": 3
  },
  {
   "metadata": {},
   "cell_type": "markdown",
   "source": [
    "# Función objetivo\n",
    "$$\n",
    "\\begin{align*}\n",
    "    \\sum_{i=1 \\quad i\\neq p}^{N} &\\big[ \\, kCA_i \\times Precio(CA_i) + cTransp(CA_i) + Tiempo(CA_i) \\times cTiempo \\, \\big] \\, + \\\\\n",
    "                                 &\\big[ \\, kCA_p \\times Precio(CA_p) + cTransp(CA_p) + Tiempo(CA_p) \\times cTiempo \\, \\big]\n",
    "\\end{align*}\n",
    "$$"
   ]
  },
  {
   "metadata": {
    "ExecuteTime": {
     "end_time": "2024-10-04T18:27:08.888845Z",
     "start_time": "2024-10-04T18:20:31.307498Z"
    }
   },
   "cell_type": "code",
   "source": [
    "def f(x):\n",
    "    delta = 0\n",
    "    idx_principal = int(x[N*2])\n",
    "\n",
    "    for i in range(0, N*2, 2):\n",
    "        idx_acopio = i//2\n",
    "\n",
    "        if idx_acopio == idx_principal or (x[i] == 0 and x[i+1] == 0):\n",
    "            continue\n",
    "        # Sumas con kCAi\n",
    "        delta += get_delta(x, idx_acopio, idx_principal)\n",
    "    # Única suma de kCAp\n",
    "    delta += get_delta(x, idx_principal)\n",
    "\n",
    "    return delta\n",
    "\n",
    "def get_delta(x, idx_acopio, idx_principal=-1):\n",
    "    kca = x[idx_acopio] + x[idx_acopio + 1]\n",
    "    precio = params_df['Precio'].iloc[idx_acopio]\n",
    "    talistam = 0\n",
    "    \n",
    "    if x[idx_acopio + 1]:\n",
    "        talistam = params_df['TiempoAlistam'].iloc[idx_acopio]\n",
    "\n",
    "    ' Si es el centro de acopio principal (idx_principal=-1) '\n",
    "    if idx_principal < 0:\n",
    "        ctransp = params_df['Ctransp'].iloc[idx_acopio]\n",
    "        ttransp = params_df['TiempoTransp'].iloc[idx_acopio]\n",
    "        tiempo = talistam + ttransp\n",
    "        \n",
    "        return (kca * precio) + ctransp + (tiempo * CTIEMPO)\n",
    "    return 0\n",
    "    # else:\n",
    "    #     ctransp = trans_cost_df.iloc[idx_acopio, idx_principal]\n",
    "    #     ttransp = trans_time_df.iloc[idx_acopio, idx_principal]\n",
    "    #     tiempo = talistam + ttransp\n",
    "    #     \n",
    "    #     return (kca * precio) + (kca * ctransp) + (tiempo * CTIEMPO)\n",
    "  \n",
    "# Mejor solución encontrada con el dataset proporcionado para pruebas.\n",
    "# Se eliminará cuando se hagan pruebas con otros datasets.\n",
    "test_arr = np.array([0, 0, 0, 0, 0, 0, 8, 7, 0, 0, 0, 0, 0, 0, 0, 0, 30, 15, 0, 0, 3])  \n",
    "print(f(test_arr))"
   ],
   "outputs": [
    {
     "ename": "KeyboardInterrupt",
     "evalue": "",
     "output_type": "error",
     "traceback": [
      "\u001B[1;31m---------------------------------------------------------------------------\u001B[0m",
      "\u001B[1;31mKeyboardInterrupt\u001B[0m                         Traceback (most recent call last)",
      "Cell \u001B[1;32mIn[31], line 43\u001B[0m\n\u001B[0;32m     33\u001B[0m     \u001B[38;5;66;03m# else:\u001B[39;00m\n\u001B[0;32m     34\u001B[0m     \u001B[38;5;66;03m#     ctransp = trans_cost_df.iloc[idx_acopio, idx_principal]\u001B[39;00m\n\u001B[0;32m     35\u001B[0m     \u001B[38;5;66;03m#     ttransp = trans_time_df.iloc[idx_acopio, idx_principal]\u001B[39;00m\n\u001B[1;32m   (...)\u001B[0m\n\u001B[0;32m     40\u001B[0m \u001B[38;5;66;03m# Mejor solución encontrada con el dataset proporcionado para pruebas.\u001B[39;00m\n\u001B[0;32m     41\u001B[0m \u001B[38;5;66;03m# Se eliminará cuando se hagan pruebas con otros datasets.\u001B[39;00m\n\u001B[0;32m     42\u001B[0m test_arr \u001B[38;5;241m=\u001B[39m np\u001B[38;5;241m.\u001B[39marray([\u001B[38;5;241m0\u001B[39m, \u001B[38;5;241m0\u001B[39m, \u001B[38;5;241m0\u001B[39m, \u001B[38;5;241m0\u001B[39m, \u001B[38;5;241m0\u001B[39m, \u001B[38;5;241m0\u001B[39m, \u001B[38;5;241m8\u001B[39m, \u001B[38;5;241m7\u001B[39m, \u001B[38;5;241m0\u001B[39m, \u001B[38;5;241m0\u001B[39m, \u001B[38;5;241m0\u001B[39m, \u001B[38;5;241m0\u001B[39m, \u001B[38;5;241m0\u001B[39m, \u001B[38;5;241m0\u001B[39m, \u001B[38;5;241m0\u001B[39m, \u001B[38;5;241m0\u001B[39m, \u001B[38;5;241m30\u001B[39m, \u001B[38;5;241m15\u001B[39m, \u001B[38;5;241m0\u001B[39m, \u001B[38;5;241m0\u001B[39m, \u001B[38;5;241m3\u001B[39m])  \n\u001B[1;32m---> 43\u001B[0m \u001B[38;5;28mprint\u001B[39m(f(test_arr))\n",
      "Cell \u001B[1;32mIn[31], line 13\u001B[0m, in \u001B[0;36mf\u001B[1;34m(x)\u001B[0m\n\u001B[0;32m     11\u001B[0m     delta \u001B[38;5;241m+\u001B[39m\u001B[38;5;241m=\u001B[39m get_delta(x, idx_acopio, idx_principal)\n\u001B[0;32m     12\u001B[0m \u001B[38;5;66;03m# Única suma de kCAp\u001B[39;00m\n\u001B[1;32m---> 13\u001B[0m delta \u001B[38;5;241m+\u001B[39m\u001B[38;5;241m=\u001B[39m get_delta(x, idx_principal)\n\u001B[0;32m     15\u001B[0m \u001B[38;5;28;01mreturn\u001B[39;00m delta\n",
      "Cell \u001B[1;32mIn[31], line 18\u001B[0m, in \u001B[0;36mget_delta\u001B[1;34m(x, idx_acopio, idx_principal)\u001B[0m\n\u001B[0;32m     17\u001B[0m \u001B[38;5;28;01mdef\u001B[39;00m \u001B[38;5;21mget_delta\u001B[39m(x, idx_acopio, idx_principal\u001B[38;5;241m=\u001B[39m\u001B[38;5;241m-\u001B[39m\u001B[38;5;241m1\u001B[39m):\n\u001B[1;32m---> 18\u001B[0m     kca \u001B[38;5;241m=\u001B[39m x[idx_acopio] \u001B[38;5;241m+\u001B[39m x[idx_acopio \u001B[38;5;241m+\u001B[39m \u001B[38;5;241m1\u001B[39m]\n\u001B[0;32m     19\u001B[0m     precio \u001B[38;5;241m=\u001B[39m params_df[\u001B[38;5;124m'\u001B[39m\u001B[38;5;124mPrecio\u001B[39m\u001B[38;5;124m'\u001B[39m]\u001B[38;5;241m.\u001B[39miloc[idx_acopio]\n\u001B[0;32m     20\u001B[0m     talistam \u001B[38;5;241m=\u001B[39m \u001B[38;5;241m0\u001B[39m\n",
      "File \u001B[1;32m_pydevd_bundle\\\\pydevd_cython_win32_312_64.pyx:1187\u001B[0m, in \u001B[0;36m_pydevd_bundle.pydevd_cython_win32_312_64.SafeCallWrapper.__call__\u001B[1;34m()\u001B[0m\n",
      "File \u001B[1;32m_pydevd_bundle\\\\pydevd_cython_win32_312_64.pyx:627\u001B[0m, in \u001B[0;36m_pydevd_bundle.pydevd_cython_win32_312_64.PyDBFrame.trace_dispatch\u001B[1;34m()\u001B[0m\n",
      "File \u001B[1;32m_pydevd_bundle\\\\pydevd_cython_win32_312_64.pyx:1103\u001B[0m, in \u001B[0;36m_pydevd_bundle.pydevd_cython_win32_312_64.PyDBFrame.trace_dispatch\u001B[1;34m()\u001B[0m\n",
      "File \u001B[1;32m_pydevd_bundle\\\\pydevd_cython_win32_312_64.pyx:1061\u001B[0m, in \u001B[0;36m_pydevd_bundle.pydevd_cython_win32_312_64.PyDBFrame.trace_dispatch\u001B[1;34m()\u001B[0m\n",
      "File \u001B[1;32mC:\\Program Files\\JetBrains\\DataSpell 2024.1.3\\plugins\\python-ce\\helpers-pro\\jupyter_debug\\pydev_jupyter_plugin.py:169\u001B[0m, in \u001B[0;36mstop\u001B[1;34m(plugin, pydb, frame, event, args, stop_info, arg, step_cmd)\u001B[0m\n\u001B[0;32m    167\u001B[0m     frame \u001B[38;5;241m=\u001B[39m suspend_jupyter(main_debugger, thread, frame, step_cmd)\n\u001B[0;32m    168\u001B[0m     \u001B[38;5;28;01mif\u001B[39;00m frame:\n\u001B[1;32m--> 169\u001B[0m         main_debugger\u001B[38;5;241m.\u001B[39mdo_wait_suspend(thread, frame, event, arg)\n\u001B[0;32m    170\u001B[0m         \u001B[38;5;28;01mreturn\u001B[39;00m \u001B[38;5;28;01mTrue\u001B[39;00m\n\u001B[0;32m    171\u001B[0m \u001B[38;5;28;01mreturn\u001B[39;00m \u001B[38;5;28;01mFalse\u001B[39;00m\n",
      "File \u001B[1;32mC:\\Program Files\\JetBrains\\DataSpell 2024.1.3\\plugins\\python-ce\\helpers\\pydev\\pydevd.py:1196\u001B[0m, in \u001B[0;36mPyDB.do_wait_suspend\u001B[1;34m(self, thread, frame, event, arg, send_suspend_message, is_unhandled_exception)\u001B[0m\n\u001B[0;32m   1193\u001B[0m         from_this_thread\u001B[38;5;241m.\u001B[39mappend(frame_id)\n\u001B[0;32m   1195\u001B[0m \u001B[38;5;28;01mwith\u001B[39;00m \u001B[38;5;28mself\u001B[39m\u001B[38;5;241m.\u001B[39m_threads_suspended_single_notification\u001B[38;5;241m.\u001B[39mnotify_thread_suspended(thread_id, stop_reason):\n\u001B[1;32m-> 1196\u001B[0m     \u001B[38;5;28mself\u001B[39m\u001B[38;5;241m.\u001B[39m_do_wait_suspend(thread, frame, event, arg, suspend_type, from_this_thread)\n",
      "File \u001B[1;32mC:\\Program Files\\JetBrains\\DataSpell 2024.1.3\\plugins\\python-ce\\helpers\\pydev\\pydevd.py:1211\u001B[0m, in \u001B[0;36mPyDB._do_wait_suspend\u001B[1;34m(self, thread, frame, event, arg, suspend_type, from_this_thread)\u001B[0m\n\u001B[0;32m   1208\u001B[0m             \u001B[38;5;28mself\u001B[39m\u001B[38;5;241m.\u001B[39m_call_mpl_hook()\n\u001B[0;32m   1210\u001B[0m         \u001B[38;5;28mself\u001B[39m\u001B[38;5;241m.\u001B[39mprocess_internal_commands()\n\u001B[1;32m-> 1211\u001B[0m         time\u001B[38;5;241m.\u001B[39msleep(\u001B[38;5;241m0.01\u001B[39m)\n\u001B[0;32m   1213\u001B[0m \u001B[38;5;28mself\u001B[39m\u001B[38;5;241m.\u001B[39mcancel_async_evaluation(get_current_thread_id(thread), \u001B[38;5;28mstr\u001B[39m(\u001B[38;5;28mid\u001B[39m(frame)))\n\u001B[0;32m   1215\u001B[0m \u001B[38;5;66;03m# process any stepping instructions\u001B[39;00m\n",
      "\u001B[1;31mKeyboardInterrupt\u001B[0m: "
     ]
    }
   ],
   "execution_count": 31
  },
  {
   "metadata": {},
   "cell_type": "markdown",
   "source": [
    "Sujeta a las restricciones:\n",
    "$$\n",
    "\\begin{align*}\n",
    "    \\sum_{i=0}^{N} kCA_i &= Demanda \\\\\n",
    "    kCA_i &\\leq Stock(CA_i) + Ppotencial(CA_i) &\\therefore \\, i=0,\\cdots ,N \\\\\n",
    "    TiempoAlistam(CA_i) &\\leq TiempoMaxDefinido &\\therefore \\, i=0,\\cdots ,N \\\\\n",
    "    Tiempo(CA_i) &= TiempoAlistam(CA_i) + TiempoTransp(CA_i) \\\\\n",
    "\\end{align*}\n",
    "$$"
   ]
  },
  {
   "metadata": {
    "ExecuteTime": {
     "end_time": "2024-10-04T18:01:28.397093Z",
     "start_time": "2024-10-04T18:01:28.387074Z"
    }
   },
   "cell_type": "code",
   "source": [
    "# Función que altera el vector para que cumpla con la restricción de igualdad\n",
    "def balance(individual, delta, diff):\n",
    "    delta = np.squeeze(delta)\n",
    "    \n",
    "    # Reducir para igualar a la demanda\n",
    "    if diff:\n",
    "        acopios = list(np.nonzero(individual)[0])\n",
    "\n",
    "        while delta > 0 and len(acopios) > 0:\n",
    "            idx = np.random.choice(acopios)\n",
    "            acopios.remove(idx)\n",
    "\n",
    "            if delta <= individual[idx]:\n",
    "                individual[idx] -= delta\n",
    "                delta = 0\n",
    "            else:\n",
    "                delta -= individual[idx]\n",
    "                individual[idx] = 0\n",
    "    # Aumentar para igualar a la demanda\n",
    "    else:\n",
    "        acopios = list(np.where(individual == 0)[0])\n",
    "\n",
    "        while delta > 0 and len(acopios) > 0:\n",
    "            idx = np.random.choice(acopios)\n",
    "            acopios.remove(idx)\n",
    "\n",
    "            if delta <= CAPACIDADES[idx]:\n",
    "                individual[idx] = delta\n",
    "                delta = 0\n",
    "            else:\n",
    "                individual[idx] = CAPACIDADES[idx]\n",
    "                delta -= CAPACIDADES[idx]"
   ],
   "outputs": [],
   "execution_count": 5
  },
  {
   "metadata": {},
   "cell_type": "markdown",
   "source": "# pymoo"
  },
  {
   "metadata": {
    "ExecuteTime": {
     "end_time": "2024-10-04T18:01:28.444503Z",
     "start_time": "2024-10-04T18:01:28.397093Z"
    }
   },
   "cell_type": "code",
   "source": [
    "from pymoo.core.problem import ElementwiseProblem\n",
    "\n",
    "xl = np.zeros(CAPACIDADES.shape[0])\n",
    "xu = CAPACIDADES\n",
    "\n",
    "' Definición del modelo de optimización '\n",
    "class Queso(ElementwiseProblem):\n",
    "    def __init__(self):\n",
    "        super().__init__(\n",
    "            n_var=len(xl),\n",
    "            n_obj=1,\n",
    "            n_eq_constr=1,\n",
    "            # n_ieq_constr=1,\n",
    "            xl=xl,\n",
    "            xu=xu\n",
    "        )\n",
    "\n",
    "\n",
    "    def _evaluate(self, x, out, *args, **kwargs):\n",
    "        out['F'] = f(x)\n",
    "        # Se retira el último elemento del vector (centro de acopio principal), \n",
    "        # para validar la restricción de igualdad\n",
    "        individual = np.delete(x, N*2)\n",
    "        out['H'] = DEMANDA - np.sum(individual)\n",
    "\n",
    "model = Queso()"
   ],
   "outputs": [],
   "execution_count": 6
  },
  {
   "metadata": {},
   "cell_type": "markdown",
   "source": [
    "## Generación \n",
    "De nuevas posibles soluciones"
   ]
  },
  {
   "metadata": {
    "ExecuteTime": {
     "end_time": "2024-10-04T18:01:28.450966Z",
     "start_time": "2024-10-04T18:01:28.444503Z"
    }
   },
   "cell_type": "code",
   "source": [
    "from pymoo.core.sampling import Sampling\n",
    "\n",
    "class TopOrZeroSampling(Sampling):\n",
    "    def _do(self, problem, n_samples, **kwargs):\n",
    "        gen_matrix = np.zeros((n_samples, problem.n_var), dtype=float)\n",
    "        # Se indexan los centros de acopio\n",
    "        n_vars = problem.n_var\n",
    "\n",
    "        for i in range(n_samples):\n",
    "            # Se reorganizan todos los índices de los centros de acopio, de forma aleatoria\n",
    "            indices = np.arange(n_vars-1)\n",
    "            np.random.shuffle(indices)\n",
    "\n",
    "            while np.sum(gen_matrix[i]) < DEMANDA and indices.size > 0:\n",
    "                idx = indices[0]\n",
    "                gen_matrix[i, idx] += CAPACIDADES[idx]\n",
    "                indices = np.delete(indices, 0)\n",
    "\n",
    "                if np.sum(gen_matrix[i]) > DEMANDA:\n",
    "                    gen_matrix[i, idx] = gen_matrix[i, idx] - (np.sum(gen_matrix[i]) - DEMANDA)\n",
    "                    break\n",
    "\n",
    "            gen_matrix[i, N*2] = np.random.randint(CAPACIDADES[N*2] + 1)\n",
    "\n",
    "        return gen_matrix"
   ],
   "outputs": [],
   "execution_count": 7
  },
  {
   "metadata": {},
   "cell_type": "markdown",
   "source": [
    "## Cruce\n",
    "1. Se seleccionan 2 individuos (padres)\n",
    "2. Se usa un índice (en medio) para separar los genes a cruzar de cada individuo\n",
    "3. Se crea el nuevo individuo (offspring)"
   ]
  },
  {
   "metadata": {
    "ExecuteTime": {
     "end_time": "2024-10-04T18:01:28.465720Z",
     "start_time": "2024-10-04T18:01:28.450966Z"
    }
   },
   "cell_type": "code",
   "source": [
    "from pymoo.core.crossover import Crossover\n",
    "\n",
    "class SinglePointCross(Crossover):\n",
    "    def __init__(self, prob): \n",
    "        # Para la implementación personalizada de este método, se consideraron 2 padres,\n",
    "        # entonces cambiar los valores de la llamada a init no tendrá efecto.\n",
    "        # Lo mismo pasa con el offspring.\n",
    "        super().__init__(n_parents=2, n_offsprings=1, prob=prob)\n",
    "\n",
    "    def _do(self, problem, X, **kwargs):\n",
    "        # n_parents, n_matings, n_var\n",
    "        _, n_matings, n_var = X.shape\n",
    "\n",
    "        T = np.zeros((1, n_matings, n_var))\n",
    "        Y = np.full_like(T, None, dtype=float)\n",
    "\n",
    "        for idx in range(n_matings):\n",
    "\n",
    "            # Primera mitad\n",
    "            p1 = X[0, idx, : n_var//2]\n",
    "            # Segunda mitad\n",
    "            p2 = X[1, idx, n_var//2 : n_var - 1]\n",
    "\n",
    "            offspring = np.concatenate((p1, p2))\n",
    "\n",
    "            if np.sum(offspring) > DEMANDA:\n",
    "                delta = np.sum(offspring) - DEMANDA\n",
    "                balance(offspring, delta, True)\n",
    "            else:\n",
    "                delta = DEMANDA - np.sum(offspring)\n",
    "                balance(offspring, delta, False)\n",
    "\n",
    "            for i in range(offspring.shape[0]):\n",
    "                Y[0, idx, i] = offspring[i]\n",
    "\n",
    "            # Centro de acopio principal (última posición)\n",
    "            main = np.random.choice([X[0, idx, n_var-1], X[1, idx, n_var-1]])\n",
    "            Y[0, idx, n_var-1] = main\n",
    "\n",
    "        return Y"
   ],
   "outputs": [],
   "execution_count": 8
  },
  {
   "metadata": {},
   "cell_type": "markdown",
   "source": [
    "## Mutación\n",
    "Con una probabilidad dada, reasignar la cantidad asignada a un centro de acopio **o**, reasignar el centro de acopio principal."
   ]
  },
  {
   "metadata": {
    "ExecuteTime": {
     "end_time": "2024-10-04T18:01:28.476344Z",
     "start_time": "2024-10-04T18:01:28.465720Z"
    }
   },
   "cell_type": "code",
   "source": [
    "from pymoo.core.mutation import Mutation\n",
    "\n",
    "class ReassignMutation(Mutation):\n",
    "    def __init__(self, prob):\n",
    "        super().__init__()\n",
    "        self.prob = prob\n",
    "\n",
    "    def _do(self, problem, X, **kwargs):\n",
    "        for i in range(len(X)):\n",
    "            r = np.random.random()\n",
    "\n",
    "            if r < self.prob:\n",
    "                # Se toma un índice aleatorio\n",
    "                individual = X[i]\n",
    "                idx_mut = np.random.randint(individual.shape)\n",
    "                \n",
    "                # Si es el índice del centro de acopio principal (N*2)\n",
    "                if idx_mut == N*2:\n",
    "                    X[i, problem.n_var-1] = np.random.randint(CAPACIDADES[N*2] + 1)\n",
    "                \n",
    "                else:\n",
    "                    if individual[idx_mut] == 0:\n",
    "                        # Se asigna la máxima cantidad posible del índice\n",
    "                        delta = CAPACIDADES[idx_mut]\n",
    "                        individual[idx_mut] = CAPACIDADES[idx_mut]\n",
    "                        diff = True\n",
    "                    else:\n",
    "                        # Se asigna cero a la cantidad del índice\n",
    "                        delta = individual[idx_mut]\n",
    "                        individual[idx_mut] = 0\n",
    "                        diff = False\n",
    "    \n",
    "                    balance(individual, delta, diff)\n",
    "    \n",
    "                    for j in range(individual.shape[0]):\n",
    "                        X[i, j] = individual[j]\n",
    "\n",
    "        return X"
   ],
   "outputs": [],
   "execution_count": 9
  },
  {
   "metadata": {},
   "cell_type": "markdown",
   "source": "## Aplicación"
  },
  {
   "metadata": {
    "ExecuteTime": {
     "end_time": "2024-10-04T18:01:28.486149Z",
     "start_time": "2024-10-04T18:01:28.476344Z"
    }
   },
   "cell_type": "code",
   "source": [
    "# Función para mostrar la cantidad asignada y la total por centro de acopio\n",
    "def print_acopios(X):\n",
    "    for i in range(0, N*2, 2):\n",
    "        idx_ca = i // 2\n",
    "        print(f'Centro de acopio {params_df['Id_CA'].iloc[idx_ca]}:')\n",
    "        print(f'Stock: {params_df['Stock'].iloc[idx_ca]}, \\t\\t\\tAsignado: {X[i]}')\n",
    "        print(f'Potencial: {params_df['Ppotencial'].iloc[idx_ca]}, \\tAsignado: {X[i+1]}\\n')\n",
    "\n",
    "    print(f'Centro de acopio principal: {params_df['Id_CA'].iloc[int(X[N*2])]}')"
   ],
   "outputs": [],
   "execution_count": 10
  },
  {
   "metadata": {
    "ExecuteTime": {
     "end_time": "2024-10-04T18:01:28.516651Z",
     "start_time": "2024-10-04T18:01:28.486149Z"
    }
   },
   "cell_type": "code",
   "source": [
    "# Criterio de terminación\n",
    "# https://pymoo.org/interface/termination.html\n",
    "from pymoo.termination.default import DefaultSingleObjectiveTermination\n",
    "from pymoo.termination import get_termination\n",
    "\n",
    "# Criterios simples\n",
    "# termination = get_termination('n_eval', 1000)\n",
    "# termination = get_termination('n_gen', 50)\n",
    "# termination = get_termination('time', '00:00:03')\n",
    "\n",
    "termination = DefaultSingleObjectiveTermination(\n",
    "    xtol=1e-9,\n",
    "    cvtol=1e-6,\n",
    "    ftol=1e-6,\n",
    "    period=20,\n",
    "    n_max_gen=1000,\n",
    "    n_max_evals=100000\n",
    ")"
   ],
   "outputs": [],
   "execution_count": 11
  },
  {
   "metadata": {
    "ExecuteTime": {
     "end_time": "2024-10-04T18:01:30.825722Z",
     "start_time": "2024-10-04T18:01:28.516651Z"
    }
   },
   "cell_type": "code",
   "source": [
    "import time\n",
    "from pymoo.algorithms.soo.nonconvex.ga import GA\n",
    "from pymoo.optimize import minimize\n",
    "\n",
    "#prob_cruce\n",
    "#prob_mutacion\n",
    "#max_generacion\n",
    "#popSize\n",
    "\n",
    "algorithm = GA(\n",
    "    pop_size=N*5,\n",
    "    sampling=TopOrZeroSampling(),\n",
    "    crossover=SinglePointCross(prob=0.4),\n",
    "    mutation=ReassignMutation(prob=0.4),\n",
    "    eliminate_duplicates=True\n",
    ")\n",
    "\n",
    "start = time.time()\n",
    "res = minimize(model,\n",
    "               algorithm,\n",
    "               termination,\n",
    "               seed = 1,\n",
    "               verbose=False)\n",
    "end = time.time()"
   ],
   "outputs": [
    {
     "name": "stdout",
     "output_type": "stream",
     "text": [
      "\n",
      "Compiled modules for significant speedup can not be used!\n",
      "https://pymoo.org/installation.html#installation\n",
      "\n",
      "To disable this warning:\n",
      "from pymoo.config import Config\n",
      "Config.warnings['not_compiled'] = False\n",
      "\n"
     ]
    }
   ],
   "execution_count": 12
  },
  {
   "metadata": {
    "ExecuteTime": {
     "end_time": "2024-10-04T18:01:30.831629Z",
     "start_time": "2024-10-04T18:01:30.825809Z"
    }
   },
   "cell_type": "code",
   "source": [
    "print_acopios(res.X)\n",
    "print(f'Precio: {res.F}')\n",
    "print(res.algorithm.n_gen)\n",
    "print(f'Tiempo: {round((end - start) * 1000)}ms')"
   ],
   "outputs": [
    {
     "name": "stdout",
     "output_type": "stream",
     "text": [
      "Centro de acopio CA1:\n",
      "Stock: 10, \t\t\tAsignado: 0.0\n",
      "Potencial: 0.5, \tAsignado: 0.0\n",
      "\n",
      "Centro de acopio CA2:\n",
      "Stock: 12, \t\t\tAsignado: 0.0\n",
      "Potencial: 0.625, \tAsignado: 0.0\n",
      "\n",
      "Centro de acopio CA3:\n",
      "Stock: 4, \t\t\tAsignado: 0.0\n",
      "Potencial: 14.0, \tAsignado: 0.0\n",
      "\n",
      "Centro de acopio CA4:\n",
      "Stock: 8, \t\t\tAsignado: 0.0\n",
      "Potencial: 13.0, \tAsignado: 0.0\n",
      "\n",
      "Centro de acopio CA5:\n",
      "Stock: 18, \t\t\tAsignado: 0.0\n",
      "Potencial: 15.0, \tAsignado: 0.0\n",
      "\n",
      "Centro de acopio CA6:\n",
      "Stock: 6, \t\t\tAsignado: 0.0\n",
      "Potencial: 14.0, \tAsignado: 0.0\n",
      "\n",
      "Centro de acopio CA7:\n",
      "Stock: 12, \t\t\tAsignado: 9.0\n",
      "Potencial: 13.0, \tAsignado: 6.0\n",
      "\n",
      "Centro de acopio CA8:\n",
      "Stock: 2, \t\t\tAsignado: 0.0\n",
      "Potencial: 12.5, \tAsignado: 0.0\n",
      "\n",
      "Centro de acopio CA9:\n",
      "Stock: 30, \t\t\tAsignado: 30.0\n",
      "Potencial: 15.0, \tAsignado: 15.0\n",
      "\n",
      "Centro de acopio CA10:\n",
      "Stock: 15, \t\t\tAsignado: 0.0\n",
      "Potencial: 18.0, \tAsignado: 0.0\n",
      "\n",
      "Centro de acopio principal: CA9\n",
      "Precio: [35619.]\n",
      "30\n",
      "Tiempo: 2252ms\n"
     ]
    }
   ],
   "execution_count": 13
  },
  {
   "metadata": {},
   "cell_type": "markdown",
   "source": [
    "# todo\n",
    "Usar `timeit`: https://docs.python.org/es/3/library/timeit.html#timeit-examples\n",
    "\n",
    "Comenzar a buscar parámetros óptimos y documentar los resultados (La solución es óptima?) "
   ]
  }
 ],
 "metadata": {
  "colab": {
   "provenance": []
  },
  "kernelspec": {
   "display_name": "Python 3 (ipykernel)",
   "language": "python",
   "name": "python3"
  },
  "language_info": {
   "codemirror_mode": {
    "name": "ipython",
    "version": 3
   },
   "file_extension": ".py",
   "mimetype": "text/x-python",
   "name": "python",
   "nbconvert_exporter": "python",
   "pygments_lexer": "ipython3",
   "version": "3.11.7"
  }
 },
 "nbformat": 4,
 "nbformat_minor": 4
}
