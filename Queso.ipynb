{
 "cells": [
  {
   "cell_type": "code",
   "metadata": {
    "id": "sLLmzB6qJwiG",
    "ExecuteTime": {
     "end_time": "2024-08-30T22:49:42.551383Z",
     "start_time": "2024-08-30T22:49:41.925373Z"
    }
   },
   "source": [
    "import numpy as np\n",
    "import pandas as pd\n",
    "\n",
    "# %pip install -U pymoo"
   ],
   "outputs": [],
   "execution_count": 1
  },
  {
   "metadata": {},
   "cell_type": "markdown",
   "source": [
    "### Parámetros de entrada\n",
    "Información que obtiene el modelo del sistema de información"
   ]
  },
  {
   "cell_type": "code",
   "metadata": {
    "ExecuteTime": {
     "end_time": "2024-08-30T22:49:42.826311Z",
     "start_time": "2024-08-30T22:49:42.553842Z"
    }
   },
   "source": [
    "# Demanda\n",
    "DEMANDA = 60\n",
    "# Costo por unidad de tiempo\n",
    "CTIEMPO = 100\n",
    "# Tiempo máximo definido\n",
    "T_MAX = 360\n",
    "\n",
    "# Parámetros de entrada\n",
    "params_df = pd.read_excel('./data/' + 'nuevo_info_acopios.xlsx')\n",
    "\n",
    "# Matriz de costos de transporte\n",
    "costo_df = pd.read_excel('./data/' + 'costoTransporteCAi.xlsx', index_col=0)\n",
    "\n",
    "# Matriz de tiempo de transporte\n",
    "tiempo_df = pd.read_excel('./data/' + 'tiempoTransporteCAi.xlsx', index_col=0)"
   ],
   "outputs": [],
   "execution_count": 2
  },
  {
   "metadata": {},
   "cell_type": "markdown",
   "source": [
    "### Variables\n",
    "Definición de variables para el modelo de optimización"
   ]
  },
  {
   "cell_type": "code",
   "metadata": {
    "ExecuteTime": {
     "end_time": "2024-08-30T22:49:42.835337Z",
     "start_time": "2024-08-30T22:49:42.826311Z"
    }
   },
   "source": [
    "N = params_df.shape[0]\n",
    "capacidades = np.empty(N * 2, dtype=float)\n",
    "\n",
    "for cap_i in range(0, N * 2, 2):\n",
    "    capacidades[cap_i] = params_df['Stock'].iloc[cap_i // 2]\n",
    "    capacidades[cap_i + 1] = params_df['Ppotencial'].iloc[cap_i // 2]\n",
    "    \n",
    "capacidades"
   ],
   "outputs": [
    {
     "data": {
      "text/plain": [
       "array([10.   ,  0.5  , 12.   ,  0.625,  4.   , 14.   ,  8.   , 13.   ,\n",
       "       18.   , 15.   ,  6.   , 14.   , 12.   , 13.   ,  2.   , 12.5  ,\n",
       "       30.   , 15.   , 15.   , 18.   ])"
      ]
     },
     "execution_count": 3,
     "metadata": {},
     "output_type": "execute_result"
    }
   ],
   "execution_count": 3
  },
  {
   "metadata": {},
   "cell_type": "markdown",
   "source": [
    "# Función objetivo\n",
    "$$\n",
    "\\begin{align*}\n",
    "    \\sum_{i=1 \\quad i\\neq p}^{N} &\\big[ \\, kCA_i \\times Precio(CA_i) + kCA_i \\times cTransp(CA_i) + Tiempo(CA_i) \\times cTiempo \\, \\big] \\, + \\\\\n",
    "                                 &\\big[ \\, kCA_p \\times Precio(CA_p) + Demanda \\times cTransp(CA_p) + Tiempo(CA_p) \\times cTiempo \\, \\big]\n",
    "\\end{align*}\n",
    "$$"
   ]
  },
  {
   "metadata": {
    "ExecuteTime": {
     "end_time": "2024-08-30T22:49:42.846102Z",
     "start_time": "2024-08-30T22:49:42.835420Z"
    }
   },
   "cell_type": "code",
   "source": [
    "def f(x, idx_principal=0):\n",
    "    delta = 0\n",
    "    \n",
    "    for i in range(0, N*2, 2):\n",
    "        idx_acopio = i // 2\n",
    "\n",
    "        if i == idx_principal or (x[i] == 0 and x[i+1] == 0):\n",
    "            continue\n",
    "            \n",
    "        delta += get_delta(x, idx_acopio, idx_principal)\n",
    "\n",
    "    delta += get_delta(x, idx_principal)\n",
    "    \n",
    "    return delta\n",
    "\n",
    "def get_delta(x, idx_acopio, idx_principal=-1):\n",
    "    kca = x[idx_acopio] + x[idx_acopio + 1]\n",
    "    precio = params_df['Precio'].iloc[idx_acopio]\n",
    "    talistam = params_df['TiempoAlistam'].iloc[idx_acopio]\n",
    "\n",
    "    # Si es el centro de acopio principal (idx=-1)\n",
    "    if idx_principal < 0:\n",
    "        ctransp = params_df['Ctransp'].iloc[idx_acopio]\n",
    "        ttransp = params_df['TiempoTransp'].iloc[idx_acopio]\n",
    "        tiempo = talistam + ttransp\n",
    "        \n",
    "        return (kca * precio) + (DEMANDA * ctransp) + (tiempo * CTIEMPO)\n",
    "    else:\n",
    "        ctransp = costo_df.iloc[idx_acopio, idx_principal]\n",
    "        ttransp = tiempo_df.iloc[idx_acopio, idx_principal]\n",
    "        tiempo = talistam + ttransp\n",
    "        \n",
    "        return (kca * precio) + (kca * ctransp) + (tiempo * CTIEMPO)"
   ],
   "outputs": [],
   "execution_count": 4
  },
  {
   "metadata": {},
   "cell_type": "markdown",
   "source": [
    "Sujeta a las restricciones:\n",
    "$$\n",
    "\\begin{align*}\n",
    "    \\sum_{i=0}^{N} kCA_i &= Demanda \\\\\n",
    "    kCA_i &\\leq Stock(CA_i) + Ppotencial(CA_i) &\\therefore \\, i=0,\\cdots ,N \\\\\n",
    "    TiempoAlistam(CA_i) &\\leq TiempoMaxDefinido &\\therefore \\, i=0,\\cdots ,N \\\\\n",
    "    Tiempo(CA_i) &= TiempoAlistam(CA_i) + TiempoTransp(CA_i) \\\\\n",
    "\\end{align*}\n",
    "$$"
   ]
  },
  {
   "metadata": {
    "ExecuteTime": {
     "end_time": "2024-08-30T22:49:42.857395Z",
     "start_time": "2024-08-30T22:49:42.846102Z"
    }
   },
   "cell_type": "code",
   "source": [
    "# Función para alterar el vector para que cumpla con la restricción de igualdad\n",
    "def igualar(individuo, delta, diff):\n",
    "    delta = np.squeeze(delta)\n",
    "    \n",
    "    # Reducir para igualar a la demanda\n",
    "    if diff:\n",
    "        acopios = list(np.nonzero(individuo)[0])\n",
    "\n",
    "        while delta > 0 and len(acopios) > 0:\n",
    "            idx = np.random.choice(acopios)\n",
    "            acopios.remove(idx)\n",
    "\n",
    "            if delta <= individuo[idx]:\n",
    "                individuo[idx] -= delta\n",
    "                delta = 0\n",
    "            else:\n",
    "                delta -= individuo[idx]\n",
    "                individuo[idx] = 0\n",
    "    # Aumentar para igualar a la demanda\n",
    "    else:\n",
    "        acopios = list(np.where(individuo == 0)[0])\n",
    "\n",
    "        while delta > 0 and len(acopios) > 0:\n",
    "            idx = np.random.choice(acopios)\n",
    "            acopios.remove(idx)\n",
    "\n",
    "            if delta <= capacidades[idx]:\n",
    "                individuo[idx] = delta\n",
    "                delta = 0\n",
    "            else:\n",
    "                individuo[idx] = capacidades[idx]\n",
    "                delta -= capacidades[idx]"
   ],
   "outputs": [],
   "execution_count": 5
  },
  {
   "cell_type": "markdown",
   "metadata": {},
   "source": [
    "## scipy"
   ]
  },
  {
   "cell_type": "code",
   "metadata": {
    "ExecuteTime": {
     "end_time": "2024-08-30T22:49:42.868057Z",
     "start_time": "2024-08-30T22:49:42.857395Z"
    }
   },
   "source": [
    "# c = tuple(idx for (_, idx) in bounds)\n",
    "# Aeq = np.ones((1, len(c)))\n",
    "# beq = 1"
   ],
   "outputs": [],
   "execution_count": 6
  },
  {
   "cell_type": "code",
   "metadata": {
    "ExecuteTime": {
     "end_time": "2024-08-30T22:49:42.879608Z",
     "start_time": "2024-08-30T22:49:42.868057Z"
    }
   },
   "source": [
    "# from scipy.optimize import linprog\n",
    "# # from scipy.optimize import differential_evolution\n",
    "# \n",
    "# result = linprog(\n",
    "#     c,\n",
    "#     A_ub=Aeq,\n",
    "#     b_ub=beq,\n",
    "#     bounds=bounds,\n",
    "#     method='highs',\n",
    "#     integrality=1\n",
    "# )\n",
    "# print(result)"
   ],
   "outputs": [],
   "execution_count": 7
  },
  {
   "metadata": {},
   "cell_type": "markdown",
   "source": "## pymoo"
  },
  {
   "metadata": {},
   "cell_type": "markdown",
   "source": [
    "Iterar el modelo n veces según centros de acopio haya. La idea es asumir en cada iteración que el cacopio principal sea cada uno, desde i=0 hasta n.\n",
    "\n",
    "Se evalúa el modelo tomando cada centro de acopio como el principal, y la ejecución da resultados para cada uno, luego de todas las soluciones se toma la mejor solución."
   ]
  },
  {
   "cell_type": "code",
   "metadata": {
    "ExecuteTime": {
     "end_time": "2024-08-30T22:49:42.922443Z",
     "start_time": "2024-08-30T22:49:42.879608Z"
    }
   },
   "source": [
    "from pymoo.core.problem import ElementwiseProblem\n",
    "\n",
    "xl = np.zeros(N*2)\n",
    "xu = capacidades\n",
    "\n",
    "\"\"\"Definición del modelo de optimización\"\"\"\n",
    "class Queso(ElementwiseProblem):\n",
    "    def __init__(self):\n",
    "        super().__init__(\n",
    "            n_var=len(xl),\n",
    "            n_obj=1,\n",
    "            n_eq_constr=1,\n",
    "            # n_ieq_constr=1,\n",
    "            xl=xl,\n",
    "            xu=xu\n",
    "        )\n",
    "        \n",
    "    def _evaluate(self, x, out, *args, **kwargs):\n",
    "        out['F'] = f(x)\n",
    "        out['H'] = DEMANDA - np.sum(x)"
   ],
   "outputs": [],
   "execution_count": 8
  },
  {
   "cell_type": "code",
   "metadata": {
    "ExecuteTime": {
     "end_time": "2024-08-30T22:49:42.995641Z",
     "start_time": "2024-08-30T22:49:42.922443Z"
    }
   },
   "source": [
    "from pymoo.algorithms.soo.nonconvex.ga import GA\n",
    "from pymoo.optimize import minimize\n",
    "\n",
    "model = Queso()\n",
    "\n",
    "\"\"\"Implementación utilizando métodos predefinidos de pymoo como parámetros\"\"\"\n",
    "\n",
    "# from pymoo.operators.sampling.rnd import IntegerRandomSampling\n",
    "# from pymoo.operators.crossover.sbx import SBX\n",
    "# from pymoo.operators.mutation.pm import PM\n",
    "# from pymoo.operators.repair.rounding import RoundingRepair\n",
    "\n",
    "# algorithm = GA(\n",
    "#     # pop_size=200,\n",
    "#     sampling=IntegerRandomSampling(),\n",
    "#     crossover=SBX(prob=1.0, eta=3.0, vtype=float, repair=RoundingRepair()),\n",
    "#     mutation=PM(prob=1.0, eta=3.0, vtype=float, repair=RoundingRepair()),\n",
    "#     eliminate_duplicates=True\n",
    "# )\n",
    "# \n",
    "# res = minimize(model,\n",
    "#                algorithm,\n",
    "#                seed=1,\n",
    "#                verbose=False)\n",
    "# \n",
    "# print(f'F: {res.F}, \\nX: {res.X}')"
   ],
   "outputs": [
    {
     "data": {
      "text/plain": [
       "'Implementación utilizando métodos predefinidos de pymoo como parámetros'"
      ]
     },
     "execution_count": 9,
     "metadata": {},
     "output_type": "execute_result"
    }
   ],
   "execution_count": 9
  },
  {
   "metadata": {},
   "cell_type": "markdown",
   "source": [
    "## Generación \n",
    "De nuevas posibles soluciones"
   ]
  },
  {
   "metadata": {
    "ExecuteTime": {
     "end_time": "2024-08-30T22:49:43.001844Z",
     "start_time": "2024-08-30T22:49:42.995732Z"
    }
   },
   "cell_type": "code",
   "source": [
    "from pymoo.core.sampling import Sampling\n",
    "\n",
    "class TopOrZeroSampling(Sampling):\n",
    "    def _do(self, problem, n_samples, **kwargs):\n",
    "        gen_matrix = np.zeros((n_samples, problem.n_var), dtype=float)\n",
    "\n",
    "        for i in range(n_samples):\n",
    "            while np.sum(gen_matrix[i]) < DEMANDA:\n",
    "                idx = np.random.randint(problem.n_var)\n",
    "                gen_matrix[i, idx] += np.random.choice((0, capacidades[idx]))\n",
    "\n",
    "                if np.sum(gen_matrix[i]) > DEMANDA:\n",
    "                    gen_matrix[i, idx] = gen_matrix[i, idx] - (np.sum(gen_matrix[i]) - DEMANDA)\n",
    "\n",
    "        return gen_matrix"
   ],
   "outputs": [],
   "execution_count": 10
  },
  {
   "metadata": {},
   "cell_type": "markdown",
   "source": [
    "## Cruce\n",
    "1. Para cada individuo en una muestra, se selecciona al azar otro individuo \n",
    "2. Se usa un índice (en medio) para separar el cruce de genes\n",
    "3. Se crea el nuevo individuo "
   ]
  },
  {
   "metadata": {
    "ExecuteTime": {
     "end_time": "2024-08-30T22:49:43.013442Z",
     "start_time": "2024-08-30T22:49:43.001844Z"
    }
   },
   "cell_type": "code",
   "source": [
    "from pymoo.core.crossover import Crossover\n",
    "\n",
    "class SinglePointCross(Crossover):\n",
    "    def __init__(self):\n",
    "        # Parents, Offspring\n",
    "        super().__init__(2, 1)\n",
    "\n",
    "    def _do(self, problem, X, **kwargs):\n",
    "        # n_parents, n_matings, n_var\n",
    "        _, n_matings, n_var = X.shape\n",
    "\n",
    "        T = np.zeros((1, n_matings, n_var))\n",
    "        Y = np.full_like(T, None, dtype=float)\n",
    "\n",
    "        for idx in range(n_matings):\n",
    "\n",
    "            p1 = X[0, idx, : n_var//2]\n",
    "            p2 = X[1, idx, n_var//2 : n_var]\n",
    "\n",
    "            offspring = np.concatenate((p1, p2))\n",
    "\n",
    "            if np.sum(offspring) > DEMANDA:\n",
    "                delta = np.sum(offspring) - DEMANDA\n",
    "                igualar(offspring, delta, True)\n",
    "            else:\n",
    "                delta = DEMANDA - np.sum(offspring)\n",
    "                igualar(offspring, delta, False)\n",
    "\n",
    "            for i in range(n_var):\n",
    "                Y[0, idx, i] = offspring[i]\n",
    "\n",
    "        return Y"
   ],
   "outputs": [],
   "execution_count": 11
  },
  {
   "metadata": {},
   "cell_type": "markdown",
   "source": [
    "## Mutación\n",
    "1. Tomar un índice (cacopio) aleatorio\n",
    "2. **Si es cero:**\n",
    "3. Cambiar a la cantidad máxima de la capacidad del centro de acopio\n",
    "4. La cantidad que se asignó, restarla a lo largo de los demás centros de acopio para mantener la restricción de igualdad\n",
    "5. **Sino:**\n",
    "6. Cambiar a cero\n",
    "7. La cantidad que se eliminó, sumarla en los demás centros de acopio para mantener la restricción de igualdad"
   ]
  },
  {
   "metadata": {
    "ExecuteTime": {
     "end_time": "2024-08-30T22:49:43.025690Z",
     "start_time": "2024-08-30T22:49:43.013442Z"
    }
   },
   "cell_type": "code",
   "source": [
    "from pymoo.core.mutation import Mutation\n",
    "\n",
    "class ReassignMutation(Mutation):\n",
    "    def __init__(self):\n",
    "        super().__init__()\n",
    "\n",
    "    def _do(self, problem, X, **kwargs):\n",
    "        for i in range(len(X)):\n",
    "            r = np.random.random()\n",
    "\n",
    "            if r < 0.4:\n",
    "                # Mutar capacidad de un individuo\n",
    "\n",
    "                idx_mut = np.random.randint(X[i].shape)\n",
    "                # False = Menor\n",
    "                # True = Mayor\n",
    "                diff = False\n",
    "\n",
    "                if X[i][idx_mut] == 0:\n",
    "                    delta = capacidades[idx_mut]\n",
    "                    X[i][idx_mut] = capacidades[idx_mut]\n",
    "                    diff = True\n",
    "\n",
    "                else:\n",
    "                    delta = X[i][idx_mut]\n",
    "                    X[i][idx_mut] = 0\n",
    "\n",
    "                igualar(X[i], delta, diff)\n",
    "\n",
    "        return X"
   ],
   "outputs": [],
   "execution_count": 12
  },
  {
   "metadata": {},
   "cell_type": "markdown",
   "source": "## Aplicación"
  },
  {
   "metadata": {
    "ExecuteTime": {
     "end_time": "2024-08-30T22:49:43.677647Z",
     "start_time": "2024-08-30T22:49:43.025690Z"
    }
   },
   "cell_type": "code",
   "source": [
    "algorithm = GA(\n",
    "    pop_size=N*2,\n",
    "    sampling=TopOrZeroSampling(),\n",
    "    crossover=SinglePointCross(),\n",
    "    mutation=ReassignMutation(),\n",
    "    eliminate_duplicates=True\n",
    ")\n",
    "\n",
    "res = minimize(model,\n",
    "               algorithm,\n",
    "               seed=1,\n",
    "               verbose=True)\n",
    "\n",
    "print(f'F: {res.F}, \\nX: {res.X}')"
   ],
   "outputs": [
    {
     "name": "stdout",
     "output_type": "stream",
     "text": [
      "\n",
      "Compiled modules for significant speedup can not be used!\n",
      "https://pymoo.org/installation.html#installation\n",
      "\n",
      "To disable this warning:\n",
      "from pymoo.config import Config\n",
      "Config.warnings['not_compiled'] = False\n",
      "\n",
      "=================================================================================\n",
      "n_gen  |  n_eval  |     cv_min    |     cv_avg    |     f_avg     |     f_min    \n",
      "=================================================================================\n",
      "     1 |       20 |  0.000000E+00 |  0.000000E+00 |  2.273457E+06 |  1.327460E+06\n",
      "     2 |       40 |  0.000000E+00 |  0.000000E+00 |  1.625483E+06 |  1.327460E+06\n",
      "     3 |       60 |  0.000000E+00 |  0.000000E+00 |  1.483773E+06 |  1.327460E+06\n",
      "     4 |       80 |  0.000000E+00 |  0.000000E+00 |  1.370703E+06 |  1.327460E+06\n",
      "     5 |      100 |  0.000000E+00 |  0.000000E+00 |  1.359639E+06 |  1.327460E+06\n",
      "     6 |      120 |  0.000000E+00 |  0.000000E+00 |  1.345650E+06 |  1.325560E+06\n",
      "     7 |      140 |  0.000000E+00 |  0.000000E+00 |  1.336980E+06 |  1.325560E+06\n",
      "     8 |      160 |  0.000000E+00 |  0.000000E+00 |  1.335230E+06 |  1.325560E+06\n",
      "     9 |      180 |  0.000000E+00 |  0.000000E+00 |  1.333280E+06 |  1.325560E+06\n",
      "    10 |      200 |  0.000000E+00 |  0.000000E+00 |  1.332335E+06 |  1.325560E+06\n",
      "    11 |      220 |  0.000000E+00 |  0.000000E+00 |  1.330970E+06 |  1.325560E+06\n",
      "    12 |      240 |  0.000000E+00 |  0.000000E+00 |  1.329985E+06 |  1.325560E+06\n",
      "    13 |      260 |  0.000000E+00 |  0.000000E+00 |  1.329290E+06 |  1.325560E+06\n",
      "    14 |      280 |  0.000000E+00 |  0.000000E+00 |  1.328620E+06 |  1.325560E+06\n",
      "    15 |      300 |  0.000000E+00 |  0.000000E+00 |  1.328130E+06 |  1.325560E+06\n",
      "    16 |      320 |  0.000000E+00 |  0.000000E+00 |  1.327710E+06 |  1.325560E+06\n",
      "    17 |      340 |  0.000000E+00 |  0.000000E+00 |  1.327075E+06 |  1.325560E+06\n",
      "    18 |      360 |  0.000000E+00 |  0.000000E+00 |  1.326100E+06 |  1.325560E+06\n",
      "    19 |      380 |  0.000000E+00 |  0.000000E+00 |  1.325655E+06 |  1.325560E+06\n",
      "    20 |      400 |  0.000000E+00 |  0.000000E+00 |  1.325560E+06 |  1.325560E+06\n",
      "    21 |      420 |  0.000000E+00 |  0.000000E+00 |  1.325560E+06 |  1.325560E+06\n",
      "    22 |      440 |  0.000000E+00 |  0.000000E+00 |  1.325560E+06 |  1.325560E+06\n",
      "    23 |      460 |  0.000000E+00 |  0.000000E+00 |  1.325560E+06 |  1.325560E+06\n",
      "    24 |      480 |  0.000000E+00 |  0.000000E+00 |  1.325560E+06 |  1.325560E+06\n",
      "    25 |      500 |  0.000000E+00 |  0.000000E+00 |  1.325560E+06 |  1.325560E+06\n",
      "    26 |      520 |  0.000000E+00 |  0.000000E+00 |  1.325560E+06 |  1.325560E+06\n",
      "    27 |      540 |  0.000000E+00 |  0.000000E+00 |  1.325560E+06 |  1.325560E+06\n",
      "    28 |      560 |  0.000000E+00 |  0.000000E+00 |  1.325560E+06 |  1.325560E+06\n",
      "    29 |      580 |  0.000000E+00 |  0.000000E+00 |  1.325560E+06 |  1.325560E+06\n",
      "    30 |      600 |  0.000000E+00 |  0.000000E+00 |  1.325560E+06 |  1.325560E+06\n",
      "    31 |      620 |  0.000000E+00 |  0.000000E+00 |  1.325560E+06 |  1.325560E+06\n",
      "    32 |      640 |  0.000000E+00 |  0.000000E+00 |  1.325560E+06 |  1.325560E+06\n",
      "    33 |      660 |  0.000000E+00 |  0.000000E+00 |  1.325560E+06 |  1.325560E+06\n",
      "    34 |      680 |  0.000000E+00 |  0.000000E+00 |  1.325560E+06 |  1.325560E+06\n",
      "    35 |      700 |  0.000000E+00 |  0.000000E+00 |  1.325560E+06 |  1.325560E+06\n",
      "    36 |      720 |  0.000000E+00 |  0.000000E+00 |  1.325560E+06 |  1.325560E+06\n",
      "F: [1325560.], \n",
      "X: [ 0.   0.   0.   0.   0.  21.5  0.   0.   0.   0.   0.   0.   0.   0.\n",
      "  0.   0.   8.5 30.   0.   0. ]\n"
     ]
    }
   ],
   "execution_count": 13
  },
  {
   "metadata": {
    "ExecuteTime": {
     "end_time": "2024-08-30T22:49:43.682472Z",
     "start_time": "2024-08-30T22:49:43.677647Z"
    }
   },
   "cell_type": "code",
   "source": "",
   "outputs": [],
   "execution_count": 13
  }
 ],
 "metadata": {
  "colab": {
   "provenance": []
  },
  "kernelspec": {
   "display_name": "Python 3 (ipykernel)",
   "language": "python",
   "name": "python3"
  },
  "language_info": {
   "codemirror_mode": {
    "name": "ipython",
    "version": 3
   },
   "file_extension": ".py",
   "mimetype": "text/x-python",
   "name": "python",
   "nbconvert_exporter": "python",
   "pygments_lexer": "ipython3",
   "version": "3.11.7"
  }
 },
 "nbformat": 4,
 "nbformat_minor": 4
}
