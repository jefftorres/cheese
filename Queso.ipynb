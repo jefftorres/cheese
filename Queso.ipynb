{
 "cells": [
  {
   "cell_type": "code",
   "metadata": {
    "id": "sLLmzB6qJwiG",
    "ExecuteTime": {
     "end_time": "2024-08-13T21:23:25.839394Z",
     "start_time": "2024-08-13T21:23:25.085855Z"
    }
   },
   "source": [
    "import numpy as np\n",
    "import pandas as pd"
   ],
   "outputs": [],
   "execution_count": 1
  },
  {
   "metadata": {},
   "cell_type": "markdown",
   "source": [
    "### Parámetros de entrada\n",
    "Información que obtiene el modelo del sistema de información"
   ]
  },
  {
   "cell_type": "code",
   "metadata": {
    "ExecuteTime": {
     "end_time": "2024-08-13T21:23:26.180254Z",
     "start_time": "2024-08-13T21:23:25.840398Z"
    }
   },
   "source": [
    "# Demanda\n",
    "DEMANDA = 60\n",
    "# Costo por unidad de tiempo\n",
    "CTIEMPO = 100\n",
    "# Tiempo máximo definido\n",
    "T_MAX = 360\n",
    "\n",
    "# Parámetros de entrada\n",
    "params_df = pd.read_excel('./data/' + 'nuevo_info_acopios.xlsx')\n",
    "\n",
    "# Matriz de costos de transporte\n",
    "costo_df = pd.read_excel('./data/' + 'costoTransporteCAi.xlsx', index_col=0)\n",
    "\n",
    "# Matriz de tiempo de transporte\n",
    "tiempo_df = pd.read_excel('./data/' + 'tiempoTransporteCAi.xlsx', index_col=0)"
   ],
   "outputs": [],
   "execution_count": 2
  },
  {
   "metadata": {},
   "cell_type": "markdown",
   "source": [
    "### Variables\n",
    "Definición de variables para el modelo de optimización"
   ]
  },
  {
   "cell_type": "code",
   "metadata": {
    "ExecuteTime": {
     "end_time": "2024-08-13T21:23:26.189645Z",
     "start_time": "2024-08-13T21:23:26.181505Z"
    }
   },
   "source": [
    "N = params_df.shape[0]\n",
    "capacidades = np.empty(N * 2, dtype=float)\n",
    "\n",
    "for cap_i in range(0, N * 2, 2):\n",
    "    capacidades[cap_i] = params_df['Stock'].iloc[cap_i // 2]\n",
    "    capacidades[cap_i + 1] = params_df['Ppotencial'].iloc[cap_i // 2]\n",
    "    \n",
    "capacidades"
   ],
   "outputs": [
    {
     "data": {
      "text/plain": [
       "array([10.   ,  0.5  , 12.   ,  0.625,  4.   , 14.   ,  8.   , 13.   ,\n",
       "       18.   , 15.   ,  6.   , 14.   , 12.   , 13.   ,  2.   , 12.5  ,\n",
       "       30.   , 15.   , 15.   , 18.   ])"
      ]
     },
     "execution_count": 3,
     "metadata": {},
     "output_type": "execute_result"
    }
   ],
   "execution_count": 3
  },
  {
   "metadata": {},
   "cell_type": "markdown",
   "source": [
    "# Función objetivo\n",
    "$$\n",
    "\\begin{align*}\n",
    "    \\sum_{i=1 \\quad i\\neq p}^{N} &\\big[ \\, kCA_i \\times Precio(CA_i) + kCA_i \\times cTransp(CA_i) + Tiempo(CA_i) \\times cTiempo \\, \\big] \\, + \\\\\n",
    "                                 &\\big[ \\, kCA_p \\times Precio(CA_p) + Demanda \\times cTransp(CA_p) + Tiempo(CA_p) \\times cTiempo \\, \\big]\n",
    "\\end{align*}\n",
    "$$"
   ]
  },
  {
   "metadata": {
    "ExecuteTime": {
     "end_time": "2024-08-13T21:23:26.198763Z",
     "start_time": "2024-08-13T21:23:26.190649Z"
    }
   },
   "cell_type": "code",
   "source": [
    "def f(x, idx_principal=0):\n",
    "    delta = 0\n",
    "    \n",
    "    for i in range(0, N*2, 2):\n",
    "        idx_acopio = i // 2\n",
    "\n",
    "        if i == idx_principal or (x[i] == 0 and x[i+1] == 0):\n",
    "            continue\n",
    "            \n",
    "        delta += get_delta(x, idx_acopio, idx_principal)\n",
    "\n",
    "    delta += get_delta(x, idx_principal)\n",
    "    \n",
    "    return delta\n",
    "\n",
    "def get_delta(x, idx_acopio, idx_principal=-1):\n",
    "    kca = x[idx_acopio] + x[idx_acopio + 1]\n",
    "    precio = params_df['Precio'].iloc[idx_acopio]\n",
    "    talistam = params_df['TiempoAlistam'].iloc[idx_acopio]\n",
    "\n",
    "    # Si es el centro de acopio principal (idx=-1)\n",
    "    if idx_principal < 0:\n",
    "        ctransp = params_df['Ctransp'].iloc[idx_acopio]\n",
    "        ttransp = params_df['TiempoTransp'].iloc[idx_acopio]\n",
    "        tiempo = talistam + ttransp\n",
    "        \n",
    "        return (kca * precio) + (DEMANDA * ctransp) + (tiempo * CTIEMPO)\n",
    "    else:\n",
    "        ctransp = costo_df.iloc[idx_acopio, idx_principal]\n",
    "        ttransp = tiempo_df.iloc[idx_acopio, idx_principal]\n",
    "        tiempo = talistam + ttransp\n",
    "        \n",
    "        return (kca * precio) + (kca * ctransp) + (tiempo * CTIEMPO)\n",
    "\n",
    "\n",
    "# f((0, 0, 0, 0, 4, 0, 8, 0, 18, 0, 0, 0, 0, 0, 0, 0, 0, 0, 0, 0))"
   ],
   "outputs": [],
   "execution_count": 4
  },
  {
   "metadata": {},
   "cell_type": "markdown",
   "source": [
    "Sujeta a las restricciones:\n",
    "$$\n",
    "\\begin{align*}\n",
    "    \\sum_{i=0}^{N} kCA_i &= Demanda \\\\\n",
    "    kCA_i &\\leq Stock(CA_i) + Ppotencial(CA_i) &\\therefore \\, i=0,\\cdots ,N \\\\\n",
    "    TiempoAlistam(CA_i) &\\leq TiempoMaxDefinido &\\therefore \\, i=0,\\cdots ,N \\\\\n",
    "    Tiempo(CA_i) &= TiempoAlistam(CA_i) + TiempoTransp(CA_i) \\\\\n",
    "\\end{align*}\n",
    "$$"
   ]
  },
  {
   "cell_type": "markdown",
   "metadata": {},
   "source": [
    "## scipy"
   ]
  },
  {
   "cell_type": "code",
   "metadata": {
    "ExecuteTime": {
     "end_time": "2024-08-13T21:23:26.207485Z",
     "start_time": "2024-08-13T21:23:26.200767Z"
    }
   },
   "source": [
    "# c = tuple(idx for (_, idx) in bounds)\n",
    "# Aeq = np.ones((1, len(c)))\n",
    "# beq = 1"
   ],
   "outputs": [],
   "execution_count": 5
  },
  {
   "cell_type": "code",
   "metadata": {
    "ExecuteTime": {
     "end_time": "2024-08-13T21:23:26.216521Z",
     "start_time": "2024-08-13T21:23:26.208485Z"
    }
   },
   "source": [
    "# from scipy.optimize import linprog\n",
    "# # from scipy.optimize import differential_evolution\n",
    "# \n",
    "# result = linprog(\n",
    "#     c,\n",
    "#     A_ub=Aeq,\n",
    "#     b_ub=beq,\n",
    "#     bounds=bounds,\n",
    "#     method='highs',\n",
    "#     integrality=1\n",
    "# )\n",
    "# print(result)"
   ],
   "outputs": [],
   "execution_count": 6
  },
  {
   "metadata": {},
   "cell_type": "markdown",
   "source": "## pymoo"
  },
  {
   "metadata": {},
   "cell_type": "markdown",
   "source": [
    "Iterar el modelo n veces según centros de acopio haya. La idea es asumir en cada iteración que el cacopio principal sea cada uno, desde i=0 hasta n.\n",
    "\n",
    "Se evalúa el modelo tomando cada centro de acopio como el principal, y la ejecución da resultados para cada uno, luego de todas las soluciones se toma la mejor solución.\n",
    "\n",
    "**Costo a optimizar: 1.981.725** "
   ]
  },
  {
   "cell_type": "code",
   "metadata": {
    "ExecuteTime": {
     "end_time": "2024-08-13T21:23:26.281001Z",
     "start_time": "2024-08-13T21:23:26.219591Z"
    }
   },
   "source": [
    "from pymoo.core.problem import ElementwiseProblem\n",
    "\n",
    "xl = np.zeros(N*2)\n",
    "xu = capacidades\n",
    "\n",
    "class Queso(ElementwiseProblem):\n",
    "    def __init__(self):\n",
    "        super().__init__(\n",
    "            n_var=len(xl),\n",
    "            n_obj=1,\n",
    "            n_eq_constr=1,\n",
    "            # n_ieq_constr=1,\n",
    "            xl=xl,\n",
    "            xu=xu\n",
    "        )\n",
    "        \n",
    "    def _evaluate(self, x, out, *args, **kwargs):\n",
    "        out['F'] = f(x)\n",
    "        out['H'] = DEMANDA - np.sum(x)"
   ],
   "outputs": [],
   "execution_count": 7
  },
  {
   "cell_type": "code",
   "metadata": {
    "ExecuteTime": {
     "end_time": "2024-08-13T21:23:28.782254Z",
     "start_time": "2024-08-13T21:23:26.282003Z"
    }
   },
   "source": [
    "from pymoo.algorithms.soo.nonconvex.ga import GA\n",
    "from pymoo.optimize import minimize\n",
    "from pymoo.operators.sampling.rnd import IntegerRandomSampling\n",
    "from pymoo.operators.crossover.sbx import SBX\n",
    "from pymoo.operators.mutation.pm import PM\n",
    "from pymoo.operators.repair.rounding import RoundingRepair\n",
    "\n",
    "model = Queso()\n",
    "\n",
    "algorithm = GA(\n",
    "    # pop_size=200,\n",
    "    sampling=IntegerRandomSampling(),\n",
    "    crossover=SBX(prob=1.0, eta=3.0, vtype=float, repair=RoundingRepair()),\n",
    "    mutation=PM(prob=1.0, eta=3.0, vtype=float, repair=RoundingRepair()),\n",
    "    eliminate_duplicates=True\n",
    ")\n",
    "\n",
    "res = minimize(model,\n",
    "               algorithm,\n",
    "               # termination,\n",
    "               seed=1,\n",
    "               verbose=False)\n",
    "\n",
    "print(f'F: {res.F}, \\nX: {res.X}')"
   ],
   "outputs": [
    {
     "name": "stdout",
     "output_type": "stream",
     "text": [
      "\n",
      "Compiled modules for significant speedup can not be used!\n",
      "https://pymoo.org/installation.html#installation\n",
      "\n",
      "To disable this warning:\n",
      "from pymoo.config import Config\n",
      "Config.warnings['not_compiled'] = False\n",
      "\n",
      "F: [2029383.], \n",
      "X: [ 1  0  2  0  0  0  2  3  0  2  1 12  8  3  0  6  5  0 14  1]\n"
     ]
    }
   ],
   "execution_count": 8
  },
  {
   "metadata": {
    "ExecuteTime": {
     "end_time": "2024-08-13T21:23:28.791030Z",
     "start_time": "2024-08-13T21:23:28.783253Z"
    }
   },
   "cell_type": "code",
   "source": [
    "# Alterar elementos en un individuo, esto puede usarse para mutación en GA y SA\n",
    "\n",
    "# Valores en cero\n",
    "def mutar_capacidad(single, idx_mut, capacidades):\n",
    "    delta = capacidades[idx_mut]\n",
    "    ca = list(np.nonzero(single)[0])\n",
    "    idx = -1\n",
    "    \n",
    "    single[idx_mut] = delta\n",
    "    \n",
    "    while np.sum(single) != DEMANDA:\n",
    "        if len(ca) > 0:\n",
    "            idx = np.random.choice(ca)\n",
    "            ca.remove(idx)\n",
    "        \n",
    "        if single[idx] - delta >= 0:\n",
    "            single[idx] -= delta\n",
    "        else:\n",
    "            delta -= single[idx]\n",
    "            single[idx] = 0\n",
    "            \n",
    "\n",
    "# Valores no cero\n",
    "def mutar_cero(single, idx_mut, capacidades):\n",
    "    delta = single[idx_mut]\n",
    "    ca = list(np.where(single == 0)[0])\n",
    "    idx = -1\n",
    "    \n",
    "    single[idx_mut] = 0\n",
    "    \n",
    "    while np.sum(single) != DEMANDA:\n",
    "        if len(ca) > 0:\n",
    "            idx = np.random.choice(ca)\n",
    "            ca.remove(idx)\n",
    "        \n",
    "        if capacidades[idx] == single[idx]:\n",
    "            continue\n",
    "        \n",
    "        if single[idx] + delta > capacidades[idx]:\n",
    "            delta -= capacidades[idx] - single[idx]\n",
    "            single[idx] = capacidades[idx]\n",
    "        else:\n",
    "            single[idx] += delta\n",
    "            delta = 0"
   ],
   "outputs": [],
   "execution_count": 9
  },
  {
   "metadata": {},
   "cell_type": "markdown",
   "source": [
    "## Generación \n",
    "De nuevas posibles soluciones"
   ]
  },
  {
   "metadata": {
    "ExecuteTime": {
     "end_time": "2024-08-13T21:23:28.799596Z",
     "start_time": "2024-08-13T21:23:28.792035Z"
    }
   },
   "cell_type": "code",
   "source": [
    "from pymoo.core.sampling import Sampling\n",
    "\n",
    "class TopOrZeroSampling(Sampling):\n",
    "    def _do(self, problem, n_samples, **kwargs):\n",
    "        gen_matrix = np.zeros((n_samples, problem.n_var), dtype=float)\n",
    "\n",
    "        for i in range(n_samples):\n",
    "            while np.sum(gen_matrix[i]) < DEMANDA:\n",
    "                idx = np.random.randint(problem.n_var)\n",
    "                gen_matrix[i, idx] += np.random.choice((0, capacidades[idx]))\n",
    "\n",
    "                if np.sum(gen_matrix[i]) > DEMANDA:\n",
    "                    gen_matrix[i, idx] = gen_matrix[i, idx] - (np.sum(gen_matrix[i]) - DEMANDA)\n",
    "\n",
    "        return gen_matrix"
   ],
   "outputs": [],
   "execution_count": 10
  },
  {
   "metadata": {},
   "cell_type": "markdown",
   "source": [
    "## Cruce\n",
    "1. Para cada individuo en una muestra, se selecciona al azar otro individuo \n",
    "2. Se usa un índice (en medio) para separar el cruce de genes\n",
    "3. Se crea el nuevo individuo "
   ]
  },
  {
   "metadata": {
    "ExecuteTime": {
     "end_time": "2024-08-13T21:23:28.807952Z",
     "start_time": "2024-08-13T21:23:28.800601Z"
    }
   },
   "cell_type": "code",
   "source": "from pymoo.core.crossover import Crossover\n",
   "outputs": [],
   "execution_count": 11
  },
  {
   "metadata": {},
   "cell_type": "markdown",
   "source": [
    "## Mutación\n",
    "1. Tomar un índice (cacopio) aleatorio\n",
    "2. **Si es cero:**\n",
    "3. Cambiar a la cantidad máxima de la capacidad del centro de acopio\n",
    "4. La cantidad que se asignó, restarla a lo largo de los demás centros de acopio para mantener la restricción de igualdad\n",
    "5. **Sino:**\n",
    "6. Cambiar a cero\n",
    "7. La cantidad que se eliminó, sumarla en los demás centros de acopio para mantener la restricción de igualdad"
   ]
  },
  {
   "metadata": {
    "ExecuteTime": {
     "end_time": "2024-08-13T21:23:28.816885Z",
     "start_time": "2024-08-13T21:23:28.808952Z"
    }
   },
   "cell_type": "code",
   "source": [
    "from pymoo.core.mutation import Mutation\n",
    "\n",
    "class Mut(Mutation):\n",
    "    def __init__(self):\n",
    "        super().__init__()\n",
    "\n",
    "    def _do(self, problem, X, **kwargs):\n",
    "        for i in range(len(X)):\n",
    "            r = np.random.random()\n",
    "\n",
    "            if r < 0.4:\n",
    "                idx_mut = np.random.randint(X.shape[1])\n",
    "\n",
    "                if X[i][idx_mut] == 0:\n",
    "                    mutar_capacidad(X[i], idx_mut, capacidades)\n",
    "                else:\n",
    "                    mutar_cero(X[i], idx_mut, capacidades)\n",
    "            \n",
    "        return X"
   ],
   "outputs": [],
   "execution_count": 12
  },
  {
   "metadata": {
    "ExecuteTime": {
     "end_time": "2024-08-13T21:29:32.095890Z",
     "start_time": "2024-08-13T21:23:37.999022Z"
    }
   },
   "cell_type": "code",
   "source": [
    "class Cross(Crossover):\n",
    "    def __init__(self):\n",
    "        # Parents, Offspring\n",
    "        super().__init__(2, 1)\n",
    "\n",
    "    def _do(self, problem, X, **kwargs):\n",
    "        # n_parents, n_matings, n_var\n",
    "        _, n_matings, n_var = X.shape\n",
    "\n",
    "        Y = np.zeros((n_matings, n_var))\n",
    "\n",
    "        for idx in range(n_matings):\n",
    "\n",
    "            p1 = X[0, idx, : n_var//2]\n",
    "            p2 = X[1, idx, n_var//2 : n_var]\n",
    "\n",
    "            offspring = np.concatenate((p1, p2))\n",
    "            Y[idx, :] = offspring\n",
    "            \n",
    "            idx_mut = np.random.randint(n_var)\n",
    "            \n",
    "            if np.sum(Y[idx]) > DEMANDA:\n",
    "                mutar_cero(Y[idx], idx_mut, capacidades)\n",
    "            else:\n",
    "                mutar_capacidad(Y[idx], idx_mut, capacidades)\n",
    "                \n",
    "        for asd in range(n_matings):\n",
    "            print(f'y: {Y[asd]}\\tSuma: {np.sum(Y[asd])}')\n",
    "\n",
    "        return Y\n",
    "\n",
    "algorithm = GA(\n",
    "    pop_size=10,\n",
    "    sampling=TopOrZeroSampling(),\n",
    "    crossover=Cross(),\n",
    "    # mutation=Mut(),\n",
    "    eliminate_duplicates=True\n",
    ")\n",
    "\n",
    "res = minimize(model,\n",
    "               algorithm,\n",
    "               seed=1,\n",
    "               verbose=True)\n",
    "\n",
    "print(f'F: {res.F}, \\nX: {res.X}')"
   ],
   "outputs": [
    {
     "name": "stdout",
     "output_type": "stream",
     "text": [
      "=================================================================================\n",
      "n_gen  |  n_eval  |     cv_min    |     cv_avg    |     f_avg     |     f_min    \n",
      "=================================================================================\n",
      "     1 |       10 |  0.000000E+00 |  0.000000E+00 |  1.987076E+06 |  1.327460E+06\n"
     ]
    },
    {
     "ename": "KeyboardInterrupt",
     "evalue": "",
     "output_type": "error",
     "traceback": [
      "\u001B[1;31m---------------------------------------------------------------------------\u001B[0m",
      "\u001B[1;31mKeyboardInterrupt\u001B[0m                         Traceback (most recent call last)",
      "Cell \u001B[1;32mIn[14], line 40\u001B[0m\n\u001B[0;32m     30\u001B[0m         \u001B[38;5;28;01mreturn\u001B[39;00m Y\n\u001B[0;32m     32\u001B[0m algorithm \u001B[38;5;241m=\u001B[39m GA(\n\u001B[0;32m     33\u001B[0m     pop_size\u001B[38;5;241m=\u001B[39m\u001B[38;5;241m10\u001B[39m,\n\u001B[0;32m     34\u001B[0m     sampling\u001B[38;5;241m=\u001B[39mTopOrZeroSampling(),\n\u001B[1;32m   (...)\u001B[0m\n\u001B[0;32m     37\u001B[0m     eliminate_duplicates\u001B[38;5;241m=\u001B[39m\u001B[38;5;28;01mTrue\u001B[39;00m\n\u001B[0;32m     38\u001B[0m )\n\u001B[1;32m---> 40\u001B[0m res \u001B[38;5;241m=\u001B[39m minimize(model,\n\u001B[0;32m     41\u001B[0m                algorithm,\n\u001B[0;32m     42\u001B[0m                seed\u001B[38;5;241m=\u001B[39m\u001B[38;5;241m1\u001B[39m,\n\u001B[0;32m     43\u001B[0m                verbose\u001B[38;5;241m=\u001B[39m\u001B[38;5;28;01mTrue\u001B[39;00m)\n\u001B[0;32m     45\u001B[0m \u001B[38;5;28mprint\u001B[39m(\u001B[38;5;124mf\u001B[39m\u001B[38;5;124m'\u001B[39m\u001B[38;5;124mF: \u001B[39m\u001B[38;5;132;01m{\u001B[39;00mres\u001B[38;5;241m.\u001B[39mF\u001B[38;5;132;01m}\u001B[39;00m\u001B[38;5;124m, \u001B[39m\u001B[38;5;130;01m\\n\u001B[39;00m\u001B[38;5;124mX: \u001B[39m\u001B[38;5;132;01m{\u001B[39;00mres\u001B[38;5;241m.\u001B[39mX\u001B[38;5;132;01m}\u001B[39;00m\u001B[38;5;124m'\u001B[39m)\n",
      "File \u001B[1;32m~\\AppData\\Roaming\\Python\\Python312\\site-packages\\pymoo\\optimize.py:67\u001B[0m, in \u001B[0;36mminimize\u001B[1;34m(problem, algorithm, termination, copy_algorithm, copy_termination, **kwargs)\u001B[0m\n\u001B[0;32m     64\u001B[0m     algorithm\u001B[38;5;241m.\u001B[39msetup(problem, \u001B[38;5;241m*\u001B[39m\u001B[38;5;241m*\u001B[39mkwargs)\n\u001B[0;32m     66\u001B[0m \u001B[38;5;66;03m# actually execute the algorithm\u001B[39;00m\n\u001B[1;32m---> 67\u001B[0m res \u001B[38;5;241m=\u001B[39m algorithm\u001B[38;5;241m.\u001B[39mrun()\n\u001B[0;32m     69\u001B[0m \u001B[38;5;66;03m# store the deep copied algorithm in the result object\u001B[39;00m\n\u001B[0;32m     70\u001B[0m res\u001B[38;5;241m.\u001B[39malgorithm \u001B[38;5;241m=\u001B[39m algorithm\n",
      "File \u001B[1;32m~\\AppData\\Roaming\\Python\\Python312\\site-packages\\pymoo\\core\\algorithm.py:138\u001B[0m, in \u001B[0;36mAlgorithm.run\u001B[1;34m(self)\u001B[0m\n\u001B[0;32m    136\u001B[0m \u001B[38;5;28;01mdef\u001B[39;00m \u001B[38;5;21mrun\u001B[39m(\u001B[38;5;28mself\u001B[39m):\n\u001B[0;32m    137\u001B[0m     \u001B[38;5;28;01mwhile\u001B[39;00m \u001B[38;5;28mself\u001B[39m\u001B[38;5;241m.\u001B[39mhas_next():\n\u001B[1;32m--> 138\u001B[0m         \u001B[38;5;28mself\u001B[39m\u001B[38;5;241m.\u001B[39mnext()\n\u001B[0;32m    139\u001B[0m     \u001B[38;5;28;01mreturn\u001B[39;00m \u001B[38;5;28mself\u001B[39m\u001B[38;5;241m.\u001B[39mresult()\n",
      "File \u001B[1;32m~\\AppData\\Roaming\\Python\\Python312\\site-packages\\pymoo\\core\\algorithm.py:154\u001B[0m, in \u001B[0;36mAlgorithm.next\u001B[1;34m(self)\u001B[0m\n\u001B[0;32m    151\u001B[0m \u001B[38;5;28;01mdef\u001B[39;00m \u001B[38;5;21mnext\u001B[39m(\u001B[38;5;28mself\u001B[39m):\n\u001B[0;32m    152\u001B[0m \n\u001B[0;32m    153\u001B[0m     \u001B[38;5;66;03m# get the infill solutions\u001B[39;00m\n\u001B[1;32m--> 154\u001B[0m     infills \u001B[38;5;241m=\u001B[39m \u001B[38;5;28mself\u001B[39m\u001B[38;5;241m.\u001B[39minfill()\n\u001B[0;32m    156\u001B[0m     \u001B[38;5;66;03m# call the advance with them after evaluation\u001B[39;00m\n\u001B[0;32m    157\u001B[0m     \u001B[38;5;28;01mif\u001B[39;00m infills \u001B[38;5;129;01mis\u001B[39;00m \u001B[38;5;129;01mnot\u001B[39;00m \u001B[38;5;28;01mNone\u001B[39;00m:\n",
      "File \u001B[1;32m~\\AppData\\Roaming\\Python\\Python312\\site-packages\\pymoo\\core\\algorithm.py:190\u001B[0m, in \u001B[0;36mAlgorithm.infill\u001B[1;34m(self)\u001B[0m\n\u001B[0;32m    186\u001B[0m     infills \u001B[38;5;241m=\u001B[39m \u001B[38;5;28mself\u001B[39m\u001B[38;5;241m.\u001B[39m_initialize_infill()\n\u001B[0;32m    188\u001B[0m \u001B[38;5;28;01melse\u001B[39;00m:\n\u001B[0;32m    189\u001B[0m     \u001B[38;5;66;03m# request the infill solutions if the algorithm has implemented it\u001B[39;00m\n\u001B[1;32m--> 190\u001B[0m     infills \u001B[38;5;241m=\u001B[39m \u001B[38;5;28mself\u001B[39m\u001B[38;5;241m.\u001B[39m_infill()\n\u001B[0;32m    192\u001B[0m \u001B[38;5;66;03m# set the current generation to the offsprings\u001B[39;00m\n\u001B[0;32m    193\u001B[0m \u001B[38;5;28;01mif\u001B[39;00m infills \u001B[38;5;129;01mis\u001B[39;00m \u001B[38;5;129;01mnot\u001B[39;00m \u001B[38;5;28;01mNone\u001B[39;00m:\n",
      "File \u001B[1;32m~\\AppData\\Roaming\\Python\\Python312\\site-packages\\pymoo\\algorithms\\base\\genetic.py:85\u001B[0m, in \u001B[0;36mGeneticAlgorithm._infill\u001B[1;34m(self)\u001B[0m\n\u001B[0;32m     82\u001B[0m \u001B[38;5;28;01mdef\u001B[39;00m \u001B[38;5;21m_infill\u001B[39m(\u001B[38;5;28mself\u001B[39m):\n\u001B[0;32m     83\u001B[0m \n\u001B[0;32m     84\u001B[0m     \u001B[38;5;66;03m# do the mating using the current population\u001B[39;00m\n\u001B[1;32m---> 85\u001B[0m     off \u001B[38;5;241m=\u001B[39m \u001B[38;5;28mself\u001B[39m\u001B[38;5;241m.\u001B[39mmating\u001B[38;5;241m.\u001B[39mdo(\u001B[38;5;28mself\u001B[39m\u001B[38;5;241m.\u001B[39mproblem, \u001B[38;5;28mself\u001B[39m\u001B[38;5;241m.\u001B[39mpop, \u001B[38;5;28mself\u001B[39m\u001B[38;5;241m.\u001B[39mn_offsprings, algorithm\u001B[38;5;241m=\u001B[39m\u001B[38;5;28mself\u001B[39m)\n\u001B[0;32m     87\u001B[0m     \u001B[38;5;66;03m# if the mating could not generate any new offspring (duplicate elimination might make that happen)\u001B[39;00m\n\u001B[0;32m     88\u001B[0m     \u001B[38;5;28;01mif\u001B[39;00m \u001B[38;5;28mlen\u001B[39m(off) \u001B[38;5;241m==\u001B[39m \u001B[38;5;241m0\u001B[39m:\n",
      "File \u001B[1;32m~\\AppData\\Roaming\\Python\\Python312\\site-packages\\pymoo\\core\\infill.py:38\u001B[0m, in \u001B[0;36mInfillCriterion.do\u001B[1;34m(self, problem, pop, n_offsprings, **kwargs)\u001B[0m\n\u001B[0;32m     35\u001B[0m n_remaining \u001B[38;5;241m=\u001B[39m n_offsprings \u001B[38;5;241m-\u001B[39m \u001B[38;5;28mlen\u001B[39m(off)\n\u001B[0;32m     37\u001B[0m \u001B[38;5;66;03m# do the mating\u001B[39;00m\n\u001B[1;32m---> 38\u001B[0m _off \u001B[38;5;241m=\u001B[39m \u001B[38;5;28mself\u001B[39m\u001B[38;5;241m.\u001B[39m_do(problem, pop, n_remaining, \u001B[38;5;241m*\u001B[39m\u001B[38;5;241m*\u001B[39mkwargs)\n\u001B[0;32m     40\u001B[0m \u001B[38;5;66;03m# repair the individuals if necessary - disabled if repair is NoRepair\u001B[39;00m\n\u001B[0;32m     41\u001B[0m _off \u001B[38;5;241m=\u001B[39m \u001B[38;5;28mself\u001B[39m\u001B[38;5;241m.\u001B[39mrepair(problem, _off, \u001B[38;5;241m*\u001B[39m\u001B[38;5;241m*\u001B[39mkwargs)\n",
      "File \u001B[1;32m~\\AppData\\Roaming\\Python\\Python312\\site-packages\\pymoo\\core\\mating.py:31\u001B[0m, in \u001B[0;36mMating._do\u001B[1;34m(self, problem, pop, n_offsprings, parents, **kwargs)\u001B[0m\n\u001B[0;32m     28\u001B[0m     parents \u001B[38;5;241m=\u001B[39m \u001B[38;5;28mself\u001B[39m\u001B[38;5;241m.\u001B[39mselection(problem, pop, n_matings, n_parents\u001B[38;5;241m=\u001B[39m\u001B[38;5;28mself\u001B[39m\u001B[38;5;241m.\u001B[39mcrossover\u001B[38;5;241m.\u001B[39mn_parents, \u001B[38;5;241m*\u001B[39m\u001B[38;5;241m*\u001B[39mkwargs)\n\u001B[0;32m     30\u001B[0m \u001B[38;5;66;03m# do the crossover using the parents index and the population - additional data provided if necessary\u001B[39;00m\n\u001B[1;32m---> 31\u001B[0m off \u001B[38;5;241m=\u001B[39m \u001B[38;5;28mself\u001B[39m\u001B[38;5;241m.\u001B[39mcrossover(problem, parents, \u001B[38;5;241m*\u001B[39m\u001B[38;5;241m*\u001B[39mkwargs)\n\u001B[0;32m     33\u001B[0m \u001B[38;5;66;03m# do the mutation on the offsprings created through crossover\u001B[39;00m\n\u001B[0;32m     34\u001B[0m off \u001B[38;5;241m=\u001B[39m \u001B[38;5;28mself\u001B[39m\u001B[38;5;241m.\u001B[39mmutation(problem, off, \u001B[38;5;241m*\u001B[39m\u001B[38;5;241m*\u001B[39mkwargs)\n",
      "File \u001B[1;32m~\\AppData\\Roaming\\Python\\Python312\\site-packages\\pymoo\\core\\operator.py:27\u001B[0m, in \u001B[0;36mOperator.__call__\u001B[1;34m(self, problem, elem, to_numpy, *args, **kwargs)\u001B[0m\n\u001B[0;32m     26\u001B[0m \u001B[38;5;28;01mdef\u001B[39;00m \u001B[38;5;21m__call__\u001B[39m(\u001B[38;5;28mself\u001B[39m, problem, elem, \u001B[38;5;241m*\u001B[39margs, to_numpy\u001B[38;5;241m=\u001B[39m\u001B[38;5;28;01mFalse\u001B[39;00m, \u001B[38;5;241m*\u001B[39m\u001B[38;5;241m*\u001B[39mkwargs):\n\u001B[1;32m---> 27\u001B[0m     out \u001B[38;5;241m=\u001B[39m \u001B[38;5;28mself\u001B[39m\u001B[38;5;241m.\u001B[39mdo(problem, elem, \u001B[38;5;241m*\u001B[39margs, \u001B[38;5;241m*\u001B[39m\u001B[38;5;241m*\u001B[39mkwargs)\n\u001B[0;32m     29\u001B[0m     \u001B[38;5;28;01mif\u001B[39;00m \u001B[38;5;28mself\u001B[39m\u001B[38;5;241m.\u001B[39mvtype \u001B[38;5;129;01mis\u001B[39;00m \u001B[38;5;129;01mnot\u001B[39;00m \u001B[38;5;28;01mNone\u001B[39;00m:\n\u001B[0;32m     30\u001B[0m         \u001B[38;5;28;01mfor\u001B[39;00m ind \u001B[38;5;129;01min\u001B[39;00m out:\n",
      "File \u001B[1;32m~\\AppData\\Roaming\\Python\\Python312\\site-packages\\pymoo\\core\\crossover.py:48\u001B[0m, in \u001B[0;36mCrossover.do\u001B[1;34m(self, problem, pop, parents, **kwargs)\u001B[0m\n\u001B[0;32m     44\u001B[0m \u001B[38;5;66;03m# the design space from the parents used for the crossover\u001B[39;00m\n\u001B[0;32m     45\u001B[0m \u001B[38;5;28;01mif\u001B[39;00m np\u001B[38;5;241m.\u001B[39many(cross):\n\u001B[0;32m     46\u001B[0m \n\u001B[0;32m     47\u001B[0m     \u001B[38;5;66;03m# we can not prefilter for cross first, because there might be other variables using the same shape as X\u001B[39;00m\n\u001B[1;32m---> 48\u001B[0m     Q \u001B[38;5;241m=\u001B[39m \u001B[38;5;28mself\u001B[39m\u001B[38;5;241m.\u001B[39m_do(problem, X, \u001B[38;5;241m*\u001B[39m\u001B[38;5;241m*\u001B[39mkwargs)\n\u001B[0;32m     49\u001B[0m     \u001B[38;5;28;01massert\u001B[39;00m Q\u001B[38;5;241m.\u001B[39mshape \u001B[38;5;241m==\u001B[39m (n_offsprings, n_matings, problem\u001B[38;5;241m.\u001B[39mn_var), \u001B[38;5;124m\"\u001B[39m\u001B[38;5;124mShape is incorrect of crossover impl.\u001B[39m\u001B[38;5;124m\"\u001B[39m\n\u001B[0;32m     50\u001B[0m     Xp[:, cross] \u001B[38;5;241m=\u001B[39m Q[:, cross]\n",
      "Cell \u001B[1;32mIn[14], line 10\u001B[0m, in \u001B[0;36mCross._do\u001B[1;34m(self, problem, X, **kwargs)\u001B[0m\n\u001B[0;32m      6\u001B[0m \u001B[38;5;28;01mdef\u001B[39;00m \u001B[38;5;21m_do\u001B[39m(\u001B[38;5;28mself\u001B[39m, problem, X, \u001B[38;5;241m*\u001B[39m\u001B[38;5;241m*\u001B[39mkwargs):\n\u001B[0;32m      7\u001B[0m     \u001B[38;5;66;03m# n_parents, n_matings, n_var\u001B[39;00m\n\u001B[0;32m      8\u001B[0m     _, n_matings, n_var \u001B[38;5;241m=\u001B[39m X\u001B[38;5;241m.\u001B[39mshape\n\u001B[1;32m---> 10\u001B[0m     Y \u001B[38;5;241m=\u001B[39m np\u001B[38;5;241m.\u001B[39mzeros((n_matings, n_var))\n\u001B[0;32m     12\u001B[0m     \u001B[38;5;28;01mfor\u001B[39;00m idx \u001B[38;5;129;01min\u001B[39;00m \u001B[38;5;28mrange\u001B[39m(n_matings):\n\u001B[0;32m     14\u001B[0m         p1 \u001B[38;5;241m=\u001B[39m X[\u001B[38;5;241m0\u001B[39m, idx, : n_var\u001B[38;5;241m/\u001B[39m\u001B[38;5;241m/\u001B[39m\u001B[38;5;241m2\u001B[39m]\n",
      "File \u001B[1;32m_pydevd_bundle\\\\pydevd_cython_win32_312_64.pyx:1187\u001B[0m, in \u001B[0;36m_pydevd_bundle.pydevd_cython_win32_312_64.SafeCallWrapper.__call__\u001B[1;34m()\u001B[0m\n",
      "File \u001B[1;32m_pydevd_bundle\\\\pydevd_cython_win32_312_64.pyx:627\u001B[0m, in \u001B[0;36m_pydevd_bundle.pydevd_cython_win32_312_64.PyDBFrame.trace_dispatch\u001B[1;34m()\u001B[0m\n",
      "File \u001B[1;32m_pydevd_bundle\\\\pydevd_cython_win32_312_64.pyx:937\u001B[0m, in \u001B[0;36m_pydevd_bundle.pydevd_cython_win32_312_64.PyDBFrame.trace_dispatch\u001B[1;34m()\u001B[0m\n",
      "File \u001B[1;32m_pydevd_bundle\\\\pydevd_cython_win32_312_64.pyx:928\u001B[0m, in \u001B[0;36m_pydevd_bundle.pydevd_cython_win32_312_64.PyDBFrame.trace_dispatch\u001B[1;34m()\u001B[0m\n",
      "File \u001B[1;32m_pydevd_bundle\\\\pydevd_cython_win32_312_64.pyx:585\u001B[0m, in \u001B[0;36m_pydevd_bundle.pydevd_cython_win32_312_64.PyDBFrame.do_wait_suspend\u001B[1;34m()\u001B[0m\n",
      "File \u001B[1;32mC:\\Program Files\\JetBrains\\DataSpell 2024.1.3\\plugins\\python-ce\\helpers\\pydev\\pydevd.py:1196\u001B[0m, in \u001B[0;36mPyDB.do_wait_suspend\u001B[1;34m(self, thread, frame, event, arg, send_suspend_message, is_unhandled_exception)\u001B[0m\n\u001B[0;32m   1193\u001B[0m         from_this_thread\u001B[38;5;241m.\u001B[39mappend(frame_id)\n\u001B[0;32m   1195\u001B[0m \u001B[38;5;28;01mwith\u001B[39;00m \u001B[38;5;28mself\u001B[39m\u001B[38;5;241m.\u001B[39m_threads_suspended_single_notification\u001B[38;5;241m.\u001B[39mnotify_thread_suspended(thread_id, stop_reason):\n\u001B[1;32m-> 1196\u001B[0m     \u001B[38;5;28mself\u001B[39m\u001B[38;5;241m.\u001B[39m_do_wait_suspend(thread, frame, event, arg, suspend_type, from_this_thread)\n",
      "File \u001B[1;32mC:\\Program Files\\JetBrains\\DataSpell 2024.1.3\\plugins\\python-ce\\helpers\\pydev\\pydevd.py:1211\u001B[0m, in \u001B[0;36mPyDB._do_wait_suspend\u001B[1;34m(self, thread, frame, event, arg, suspend_type, from_this_thread)\u001B[0m\n\u001B[0;32m   1208\u001B[0m             \u001B[38;5;28mself\u001B[39m\u001B[38;5;241m.\u001B[39m_call_mpl_hook()\n\u001B[0;32m   1210\u001B[0m         \u001B[38;5;28mself\u001B[39m\u001B[38;5;241m.\u001B[39mprocess_internal_commands()\n\u001B[1;32m-> 1211\u001B[0m         time\u001B[38;5;241m.\u001B[39msleep(\u001B[38;5;241m0.01\u001B[39m)\n\u001B[0;32m   1213\u001B[0m \u001B[38;5;28mself\u001B[39m\u001B[38;5;241m.\u001B[39mcancel_async_evaluation(get_current_thread_id(thread), \u001B[38;5;28mstr\u001B[39m(\u001B[38;5;28mid\u001B[39m(frame)))\n\u001B[0;32m   1215\u001B[0m \u001B[38;5;66;03m# process any stepping instructions\u001B[39;00m\n",
      "\u001B[1;31mKeyboardInterrupt\u001B[0m: "
     ]
    }
   ],
   "execution_count": 14
  },
  {
   "metadata": {
    "ExecuteTime": {
     "end_time": "2024-08-13T21:23:33.199513Z",
     "start_time": "2024-08-13T21:23:33.199513Z"
    }
   },
   "cell_type": "code",
   "source": "",
   "outputs": [],
   "execution_count": null
  }
 ],
 "metadata": {
  "colab": {
   "provenance": []
  },
  "kernelspec": {
   "display_name": "Python 3 (ipykernel)",
   "language": "python",
   "name": "python3"
  },
  "language_info": {
   "codemirror_mode": {
    "name": "ipython",
    "version": 3
   },
   "file_extension": ".py",
   "mimetype": "text/x-python",
   "name": "python",
   "nbconvert_exporter": "python",
   "pygments_lexer": "ipython3",
   "version": "3.11.7"
  }
 },
 "nbformat": 4,
 "nbformat_minor": 4
}
