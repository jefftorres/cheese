{
 "nbformat": 4,
 "nbformat_minor": 0,
 "metadata": {
  "colab": {
   "provenance": []
  },
  "kernelspec": {
   "name": "python3",
   "language": "python",
   "display_name": "Python 3 (ipykernel)"
  },
  "language_info": {
   "name": "python"
  }
 },
 "cells": [
  {
   "cell_type": "code",
   "metadata": {
    "id": "sLLmzB6qJwiG",
    "ExecuteTime": {
     "end_time": "2024-06-16T09:52:01.461398200Z",
     "start_time": "2024-06-16T09:52:00.618192800Z"
    }
   },
   "source": [
    "import numpy as np\n",
    "import pandas as pd"
   ],
   "outputs": [],
   "execution_count": 1
  },
  {
   "cell_type": "markdown",
   "source": [
    "## Conjuntos \n",
    "Del modelo de optimización\n",
    "\n",
    "| **Término** | **Descripción**                |\n",
    "|-------------|--------------------------------|\n",
    "| $I$         | Conjunto de productores        |\n",
    "| $J$         | Conjunto de centros de acopio  |\n",
    "| $K$         | Conjunto de clientes           |\n",
    "| $P$         | Conjunto de productos          |\n",
    "| $T$         | Conjunto de periodos de tiempo |"
   ],
   "metadata": {
    "id": "ZZ20H0g88fr9"
   }
  },
  {
   "cell_type": "code",
   "source": [
    "# I = 'Productores'\n",
    "J = 'CAcopios'\n",
    "K = 'Clientes'\n",
    "P = 'Productos'\n",
    "# T = 'Tiempo'"
   ],
   "metadata": {
    "id": "rIc1Q2z08Ejj",
    "ExecuteTime": {
     "end_time": "2024-06-16T09:52:01.472733100Z",
     "start_time": "2024-06-16T09:52:01.464647900Z"
    }
   },
   "outputs": [],
   "execution_count": 2
  },
  {
   "cell_type": "code",
   "source": [
    "csv_base = './csv/'\n",
    "\n",
    "routes = {\n",
    "    # Capacidades de centros de acopio\n",
    "    'cic': 'CapInvCA.csv',\n",
    "    'cictest': 'CapInvCAtest.csv',\n",
    "    # Costo fijo del centro de acopio\n",
    "    'cfa': 'CostoFijoCA.csv',\n",
    "    'cfatest': 'CostoFijoCAtest.csv',\n",
    "    # Costo variable del centro de acopio\n",
    "    'cva' : 'CostoVarCA.csv',\n",
    "    # Costo de inventario del centro de acopio\n",
    "    'cia' : 'CostoInvCA.csv',\n",
    "    'ciatest' : 'CostoInvCAtest.csv',\n",
    "    # Costo de transporte del centro de acopio al cliente\n",
    "    'ctac' : 'CostoTransCAClie.csv',\n",
    "    'ctactest' : 'CostoTransCAClietest.csv'\n",
    "    \n",
    "}\n",
    "\n",
    "csv_config = {\n",
    "    'delimiter' : ';',\n",
    "    'decimal' : ','\n",
    "}\n",
    "\n",
    "# pd.read_csv(csv_base + routes['cfa'], **csv_config)"
   ],
   "metadata": {
    "id": "vQTQCvL0-G49",
    "ExecuteTime": {
     "end_time": "2024-06-16T09:52:01.515311100Z",
     "start_time": "2024-06-16T09:52:01.469191700Z"
    }
   },
   "outputs": [],
   "execution_count": 3
  },
  {
   "metadata": {},
   "cell_type": "markdown",
   "source": [
    "## Centros de acopio"
   ]
  },
  {
   "metadata": {
    "ExecuteTime": {
     "end_time": "2024-06-16T09:52:01.552074500Z",
     "start_time": "2024-06-16T09:52:01.517305100Z"
    }
   },
   "cell_type": "code",
   "source": [
    "J_df = pd.read_csv(csv_base + J + 'test' + '.csv')\n",
    "J_df"
   ],
   "outputs": [
    {
     "data": {
      "text/plain": "             CAcopios\n0  San Juan del Cesar\n1            Riohacha\n2              Maicao",
      "text/html": "<div>\n<style scoped>\n    .dataframe tbody tr th:only-of-type {\n        vertical-align: middle;\n    }\n\n    .dataframe tbody tr th {\n        vertical-align: top;\n    }\n\n    .dataframe thead th {\n        text-align: right;\n    }\n</style>\n<table border=\"1\" class=\"dataframe\">\n  <thead>\n    <tr style=\"text-align: right;\">\n      <th></th>\n      <th>CAcopios</th>\n    </tr>\n  </thead>\n  <tbody>\n    <tr>\n      <th>0</th>\n      <td>San Juan del Cesar</td>\n    </tr>\n    <tr>\n      <th>1</th>\n      <td>Riohacha</td>\n    </tr>\n    <tr>\n      <th>2</th>\n      <td>Maicao</td>\n    </tr>\n  </tbody>\n</table>\n</div>"
     },
     "execution_count": 4,
     "metadata": {},
     "output_type": "execute_result"
    }
   ],
   "execution_count": 4
  },
  {
   "metadata": {},
   "cell_type": "markdown",
   "source": [
    "## Clientes"
   ]
  },
  {
   "metadata": {
    "ExecuteTime": {
     "end_time": "2024-06-16T09:52:01.570510Z",
     "start_time": "2024-06-16T09:52:01.544588400Z"
    }
   },
   "cell_type": "code",
   "source": [
    "K_df = pd.read_csv(csv_base + K + 'test' + '.csv')\n",
    "K_df"
   ],
   "outputs": [
    {
     "data": {
      "text/plain": "        Clientes\n0  Distribuidor1\n1  Distribuidor2",
      "text/html": "<div>\n<style scoped>\n    .dataframe tbody tr th:only-of-type {\n        vertical-align: middle;\n    }\n\n    .dataframe tbody tr th {\n        vertical-align: top;\n    }\n\n    .dataframe thead th {\n        text-align: right;\n    }\n</style>\n<table border=\"1\" class=\"dataframe\">\n  <thead>\n    <tr style=\"text-align: right;\">\n      <th></th>\n      <th>Clientes</th>\n    </tr>\n  </thead>\n  <tbody>\n    <tr>\n      <th>0</th>\n      <td>Distribuidor1</td>\n    </tr>\n    <tr>\n      <th>1</th>\n      <td>Distribuidor2</td>\n    </tr>\n  </tbody>\n</table>\n</div>"
     },
     "execution_count": 5,
     "metadata": {},
     "output_type": "execute_result"
    }
   ],
   "execution_count": 5
  },
  {
   "metadata": {},
   "cell_type": "markdown",
   "source": [
    "## Productos"
   ]
  },
  {
   "metadata": {
    "ExecuteTime": {
     "end_time": "2024-06-16T09:52:01.635721900Z",
     "start_time": "2024-06-16T09:52:01.558581Z"
    }
   },
   "cell_type": "code",
   "source": [
    "P_df = pd.read_csv(csv_base + P + '.csv')\n",
    "P_df.head()"
   ],
   "outputs": [
    {
     "data": {
      "text/plain": "      Productos\n0    Queso duro\n1  Queso blando",
      "text/html": "<div>\n<style scoped>\n    .dataframe tbody tr th:only-of-type {\n        vertical-align: middle;\n    }\n\n    .dataframe tbody tr th {\n        vertical-align: top;\n    }\n\n    .dataframe thead th {\n        text-align: right;\n    }\n</style>\n<table border=\"1\" class=\"dataframe\">\n  <thead>\n    <tr style=\"text-align: right;\">\n      <th></th>\n      <th>Productos</th>\n    </tr>\n  </thead>\n  <tbody>\n    <tr>\n      <th>0</th>\n      <td>Queso duro</td>\n    </tr>\n    <tr>\n      <th>1</th>\n      <td>Queso blando</td>\n    </tr>\n  </tbody>\n</table>\n</div>"
     },
     "execution_count": 6,
     "metadata": {},
     "output_type": "execute_result"
    }
   ],
   "execution_count": 6
  },
  {
   "cell_type": "markdown",
   "source": [
    "# Escenarios de prueba\n",
    "Tomando demandas por cada centro de acopio, se definen distintos escenarios de posibles casos.\n",
    "\n",
    "**Escenario 1**: Un centro de acopio sobrepasa la demanda del cliente\n",
    "- El modelo puede asignar dicho centro de acopio para suplir con la demanda\n",
    "- El centro de acopio debe proveer esa demanda\n",
    "\n",
    "**Escenario 2**: Ningún centro de acopio cumple con toda la demanda del cliente\n",
    "- El modelo debe dar una solución de varios centros de acopio\n",
    "- La suma de la demanda por cada centro de acopio debe ser igual a la demanda\n",
    "\n",
    "**Escenario 3**: Un centro de acopio tiene en stock exactamente la cantidad de la demanda de un cliente.\n",
    "- El modelo puede tomar el centro de acopio que tiene en stock exactamente la demanda a cumplir"
   ],
   "metadata": {
    "id": "UU6lrYtfPHem"
   }
  },
  {
   "cell_type": "markdown",
   "source": [
    "### Demandas\n",
    "Generando demandas para cada cliente, se usarán como entrada para el modelo"
   ],
   "metadata": {
    "id": "3E2jXwGK1kw3"
   }
  },
  {
   "cell_type": "code",
   "source": [
    "clientes = K_df[K].drop_duplicates()\n",
    "\n",
    "demandas = []\n",
    "\n",
    "for client in clientes:\n",
    "    demandas.append(20 * np.random.randint(10))\n",
    "\n",
    "clientes = pd.DataFrame(clientes)\n",
    "\n",
    "clientes['Demanda'] = pd.DataFrame(demandas)\n",
    "clientes"
   ],
   "metadata": {
    "id": "_9EyCBM9KaIU",
    "ExecuteTime": {
     "end_time": "2024-06-16T09:52:01.697295400Z",
     "start_time": "2024-06-16T09:52:01.574499900Z"
    }
   },
   "outputs": [
    {
     "data": {
      "text/plain": "        Clientes  Demanda\n0  Distribuidor1       60\n1  Distribuidor2      140",
      "text/html": "<div>\n<style scoped>\n    .dataframe tbody tr th:only-of-type {\n        vertical-align: middle;\n    }\n\n    .dataframe tbody tr th {\n        vertical-align: top;\n    }\n\n    .dataframe thead th {\n        text-align: right;\n    }\n</style>\n<table border=\"1\" class=\"dataframe\">\n  <thead>\n    <tr style=\"text-align: right;\">\n      <th></th>\n      <th>Clientes</th>\n      <th>Demanda</th>\n    </tr>\n  </thead>\n  <tbody>\n    <tr>\n      <th>0</th>\n      <td>Distribuidor1</td>\n      <td>60</td>\n    </tr>\n    <tr>\n      <th>1</th>\n      <td>Distribuidor2</td>\n      <td>140</td>\n    </tr>\n  </tbody>\n</table>\n</div>"
     },
     "execution_count": 7,
     "metadata": {},
     "output_type": "execute_result"
    }
   ],
   "execution_count": 7
  },
  {
   "cell_type": "markdown",
   "source": [
    "### Capacidades \n",
    "Obteniendo las capacidades de cada centro de acopio"
   ],
   "metadata": {
    "id": "x_BjEzuc1pO8"
   }
  },
  {
   "cell_type": "code",
   "source": [
    "cap_df = pd.read_csv(csv_base + routes['cictest'], **csv_config)\n",
    "\n",
    "cap_df"
   ],
   "metadata": {
    "collapsed": false,
    "ExecuteTime": {
     "end_time": "2024-06-16T09:52:01.766430200Z",
     "start_time": "2024-06-16T09:52:01.585994100Z"
    }
   },
   "outputs": [
    {
     "data": {
      "text/plain": "             CAcopios     Productos  CapInvCA\n0  San Juan del Cesar    Queso duro        50\n1  San Juan del Cesar  Queso blando       320\n2            Riohacha    Queso duro        60\n3            Riohacha  Queso blando        90\n4              Maicao    Queso duro       100\n5              Maicao  Queso blando         0",
      "text/html": "<div>\n<style scoped>\n    .dataframe tbody tr th:only-of-type {\n        vertical-align: middle;\n    }\n\n    .dataframe tbody tr th {\n        vertical-align: top;\n    }\n\n    .dataframe thead th {\n        text-align: right;\n    }\n</style>\n<table border=\"1\" class=\"dataframe\">\n  <thead>\n    <tr style=\"text-align: right;\">\n      <th></th>\n      <th>CAcopios</th>\n      <th>Productos</th>\n      <th>CapInvCA</th>\n    </tr>\n  </thead>\n  <tbody>\n    <tr>\n      <th>0</th>\n      <td>San Juan del Cesar</td>\n      <td>Queso duro</td>\n      <td>50</td>\n    </tr>\n    <tr>\n      <th>1</th>\n      <td>San Juan del Cesar</td>\n      <td>Queso blando</td>\n      <td>320</td>\n    </tr>\n    <tr>\n      <th>2</th>\n      <td>Riohacha</td>\n      <td>Queso duro</td>\n      <td>60</td>\n    </tr>\n    <tr>\n      <th>3</th>\n      <td>Riohacha</td>\n      <td>Queso blando</td>\n      <td>90</td>\n    </tr>\n    <tr>\n      <th>4</th>\n      <td>Maicao</td>\n      <td>Queso duro</td>\n      <td>100</td>\n    </tr>\n    <tr>\n      <th>5</th>\n      <td>Maicao</td>\n      <td>Queso blando</td>\n      <td>0</td>\n    </tr>\n  </tbody>\n</table>\n</div>"
     },
     "execution_count": 8,
     "metadata": {},
     "output_type": "execute_result"
    }
   ],
   "execution_count": 8
  },
  {
   "metadata": {},
   "cell_type": "markdown",
   "source": []
  },
  {
   "cell_type": "markdown",
   "source": [
    "## Función objetivo\n",
    "$$\n",
    "Min(F) = CProduccion_t + COperacion_t + CInventario_t + CTransporte_t\n",
    "$$"
   ],
   "metadata": {
    "collapsed": false
   }
  },
  {
   "cell_type": "markdown",
   "source": [
    "#### Costos de producción\n",
    "$$\n",
    "  CProduccion_t = \\sum_{i \\in I} \\sum_{j \\in J} \\sum_{p \\in P} CostoProduccion_{pit} PA_{pijt} \\qquad \\forall_t \\in T\n",
    "$$"
   ],
   "metadata": {
    "collapsed": false
   }
  },
  {
   "metadata": {
    "ExecuteTime": {
     "end_time": "2024-06-16T09:52:01.766430200Z",
     "start_time": "2024-06-16T09:52:01.603274400Z"
    }
   },
   "cell_type": "code",
   "source": [
    "# Costo producción\n",
    "# cp_df = pd.read_csv(csv_base + routes['cp'], **csv_config)\n",
    "# cp_df.head()"
   ],
   "outputs": [],
   "execution_count": 9
  },
  {
   "metadata": {},
   "cell_type": "markdown",
   "source": [
    "#### Costos de Operación\n",
    "$$\n",
    "  COperacion_t = CFijos_t + CVariables_t\n",
    "$$"
   ]
  },
  {
   "cell_type": "code",
   "source": [
    "cfa_df = pd.read_csv(csv_base + routes['cfatest'], **csv_config)\n",
    "cfa_df.head()"
   ],
   "metadata": {
    "collapsed": false,
    "ExecuteTime": {
     "end_time": "2024-06-16T09:52:01.767427Z",
     "start_time": "2024-06-16T09:52:01.606781500Z"
    }
   },
   "outputs": [
    {
     "data": {
      "text/plain": "             CAcopios     Productos  CostoFijoCA\n0  San Juan del Cesar    Queso duro        22000\n1  San Juan del Cesar  Queso blando        25000\n2            Riohacha    Queso duro        30000\n3            Riohacha  Queso blando        31000\n4              Maicao    Queso duro        28000",
      "text/html": "<div>\n<style scoped>\n    .dataframe tbody tr th:only-of-type {\n        vertical-align: middle;\n    }\n\n    .dataframe tbody tr th {\n        vertical-align: top;\n    }\n\n    .dataframe thead th {\n        text-align: right;\n    }\n</style>\n<table border=\"1\" class=\"dataframe\">\n  <thead>\n    <tr style=\"text-align: right;\">\n      <th></th>\n      <th>CAcopios</th>\n      <th>Productos</th>\n      <th>CostoFijoCA</th>\n    </tr>\n  </thead>\n  <tbody>\n    <tr>\n      <th>0</th>\n      <td>San Juan del Cesar</td>\n      <td>Queso duro</td>\n      <td>22000</td>\n    </tr>\n    <tr>\n      <th>1</th>\n      <td>San Juan del Cesar</td>\n      <td>Queso blando</td>\n      <td>25000</td>\n    </tr>\n    <tr>\n      <th>2</th>\n      <td>Riohacha</td>\n      <td>Queso duro</td>\n      <td>30000</td>\n    </tr>\n    <tr>\n      <th>3</th>\n      <td>Riohacha</td>\n      <td>Queso blando</td>\n      <td>31000</td>\n    </tr>\n    <tr>\n      <th>4</th>\n      <td>Maicao</td>\n      <td>Queso duro</td>\n      <td>28000</td>\n    </tr>\n  </tbody>\n</table>\n</div>"
     },
     "execution_count": 10,
     "metadata": {},
     "output_type": "execute_result"
    }
   ],
   "execution_count": 10
  },
  {
   "cell_type": "code",
   "source": [
    "# Costo variable\n",
    "# cva_df = pd.read_csv(csv_base + routes['cva'], **csv_config)\n",
    "# cva_df"
   ],
   "metadata": {
    "collapsed": false,
    "ExecuteTime": {
     "end_time": "2024-06-16T09:52:01.768424700Z",
     "start_time": "2024-06-16T09:52:01.626233900Z"
    }
   },
   "outputs": [],
   "execution_count": 11
  },
  {
   "cell_type": "markdown",
   "source": [
    "#### Costos de Inventario\n",
    "$$\n",
    "  CInventario_t = \\sum_{j \\in J} \\sum_{p \\in P} CostoInvAcopio_{pjt} InvCA_{pjt} \\qquad \\forall_t \\in T\n",
    "$$"
   ],
   "metadata": {
    "collapsed": false
   }
  },
  {
   "cell_type": "code",
   "source": [
    "cia_df = pd.read_csv(csv_base + routes['ciatest'], **csv_config)\n",
    "cia_df.head()"
   ],
   "metadata": {
    "collapsed": false,
    "ExecuteTime": {
     "end_time": "2024-06-16T09:52:01.769929200Z",
     "start_time": "2024-06-16T09:52:01.631733200Z"
    }
   },
   "outputs": [
    {
     "data": {
      "text/plain": "             CAcopios     Productos  CostoInvCA\n0  San Juan del Cesar    Queso duro        1000\n1  San Juan del Cesar  Queso blando        1500\n2            Riohacha    Queso duro         500\n3            Riohacha  Queso blando         800\n4              Maicao    Queso duro         900",
      "text/html": "<div>\n<style scoped>\n    .dataframe tbody tr th:only-of-type {\n        vertical-align: middle;\n    }\n\n    .dataframe tbody tr th {\n        vertical-align: top;\n    }\n\n    .dataframe thead th {\n        text-align: right;\n    }\n</style>\n<table border=\"1\" class=\"dataframe\">\n  <thead>\n    <tr style=\"text-align: right;\">\n      <th></th>\n      <th>CAcopios</th>\n      <th>Productos</th>\n      <th>CostoInvCA</th>\n    </tr>\n  </thead>\n  <tbody>\n    <tr>\n      <th>0</th>\n      <td>San Juan del Cesar</td>\n      <td>Queso duro</td>\n      <td>1000</td>\n    </tr>\n    <tr>\n      <th>1</th>\n      <td>San Juan del Cesar</td>\n      <td>Queso blando</td>\n      <td>1500</td>\n    </tr>\n    <tr>\n      <th>2</th>\n      <td>Riohacha</td>\n      <td>Queso duro</td>\n      <td>500</td>\n    </tr>\n    <tr>\n      <th>3</th>\n      <td>Riohacha</td>\n      <td>Queso blando</td>\n      <td>800</td>\n    </tr>\n    <tr>\n      <th>4</th>\n      <td>Maicao</td>\n      <td>Queso duro</td>\n      <td>900</td>\n    </tr>\n  </tbody>\n</table>\n</div>"
     },
     "execution_count": 12,
     "metadata": {},
     "output_type": "execute_result"
    }
   ],
   "execution_count": 12
  },
  {
   "cell_type": "markdown",
   "source": [
    "#### Costos de Transporte\n",
    "$$\n",
    "  CTransporte_t = \\sum_{j \\in J} \\sum_{i \\in I} \\sum_{p \\in P} CostoTransAcopio_{pijt} PA_{pijt} + \\sum_{k \\in K} \\sum_{j \\in J} \\sum_{p \\in P} CostoTransAcopioClie_{pjkt} \\qquad \\forall_t \\in T\n",
    "$$"
   ],
   "metadata": {
    "collapsed": false
   }
  },
  {
   "cell_type": "code",
   "source": [
    "# Costo productor-acopio\n",
    "# ctpa_df = pd.read_csv(csv_base + routes['ctpa'], **csv_config)\n",
    "# ctpa_df"
   ],
   "metadata": {
    "collapsed": false,
    "ExecuteTime": {
     "end_time": "2024-06-16T09:52:01.769929200Z",
     "start_time": "2024-06-16T09:52:01.650248300Z"
    }
   },
   "outputs": [],
   "execution_count": 13
  },
  {
   "cell_type": "code",
   "source": [
    "ctac_df = pd.read_csv(csv_base + routes['ctactest'], **csv_config)\n",
    "ctac_df.head()"
   ],
   "metadata": {
    "collapsed": false,
    "ExecuteTime": {
     "end_time": "2024-06-16T09:52:01.769929200Z",
     "start_time": "2024-06-16T09:52:01.657074900Z"
    }
   },
   "outputs": [
    {
     "data": {
      "text/plain": "             CAcopios       Clientes  CostoTransCAClie\n0  San Juan del Cesar  Distribuidor1             68000\n1  San Juan del Cesar  Distribuidor2             38000\n2            Riohacha  Distribuidor1             21000\n3            Riohacha  Distribuidor2             15000\n4              Maicao  Distribuidor1             99000",
      "text/html": "<div>\n<style scoped>\n    .dataframe tbody tr th:only-of-type {\n        vertical-align: middle;\n    }\n\n    .dataframe tbody tr th {\n        vertical-align: top;\n    }\n\n    .dataframe thead th {\n        text-align: right;\n    }\n</style>\n<table border=\"1\" class=\"dataframe\">\n  <thead>\n    <tr style=\"text-align: right;\">\n      <th></th>\n      <th>CAcopios</th>\n      <th>Clientes</th>\n      <th>CostoTransCAClie</th>\n    </tr>\n  </thead>\n  <tbody>\n    <tr>\n      <th>0</th>\n      <td>San Juan del Cesar</td>\n      <td>Distribuidor1</td>\n      <td>68000</td>\n    </tr>\n    <tr>\n      <th>1</th>\n      <td>San Juan del Cesar</td>\n      <td>Distribuidor2</td>\n      <td>38000</td>\n    </tr>\n    <tr>\n      <th>2</th>\n      <td>Riohacha</td>\n      <td>Distribuidor1</td>\n      <td>21000</td>\n    </tr>\n    <tr>\n      <th>3</th>\n      <td>Riohacha</td>\n      <td>Distribuidor2</td>\n      <td>15000</td>\n    </tr>\n    <tr>\n      <th>4</th>\n      <td>Maicao</td>\n      <td>Distribuidor1</td>\n      <td>99000</td>\n    </tr>\n  </tbody>\n</table>\n</div>"
     },
     "execution_count": 14,
     "metadata": {},
     "output_type": "execute_result"
    }
   ],
   "execution_count": 14
  },
  {
   "metadata": {},
   "cell_type": "markdown",
   "source": [
    "## Esquema de representación\n",
    "Se recibe la demanda $DemandaClie_{pkt}$ como parámetro de entrada.\n",
    "\n",
    "Se representa la cantidad $n$ de centros de acopio como un vector, donde se asigna una cantidad $x_i$ para cada centro de acopio $J_i$, la cantidad asignada representa la demanda que va a ser suplida por ese centro de acopio.\n",
    "$$\n",
    "\\begin{array} {|r|r|r|r|r|r|}\n",
    "    \\hline x_0 & x_1 & x_2 & x_3 & \\cdots & x_n \\\\\n",
    "    \\hline\n",
    "\\end{array}\n",
    "\\quad \\therefore \\quad x_i = AC_{pjkt}\n",
    "$$\n",
    "Donde se aplican las restricciones:\n",
    "$$\n",
    "\\begin{align*}\n",
    "    \\sum_{i=0}^{n} x_i &= DemandaClie_{pkt} \\\\\n",
    "    x_i &\\leq InvCA_{pjt}\n",
    "\\end{align*}\n",
    "$$"
   ]
  },
  {
   "metadata": {
    "ExecuteTime": {
     "end_time": "2024-06-16T09:52:01.770930300Z",
     "start_time": "2024-06-16T09:52:01.678514300Z"
    }
   },
   "cell_type": "code",
   "source": [
    "X = np.zeros(J_df.shape)\n",
    "dem = clientes.loc[0, 'Demanda']\n",
    "\n",
    "cap_queso = cap_df[cap_df[P] == 'Queso duro']\n",
    "\n",
    "for i in range(X.shape[0]):\n",
    "    rand = np.random.randint(dem)\n",
    "    cap = cap_df.loc[i, 'CapInvCA']\n",
    "        \n",
    "    if i == X.size - 1 and dem != 0:\n",
    "        X[i] = dem\n",
    "        dem -= dem\n",
    "    else:\n",
    "        if rand > cap:\n",
    "            X[i] = cap\n",
    "            dem -= cap\n",
    "        else:\n",
    "            X[i] = rand\n",
    "            dem -= rand\n",
    "    \n",
    "suma = X.sum()\n",
    "    \n",
    "print(X)\n",
    "print(f'Suma de la distribución: {suma}')"
   ],
   "outputs": [
    {
     "name": "stdout",
     "output_type": "stream",
     "text": [
      "[[50.]\n",
      " [ 9.]\n",
      " [ 1.]]\n",
      "Suma de la distribución: 60.0\n"
     ]
    }
   ],
   "execution_count": 15
  },
  {
   "metadata": {
    "ExecuteTime": {
     "end_time": "2024-06-16T09:52:01.799204100Z",
     "start_time": "2024-06-16T09:52:01.692271Z"
    }
   },
   "cell_type": "code",
   "source": [
    "def costos():\n",
    "    sum_costos_ca = []\n",
    "\n",
    "    for costo in range(X.shape[0]):\n",
    "        ca = J_df.loc[costo]\n",
    "        \n",
    "        if X[costo] == 0:\n",
    "            sum_costos_ca.append((ca.tolist()[0], 0.))\n",
    "            continue\n",
    "    \n",
    "        costo_fijo_ca = cfa_df[(cfa_df[J] == ca[J]) & (cfa_df[P] == 'Queso duro')]\n",
    "        costo_inv_ca = cia_df[(cia_df[J] == ca[J]) & (cia_df[P] == 'Queso duro')]\n",
    "        costo_trans_ca = ctac_df[(ctac_df[J] == ca[J]) & (ctac_df[K] == 'Distribuidor1')]\n",
    "    \n",
    "        delta = X[costo] + costo_fijo_ca['CostoFijoCA']\n",
    "        delta += X[costo] * costo_inv_ca['CostoInvCA']\n",
    "        delta += np.array(costo_trans_ca['CostoTransCAClie'])\n",
    "    \n",
    "        sum_costos_ca.append((ca.tolist()[0], delta.tolist()[0]))\n",
    "        \n",
    "    return sum_costos_ca\n",
    "\n",
    "costos()"
   ],
   "outputs": [
    {
     "data": {
      "text/plain": "[('San Juan del Cesar', 140050.0), ('Riohacha', 55509.0), ('Maicao', 127901.0)]"
     },
     "execution_count": 16,
     "metadata": {},
     "output_type": "execute_result"
    }
   ],
   "execution_count": 16
  },
  {
   "cell_type": "markdown",
   "source": [
    "## scipy"
   ],
   "metadata": {
    "collapsed": false
   }
  },
  {
   "cell_type": "code",
   "source": [
    "from scipy.optimize import dual_annealing\n",
    "# from scipy.optimize import differential_evolution\n",
    "\n",
    "from scipy.optimize import LinearConstraint\n",
    "\n",
    "def f(x):\n",
    "    delta = 0\n",
    "    print(f'{x} -> Suma: {x.sum()}')\n",
    "    \n",
    "    for idx in range(x.shape[0]):\n",
    "        ca = J_df.loc[idx]\n",
    "    \n",
    "        if x[idx] == 0.:\n",
    "            continue\n",
    "    \n",
    "        costo_fijo_ca = cfa_df[(cfa_df[J] == ca[J]) & (cfa_df[P] == 'Queso duro')]\n",
    "        costo_inv_ca = cia_df[(cia_df[J] == ca[J]) & (cia_df[P] == 'Queso duro')]\n",
    "        costo_trans_ca = ctac_df[(ctac_df[J] == ca[J]) & (ctac_df[K] == 'Distribuidor1')]\n",
    "    \n",
    "        delta += np.array(costo_fijo_ca['CostoFijoCA'].values[0])\n",
    "        delta += x[idx] * costo_inv_ca['CostoInvCA'].values[0]\n",
    "        delta += np.array(costo_trans_ca['CostoTransCAClie'].values[0])\n",
    "        \n",
    "    print(f'{delta}\\n')\n",
    "    \n",
    "    return delta\n",
    "\n",
    "\n",
    "bounds = [(0, x_i) for x_i in cap_queso['CapInvCA']]\n",
    "cons = {'constraints': LinearConstraint(np.ones(X.shape[0]), suma, suma)}\n",
    "x0 = [x[1] for x in costos()]\n",
    "\n",
    "result = dual_annealing(\n",
    "    f,\n",
    "    bounds=bounds,\n",
    "    minimizer_kwargs=cons,\n",
    "    maxiter=2,\n",
    "    x0=np.array(x0)\n",
    ")\n",
    "print(result)"
   ],
   "metadata": {
    "collapsed": false,
    "ExecuteTime": {
     "end_time": "2024-06-16T09:52:03.615975600Z",
     "start_time": "2024-06-16T09:52:01.720396300Z"
    }
   },
   "outputs": [
    {
     "name": "stdout",
     "output_type": "stream",
     "text": [
      "[140050.  55509. 127901.] -> Suma: 323460.0\n",
      "283183400.0\n",
      "\n",
      "[22.29601477 49.12556177 41.12556177] -> Suma: 112.54713831841946\n",
      "351871.80125415325\n",
      "\n",
      "[20.38167553 39.11094832 51.11094832] -> Suma: 110.6035721655935\n",
      "353937.0031738654\n",
      "\n",
      "[22.28241508 20.4109744  92.4109744 ] -> Suma: 135.10436388663948\n",
      "383657.7792437747\n",
      "\n",
      "[ 0.28401566 49.12556177 41.12556177] -> Suma: 90.53513921052217\n",
      "329859.80214625597\n",
      "\n",
      "[ 0.28401566 37.15374976 41.12556177] -> Suma: 78.56332720071077\n",
      "323873.89614135027\n",
      "\n",
      "[ 0.28401566 37.15374976 66.49550525] -> Suma: 103.93327067792416\n",
      "346706.8452708423\n",
      "\n",
      "[ 0.28401566 37.15374976 41.12556177] -> Suma: 78.56332720071077\n",
      "323873.89614135027\n",
      "\n",
      "[ 0.28401568 37.15374976 41.12556177] -> Suma: 78.56332721561193\n",
      "323873.89615625143\n",
      "\n",
      "[ 0.28401566 37.15374978 41.12556177] -> Suma: 78.56332721561193\n",
      "323873.89614880085\n",
      "\n",
      "[ 0.28401566 37.15374976 41.12556179] -> Suma: 78.56332721561193\n",
      "323873.8961547613\n",
      "\n",
      "[-205.90376007  330.96597403  -65.06221396] -> Suma: 60.00000000000004\n",
      "169023.23438078162\n",
      "\n",
      "[-205.90376006  330.96597403  -65.06221396] -> Suma: 60.000000014901204\n",
      "169023.23439568278\n",
      "\n",
      "[-205.90376007  330.96597405  -65.06221396] -> Suma: 60.000000014901204\n",
      "169023.2343882322\n",
      "\n",
      "[-205.90376007  330.96597403  -65.06221394] -> Suma: 60.000000014901204\n",
      "169023.23439419267\n",
      "\n",
      "[-1202.63529116  1826.06327067  -563.4279795 ] -> Suma: 60.000000000000114\n",
      "-528688.8373821689\n",
      "\n",
      "[-1202.63529115  1826.06327067  -563.4279795 ] -> Suma: 60.000000014901275\n",
      "-528688.8373672677\n",
      "\n",
      "[-1202.63529116  1826.06327068  -563.4279795 ] -> Suma: 60.000000014901275\n",
      "-528688.8373747183\n",
      "\n",
      "[-1202.63529116  1826.06327067  -563.42797949] -> Suma: 60.000000014901275\n",
      "-528688.8373687578\n",
      "\n",
      "[-6186.29294661  9301.54975384 -3055.25680723] -> Suma: 59.999999999998636\n",
      "-4017249.1961969202\n",
      "\n",
      "[-6186.2929466   9301.54975384 -3055.25680723] -> Suma: 60.0000000148998\n",
      "-4017249.196182019\n",
      "\n",
      "[-6186.29294661  9301.54975385 -3055.25680723] -> Suma: 60.0000000148998\n",
      "-4017249.1961894697\n",
      "\n",
      "[-6186.29294661  9301.54975384 -3055.25680721] -> Suma: 60.0000000148998\n",
      "-4017249.196183509\n",
      "\n",
      "[-31104.58122386  46678.98216971 -15514.40094585] -> Suma: 59.99999999999818\n",
      "-21460050.99027068\n",
      "\n",
      "[-31104.58122384  46678.98216971 -15514.40094585] -> Suma: 60.00000001489934\n",
      "-21460050.99025578\n",
      "\n",
      "[-31104.58122386  46678.98216973 -15514.40094585] -> Suma: 60.00000001489934\n",
      "-21460050.99026323\n",
      "\n",
      "[-31104.58122386  46678.98216971 -15514.40094584] -> Suma: 60.00000001489934\n",
      "-21460050.99025727\n",
      "\n",
      "[-155696.0226101   233566.14424907  -77810.12163897] -> Suma: 59.999999999970896\n",
      "-108674059.96063948\n",
      "\n",
      "[-155696.02261008  233566.14424907  -77810.12163897] -> Suma: 60.00000001487206\n",
      "-108674059.96062458\n",
      "\n",
      "[-155696.0226101   233566.14424909  -77810.12163897] -> Suma: 60.00000001487206\n",
      "-108674059.96063203\n",
      "\n",
      "[-155696.0226101   233566.14424907  -77810.12163896] -> Suma: 60.00000001487206\n",
      "-108674059.96062607\n",
      "\n",
      "[-778653.22954131 1168001.95464588 -389288.72510458] -> Suma: 59.99999999976717\n",
      "-544744104.8124841\n",
      "\n",
      "[-778653.22954129 1168001.95464588 -389288.72510458] -> Suma: 60.00000001466833\n",
      "-544744104.8124692\n",
      "\n",
      "[-778653.22954131 1168001.9546459  -389288.72510458] -> Suma: 60.00000001466833\n",
      "-544744104.8124768\n",
      "\n",
      "[-778653.22954131 1168001.95464588 -389288.72510456] -> Suma: 60.00000001466833\n",
      "-544744104.8124707\n",
      "\n",
      "[-3929025.7777169   5893580.77690927 -1964494.99919237] -> Suma: 59.99999999883585\n",
      "-2750012888.535399\n",
      "\n",
      "[-3929025.77771688  5893580.77690927 -1964494.99919237] -> Suma: 60.00000001373701\n",
      "-2750012888.535384\n",
      "\n",
      "[-3929025.7777169   5893580.77690928 -1964494.99919237] -> Suma: 60.00000001373701\n",
      "-2750012888.5353913\n",
      "\n",
      "[-3929025.7777169   5893580.77690927 -1964494.99919236] -> Suma: 60.00000001373701\n",
      "-2750012888.535385\n",
      "\n",
      "[-19235870.69574874  28854059.22748543  -9618128.53173669] -> Suma: 59.999999998137355\n",
      "-13464888760.569046\n",
      "\n",
      "[-19235870.69574872  28854059.22748543  -9618128.53173669] -> Suma: 60.000000013038516\n",
      "-13464888760.569035\n",
      "\n",
      "[-19235870.69574874  28854059.22748544  -9618128.53173669] -> Suma: 60.000000013038516\n",
      "-13464888760.569038\n",
      "\n",
      "[-19235870.69574874  28854059.22748543  -9618128.53173668] -> Suma: 60.000000013038516\n",
      "-13464888760.569033\n",
      "\n",
      "[-47808882.61728205  71714349.43307225 -23905406.81579021] -> Suma: 59.99999999254942\n",
      "-33466306034.95712\n",
      "\n",
      "[-47808882.61728203  71714349.43307225 -23905406.81579021] -> Suma: 60.00000000745058\n",
      "-33466306034.957104\n",
      "\n",
      "[-47808882.61728205  71714349.43307227 -23905406.81579021] -> Suma: 60.00000000745058\n",
      "-33466306034.95711\n",
      "\n",
      "[-47808882.61728205  71714349.43307225 -23905406.8157902 ] -> Suma: 60.00000000745058\n",
      "-33466306034.957104\n",
      "\n",
      "[-2.92720534e+08  4.39087593e+08 -1.46366999e+08] -> Suma: 59.99999997019768\n",
      "-204906768646.61273\n",
      "\n",
      "[-2.92720538e+08  4.39087593e+08 -1.46366999e+08] -> Suma: 55.63812407851219\n",
      "-204906773008.48865\n",
      "\n",
      "[-2.92720534e+08  4.39087600e+08 -1.46366999e+08] -> Suma: 66.54291495680809\n",
      "-204906765375.15524\n",
      "\n",
      "[-2.92720534e+08  4.39087593e+08 -1.46366999e+08] -> Suma: 60.0\n",
      "-204906768646.61273\n",
      "\n",
      "[-4.10912392e+08  6.16377010e+08 -2.05464558e+08] -> Suma: 59.99999997019768\n",
      "-287641721332.6788\n",
      "\n",
      "[-4.10912398e+08  6.16377010e+08 -2.05464558e+08] -> Suma: 53.87692818045616\n",
      "-287641727455.75055\n",
      "\n",
      "[-4.10912392e+08  6.16377019e+08 -2.05464558e+08] -> Suma: 69.1847331225872\n",
      "-287641716740.3122\n",
      "\n",
      "[-4.10912392e+08  6.16377010e+08 -2.05464558e+08] -> Suma: 60.0\n",
      "-287641721332.6787\n",
      "\n",
      "[-3.42292946e+09  5.13446803e+09 -1.71153852e+09] -> Suma: 59.99999928474426\n",
      "-2396079836727.2666\n",
      "\n",
      "[-3.42292951e+09  5.13446803e+09 -1.71153852e+09] -> Suma: 8.994375944137573\n",
      "-2396079887732.8896\n",
      "\n",
      "[-3.42292946e+09  5.13446811e+09 -1.71153852e+09] -> Suma: 136.509535074234\n",
      "-2396079798472.499\n",
      "\n",
      "[-3.42292946e+09  5.13446803e+09 -1.71153854e+09] -> Suma: 34.4960880279541\n",
      "-2396079859680.7866\n",
      "\n",
      "[-7.09600934e+09  1.06441665e+10 -3.54815708e+09] -> Suma: 59.999999046325684\n",
      "-4967267205724.107\n",
      "\n",
      "[-7.09600945e+09  1.06441665e+10 -3.54815708e+09] -> Suma: -45.73878002166748\n",
      "-4967267311462.887\n",
      "\n",
      "[-7.09600934e+09  1.06441666e+10 -3.54815708e+09] -> Suma: 218.61044025421143\n",
      "-4967267126418.887\n",
      "\n",
      "[-7.09600934e+09  1.06441665e+10 -3.54815713e+09] -> Suma: 7.12833833694458\n",
      "-4967267253308.603\n",
      "\n",
      "[-2.5461409e+10  3.8192659e+10 -1.2731250e+10] -> Suma: 60.000003814697266\n",
      "-17823204188321.71\n",
      "\n",
      "[-2.54614094e+10  3.81926590e+10 -1.27312500e+10] -> Suma: -319.40455627441406\n",
      "-17823204567726.273\n",
      "\n",
      "[-2.54614090e+10  3.81926596e+10 -1.27312500e+10] -> Suma: 629.1149711608887\n",
      "-17823203903764.227\n",
      "\n",
      "[-2.54614090e+10  3.81926590e+10 -1.27312502e+10] -> Suma: -129.71040534973145\n",
      "-17823204359061.08\n",
      "\n",
      "[-1.17288407e+11  1.75935121e+11 -5.86467143e+10] -> Suma: 60.00000762939453\n",
      "-82102888729872.72\n",
      "\n",
      "[-1.17288408e+11  1.75935121e+11 -5.86467143e+10] -> Suma: -1687.7334518432617\n",
      "-82102890477606.16\n",
      "\n",
      "[-1.17288407e+11  1.75935124e+11 -5.86467143e+10] -> Suma: 2681.63761138916\n",
      "-82102887419053.9\n",
      "\n",
      "[-1.17288407e+11  1.75935121e+11 -5.86467152e+10] -> Suma: -813.9041366577148\n",
      "-82102889516386.44\n",
      "\n",
      "[-5.76423377e+11  8.64647404e+11 -2.88224027e+11] -> Suma: 59.9998779296875\n",
      "-403501299172417.0\n",
      "\n",
      "[-5.76423386e+11  8.64647404e+11 -2.88224027e+11] -> Suma: -8529.377807617188\n",
      "-403501307761794.6\n",
      "\n",
      "[-5.76423377e+11  8.64647417e+11 -2.88224027e+11] -> Suma: 12944.250244140625\n",
      "-403501292730291.9\n",
      "\n",
      "[-5.76423377e+11  8.64647404e+11 -2.88224032e+11] -> Suma: -4234.872802734375\n",
      "-403501303037802.5\n",
      "\n",
      "[-2.87209834e+12  4.30820899e+12 -1.43611065e+12] -> Suma: 59.99951171875\n",
      "-2010493431494733.2\n",
      "\n",
      "[-2.87209839e+12  4.30820899e+12 -1.43611065e+12] -> Suma: -42737.60107421875\n",
      "-2010493474292333.8\n",
      "\n",
      "[-2.87209834e+12  4.30820906e+12 -1.43611065e+12] -> Suma: 64257.31640625\n",
      "-2010493399396075.0\n",
      "\n",
      "[-2.87209834e+12  4.30820899e+12 -1.43611067e+12] -> Suma: -21339.716796875\n",
      "-2010493450754478.0\n",
      "\n",
      "[-1.43504731e+13  2.15260168e+13 -7.17554371e+12] -> Suma: 59.9970703125\n",
      "-1.0045454028809256e+16\n",
      "\n",
      "[-1.43504733e+13  2.15260168e+13 -7.17554371e+12] -> Suma: -213778.7158203125\n",
      "-1.0045454242647968e+16\n",
      "\n",
      "[-1.43504731e+13  2.15260171e+13 -7.17554371e+12] -> Suma: 320822.6416015625\n",
      "-1.0045453868427934e+16\n",
      "\n",
      "[-1.43504731e+13  2.15260168e+13 -7.17554382e+12] -> Suma: -106863.9365234375\n",
      "-1.0045454125040796e+16\n",
      "\n",
      "[-7.17423461e+13  1.07615055e+14 -3.58727087e+13] -> Suma: 60.0\n",
      "-5.022025653853497e+16\n",
      "\n",
      "[-7.17423472e+13  1.07615055e+14 -3.58727087e+13] -> Suma: -1068984.265625\n",
      "-5.022025760757924e+16\n",
      "\n",
      "[-7.17423461e+13  1.07615056e+14 -3.58727087e+13] -> Suma: 1603649.28125\n",
      "-5.022025573674033e+16\n",
      "\n",
      "[-7.17423461e+13  1.07615055e+14 -3.58727092e+13] -> Suma: -534485.015625\n",
      "-5.022025701962548e+16\n",
      "\n",
      "[-3.58701715e+14  5.38060250e+14 -1.79358535e+14] -> Suma: 59.9375\n",
      "-2.51094271565749e+17\n",
      "\n",
      "[-3.58701720e+14  5.38060250e+14 -1.79358535e+14] -> Suma: -5345012.125\n",
      "-2.5109427691082112e+17\n",
      "\n",
      "[-3.58701715e+14  5.38060258e+14 -1.79358535e+14] -> Suma: 8017782.4375\n",
      "-2.5109426755688774e+17\n",
      "\n",
      "[-3.58701715e+14  5.38060250e+14 -1.79358538e+14] -> Suma: -2672590.5\n",
      "-2.510942739711344e+17\n",
      "\n",
      "[-1.79349858e+15  2.69028626e+15 -8.96787679e+14] -> Suma: 60.0\n",
      "-1.2554643620194962e+18\n",
      "\n",
      "[-1.79349861e+15  2.69028626e+15 -8.96787679e+14] -> Suma: -26725151.5\n",
      "-1.2554643887447073e+18\n",
      "\n",
      "[-1.79349858e+15  2.69028630e+15 -8.96787679e+14] -> Suma: 40088449.0\n",
      "-1.2554643419753014e+18\n",
      "\n",
      "[-1.79349858e+15  2.69028626e+15 -8.96787693e+14] -> Suma: -13363117.75\n",
      "-1.255464374046356e+18\n",
      "\n",
      "[-8.96748241e+15  1.34514156e+16 -4.48393315e+15] -> Suma: 59.5\n",
      "-6.277314468611581e+18\n",
      "\n",
      "[-8.96748255e+15  1.34514156e+16 -4.48393315e+15] -> Suma: -133625841.5\n",
      "-6.277314602237482e+18\n",
      "\n",
      "[-8.96748241e+15  1.34514158e+16 -4.48393315e+15] -> Suma: 200441771.5\n",
      "-6.277314368390725e+18\n",
      "\n",
      "[-8.96748241e+15  1.34514156e+16 -4.48393322e+15] -> Suma: -66815751.0\n",
      "-6.27731452874581e+18\n",
      "\n",
      "[-4.48374030e+16  6.72570642e+16 -2.24196612e+16] -> Suma: 60.0\n",
      "-3.1386565987533832e+19\n",
      "\n",
      "[-4.48374037e+16  6.72570642e+16 -2.24196612e+16] -> Suma: -668129308.0\n",
      "-3.1386566655663202e+19\n",
      "\n",
      "[-4.48374030e+16  6.72570652e+16 -2.24196612e+16] -> Suma: 1002208412.0\n",
      "-3.1386565486429655e+19\n",
      "\n",
      "[-4.48374030e+16  6.72570642e+16 -2.24196616e+16] -> Suma: -334078924.0\n",
      "-3.1386566288204915e+19\n",
      "\n",
      "[-2.24187006e+17  3.36285308e+17 -1.12098302e+17] -> Suma: 32.0\n",
      "-1.5693282397567146e+20\n",
      "\n",
      "[-2.24187010e+17  3.36285308e+17 -1.12098302e+17] -> Suma: -3340646688.0\n",
      "-1.569328273163182e+20\n",
      "\n",
      "[-2.24187006e+17  3.36285313e+17 -1.12098302e+17] -> Suma: 5011041632.0\n",
      "-1.569328214701507e+20\n",
      "\n",
      "[-2.24187006e+17  3.36285308e+17 -1.12098304e+17] -> Suma: -1670394832.0\n",
      "-1.5693282547902687e+20\n",
      "\n",
      "[-1.12093506e+18  1.68142658e+18 -5.60491522e+17] -> Suma: 0.0\n",
      "-7.846641370834119e+20\n",
      "\n",
      "[-1.12093507e+18  1.68142658e+18 -5.60491522e+17] -> Suma: -16703233920.0\n",
      "-7.846641537866459e+20\n",
      "\n",
      "[-1.12093506e+18  1.68142660e+18 -5.60491522e+17] -> Suma: 25055208448.0\n",
      "-7.846641245558076e+20\n",
      "\n",
      "[-1.12093506e+18  1.68142658e+18 -5.60491530e+17] -> Suma: -8351974528.0\n",
      "-7.84664144600189e+20\n",
      "\n",
      "[44.92999883 11.79973293 41.70635392] -> Suma: 98.43608567863703\n",
      "356365.5838213861\n",
      "\n",
      "[34.5707562  14.66999194 83.78913771] -> Suma: 133.0298858433962\n",
      "385315.97610265017\n",
      "\n",
      "[ 4.58349596 49.21564913 92.13731951] -> Suma: 145.93646459653974\n",
      "380114.90808203816\n",
      "\n",
      "[16.58014479 37.15374976 41.12556177] -> Suma: 94.85945632867515\n",
      "340170.02526931465\n",
      "\n",
      "[ 0.28401566  8.42928089 41.12556177] -> Suma: 49.83885832875967\n",
      "309511.6617053747\n",
      "\n",
      "[ 0.28401566  8.42928089 61.56187171] -> Suma: 70.27516826987267\n",
      "327904.3406523764\n",
      "\n",
      "[ 0.28401566  8.42928089 41.12556177] -> Suma: 49.83885832875967\n",
      "309511.6617053747\n",
      "\n",
      "[ 0.28401568  8.42928089 41.12556177] -> Suma: 49.83885834366083\n",
      "309511.6617202759\n",
      "\n",
      "[ 0.28401566  8.42928091 41.12556177] -> Suma: 49.83885834366083\n",
      "309511.6617128253\n",
      "\n",
      "[ 0.28401566  8.42928089 41.12556179] -> Suma: 49.83885834366083\n",
      "309511.66171878576\n",
      "\n",
      "[-196.32893711  311.81632812  -55.487391  ] -> Suma: 60.000000000000014\n",
      "177640.57504236695\n",
      "\n",
      "[-196.3289371   311.81632812  -55.487391  ] -> Suma: 60.000000014901175\n",
      "177640.5750572681\n",
      "\n",
      "[-196.32893711  311.81632813  -55.487391  ] -> Suma: 60.000000014901175\n",
      "177640.57504981753\n",
      "\n",
      "[-196.32893711  311.81632812  -55.48739099] -> Suma: 60.000000014901175\n",
      "177640.575055778\n",
      "\n",
      "[-1195.34682238  1810.34315601  -554.99633363] -> Suma: 59.999999999999886\n",
      "-521671.9446419468\n",
      "\n",
      "[-1195.34682236  1810.34315601  -554.99633363] -> Suma: 60.00000001490105\n",
      "-521671.94462704565\n",
      "\n",
      "[-1195.34682238  1810.34315603  -554.99633363] -> Suma: 60.00000001490105\n",
      "-521671.94463449623\n",
      "\n",
      "[-1195.34682238  1810.34315601  -554.99633362] -> Suma: 60.00000001490105\n",
      "-521671.94462853577\n",
      "\n",
      "[-6190.43624869  9302.97729549 -3052.54104679] -> Suma: 59.999999999999545\n",
      "-4018234.543063517\n",
      "\n",
      "[-6190.43624868  9302.97729549 -3052.54104679] -> Suma: 60.000000014900706\n",
      "-4018234.543048616\n",
      "\n",
      "[-6190.43624869  9302.9772955  -3052.54104679] -> Suma: 60.000000014900706\n",
      "-4018234.5430560666\n",
      "\n",
      "[-6190.43624869  9302.97729549 -3052.54104678] -> Suma: 60.000000014900706\n",
      "-4018234.543050106\n",
      "\n",
      "[-31165.88338028  46766.14799286 -15540.26461258] -> Suma: 60.0\n",
      "-21501047.53517136\n",
      "\n",
      "[-31165.88338026  46766.14799286 -15540.26461258] -> Suma: 60.00000001490116\n",
      "-21501047.53515646\n",
      "\n",
      "[-31165.88338028  46766.14799287 -15540.26461258] -> Suma: 60.00000001490116\n",
      "-21501047.53516391\n",
      "[-31165.88338028  46766.14799286 -15540.26461257] -> Suma: 60.00000001490116\n",
      "-21501047.53515795\n",
      "\n",
      "[-156043.11903819  234082.00147973  -77978.88244154] -> Suma: 59.99999999998545\n",
      "-108915112.49571049\n",
      "\n",
      "[-156043.11903817  234082.00147973  -77978.88244154] -> Suma: 60.00000001488661\n",
      "-108915112.49569559\n",
      "\n",
      "[-156043.11903819  234082.00147974  -77978.88244154] -> Suma: 60.00000001488661\n",
      "-108915112.49570304\n",
      "\n",
      "[-156043.11903819  234082.00147973  -77978.88244153] -> Suma: 60.00000001488661\n",
      "-108915112.49569708\n",
      "\n",
      "[-780429.29732775 1170661.26891407 -390171.97158632] -> Suma: 59.999999999592546\n",
      "-545985437.2984054\n",
      "\n",
      "[-780429.29732774 1170661.26891407 -390171.97158632] -> Suma: 60.00000001449371\n",
      "-545985437.2983906\n",
      "\n",
      "[-780429.29732775 1170661.26891409 -390171.97158632] -> Suma: 60.00000001449371\n",
      "-545985437.298398\n",
      "\n",
      "[-780429.29732775 1170661.26891407 -390171.97158631] -> Suma: 60.00000001449371\n",
      "-545985437.298392\n",
      "\n",
      "[-3884513.13978448  5826800.3659325  -1942227.22614802] -> Suma: 60.00000000046566\n",
      "-2718849460.351449\n",
      "\n",
      "[-3884513.13978447  5826800.3659325  -1942227.22614802] -> Suma: 60.00000001536682\n",
      "-2718849460.3514338\n",
      "\n",
      "[-3884513.13978448  5826800.36593252 -1942227.22614802] -> Suma: 60.00000001536682\n",
      "-2718849460.3514414\n",
      "\n",
      "[-3884513.13978448  5826800.3659325  -1942227.22614801] -> Suma: 60.00000001536682\n",
      "-2718849460.3514357\n",
      "\n",
      "[-19583409.11762299  29375091.61244414  -9791622.49482116] -> Suma: 59.99999999627471\n",
      "-13708055556.739956\n",
      "\n",
      "[-19583409.11762297  29375091.61244414  -9791622.49482116] -> Suma: 60.00000001117587\n",
      "-13708055556.73994\n",
      "\n",
      "[-19583409.11762299  29375091.61244415  -9791622.49482116] -> Suma: 60.00000001117587\n",
      "-13708055556.739948\n",
      "\n",
      "[-19583409.11762299  29375091.61244414  -9791622.49482114] -> Suma: 60.00000001117587\n",
      "-13708055556.739943\n",
      "\n",
      "[-9.80778890e+07  1.47116548e+08 -4.90385988e+07] -> Suma: 59.99999998509884\n",
      "-68654086038.682495\n",
      "\n",
      "[-9.80778890e+07  1.47116548e+08 -4.90385988e+07] -> Suma: 60.0\n",
      "-68654086038.68248\n",
      "\n",
      "[-9.80778890e+07  1.47116548e+08 -4.90385988e+07] -> Suma: 60.00000001490116\n",
      "-68654086038.68248\n",
      "\n",
      "[-9.80778890e+07  1.47116548e+08 -4.90385988e+07] -> Suma: 60.0\n",
      "-68654086038.68248\n",
      "\n",
      "[-5.26229390e+08  7.89342905e+08 -2.63113455e+08] -> Suma: 60.0\n",
      "-368359779026.37317\n",
      "\n",
      "[-5.26229398e+08  7.89342905e+08 -2.63113455e+08] -> Suma: 52.158571004867554\n",
      "-368359786867.8022\n",
      "\n",
      "[-5.26229390e+08  7.89342917e+08 -2.63113455e+08] -> Suma: 71.76212584972382\n",
      "-368359773145.31024\n",
      "\n",
      "[-5.26229390e+08  7.89342905e+08 -2.63113459e+08] -> Suma: 56.07930400967598\n",
      "-368359782554.9996\n",
      "\n",
      "[-2.47744147e+09  3.71615655e+09 -1.23871503e+09] -> Suma: 60.00000047683716\n",
      "-1734206445359.6619\n",
      "\n",
      "[-2.47744150e+09  3.71615655e+09 -1.23871503e+09] -> Suma: 23.083245754241943\n",
      "-1734206482276.4163\n",
      "\n",
      "[-2.47744147e+09  3.71615661e+09 -1.23871503e+09] -> Suma: 115.37504816055298\n",
      "-1734206417672.138\n",
      "\n",
      "[-2.47744147e+09  3.71615655e+09 -1.23871504e+09] -> Suma: 41.54170823097229\n",
      "-1734206461972.125\n",
      "\n",
      "[-1.22335017e+10  1.83502245e+10 -6.11672280e+09] -> Suma: 59.99999809265137\n",
      "-8563439659430.343\n",
      "\n",
      "[-1.22335019e+10  1.83502245e+10 -6.11672280e+09] -> Suma: -122.29338264465332\n",
      "-8563439841723.724\n",
      "\n",
      "[-1.22335017e+10  1.83502248e+10 -6.11672280e+09] -> Suma: 333.43965339660645\n",
      "-8563439522710.515\n",
      "\n",
      "[-1.22335017e+10  1.83502245e+10 -6.11672289e+09] -> Suma: -31.14627456665039\n",
      "-8563439741461.987\n",
      "\n",
      "[-6.10138028e+10  9.15205646e+10 -3.05067617e+10] -> Suma: 59.999977111816406\n",
      "-42709605799600.41\n",
      "\n",
      "[-6.10138037e+10  9.15205646e+10 -3.05067617e+10] -> Suma: -849.1765365600586\n",
      "-42709606708776.92\n",
      "\n",
      "[-6.10138028e+10  9.15205660e+10 -3.05067617e+10] -> Suma: 1423.7626571655273\n",
      "-42709605117719.06\n",
      "\n",
      "[-6.10138028e+10  9.15205646e+10 -3.05067622e+10] -> Suma: -394.58619689941406\n",
      "-42709606208727.96\n",
      "\n",
      "[-3.04915310e+11  4.57372266e+11 -1.52456957e+11] -> Suma: 60.000030517578125\n",
      "-213440437132889.06\n",
      "\n",
      "[-3.04915314e+11  4.57372266e+11 -1.52456957e+11] -> Suma: -4483.592132568359\n",
      "-213440441676481.2\n",
      "\n",
      "[-3.04915310e+11  4.57372273e+11 -1.52456957e+11] -> Suma: 6875.377899169922\n",
      "-213440433725200.12\n",
      "\n",
      "[-3.04915310e+11  4.57372266e+11 -1.52456959e+11] -> Suma: -2211.78564453125\n",
      "-213440439177496.12\n",
      "\n",
      "[-1.52442282e+12  2.28663074e+12 -7.62207919e+11] -> Suma: 60.0006103515625\n",
      "-1067094575588315.2\n",
      "\n",
      "[-1.52442284e+12  2.28663074e+12 -7.62207919e+11] -> Suma: -22655.669555664062\n",
      "-1067094598303985.2\n",
      "\n",
      "[-1.52442282e+12  2.28663077e+12 -7.62207919e+11] -> Suma: 34133.45373535156\n",
      "-1067094558551588.5\n",
      "\n",
      "[-1.52442282e+12  2.28663074e+12 -7.62207930e+11] -> Suma: -11297.782470703125\n",
      "-1067094585810320.0\n",
      "\n",
      "[-7.62196037e+12  1.14329231e+13 -3.81096274e+12] -> Suma: 60.00244140625\n",
      "-5335365282631759.0\n",
      "\n",
      "[-7.62196049e+12  1.14329231e+13 -3.81096274e+12] -> Suma: -113516.05810546875\n",
      "-5335365396207819.0\n",
      "\n",
      "[-7.62196037e+12  1.14329233e+13 -3.81096274e+12] -> Suma: 170423.83251953125\n",
      "-5335365197449844.0\n",
      "\n",
      "[-7.62196037e+12  1.14329231e+13 -3.81096280e+12] -> Suma: -56727.767578125\n",
      "-5335365333740752.0\n",
      "\n",
      "[-3.81096487e+13  5.71643858e+13 -1.90547371e+13] -> Suma: 59.9921875\n",
      "-2.6676719182086092e+16\n",
      "\n",
      "[-3.81096493e+13  5.71643858e+13 -1.90547371e+13] -> Suma: -567818.0234375\n",
      "-2.6676719749964108e+16\n",
      "\n",
      "[-3.81096487e+13  5.71643866e+13 -1.90547371e+13] -> Suma: 851875.71875\n",
      "-2.6676718756178228e+16\n",
      "\n",
      "[-3.81096487e+13  5.71643858e+13 -1.90547374e+13] -> Suma: -283877.71875\n",
      "-2.667671943763003e+16\n",
      "\n",
      "[-1.90548091e+14  2.85821701e+14 -9.52736094e+13] -> Suma: 59.96875\n",
      "-1.3338348933418966e+17\n",
      "\n",
      "[-1.90548094e+14  2.85821701e+14 -9.52736094e+13] -> Suma: -2839327.84375\n",
      "-1.3338349217357744e+17\n",
      "\n",
      "[-1.90548091e+14  2.85821705e+14 -9.52736094e+13] -> Suma: 4259135.21875\n",
      "-1.3338348720465203e+17\n",
      "\n",
      "[-1.90548091e+14  2.85821701e+14 -9.52736108e+13] -> Suma: -1419627.4375\n",
      "-1.3338349061190832e+17\n",
      "\n",
      "[-9.52740284e+14  1.42910824e+15 -4.76367961e+14] -> Suma: 59.875\n",
      "-6.669173260857348e+17\n",
      "\n",
      "[-9.52740298e+14  1.42910824e+15 -4.76367961e+14] -> Suma: -14196876.625\n",
      "-6.669173402826712e+17\n",
      "\n",
      "[-9.52740284e+14  1.42910827e+15 -4.76367961e+14] -> Suma: 21295432.125\n",
      "-6.669173154380486e+17\n",
      "\n",
      "[-9.52740284e+14  1.42910824e+15 -4.76367968e+14] -> Suma: -7098375.875\n",
      "-6.669173324743269e+17\n",
      "\n",
      "[-4.76370130e+15  7.14554105e+15 -2.38183975e+15] -> Suma: 61.0\n",
      "-3.3345865494712376e+18\n",
      "\n",
      "[-4.76370137e+15  7.14554105e+15 -2.38183975e+15] -> Suma: -70984620.0\n",
      "-3.334586620455919e+18\n",
      "\n",
      "[-4.76370130e+15  7.14554115e+15 -2.38183975e+15] -> Suma: 106476920.0\n",
      "-3.334586496232809e+18\n",
      "\n",
      "[-4.76370130e+15  7.14554105e+15 -2.38183978e+15] -> Suma: -35492117.0\n",
      "-3.334586581414198e+18\n",
      "\n",
      "[-2.38185071e+16  3.57277061e+16 -1.19091990e+16] -> Suma: 54.0\n",
      "-1.6672933154414391e+19\n",
      "\n",
      "[-2.38185074e+16  3.57277061e+16 -1.19091990e+16] -> Suma: -354923358.0\n",
      "-1.66729335093378e+19\n",
      "\n",
      "[-2.38185071e+16  3.57277066e+16 -1.19091990e+16] -> Suma: 532384362.0\n",
      "-1.6672932888222237e+19\n",
      "\n",
      "[-2.38185071e+16  3.57277061e+16 -1.19091992e+16] -> Suma: -177460840.0\n",
      "-1.6672933314129195e+19\n",
      "\n",
      "[-1.19092532e+17  1.78638526e+17 -5.95459934e+16] -> Suma: 56.0\n",
      "-8.336466342927716e+19\n",
      "\n",
      "[-1.19092534e+17  1.78638526e+17 -5.95459934e+16] -> Suma: -1774616968.0\n",
      "-8.336466520389419e+19\n",
      "\n",
      "[-1.19092532e+17  1.78638528e+17 -5.95459934e+16] -> Suma: 2661921528.0\n",
      "-8.336466209831643e+19\n",
      "\n",
      "[-1.19092532e+17  1.78638526e+17 -5.95459943e+16] -> Suma: -887304392.0\n",
      "-8.336466422785117e+19\n",
      "\n",
      "[-5.95462678e+17  8.93192654e+17 -2.97729976e+17] -> Suma: 0.0\n",
      "-4.16823329451576e+20\n",
      "\n",
      "[-5.95462687e+17  8.93192654e+17 -2.97729976e+17] -> Suma: -8873085312.0\n",
      "-4.168233383246614e+20\n",
      "\n",
      "[-5.95462678e+17  8.93192667e+17 -2.97729976e+17] -> Suma: 13309607680.0\n",
      "-4.1682332279677216e+20\n",
      "\n",
      "[-5.95462678e+17  8.93192654e+17 -2.97729980e+17] -> Suma: -4436522368.0\n",
      "-4.168233334444462e+20\n",
      "\n",
      " message: ['Maximum number of iteration reached']\n",
      " success: True\n",
      "  status: 0\n",
      "     fun: 309511.6617053747\n",
      "       x: [ 2.840e-01  8.429e+00  4.113e+01]\n",
      "     nit: 2\n",
      "    nfev: 213\n",
      "    njev: 50\n",
      "    nhev: 0\n"
     ]
    }
   ],
   "execution_count": 17
  }
 ]
}
