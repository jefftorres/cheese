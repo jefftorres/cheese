{
 "cells": [
  {
   "cell_type": "code",
   "metadata": {
    "id": "sLLmzB6qJwiG",
    "ExecuteTime": {
     "end_time": "2024-09-16T23:08:27.664057Z",
     "start_time": "2024-09-16T23:08:27.068790Z"
    }
   },
   "source": [
    "import numpy as np\n",
    "import pandas as pd\n",
    "\n",
    "# %pip install -U pymoo"
   ],
   "outputs": [],
   "execution_count": 1
  },
  {
   "metadata": {},
   "cell_type": "markdown",
   "source": [
    "### Parámetros de entrada\n",
    "Información que obtiene el modelo del sistema de información"
   ]
  },
  {
   "cell_type": "code",
   "metadata": {
    "ExecuteTime": {
     "end_time": "2024-09-16T23:08:27.947820Z",
     "start_time": "2024-09-16T23:08:27.666054Z"
    }
   },
   "source": [
    "# Demanda\n",
    "DEMANDA = 60\n",
    "# Costo por unidad de tiempo\n",
    "CTIEMPO = 100\n",
    "# Tiempo máximo definido\n",
    "T_MAX = 360\n",
    "\n",
    "# Parámetros de entrada\n",
    "params_df = pd.read_excel('./data/' + 'nuevo_info_acopios.xlsx')\n",
    "\n",
    "# Matriz de costos de transporte\n",
    "trans_cost_df = pd.read_excel('./data/' + 'costoTransporteCAi.xlsx', index_col=0)\n",
    "\n",
    "# Matriz de tiempo de transporte\n",
    "trans_time_df = pd.read_excel('./data/' + 'tiempoTransporteCAi.xlsx', index_col=0)"
   ],
   "outputs": [],
   "execution_count": 2
  },
  {
   "metadata": {},
   "cell_type": "markdown",
   "source": [
    "### Variables\n",
    "Definición de variables para el modelo de optimización"
   ]
  },
  {
   "cell_type": "code",
   "metadata": {
    "ExecuteTime": {
     "end_time": "2024-09-16T23:08:27.957276Z",
     "start_time": "2024-09-16T23:08:27.948864Z"
    }
   },
   "source": [
    "N = params_df.shape[0]\n",
    "CAPACIDADES = np.empty(N*2, dtype=float)\n",
    "\n",
    "for cap_i in range(0, N*2, 2):\n",
    "    CAPACIDADES[cap_i] = params_df['Stock'].iloc[cap_i//2]\n",
    "    CAPACIDADES[cap_i+1] = params_df['Ppotencial'].iloc[cap_i//2]\n",
    "    \n",
    "CAPACIDADES = np.append(CAPACIDADES, N-1)\n",
    "CAPACIDADES"
   ],
   "outputs": [
    {
     "data": {
      "text/plain": [
       "array([10.   ,  0.5  , 12.   ,  0.625,  4.   , 14.   ,  8.   , 13.   ,\n",
       "       18.   , 15.   ,  6.   , 14.   , 12.   , 13.   ,  2.   , 12.5  ,\n",
       "       30.   , 15.   , 15.   , 18.   ,  9.   ])"
      ]
     },
     "execution_count": 3,
     "metadata": {},
     "output_type": "execute_result"
    }
   ],
   "execution_count": 3
  },
  {
   "metadata": {},
   "cell_type": "markdown",
   "source": [
    "# Función objetivo\n",
    "$$\n",
    "\\begin{align*}\n",
    "    \\sum_{i=1 \\quad i\\neq p}^{N} &\\big[ \\, kCA_i \\times Precio(CA_i) + kCA_i \\times cTransp(CA_i) + Tiempo(CA_i) \\times cTiempo \\, \\big] \\, + \\\\\n",
    "                                 &\\big[ \\, kCA_p \\times Precio(CA_p) + Demanda \\times cTransp(CA_p) + Tiempo(CA_p) \\times cTiempo \\, \\big]\n",
    "\\end{align*}\n",
    "$$"
   ]
  },
  {
   "metadata": {
    "ExecuteTime": {
     "end_time": "2024-09-17T00:16:20.864040Z",
     "start_time": "2024-09-17T00:16:20.844097Z"
    }
   },
   "cell_type": "code",
   "source": [
    "def f(x):\n",
    "    delta = 0\n",
    "    idx_principal = int(x[N*2])\n",
    "    \n",
    "    for i in range(0, N*2, 2):\n",
    "        idx_acopio = i//2\n",
    "\n",
    "        if i == idx_principal or (x[i] == 0 and x[i+1] == 0):\n",
    "            continue\n",
    "            \n",
    "        delta += get_delta(x, idx_acopio, idx_principal)\n",
    "\n",
    "    delta += get_delta(x, idx_principal)\n",
    "    \n",
    "    return delta\n",
    "\n",
    "def get_delta(x, idx_acopio, idx_principal=-1):\n",
    "    kca = x[idx_acopio] + x[idx_acopio + 1]\n",
    "    precio = params_df['Precio'].iloc[idx_acopio]\n",
    "    talistam = 0\n",
    "    \n",
    "    if x[idx_acopio + 1]:\n",
    "        talistam = params_df['TiempoAlistam'].iloc[idx_acopio]\n",
    "\n",
    "    ' Si es el centro de acopio principal (idx_principal=-1) '\n",
    "    if idx_principal < 0:\n",
    "        ctransp = params_df['Ctransp'].iloc[idx_acopio]\n",
    "        ttransp = params_df['TiempoTransp'].iloc[idx_acopio]\n",
    "        tiempo = talistam + ttransp\n",
    "        \n",
    "        return (kca * precio) + (DEMANDA * ctransp) + (tiempo * CTIEMPO)\n",
    "    else:\n",
    "        ctransp = trans_cost_df.iloc[idx_acopio, idx_principal]\n",
    "        ttransp = trans_time_df.iloc[idx_acopio, idx_principal]\n",
    "        tiempo = talistam + ttransp\n",
    "        \n",
    "        return (kca * precio) + (kca * ctransp) + (tiempo * CTIEMPO)\n",
    "  \n",
    "test_arr = np.array([0, 0, 0, 0, 0, 0, 4, 11, 0, 0, 0, 0, 0, 0, 0, 0, 30, 15, 0, 0, 8])  \n",
    "print(f(test_arr))"
   ],
   "outputs": [
    {
     "name": "stdout",
     "output_type": "stream",
     "text": [
      "875580\n"
     ]
    }
   ],
   "execution_count": 26
  },
  {
   "metadata": {},
   "cell_type": "markdown",
   "source": [
    "Sujeta a las restricciones:\n",
    "$$\n",
    "\\begin{align*}\n",
    "    \\sum_{i=0}^{N} kCA_i &= Demanda \\\\\n",
    "    kCA_i &\\leq Stock(CA_i) + Ppotencial(CA_i) &\\therefore \\, i=0,\\cdots ,N \\\\\n",
    "    TiempoAlistam(CA_i) &\\leq TiempoMaxDefinido &\\therefore \\, i=0,\\cdots ,N \\\\\n",
    "    Tiempo(CA_i) &= TiempoAlistam(CA_i) + TiempoTransp(CA_i) \\\\\n",
    "\\end{align*}\n",
    "$$"
   ]
  },
  {
   "metadata": {
    "ExecuteTime": {
     "end_time": "2024-09-16T23:08:27.979957Z",
     "start_time": "2024-09-16T23:08:27.971820Z"
    }
   },
   "cell_type": "code",
   "source": [
    "# Función para alterar el vector para que cumpla con la restricción de igualdad\n",
    "def balance(individual, delta, diff):\n",
    "    delta = np.squeeze(delta)\n",
    "    \n",
    "    # Reducir para igualar a la demanda\n",
    "    if diff:\n",
    "        acopios = list(np.nonzero(individual)[0])\n",
    "\n",
    "        while delta > 0 and len(acopios) > 0:\n",
    "            idx = np.random.choice(acopios)\n",
    "            acopios.remove(idx)\n",
    "\n",
    "            if delta <= individual[idx]:\n",
    "                individual[idx] -= delta\n",
    "                delta = 0\n",
    "            else:\n",
    "                delta -= individual[idx]\n",
    "                individual[idx] = 0\n",
    "    # Aumentar para igualar a la demanda\n",
    "    else:\n",
    "        acopios = list(np.where(individual == 0)[0])\n",
    "\n",
    "        while delta > 0 and len(acopios) > 0:\n",
    "            idx = np.random.choice(acopios)\n",
    "            acopios.remove(idx)\n",
    "\n",
    "            if delta <= CAPACIDADES[idx]:\n",
    "                individual[idx] = delta\n",
    "                delta = 0\n",
    "            else:\n",
    "                individual[idx] = CAPACIDADES[idx]\n",
    "                delta -= CAPACIDADES[idx]"
   ],
   "outputs": [],
   "execution_count": 5
  },
  {
   "metadata": {},
   "cell_type": "markdown",
   "source": "## pymoo"
  },
  {
   "metadata": {},
   "cell_type": "markdown",
   "source": "Se evalúa el modelo tomando cada centro de acopio como el principal, y la ejecución da resultados para cada uno, luego de todas las soluciones se toma la mejor solución."
  },
  {
   "metadata": {
    "ExecuteTime": {
     "end_time": "2024-09-16T23:08:28.024951Z",
     "start_time": "2024-09-16T23:08:27.981952Z"
    }
   },
   "cell_type": "code",
   "source": [
    "from pymoo.core.problem import ElementwiseProblem\n",
    "\n",
    "xl = np.zeros(CAPACIDADES.shape[0])\n",
    "xu = CAPACIDADES\n",
    "\n",
    "' Definición del modelo de optimización '\n",
    "class Queso(ElementwiseProblem):\n",
    "    ca_principal = None\n",
    "    \n",
    "    def __init__(self, principal=0):\n",
    "        self.ca_principal = principal\n",
    "        \n",
    "        super().__init__(\n",
    "            n_var=len(xl),\n",
    "            n_obj=1,\n",
    "            n_eq_constr=1,\n",
    "            # n_ieq_constr=1,\n",
    "            xl=xl,\n",
    "            xu=xu\n",
    "        )\n",
    "        \n",
    "        \n",
    "    def _evaluate(self, x, out, *args, **kwargs):\n",
    "        out['F'] = f(x)\n",
    "        out['H'] = DEMANDA - np.sum(x)\n",
    "\n",
    "model = Queso()"
   ],
   "outputs": [],
   "execution_count": 6
  },
  {
   "metadata": {},
   "cell_type": "markdown",
   "source": [
    "## Generación \n",
    "De nuevas posibles soluciones"
   ]
  },
  {
   "metadata": {
    "ExecuteTime": {
     "end_time": "2024-09-16T23:08:28.032069Z",
     "start_time": "2024-09-16T23:08:28.025976Z"
    }
   },
   "cell_type": "code",
   "source": [
    "from pymoo.core.sampling import Sampling\n",
    "\n",
    "class TopOrZeroSampling(Sampling):\n",
    "    def _do(self, problem, n_samples, **kwargs):\n",
    "        gen_matrix = np.zeros((n_samples, problem.n_var), dtype=float)\n",
    "        n_vars = problem.n_var\n",
    "\n",
    "        for i in range(n_samples):\n",
    "            indices = np.arange(n_vars-1)\n",
    "            np.random.shuffle(indices)\n",
    "\n",
    "            while np.sum(gen_matrix[i]) < DEMANDA and indices.size > 0:\n",
    "                idx = indices[0]\n",
    "                gen_matrix[i, idx] += CAPACIDADES[idx]\n",
    "                indices = np.delete(indices, 0)\n",
    "\n",
    "                if np.sum(gen_matrix[i]) > DEMANDA:\n",
    "                    gen_matrix[i, idx] = gen_matrix[i, idx] - (np.sum(gen_matrix[i]) - DEMANDA)\n",
    "                    break\n",
    "\n",
    "            gen_matrix[i, N*2] = np.random.randint(CAPACIDADES[N * 2] + 1)\n",
    "\n",
    "        return gen_matrix"
   ],
   "outputs": [],
   "execution_count": 7
  },
  {
   "metadata": {},
   "cell_type": "markdown",
   "source": [
    "## Cruce\n",
    "1. Para cada individuo en una muestra, se selecciona al azar otro individuo \n",
    "2. Se usa un índice (en medio) para separar el cruce de genes\n",
    "3. Se crea el nuevo individuo "
   ]
  },
  {
   "metadata": {
    "ExecuteTime": {
     "end_time": "2024-09-16T23:08:28.044752Z",
     "start_time": "2024-09-16T23:08:28.033240Z"
    }
   },
   "cell_type": "code",
   "source": [
    "from pymoo.core.crossover import Crossover\n",
    "\n",
    "class SinglePointCross(Crossover):\n",
    "    def __init__(self):\n",
    "        # Parents, Offspring\n",
    "        super().__init__(2, 1)\n",
    "\n",
    "    def _do(self, problem, X, **kwargs):\n",
    "        # n_parents, n_matings, n_var\n",
    "        _, n_matings, n_var = X.shape\n",
    "\n",
    "        T = np.zeros((1, n_matings, n_var))\n",
    "        Y = np.full_like(T, None, dtype=float)\n",
    "\n",
    "        for idx in range(n_matings):\n",
    "\n",
    "            # Primera mitad\n",
    "            p1 = X[0, idx, : n_var//2]\n",
    "            # Segunda mitad\n",
    "            p2 = X[1, idx, n_var//2 : n_var - 1]\n",
    "\n",
    "            offspring = np.concatenate((p1, p2))\n",
    "\n",
    "            if np.sum(offspring) > DEMANDA:\n",
    "                delta = np.sum(offspring) - DEMANDA\n",
    "                balance(offspring, delta, True)\n",
    "            else:\n",
    "                delta = DEMANDA - np.sum(offspring)\n",
    "                balance(offspring, delta, False)\n",
    "\n",
    "            for i in range(offspring.shape[0]):\n",
    "                Y[0, idx, i] = offspring[i]\n",
    "\n",
    "            # Centro de acopio principal (última posición)\n",
    "            main = np.random.choice([X[0, idx, n_var-1], X[1, idx, n_var-1]])\n",
    "            Y[0, idx, n_var-1] = main\n",
    "\n",
    "        return Y"
   ],
   "outputs": [],
   "execution_count": 8
  },
  {
   "metadata": {},
   "cell_type": "markdown",
   "source": [
    "## Mutación\n",
    "1. Tomar un índice (cacopio) aleatorio\n",
    "2. **Si es cero:**\n",
    "3. Cambiar a la cantidad máxima de la capacidad del centro de acopio\n",
    "4. La cantidad que se asignó, restarla a lo largo de los demás centros de acopio para mantener la restricción de igualdad\n",
    "5. **Sino:**\n",
    "6. Cambiar a cero\n",
    "7. La cantidad que se eliminó, sumarla en los demás centros de acopio para mantener la restricción de igualdad"
   ]
  },
  {
   "metadata": {
    "ExecuteTime": {
     "end_time": "2024-09-16T23:08:28.054148Z",
     "start_time": "2024-09-16T23:08:28.045778Z"
    }
   },
   "cell_type": "code",
   "source": [
    "from pymoo.core.mutation import Mutation\n",
    "\n",
    "class ReassignMutation(Mutation):\n",
    "    def __init__(self):\n",
    "        super().__init__()\n",
    "\n",
    "    def _do(self, problem, X, **kwargs):\n",
    "        for i in range(len(X)):\n",
    "            r = np.random.random()\n",
    "\n",
    "            # Con una probabilidad de 40%, reasignar la cantidad de un centro de acopio\n",
    "            if r < 0.4:\n",
    "                individual = X[i, : problem.n_var-1]\n",
    "                idx_mut = np.random.randint(individual.shape)\n",
    "                # False = Menor\n",
    "                # True = Mayor\n",
    "                diff = False\n",
    "\n",
    "                if individual[idx_mut] == 0:\n",
    "                    delta = CAPACIDADES[idx_mut]\n",
    "                    individual[idx_mut] = CAPACIDADES[idx_mut]\n",
    "                    diff = True\n",
    "\n",
    "                else:\n",
    "                    delta = individual[idx_mut]\n",
    "                    individual[idx_mut] = 0\n",
    "\n",
    "                balance(individual, delta, diff)\n",
    "\n",
    "                for j in range(individual.shape[0]):\n",
    "                    X[i, j] = individual[j]\n",
    "\n",
    "            # Con una probabilidad de 20%, reasignar el centro de acopio principal\n",
    "            elif r < 0.6:\n",
    "                X[i, problem.n_var - 1] = np.random.randint(CAPACIDADES[N * 2] + 1)\n",
    "\n",
    "        return X"
   ],
   "outputs": [],
   "execution_count": 9
  },
  {
   "metadata": {},
   "cell_type": "markdown",
   "source": "## Aplicación"
  },
  {
   "metadata": {
    "ExecuteTime": {
     "end_time": "2024-09-16T23:28:12.908106Z",
     "start_time": "2024-09-16T23:28:12.899522Z"
    }
   },
   "cell_type": "code",
   "source": [
    "# Función para mostrar la cantidad asignada y la total por centro de acopio\n",
    "def print_acopios(X):\n",
    "    for i in range(0, N*2, 2):\n",
    "        idx_ca = i // 2\n",
    "        print(f'Centro de acopio {params_df['Id_CA'].iloc[idx_ca]}:')\n",
    "        print(f'Stock: {params_df['Stock'].iloc[idx_ca]}, \\t\\t\\tAsignado: {X[i]}')\n",
    "        print(f'Potencial: {params_df['Ppotencial'].iloc[idx_ca]}, \\tAsignado: {X[i+1]}\\n')\n",
    "\n",
    "    print(f'Centro de acopio principal: {X[N*2]}')"
   ],
   "outputs": [],
   "execution_count": 20
  },
  {
   "metadata": {
    "ExecuteTime": {
     "end_time": "2024-09-16T23:26:07.770993Z",
     "start_time": "2024-09-16T23:25:52.797280Z"
    }
   },
   "cell_type": "code",
   "source": [
    "from pymoo.algorithms.soo.nonconvex.ga import GA\n",
    "from pymoo.optimize import minimize\n",
    "\n",
    "algorithm = GA(\n",
    "    pop_size=N*100,\n",
    "    sampling=TopOrZeroSampling(),\n",
    "    crossover=SinglePointCross(),\n",
    "    mutation=ReassignMutation(),\n",
    "    eliminate_duplicates=True\n",
    ")\n",
    "\n",
    "res = minimize(model,\n",
    "               algorithm,\n",
    "               seed=1,\n",
    "               verbose=False)\n",
    "\n",
    "print_acopios(res.X)\n",
    "print(f'Precio: {res.F}')"
   ],
   "outputs": [
    {
     "name": "stdout",
     "output_type": "stream",
     "text": [
      "Centro de acopio CA1:\n",
      "Stock: 10, \t\t\tAsignado: 0.0\n",
      "Potencial: 0.5, \tAsignado: 0.0\n",
      "\n",
      "Centro de acopio CA2:\n",
      "Stock: 12, \t\t\tAsignado: 0.0\n",
      "Potencial: 0.625, \tAsignado: 0.0\n",
      "\n",
      "Centro de acopio CA3:\n",
      "Stock: 4, \t\t\tAsignado: 4.0\n",
      "Potencial: 14.0, \tAsignado: 11.0\n",
      "\n",
      "Centro de acopio CA4:\n",
      "Stock: 8, \t\t\tAsignado: 0.0\n",
      "Potencial: 13.0, \tAsignado: 0.0\n",
      "\n",
      "Centro de acopio CA5:\n",
      "Stock: 18, \t\t\tAsignado: 0.0\n",
      "Potencial: 15.0, \tAsignado: 0.0\n",
      "\n",
      "Centro de acopio CA6:\n",
      "Stock: 6, \t\t\tAsignado: 0.0\n",
      "Potencial: 14.0, \tAsignado: 0.0\n",
      "\n",
      "Centro de acopio CA7:\n",
      "Stock: 12, \t\t\tAsignado: 0.0\n",
      "Potencial: 13.0, \tAsignado: 0.0\n",
      "\n",
      "Centro de acopio CA8:\n",
      "Stock: 2, \t\t\tAsignado: 0.0\n",
      "Potencial: 12.5, \tAsignado: 0.0\n",
      "\n",
      "Centro de acopio CA9:\n",
      "Stock: 30, \t\t\tAsignado: 30.0\n",
      "Potencial: 15.0, \tAsignado: 15.0\n",
      "\n",
      "Centro de acopio CA10:\n",
      "Stock: 15, \t\t\tAsignado: 0.0\n",
      "Potencial: 18.0, \tAsignado: 0.0\n",
      "\n",
      "Centro de acopio principal: 0.0\n",
      "Precio: [1317260.]\n"
     ]
    }
   ],
   "execution_count": 19
  },
  {
   "metadata": {},
   "cell_type": "markdown",
   "source": "## scipy"
  }
 ],
 "metadata": {
  "colab": {
   "provenance": []
  },
  "kernelspec": {
   "display_name": "Python 3 (ipykernel)",
   "language": "python",
   "name": "python3"
  },
  "language_info": {
   "codemirror_mode": {
    "name": "ipython",
    "version": 3
   },
   "file_extension": ".py",
   "mimetype": "text/x-python",
   "name": "python",
   "nbconvert_exporter": "python",
   "pygments_lexer": "ipython3",
   "version": "3.11.7"
  }
 },
 "nbformat": 4,
 "nbformat_minor": 4
}
