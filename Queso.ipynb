{
 "nbformat": 4,
 "nbformat_minor": 0,
 "metadata": {
  "colab": {
   "provenance": []
  },
  "kernelspec": {
   "name": "python3",
   "language": "python",
   "display_name": "Python 3 (ipykernel)"
  },
  "language_info": {
   "name": "python"
  }
 },
 "cells": [
  {
   "cell_type": "code",
   "metadata": {
    "id": "sLLmzB6qJwiG",
    "ExecuteTime": {
     "end_time": "2024-06-13T22:45:42.796919Z",
     "start_time": "2024-06-13T22:45:42.793155Z"
    }
   },
   "source": [
    "import numpy as np\n",
    "import pandas as pd"
   ],
   "outputs": [],
   "execution_count": 6
  },
  {
   "cell_type": "markdown",
   "source": [
    "**Conjuntos** del modelo de optimización\n",
    "\n",
    "| **Término** | **Descripción**                |\n",
    "|-------------|--------------------------------|\n",
    "| I           | Conjunto de productores        |\n",
    "| J           | Conjunto de centros de acopio  |\n",
    "| K           | Conjunto de clientes           |\n",
    "| P           | Conjunto de productos          |\n",
    "| T           | Conjunto de periodos de tiempo |"
   ],
   "metadata": {
    "id": "ZZ20H0g88fr9"
   }
  },
  {
   "cell_type": "code",
   "source": [
    "# Variables\n",
    "# I = 'Productores'\n",
    "J = 'CAcopios'\n",
    "K = 'Clientes'\n",
    "P = 'Productos'\n",
    "# T = 'Tiempo'"
   ],
   "metadata": {
    "id": "rIc1Q2z08Ejj",
    "ExecuteTime": {
     "end_time": "2024-06-13T22:49:22.301658Z",
     "start_time": "2024-06-13T22:49:22.298623Z"
    }
   },
   "outputs": [],
   "execution_count": 18
  },
  {
   "cell_type": "code",
   "source": [
    "csv_base = './csv/'\n",
    "\n",
    "routes = {\n",
    "    # Costo fijo del centro de acopio\n",
    "    'cfa': 'CostoFijoCA.csv',\n",
    "    # Costo variable del centro de acopio\n",
    "    'cva' : 'CostoVarCA.csv',\n",
    "    # Costo de inventario del centro de acopio\n",
    "    'cia' : 'CostoInvCA.csv',\n",
    "    # Costo de transporte del centro de acopio al cliente\n",
    "    'ctac' : 'CostoTransCAClie.csv'\n",
    "}\n",
    "\n",
    "csv_config = {\n",
    "    'delimiter' : ';',\n",
    "    'decimal' : ','\n",
    "}\n",
    "\n",
    "# pd.read_csv(r'' + csv_base + routes.get('...'), delimiter=csv_config.get('delimiter'), decimal=csv_config.get('decimal'))"
   ],
   "metadata": {
    "id": "vQTQCvL0-G49",
    "ExecuteTime": {
     "end_time": "2024-06-13T22:46:23.787546Z",
     "start_time": "2024-06-13T22:46:23.782497Z"
    }
   },
   "outputs": [],
   "execution_count": 10
  },
  {
   "metadata": {
    "ExecuteTime": {
     "end_time": "2024-06-13T22:48:41.734075Z",
     "start_time": "2024-06-13T22:48:41.726837Z"
    }
   },
   "cell_type": "code",
   "source": [
    "J_df = pd.read_csv(csv_base + J + '.csv')\n",
    "J_df"
   ],
   "outputs": [
    {
     "data": {
      "text/plain": [
       "             CAcopios\n",
       "0  San Juan del Cesar\n",
       "1            Riohacha\n",
       "2              Maicao\n",
       "3              Guamal\n",
       "4             Pivijay\n",
       "5       Nueva Granada\n",
       "6            Monteria\n",
       "7               Chinu\n",
       "8        Planeta rica"
      ],
      "text/html": [
       "<div>\n",
       "<style scoped>\n",
       "    .dataframe tbody tr th:only-of-type {\n",
       "        vertical-align: middle;\n",
       "    }\n",
       "\n",
       "    .dataframe tbody tr th {\n",
       "        vertical-align: top;\n",
       "    }\n",
       "\n",
       "    .dataframe thead th {\n",
       "        text-align: right;\n",
       "    }\n",
       "</style>\n",
       "<table border=\"1\" class=\"dataframe\">\n",
       "  <thead>\n",
       "    <tr style=\"text-align: right;\">\n",
       "      <th></th>\n",
       "      <th>CAcopios</th>\n",
       "    </tr>\n",
       "  </thead>\n",
       "  <tbody>\n",
       "    <tr>\n",
       "      <th>0</th>\n",
       "      <td>San Juan del Cesar</td>\n",
       "    </tr>\n",
       "    <tr>\n",
       "      <th>1</th>\n",
       "      <td>Riohacha</td>\n",
       "    </tr>\n",
       "    <tr>\n",
       "      <th>2</th>\n",
       "      <td>Maicao</td>\n",
       "    </tr>\n",
       "    <tr>\n",
       "      <th>3</th>\n",
       "      <td>Guamal</td>\n",
       "    </tr>\n",
       "    <tr>\n",
       "      <th>4</th>\n",
       "      <td>Pivijay</td>\n",
       "    </tr>\n",
       "    <tr>\n",
       "      <th>5</th>\n",
       "      <td>Nueva Granada</td>\n",
       "    </tr>\n",
       "    <tr>\n",
       "      <th>6</th>\n",
       "      <td>Monteria</td>\n",
       "    </tr>\n",
       "    <tr>\n",
       "      <th>7</th>\n",
       "      <td>Chinu</td>\n",
       "    </tr>\n",
       "    <tr>\n",
       "      <th>8</th>\n",
       "      <td>Planeta rica</td>\n",
       "    </tr>\n",
       "  </tbody>\n",
       "</table>\n",
       "</div>"
      ]
     },
     "execution_count": 15,
     "metadata": {},
     "output_type": "execute_result"
    }
   ],
   "execution_count": 15
  },
  {
   "metadata": {
    "ExecuteTime": {
     "end_time": "2024-06-13T22:49:25.550975Z",
     "start_time": "2024-06-13T22:49:25.543166Z"
    }
   },
   "cell_type": "code",
   "source": [
    "K_df = pd.read_csv(csv_base + K + '.csv')\n",
    "K_df"
   ],
   "outputs": [
    {
     "data": {
      "text/plain": [
       "         Clientes\n",
       "0   Distribuidor1\n",
       "1   Distribuidor2\n",
       "2   Distribuidor3\n",
       "3         Tienda1\n",
       "4         Tienda2\n",
       "5        Mercado1\n",
       "6        Mercado2\n",
       "7        Mercado3\n",
       "8      Panaderia1\n",
       "9      Panaderia2\n",
       "10     Panaderia3"
      ],
      "text/html": [
       "<div>\n",
       "<style scoped>\n",
       "    .dataframe tbody tr th:only-of-type {\n",
       "        vertical-align: middle;\n",
       "    }\n",
       "\n",
       "    .dataframe tbody tr th {\n",
       "        vertical-align: top;\n",
       "    }\n",
       "\n",
       "    .dataframe thead th {\n",
       "        text-align: right;\n",
       "    }\n",
       "</style>\n",
       "<table border=\"1\" class=\"dataframe\">\n",
       "  <thead>\n",
       "    <tr style=\"text-align: right;\">\n",
       "      <th></th>\n",
       "      <th>Clientes</th>\n",
       "    </tr>\n",
       "  </thead>\n",
       "  <tbody>\n",
       "    <tr>\n",
       "      <th>0</th>\n",
       "      <td>Distribuidor1</td>\n",
       "    </tr>\n",
       "    <tr>\n",
       "      <th>1</th>\n",
       "      <td>Distribuidor2</td>\n",
       "    </tr>\n",
       "    <tr>\n",
       "      <th>2</th>\n",
       "      <td>Distribuidor3</td>\n",
       "    </tr>\n",
       "    <tr>\n",
       "      <th>3</th>\n",
       "      <td>Tienda1</td>\n",
       "    </tr>\n",
       "    <tr>\n",
       "      <th>4</th>\n",
       "      <td>Tienda2</td>\n",
       "    </tr>\n",
       "    <tr>\n",
       "      <th>5</th>\n",
       "      <td>Mercado1</td>\n",
       "    </tr>\n",
       "    <tr>\n",
       "      <th>6</th>\n",
       "      <td>Mercado2</td>\n",
       "    </tr>\n",
       "    <tr>\n",
       "      <th>7</th>\n",
       "      <td>Mercado3</td>\n",
       "    </tr>\n",
       "    <tr>\n",
       "      <th>8</th>\n",
       "      <td>Panaderia1</td>\n",
       "    </tr>\n",
       "    <tr>\n",
       "      <th>9</th>\n",
       "      <td>Panaderia2</td>\n",
       "    </tr>\n",
       "    <tr>\n",
       "      <th>10</th>\n",
       "      <td>Panaderia3</td>\n",
       "    </tr>\n",
       "  </tbody>\n",
       "</table>\n",
       "</div>"
      ]
     },
     "execution_count": 19,
     "metadata": {},
     "output_type": "execute_result"
    }
   ],
   "execution_count": 19
  },
  {
   "metadata": {
    "ExecuteTime": {
     "end_time": "2024-06-13T22:47:50.031978Z",
     "start_time": "2024-06-13T22:47:50.019572Z"
    }
   },
   "cell_type": "code",
   "source": [
    "P_df = pd.read_csv(csv_base + P + '.csv')\n",
    "P_df.head()"
   ],
   "outputs": [
    {
     "data": {
      "text/plain": [
       "      Productos\n",
       "0    Queso duro\n",
       "1  Queso blando"
      ],
      "text/html": [
       "<div>\n",
       "<style scoped>\n",
       "    .dataframe tbody tr th:only-of-type {\n",
       "        vertical-align: middle;\n",
       "    }\n",
       "\n",
       "    .dataframe tbody tr th {\n",
       "        vertical-align: top;\n",
       "    }\n",
       "\n",
       "    .dataframe thead th {\n",
       "        text-align: right;\n",
       "    }\n",
       "</style>\n",
       "<table border=\"1\" class=\"dataframe\">\n",
       "  <thead>\n",
       "    <tr style=\"text-align: right;\">\n",
       "      <th></th>\n",
       "      <th>Productos</th>\n",
       "    </tr>\n",
       "  </thead>\n",
       "  <tbody>\n",
       "    <tr>\n",
       "      <th>0</th>\n",
       "      <td>Queso duro</td>\n",
       "    </tr>\n",
       "    <tr>\n",
       "      <th>1</th>\n",
       "      <td>Queso blando</td>\n",
       "    </tr>\n",
       "  </tbody>\n",
       "</table>\n",
       "</div>"
      ]
     },
     "execution_count": 12,
     "metadata": {},
     "output_type": "execute_result"
    }
   ],
   "execution_count": 12
  },
  {
   "cell_type": "markdown",
   "source": [
    "## Escenarios de prueba de demandas por centro de acopio\n",
    "Escenario 1: Un centro de acopio sobrepasa la demanda del cliente\n",
    "- El modelo puede asignar dicho centro de acopio para suplir con la demanda\n",
    "- El centro de acopio debe proveer esa demanda\n",
    "\n",
    "Escenario 2: Ningún centro de acopio cumple con toda la demanda del cliente\n",
    "- El modelo debe dar una solución de varios centros de acopio\n",
    "- La suma de la demanda por cada centro de acopio debe ser igual a la demanda\n",
    "\n",
    "Escenario 3: Un centro de acopio tiene en stock exactamente la cantidad de la demanda de un cliente.\n",
    "- El modelo puede tomar el centro de acopio que tiene en stock exactamente la demanda a cumplir"
   ],
   "metadata": {
    "id": "UU6lrYtfPHem"
   }
  },
  {
   "cell_type": "markdown",
   "source": [
    "### Generando demandas por cliente"
   ],
   "metadata": {
    "id": "3E2jXwGK1kw3"
   }
  },
  {
   "cell_type": "code",
   "source": [
    "import random\n",
    "\n",
    "K_df = pd.read_csv(r'' + csv_base + K + '.csv')\n",
    "clients = K_df[K].drop_duplicates()\n",
    "\n",
    "X = []\n",
    "\n",
    "for client in clients:\n",
    "  X.append(10 * random.randint(0, 100))\n",
    "\n",
    "clients = pd.DataFrame(clients)\n",
    "\n",
    "clients['Demanda'] = pd.DataFrame(X)\n",
    "clients"
   ],
   "metadata": {
    "id": "_9EyCBM9KaIU"
   },
   "outputs": [],
   "execution_count": null
  },
  {
   "cell_type": "code",
   "source": [
    "# Tomando una demanda\n",
    "clients.loc[0]"
   ],
   "metadata": {
    "id": "-rhIgXl--QzR"
   },
   "outputs": [],
   "execution_count": null
  },
  {
   "cell_type": "markdown",
   "source": [
    "### Generando capacidades para cada centro de acopio"
   ],
   "metadata": {
    "id": "x_BjEzuc1pO8"
   }
  },
  {
   "cell_type": "code",
   "source": [
    "J_df = pd.read_csv(r'' + csv_base + J + '.csv')\n",
    "c_acopios = J_df['Cacopio']\n",
    "X = []\n",
    "\n",
    "for c_acopio in c_acopios:\n",
    "  X.append(10 * random.randint(0, 100))\n",
    "\n",
    "c_acopios = pd.DataFrame(c_acopios)\n",
    "c_acopios['Capacidad'] = pd.DataFrame(X)\n",
    "c_acopios"
   ],
   "metadata": {
    "collapsed": false
   },
   "outputs": [],
   "execution_count": null
  },
  {
   "cell_type": "markdown",
   "source": [
    "### func. obj\n",
    "\n",
    "$$\n",
    "Min(F) = CProduccion_t + COperacion_t + CInventario_t + CTransporte_t\n",
    "$$"
   ],
   "metadata": {
    "collapsed": false
   }
  },
  {
   "cell_type": "markdown",
   "source": [
    "#### Costos de producción\n",
    "$$\n",
    "  CProduccion_t = \\sum_{i \\in I} \\sum_{j \\in J} \\sum_{p \\in P} CostoProduccion_{pit} PA_{pijt} \\qquad \\forall_t \\in T\n",
    "$$"
   ],
   "metadata": {
    "collapsed": false
   }
  },
  {
   "cell_type": "code",
   "source": [
    "cp_df = pd.read_csv(r'' + csv_base + routes.get('c_produccion'))\n",
    "\n",
    "cp_sum = cp_df.groupby('Productores')['CostoProduccion'].agg('sum')\n",
    "cp_sum"
   ],
   "metadata": {
    "collapsed": false
   },
   "outputs": [],
   "execution_count": null
  },
  {
   "cell_type": "markdown",
   "source": [
    "#### Costos de Operación\n",
    "$$\n",
    "  COperacion_t = CFijos_t + CVariables_t\n",
    "$$"
   ],
   "metadata": {
    "collapsed": false
   }
  },
  {
   "cell_type": "code",
   "source": [
    "cfa_df = pd.read_csv(r'' + csv_base + routes.get('c_fijo_acopio'))\n",
    "\n",
    "cfa_sum = cfa_df.groupby('CAcopios')['CostoFijoAcopio'].agg('sum')\n",
    "cfa_sum"
   ],
   "metadata": {
    "collapsed": false
   },
   "outputs": [],
   "execution_count": null
  },
  {
   "cell_type": "code",
   "source": [
    "cva_df = pd.read_csv(r'' + csv_base + routes.get('c_var_acopio'))\n",
    "cva_sum = cva_df.groupby('CAcopios')['CostoVarAcopio'].agg('sum')\n",
    "cva_sum"
   ],
   "metadata": {
    "collapsed": false
   },
   "outputs": [],
   "execution_count": null
  },
  {
   "cell_type": "markdown",
   "source": [
    "#### Costos de Inventario\n",
    "$$\n",
    "  CInventario_t = \\sum_{j \\in J} \\sum_{p \\in P} CostoInvAcopio_{pjt} InvCA_{pjt} \\qquad \\forall_t \\in T\n",
    "$$"
   ],
   "metadata": {
    "collapsed": false
   }
  },
  {
   "cell_type": "code",
   "source": [
    "cia_df = pd.read_csv(r'' + csv_base + routes.get('c_inv_acopio'))\n",
    "\n",
    "cia_sum = cia_df.groupby('CAcopios')['CostoInvAcopio'].agg('sum')\n",
    "cia_sum"
   ],
   "metadata": {
    "collapsed": false
   },
   "outputs": [],
   "execution_count": null
  },
  {
   "cell_type": "markdown",
   "source": [
    "#### Costos de Transporte\n",
    "$$\n",
    "  CTransporte_t = \\sum_{j \\in J} \\sum_{i \\in I} \\sum_{p \\in P} CostoTransAcopio_{pijt} PA_{pijt} + \\sum_{k \\in K} \\sum_{j \\in J} \\sum_{p \\in P} \\qquad \\forall_t \\in T\n",
    "$$"
   ],
   "metadata": {
    "collapsed": false
   }
  },
  {
   "cell_type": "code",
   "source": [
    "ctpa_df = pd.read_csv(r'' + csv_base + routes.get('c_trans_prod_acopio'))\n",
    "\n",
    "ctpa_sum = ctpa_df.groupby('CAcopios')['CostoTransProdAcopio'].agg('sum')\n",
    "ctpa_sum"
   ],
   "metadata": {
    "collapsed": false
   },
   "outputs": [],
   "execution_count": null
  },
  {
   "cell_type": "code",
   "source": [
    "ctac_df = pd.read_csv(r'' + csv_base + routes.get('c_trans_acopio_clie'))\n",
    "\n",
    "ctac_sum = ctac_df.groupby('CAcopios')['CostoTransAcopioClie'].agg('sum')\n",
    "ctac_sum"
   ],
   "metadata": {
    "collapsed": false
   },
   "outputs": [],
   "execution_count": null
  },
  {
   "cell_type": "markdown",
   "source": [
    "### scipy"
   ],
   "metadata": {
    "collapsed": false
   }
  },
  {
   "cell_type": "code",
   "source": [
    "from scipy.optimize import dual_annealing\n",
    "\n",
    "def f(x):\n",
    "  x = x * sum(clients['Demanda'].values.tolist())\n",
    "  return x\n",
    "\n",
    "bounds = [(-2000, 2000)]\n",
    "result = dual_annealing(f, bounds=bounds)\n",
    "print(result)"
   ],
   "metadata": {
    "collapsed": false
   },
   "outputs": [],
   "execution_count": null
  },
  {
   "cell_type": "code",
   "source": [
    "dc_df = pd.read_csv(r'' + csv_base + routes.get('demanda_clie'))\n",
    "res = dc_df.groupby('Clientes')['DemandaClie'].agg('sum')"
   ],
   "metadata": {
    "collapsed": false
   },
   "outputs": [],
   "execution_count": null
  },
  {
   "cell_type": "markdown",
   "source": [
    "# Capacidades"
   ],
   "metadata": {
    "collapsed": false
   }
  },
  {
   "cell_type": "code",
   "source": [
    "cpr_df = pd.read_csv(r'' + csv_base + routes.get('cap_productor'))\n",
    "cpr_df.head()"
   ],
   "metadata": {
    "collapsed": false
   },
   "outputs": [],
   "execution_count": null
  },
  {
   "cell_type": "code",
   "source": [
    "cac_df = pd.read_csv(r'' + csv_base + routes.get('cap_almacenamiento_ca'))\n",
    "cac_df.head()"
   ],
   "metadata": {
    "collapsed": false
   },
   "outputs": [],
   "execution_count": null
  }
 ]
}
