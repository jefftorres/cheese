{
 "nbformat": 4,
 "nbformat_minor": 0,
 "metadata": {
  "colab": {
   "provenance": []
  },
  "kernelspec": {
   "name": "python3",
   "language": "python",
   "display_name": "Python 3 (ipykernel)"
  },
  "language_info": {
   "name": "python"
  }
 },
 "cells": [
  {
   "cell_type": "code",
   "metadata": {
    "id": "sLLmzB6qJwiG",
    "ExecuteTime": {
     "end_time": "2024-06-15T04:08:45.889009300Z",
     "start_time": "2024-06-15T04:08:44.962348900Z"
    }
   },
   "source": [
    "import numpy as np\n",
    "import pandas as pd\n",
    "import random"
   ],
   "outputs": [],
   "execution_count": 1
  },
  {
   "cell_type": "markdown",
   "source": [
    "## Conjuntos \n",
    "Del modelo de optimización\n",
    "\n",
    "| **Término** | **Descripción**                |\n",
    "|-------------|--------------------------------|\n",
    "| $I$         | Conjunto de productores        |\n",
    "| $J$         | Conjunto de centros de acopio  |\n",
    "| $K$         | Conjunto de clientes           |\n",
    "| $P$         | Conjunto de productos          |\n",
    "| $T$         | Conjunto de periodos de tiempo |"
   ],
   "metadata": {
    "id": "ZZ20H0g88fr9"
   }
  },
  {
   "cell_type": "code",
   "source": [
    "# I = 'Productores'\n",
    "J = 'CAcopios'\n",
    "K = 'Clientes'\n",
    "P = 'Productos'\n",
    "# T = 'Tiempo'"
   ],
   "metadata": {
    "id": "rIc1Q2z08Ejj",
    "ExecuteTime": {
     "end_time": "2024-06-15T04:08:45.893449600Z",
     "start_time": "2024-06-15T04:08:45.886612400Z"
    }
   },
   "outputs": [],
   "execution_count": 2
  },
  {
   "cell_type": "code",
   "source": [
    "csv_base = './csv/'\n",
    "\n",
    "routes = {\n",
    "    # Costo fijo del centro de acopio\n",
    "    'cfa': 'CostoFijoCA.csv',\n",
    "    # Costo variable del centro de acopio\n",
    "    'cva' : 'CostoVarCA.csv',\n",
    "    # Costo de inventario del centro de acopio\n",
    "    'cia' : 'CostoInvCA.csv',\n",
    "    # Costo de transporte del centro de acopio al cliente\n",
    "    'ctac' : 'CostoTransCAClie.csv'\n",
    "}\n",
    "\n",
    "csv_config = {\n",
    "    'delimiter' : ';',\n",
    "    'decimal' : ','\n",
    "}\n",
    "\n",
    "# pd.read_csv(csv_base + routes['cfa'], **csv_config)"
   ],
   "metadata": {
    "id": "vQTQCvL0-G49",
    "ExecuteTime": {
     "end_time": "2024-06-15T04:08:45.915511900Z",
     "start_time": "2024-06-15T04:08:45.893449600Z"
    }
   },
   "outputs": [],
   "execution_count": 3
  },
  {
   "metadata": {},
   "cell_type": "markdown",
   "source": [
    "## Centros de acopio"
   ]
  },
  {
   "metadata": {
    "ExecuteTime": {
     "end_time": "2024-06-15T04:08:45.992955500Z",
     "start_time": "2024-06-15T04:08:45.904984Z"
    }
   },
   "cell_type": "code",
   "source": [
    "J_df = pd.read_csv(csv_base + J + '.csv')\n",
    "J_df"
   ],
   "outputs": [
    {
     "data": {
      "text/plain": "             CAcopios\n0  San Juan del Cesar\n1            Riohacha\n2              Maicao\n3              Guamal\n4             Pivijay\n5       Nueva Granada\n6            Monteria\n7               Chinu\n8        Planeta rica",
      "text/html": "<div>\n<style scoped>\n    .dataframe tbody tr th:only-of-type {\n        vertical-align: middle;\n    }\n\n    .dataframe tbody tr th {\n        vertical-align: top;\n    }\n\n    .dataframe thead th {\n        text-align: right;\n    }\n</style>\n<table border=\"1\" class=\"dataframe\">\n  <thead>\n    <tr style=\"text-align: right;\">\n      <th></th>\n      <th>CAcopios</th>\n    </tr>\n  </thead>\n  <tbody>\n    <tr>\n      <th>0</th>\n      <td>San Juan del Cesar</td>\n    </tr>\n    <tr>\n      <th>1</th>\n      <td>Riohacha</td>\n    </tr>\n    <tr>\n      <th>2</th>\n      <td>Maicao</td>\n    </tr>\n    <tr>\n      <th>3</th>\n      <td>Guamal</td>\n    </tr>\n    <tr>\n      <th>4</th>\n      <td>Pivijay</td>\n    </tr>\n    <tr>\n      <th>5</th>\n      <td>Nueva Granada</td>\n    </tr>\n    <tr>\n      <th>6</th>\n      <td>Monteria</td>\n    </tr>\n    <tr>\n      <th>7</th>\n      <td>Chinu</td>\n    </tr>\n    <tr>\n      <th>8</th>\n      <td>Planeta rica</td>\n    </tr>\n  </tbody>\n</table>\n</div>"
     },
     "execution_count": 4,
     "metadata": {},
     "output_type": "execute_result"
    }
   ],
   "execution_count": 4
  },
  {
   "metadata": {},
   "cell_type": "markdown",
   "source": [
    "## Clientes"
   ]
  },
  {
   "metadata": {
    "ExecuteTime": {
     "end_time": "2024-06-15T04:08:46.014556200Z",
     "start_time": "2024-06-15T04:08:45.970371300Z"
    }
   },
   "cell_type": "code",
   "source": [
    "K_df = pd.read_csv(csv_base + K + '.csv')\n",
    "K_df"
   ],
   "outputs": [
    {
     "data": {
      "text/plain": "         Clientes\n0   Distribuidor1\n1   Distribuidor2\n2   Distribuidor3\n3         Tienda1\n4         Tienda2\n5        Mercado1\n6        Mercado2\n7        Mercado3\n8      Panaderia1\n9      Panaderia2\n10     Panaderia3",
      "text/html": "<div>\n<style scoped>\n    .dataframe tbody tr th:only-of-type {\n        vertical-align: middle;\n    }\n\n    .dataframe tbody tr th {\n        vertical-align: top;\n    }\n\n    .dataframe thead th {\n        text-align: right;\n    }\n</style>\n<table border=\"1\" class=\"dataframe\">\n  <thead>\n    <tr style=\"text-align: right;\">\n      <th></th>\n      <th>Clientes</th>\n    </tr>\n  </thead>\n  <tbody>\n    <tr>\n      <th>0</th>\n      <td>Distribuidor1</td>\n    </tr>\n    <tr>\n      <th>1</th>\n      <td>Distribuidor2</td>\n    </tr>\n    <tr>\n      <th>2</th>\n      <td>Distribuidor3</td>\n    </tr>\n    <tr>\n      <th>3</th>\n      <td>Tienda1</td>\n    </tr>\n    <tr>\n      <th>4</th>\n      <td>Tienda2</td>\n    </tr>\n    <tr>\n      <th>5</th>\n      <td>Mercado1</td>\n    </tr>\n    <tr>\n      <th>6</th>\n      <td>Mercado2</td>\n    </tr>\n    <tr>\n      <th>7</th>\n      <td>Mercado3</td>\n    </tr>\n    <tr>\n      <th>8</th>\n      <td>Panaderia1</td>\n    </tr>\n    <tr>\n      <th>9</th>\n      <td>Panaderia2</td>\n    </tr>\n    <tr>\n      <th>10</th>\n      <td>Panaderia3</td>\n    </tr>\n  </tbody>\n</table>\n</div>"
     },
     "execution_count": 5,
     "metadata": {},
     "output_type": "execute_result"
    }
   ],
   "execution_count": 5
  },
  {
   "metadata": {},
   "cell_type": "markdown",
   "source": [
    "## Productos"
   ]
  },
  {
   "metadata": {
    "ExecuteTime": {
     "end_time": "2024-06-15T04:08:46.114284600Z",
     "start_time": "2024-06-15T04:08:46.003076800Z"
    }
   },
   "cell_type": "code",
   "source": [
    "P_df = pd.read_csv(csv_base + P + '.csv')\n",
    "P_df.head()"
   ],
   "outputs": [
    {
     "data": {
      "text/plain": "      Productos\n0    Queso duro\n1  Queso blando",
      "text/html": "<div>\n<style scoped>\n    .dataframe tbody tr th:only-of-type {\n        vertical-align: middle;\n    }\n\n    .dataframe tbody tr th {\n        vertical-align: top;\n    }\n\n    .dataframe thead th {\n        text-align: right;\n    }\n</style>\n<table border=\"1\" class=\"dataframe\">\n  <thead>\n    <tr style=\"text-align: right;\">\n      <th></th>\n      <th>Productos</th>\n    </tr>\n  </thead>\n  <tbody>\n    <tr>\n      <th>0</th>\n      <td>Queso duro</td>\n    </tr>\n    <tr>\n      <th>1</th>\n      <td>Queso blando</td>\n    </tr>\n  </tbody>\n</table>\n</div>"
     },
     "execution_count": 6,
     "metadata": {},
     "output_type": "execute_result"
    }
   ],
   "execution_count": 6
  },
  {
   "cell_type": "markdown",
   "source": [
    "# Escenarios de prueba\n",
    "Tomando demandas por cada centro de acopio, se definen distintos escenarios de posibles casos.\n",
    "\n",
    "**Escenario 1**: Un centro de acopio sobrepasa la demanda del cliente\n",
    "- El modelo puede asignar dicho centro de acopio para suplir con la demanda\n",
    "- El centro de acopio debe proveer esa demanda\n",
    "\n",
    "**Escenario 2**: Ningún centro de acopio cumple con toda la demanda del cliente\n",
    "- El modelo debe dar una solución de varios centros de acopio\n",
    "- La suma de la demanda por cada centro de acopio debe ser igual a la demanda\n",
    "\n",
    "**Escenario 3**: Un centro de acopio tiene en stock exactamente la cantidad de la demanda de un cliente.\n",
    "- El modelo puede tomar el centro de acopio que tiene en stock exactamente la demanda a cumplir"
   ],
   "metadata": {
    "id": "UU6lrYtfPHem"
   }
  },
  {
   "cell_type": "markdown",
   "source": [
    "### Demandas\n",
    "Generando demandas para cada cliente, se usarán como entrada para el modelo"
   ],
   "metadata": {
    "id": "3E2jXwGK1kw3"
   }
  },
  {
   "cell_type": "code",
   "source": [
    "K_df = pd.read_csv(csv_base + K + '.csv')\n",
    "clientes = K_df[K].drop_duplicates()\n",
    "\n",
    "demandas = []\n",
    "\n",
    "for client in clientes:\n",
    "    demandas.append(20 * random.randint(0, 100))\n",
    "\n",
    "clientes = pd.DataFrame(clientes)\n",
    "\n",
    "clientes['Demanda'] = pd.DataFrame(demandas)\n",
    "clientes"
   ],
   "metadata": {
    "id": "_9EyCBM9KaIU",
    "ExecuteTime": {
     "end_time": "2024-06-15T04:08:46.227850800Z",
     "start_time": "2024-06-15T04:08:46.032989400Z"
    }
   },
   "outputs": [
    {
     "data": {
      "text/plain": "         Clientes  Demanda\n0   Distribuidor1      340\n1   Distribuidor2      340\n2   Distribuidor3      900\n3         Tienda1     1040\n4         Tienda2     1780\n5        Mercado1       60\n6        Mercado2     1320\n7        Mercado3      680\n8      Panaderia1     2000\n9      Panaderia2      680\n10     Panaderia3     1200",
      "text/html": "<div>\n<style scoped>\n    .dataframe tbody tr th:only-of-type {\n        vertical-align: middle;\n    }\n\n    .dataframe tbody tr th {\n        vertical-align: top;\n    }\n\n    .dataframe thead th {\n        text-align: right;\n    }\n</style>\n<table border=\"1\" class=\"dataframe\">\n  <thead>\n    <tr style=\"text-align: right;\">\n      <th></th>\n      <th>Clientes</th>\n      <th>Demanda</th>\n    </tr>\n  </thead>\n  <tbody>\n    <tr>\n      <th>0</th>\n      <td>Distribuidor1</td>\n      <td>340</td>\n    </tr>\n    <tr>\n      <th>1</th>\n      <td>Distribuidor2</td>\n      <td>340</td>\n    </tr>\n    <tr>\n      <th>2</th>\n      <td>Distribuidor3</td>\n      <td>900</td>\n    </tr>\n    <tr>\n      <th>3</th>\n      <td>Tienda1</td>\n      <td>1040</td>\n    </tr>\n    <tr>\n      <th>4</th>\n      <td>Tienda2</td>\n      <td>1780</td>\n    </tr>\n    <tr>\n      <th>5</th>\n      <td>Mercado1</td>\n      <td>60</td>\n    </tr>\n    <tr>\n      <th>6</th>\n      <td>Mercado2</td>\n      <td>1320</td>\n    </tr>\n    <tr>\n      <th>7</th>\n      <td>Mercado3</td>\n      <td>680</td>\n    </tr>\n    <tr>\n      <th>8</th>\n      <td>Panaderia1</td>\n      <td>2000</td>\n    </tr>\n    <tr>\n      <th>9</th>\n      <td>Panaderia2</td>\n      <td>680</td>\n    </tr>\n    <tr>\n      <th>10</th>\n      <td>Panaderia3</td>\n      <td>1200</td>\n    </tr>\n  </tbody>\n</table>\n</div>"
     },
     "execution_count": 7,
     "metadata": {},
     "output_type": "execute_result"
    }
   ],
   "execution_count": 7
  },
  {
   "cell_type": "markdown",
   "source": [
    "### Capacidades \n",
    "Obteniendo las capacidades de cada centro de acopio"
   ],
   "metadata": {
    "id": "x_BjEzuc1pO8"
   }
  },
  {
   "cell_type": "code",
   "source": [
    "J_df = pd.read_csv(csv_base + J + '.csv')\n",
    "cacopios = J_df['CAcopios']\n",
    "capacidades = []\n",
    "\n",
    "for c_acopio in cacopios:\n",
    "    capacidades.append(10 * random.randint(0, 100))\n",
    "\n",
    "cacopios = pd.DataFrame(cacopios)\n",
    "cacopios['Capacidad'] = pd.DataFrame(capacidades)\n",
    "cacopios"
   ],
   "metadata": {
    "collapsed": false,
    "ExecuteTime": {
     "end_time": "2024-06-15T04:08:46.394308800Z",
     "start_time": "2024-06-15T04:08:46.057661Z"
    }
   },
   "outputs": [
    {
     "data": {
      "text/plain": "             CAcopios  Capacidad\n0  San Juan del Cesar        540\n1            Riohacha        750\n2              Maicao        270\n3              Guamal        860\n4             Pivijay        430\n5       Nueva Granada         10\n6            Monteria        820\n7               Chinu        210\n8        Planeta rica         70",
      "text/html": "<div>\n<style scoped>\n    .dataframe tbody tr th:only-of-type {\n        vertical-align: middle;\n    }\n\n    .dataframe tbody tr th {\n        vertical-align: top;\n    }\n\n    .dataframe thead th {\n        text-align: right;\n    }\n</style>\n<table border=\"1\" class=\"dataframe\">\n  <thead>\n    <tr style=\"text-align: right;\">\n      <th></th>\n      <th>CAcopios</th>\n      <th>Capacidad</th>\n    </tr>\n  </thead>\n  <tbody>\n    <tr>\n      <th>0</th>\n      <td>San Juan del Cesar</td>\n      <td>540</td>\n    </tr>\n    <tr>\n      <th>1</th>\n      <td>Riohacha</td>\n      <td>750</td>\n    </tr>\n    <tr>\n      <th>2</th>\n      <td>Maicao</td>\n      <td>270</td>\n    </tr>\n    <tr>\n      <th>3</th>\n      <td>Guamal</td>\n      <td>860</td>\n    </tr>\n    <tr>\n      <th>4</th>\n      <td>Pivijay</td>\n      <td>430</td>\n    </tr>\n    <tr>\n      <th>5</th>\n      <td>Nueva Granada</td>\n      <td>10</td>\n    </tr>\n    <tr>\n      <th>6</th>\n      <td>Monteria</td>\n      <td>820</td>\n    </tr>\n    <tr>\n      <th>7</th>\n      <td>Chinu</td>\n      <td>210</td>\n    </tr>\n    <tr>\n      <th>8</th>\n      <td>Planeta rica</td>\n      <td>70</td>\n    </tr>\n  </tbody>\n</table>\n</div>"
     },
     "execution_count": 8,
     "metadata": {},
     "output_type": "execute_result"
    }
   ],
   "execution_count": 8
  },
  {
   "metadata": {},
   "cell_type": "markdown",
   "source": []
  },
  {
   "cell_type": "markdown",
   "source": [
    "## Función objetivo\n",
    "$$\n",
    "Min(F) = CProduccion_t + COperacion_t + CInventario_t + CTransporte_t\n",
    "$$"
   ],
   "metadata": {
    "collapsed": false
   }
  },
  {
   "cell_type": "markdown",
   "source": [
    "#### Costos de producción\n",
    "$$\n",
    "  CProduccion_t = \\sum_{i \\in I} \\sum_{j \\in J} \\sum_{p \\in P} CostoProduccion_{pit} PA_{pijt} \\qquad \\forall_t \\in T\n",
    "$$"
   ],
   "metadata": {
    "collapsed": false
   }
  },
  {
   "metadata": {
    "ExecuteTime": {
     "end_time": "2024-06-15T04:08:46.395306300Z",
     "start_time": "2024-06-15T04:08:46.074441500Z"
    }
   },
   "cell_type": "code",
   "source": [
    "# Costo producción\n",
    "# cp_df = pd.read_csv(csv_base + routes['cp'], **csv_config)\n",
    "# cp_df.head()"
   ],
   "outputs": [],
   "execution_count": 9
  },
  {
   "metadata": {},
   "cell_type": "markdown",
   "source": [
    "#### Costos de Operación\n",
    "$$\n",
    "  COperacion_t = CFijos_t + CVariables_t\n",
    "$$"
   ]
  },
  {
   "cell_type": "code",
   "source": [
    "cfa_df = pd.read_csv(csv_base + routes['cfa'], **csv_config)\n",
    "cfa_df.head()"
   ],
   "metadata": {
    "collapsed": false,
    "ExecuteTime": {
     "end_time": "2024-06-15T04:08:46.517428100Z",
     "start_time": "2024-06-15T04:08:46.079967400Z"
    }
   },
   "outputs": [
    {
     "data": {
      "text/plain": "             CAcopios     Productos  CostoFijoCA\n0  San Juan del Cesar    Queso duro        22000\n1  San Juan del Cesar  Queso blando        25000\n2            Riohacha    Queso duro        30000\n3            Riohacha  Queso blando        31000\n4              Maicao    Queso duro        28000",
      "text/html": "<div>\n<style scoped>\n    .dataframe tbody tr th:only-of-type {\n        vertical-align: middle;\n    }\n\n    .dataframe tbody tr th {\n        vertical-align: top;\n    }\n\n    .dataframe thead th {\n        text-align: right;\n    }\n</style>\n<table border=\"1\" class=\"dataframe\">\n  <thead>\n    <tr style=\"text-align: right;\">\n      <th></th>\n      <th>CAcopios</th>\n      <th>Productos</th>\n      <th>CostoFijoCA</th>\n    </tr>\n  </thead>\n  <tbody>\n    <tr>\n      <th>0</th>\n      <td>San Juan del Cesar</td>\n      <td>Queso duro</td>\n      <td>22000</td>\n    </tr>\n    <tr>\n      <th>1</th>\n      <td>San Juan del Cesar</td>\n      <td>Queso blando</td>\n      <td>25000</td>\n    </tr>\n    <tr>\n      <th>2</th>\n      <td>Riohacha</td>\n      <td>Queso duro</td>\n      <td>30000</td>\n    </tr>\n    <tr>\n      <th>3</th>\n      <td>Riohacha</td>\n      <td>Queso blando</td>\n      <td>31000</td>\n    </tr>\n    <tr>\n      <th>4</th>\n      <td>Maicao</td>\n      <td>Queso duro</td>\n      <td>28000</td>\n    </tr>\n  </tbody>\n</table>\n</div>"
     },
     "execution_count": 10,
     "metadata": {},
     "output_type": "execute_result"
    }
   ],
   "execution_count": 10
  },
  {
   "cell_type": "code",
   "source": [
    "# Costo variable\n",
    "# cva_df = pd.read_csv(csv_base + routes['cva'], **csv_config)\n",
    "# cva_df"
   ],
   "metadata": {
    "collapsed": false,
    "ExecuteTime": {
     "end_time": "2024-06-15T04:08:46.526943600Z",
     "start_time": "2024-06-15T04:08:46.116279900Z"
    }
   },
   "outputs": [],
   "execution_count": 11
  },
  {
   "cell_type": "markdown",
   "source": [
    "#### Costos de Inventario\n",
    "$$\n",
    "  CInventario_t = \\sum_{j \\in J} \\sum_{p \\in P} CostoInvAcopio_{pjt} InvCA_{pjt} \\qquad \\forall_t \\in T\n",
    "$$"
   ],
   "metadata": {
    "collapsed": false
   }
  },
  {
   "cell_type": "code",
   "source": [
    "cia_df = pd.read_csv(csv_base + routes['cia'], **csv_config)\n",
    "cia_df.head()"
   ],
   "metadata": {
    "collapsed": false,
    "ExecuteTime": {
     "end_time": "2024-06-15T04:08:46.528937700Z",
     "start_time": "2024-06-15T04:08:46.122581800Z"
    }
   },
   "outputs": [
    {
     "data": {
      "text/plain": "             CAcopios     Productos  CostoInvCA\n0  San Juan del Cesar    Queso duro        1000\n1  San Juan del Cesar  Queso blando        1500\n2            Riohacha    Queso duro         500\n3            Riohacha  Queso blando         800\n4              Maicao    Queso duro         900",
      "text/html": "<div>\n<style scoped>\n    .dataframe tbody tr th:only-of-type {\n        vertical-align: middle;\n    }\n\n    .dataframe tbody tr th {\n        vertical-align: top;\n    }\n\n    .dataframe thead th {\n        text-align: right;\n    }\n</style>\n<table border=\"1\" class=\"dataframe\">\n  <thead>\n    <tr style=\"text-align: right;\">\n      <th></th>\n      <th>CAcopios</th>\n      <th>Productos</th>\n      <th>CostoInvCA</th>\n    </tr>\n  </thead>\n  <tbody>\n    <tr>\n      <th>0</th>\n      <td>San Juan del Cesar</td>\n      <td>Queso duro</td>\n      <td>1000</td>\n    </tr>\n    <tr>\n      <th>1</th>\n      <td>San Juan del Cesar</td>\n      <td>Queso blando</td>\n      <td>1500</td>\n    </tr>\n    <tr>\n      <th>2</th>\n      <td>Riohacha</td>\n      <td>Queso duro</td>\n      <td>500</td>\n    </tr>\n    <tr>\n      <th>3</th>\n      <td>Riohacha</td>\n      <td>Queso blando</td>\n      <td>800</td>\n    </tr>\n    <tr>\n      <th>4</th>\n      <td>Maicao</td>\n      <td>Queso duro</td>\n      <td>900</td>\n    </tr>\n  </tbody>\n</table>\n</div>"
     },
     "execution_count": 12,
     "metadata": {},
     "output_type": "execute_result"
    }
   ],
   "execution_count": 12
  },
  {
   "cell_type": "markdown",
   "source": [
    "#### Costos de Transporte\n",
    "$$\n",
    "  CTransporte_t = \\sum_{j \\in J} \\sum_{i \\in I} \\sum_{p \\in P} CostoTransAcopio_{pijt} PA_{pijt} + \\sum_{k \\in K} \\sum_{j \\in J} \\sum_{p \\in P} CostoTransAcopioClie_{pjkt} \\qquad \\forall_t \\in T\n",
    "$$"
   ],
   "metadata": {
    "collapsed": false
   }
  },
  {
   "cell_type": "code",
   "source": [
    "# Costo productor-acopio\n",
    "# ctpa_df = pd.read_csv(csv_base + routes['ctpa'], **csv_config)\n",
    "# ctpa_df"
   ],
   "metadata": {
    "collapsed": false,
    "ExecuteTime": {
     "end_time": "2024-06-15T04:08:46.586016200Z",
     "start_time": "2024-06-15T04:08:46.171830100Z"
    }
   },
   "outputs": [],
   "execution_count": 13
  },
  {
   "cell_type": "code",
   "source": [
    "ctac_df = pd.read_csv(csv_base + routes['ctac'], **csv_config)\n",
    "ctac_df.head()"
   ],
   "metadata": {
    "collapsed": false,
    "ExecuteTime": {
     "end_time": "2024-06-15T04:08:46.616649700Z",
     "start_time": "2024-06-15T04:08:46.185257800Z"
    }
   },
   "outputs": [
    {
     "data": {
      "text/plain": "             CAcopios       Clientes  CostoTransCAClie\n0  San Juan del Cesar  Distribuidor1             68000\n1  San Juan del Cesar  Distribuidor2             38000\n2  San Juan del Cesar  Distribuidor3             56000\n3  San Juan del Cesar        Tienda1             32000\n4  San Juan del Cesar        Tienda2             95000",
      "text/html": "<div>\n<style scoped>\n    .dataframe tbody tr th:only-of-type {\n        vertical-align: middle;\n    }\n\n    .dataframe tbody tr th {\n        vertical-align: top;\n    }\n\n    .dataframe thead th {\n        text-align: right;\n    }\n</style>\n<table border=\"1\" class=\"dataframe\">\n  <thead>\n    <tr style=\"text-align: right;\">\n      <th></th>\n      <th>CAcopios</th>\n      <th>Clientes</th>\n      <th>CostoTransCAClie</th>\n    </tr>\n  </thead>\n  <tbody>\n    <tr>\n      <th>0</th>\n      <td>San Juan del Cesar</td>\n      <td>Distribuidor1</td>\n      <td>68000</td>\n    </tr>\n    <tr>\n      <th>1</th>\n      <td>San Juan del Cesar</td>\n      <td>Distribuidor2</td>\n      <td>38000</td>\n    </tr>\n    <tr>\n      <th>2</th>\n      <td>San Juan del Cesar</td>\n      <td>Distribuidor3</td>\n      <td>56000</td>\n    </tr>\n    <tr>\n      <th>3</th>\n      <td>San Juan del Cesar</td>\n      <td>Tienda1</td>\n      <td>32000</td>\n    </tr>\n    <tr>\n      <th>4</th>\n      <td>San Juan del Cesar</td>\n      <td>Tienda2</td>\n      <td>95000</td>\n    </tr>\n  </tbody>\n</table>\n</div>"
     },
     "execution_count": 14,
     "metadata": {},
     "output_type": "execute_result"
    }
   ],
   "execution_count": 14
  },
  {
   "metadata": {},
   "cell_type": "markdown",
   "source": [
    "## Esquema de representación\n",
    "Se recibe la demanda $DemandaClie_{pkt}$ como parámetro de entrada.\n",
    "\n",
    "Se representa la cantidad $n$ de centros de acopio como un vector, donde se asigna una cantidad $x_i$ para cada centro de acopio $J_i$, la cantidad asignada representa la demanda que va a ser suplida por ese centro de acopio.\n",
    "$$\n",
    "\\begin{array} {|r|r|r|r|r|r|}\n",
    "    \\hline x_0 & x_1 & x_2 & x_3 & \\cdots & x_n \\\\\n",
    "    \\hline\n",
    "\\end{array}\n",
    "\\quad \\therefore \\quad x_i = AC_{pjkt}\n",
    "$$\n",
    "Donde se aplican las restricciones:\n",
    "$$\n",
    "\\begin{align*}\n",
    "    \\sum_{i=0}^{n} x_i &= DemandaClie_{pkt} \\\\\n",
    "    x_i &\\leq InvCA_{pjt}\n",
    "\\end{align*}\n",
    "$$"
   ]
  },
  {
   "metadata": {
    "ExecuteTime": {
     "end_time": "2024-06-15T04:08:46.619151600Z",
     "start_time": "2024-06-15T04:08:46.241886100Z"
    }
   },
   "cell_type": "code",
   "source": [
    "X = np.zeros(J_df.shape)\n",
    "dem = clientes.loc[0, 'Demanda']\n",
    "\n",
    "for i in range(X.shape[0]):\n",
    "    idx = random.randint(0, dem)\n",
    "    cap = cacopios.loc[i, 'Capacidad']\n",
    "        \n",
    "    if i == X.size - 1 and dem != 0:\n",
    "        X[i] = dem\n",
    "        dem -= 0\n",
    "    else:\n",
    "        if idx > cap:\n",
    "            X[i] = cap\n",
    "            dem -= cap\n",
    "        else:\n",
    "            X[i] = idx\n",
    "            dem -= idx\n",
    "    \n",
    "print(X)\n",
    "print(f'Suma de la distribución: {X.sum()}')"
   ],
   "outputs": [
    {
     "name": "stdout",
     "output_type": "stream",
     "text": [
      "[[204.]\n",
      " [  2.]\n",
      " [118.]\n",
      " [ 13.]\n",
      " [  0.]\n",
      " [  0.]\n",
      " [  1.]\n",
      " [  0.]\n",
      " [  2.]]\n",
      "Suma de la distribución: 340.0\n"
     ]
    }
   ],
   "execution_count": 15
  },
  {
   "metadata": {
    "ExecuteTime": {
     "end_time": "2024-06-15T04:09:42.712018500Z",
     "start_time": "2024-06-15T04:09:42.647535100Z"
    }
   },
   "cell_type": "code",
   "source": [
    "for idx in range(X.shape[0]):\n",
    "    if X[idx] == 0:\n",
    "        continue\n",
    "    \n",
    "    ca = J_df.loc[idx]\n",
    "    \n",
    "    costo_fijo_ca = cfa_df[(cfa_df[J] == ca[J]) & (cfa_df[P] == 'Queso duro')]\n",
    "    costo_inv_ca = cia_df[(cia_df[J] == ca[J]) & (cia_df[P] == 'Queso duro')]\n",
    "    costo_trans_ca = ctac_df[(ctac_df[J] == ca[J]) & (ctac_df[K] == 'Distribuidor1')]\n",
    "\n",
    "    delta = X[idx] + costo_fijo_ca['CostoFijoCA']\n",
    "    delta += X[idx] * costo_inv_ca['CostoInvCA']\n",
    "    delta += np.array(costo_trans_ca['CostoTransCAClie'])\n",
    "    \n",
    "    print(delta)\n",
    "    \n",
    "    # temp = X[idx] "
   ],
   "outputs": [
    {
     "name": "stdout",
     "output_type": "stream",
     "text": [
      "0    294204.0\n",
      "Name: CostoFijoCA, dtype: float64\n",
      "2    52002.0\n",
      "Name: CostoFijoCA, dtype: float64\n",
      "4    233318.0\n",
      "Name: CostoFijoCA, dtype: float64\n",
      "6    54313.0\n",
      "Name: CostoFijoCA, dtype: float64\n",
      "12    85001.0\n",
      "Name: CostoFijoCA, dtype: float64\n",
      "16    75402.0\n",
      "Name: CostoFijoCA, dtype: float64\n"
     ]
    }
   ],
   "execution_count": 17
  },
  {
   "cell_type": "markdown",
   "source": [
    "## scipy"
   ],
   "metadata": {
    "collapsed": false
   }
  },
  {
   "cell_type": "code",
   "source": [
    "from scipy.optimize import dual_annealing\n",
    "\n",
    "def f(x):\n",
    "    return x\n",
    "\n",
    "bounds = [(0, X.size)]\n",
    "result = dual_annealing(f, bounds=bounds)\n",
    "print(result)"
   ],
   "metadata": {
    "collapsed": false,
    "ExecuteTime": {
     "end_time": "2024-06-15T04:09:55.585944900Z",
     "start_time": "2024-06-15T04:09:54.481364100Z"
    }
   },
   "outputs": [
    {
     "name": "stdout",
     "output_type": "stream",
     "text": [
      " message: ['Maximum number of iteration reached']\n",
      " success: True\n",
      "  status: 0\n",
      "     fun: 0.0\n",
      "       x: [ 0.000e+00]\n",
      "     nit: 1000\n",
      "    nfev: 2005\n",
      "    njev: 2\n",
      "    nhev: 0\n"
     ]
    }
   ],
   "execution_count": 18
  },
  {
   "cell_type": "code",
   "source": [
    "# dc_df = pd.read_csv(r'' + csv_base + routes.get('demanda_clie'))\n",
    "# res = dc_df.groupby('Clientes')['DemandaClie'].agg('sum')"
   ],
   "metadata": {
    "collapsed": false,
    "ExecuteTime": {
     "start_time": "2024-06-15T04:08:47.502360200Z"
    }
   },
   "outputs": [],
   "execution_count": null
  }
 ]
}
