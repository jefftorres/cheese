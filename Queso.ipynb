{
 "cells": [
  {
   "cell_type": "code",
   "metadata": {
    "id": "sLLmzB6qJwiG",
    "ExecuteTime": {
     "end_time": "2024-07-15T15:28:47.055977Z",
     "start_time": "2024-07-15T15:28:46.455475Z"
    }
   },
   "source": [
    "import numpy as np\n",
    "import pandas as pd"
   ],
   "outputs": [],
   "execution_count": 1
  },
  {
   "cell_type": "markdown",
   "metadata": {
    "id": "ZZ20H0g88fr9"
   },
   "source": [
    "## Conjuntos \n",
    "Del modelo de optimización\n",
    "\n",
    "| **Término**  | **Descripción**                |\n",
    "|--------------|--------------------------------|\n",
    "| $cacopios$   | Conjunto de centros de acopio  |\n",
    "| $clientes$   | Conjunto de clientes           |\n",
    "| $productos$  | Conjunto de productos          |"
   ]
  },
  {
   "cell_type": "code",
   "metadata": {
    "id": "rIc1Q2z08Ejj",
    "ExecuteTime": {
     "end_time": "2024-07-15T15:28:47.060472Z",
     "start_time": "2024-07-15T15:28:47.055977Z"
    }
   },
   "source": [
    "cacopios = 'CAcopios'\n",
    "clientes = 'Clientes'\n",
    "productos = 'Productos'"
   ],
   "outputs": [],
   "execution_count": 2
  },
  {
   "cell_type": "code",
   "metadata": {
    "id": "vQTQCvL0-G49",
    "ExecuteTime": {
     "end_time": "2024-07-15T15:28:47.068447Z",
     "start_time": "2024-07-15T15:28:47.060472Z"
    }
   },
   "source": [
    "csv_base = './csv/'\n",
    "\n",
    "routes = {\n",
    "    # Capacidades de centros de acopio\n",
    "    'cic': 'CapInvCA.csv',\n",
    "    'cictest': 'CapInvCAtest.csv',\n",
    "    # Costo de inventario del centro de acopio\n",
    "    'cia' : 'CostoInvCA.csv',\n",
    "    'ciatest' : 'CostoInvCAtest.csv',\n",
    "    # Costo de transporte del centro de acopio al cliente\n",
    "    'ctac' : 'CostoTransCAClie.csv',\n",
    "    'ctactest' : 'CostoTransCAClietest.csv'\n",
    "}\n",
    "\n",
    "csv_config = {\n",
    "    'delimiter' : ';',\n",
    "    'decimal' : ','\n",
    "}"
   ],
   "outputs": [],
   "execution_count": 3
  },
  {
   "cell_type": "markdown",
   "metadata": {},
   "source": [
    "## Centros de acopio"
   ]
  },
  {
   "cell_type": "code",
   "metadata": {
    "ExecuteTime": {
     "end_time": "2024-07-15T15:28:47.087068Z",
     "start_time": "2024-07-15T15:28:47.069453Z"
    }
   },
   "source": [
    "# cacopios_df = pd.read_csv(csv_base + cacopios + '.csv')\n",
    "cacopios_df = pd.read_csv(csv_base + cacopios + 'test' + '.csv')\n",
    "cacopios_df"
   ],
   "outputs": [
    {
     "data": {
      "text/plain": [
       "             CAcopios\n",
       "0  San Juan del Cesar\n",
       "1            Riohacha\n",
       "2              Maicao"
      ],
      "text/html": [
       "<div>\n",
       "<style scoped>\n",
       "    .dataframe tbody tr th:only-of-type {\n",
       "        vertical-align: middle;\n",
       "    }\n",
       "\n",
       "    .dataframe tbody tr th {\n",
       "        vertical-align: top;\n",
       "    }\n",
       "\n",
       "    .dataframe thead th {\n",
       "        text-align: right;\n",
       "    }\n",
       "</style>\n",
       "<table border=\"1\" class=\"dataframe\">\n",
       "  <thead>\n",
       "    <tr style=\"text-align: right;\">\n",
       "      <th></th>\n",
       "      <th>CAcopios</th>\n",
       "    </tr>\n",
       "  </thead>\n",
       "  <tbody>\n",
       "    <tr>\n",
       "      <th>0</th>\n",
       "      <td>San Juan del Cesar</td>\n",
       "    </tr>\n",
       "    <tr>\n",
       "      <th>1</th>\n",
       "      <td>Riohacha</td>\n",
       "    </tr>\n",
       "    <tr>\n",
       "      <th>2</th>\n",
       "      <td>Maicao</td>\n",
       "    </tr>\n",
       "  </tbody>\n",
       "</table>\n",
       "</div>"
      ]
     },
     "execution_count": 4,
     "metadata": {},
     "output_type": "execute_result"
    }
   ],
   "execution_count": 4
  },
  {
   "cell_type": "markdown",
   "metadata": {},
   "source": [
    "## Clientes"
   ]
  },
  {
   "cell_type": "code",
   "metadata": {
    "ExecuteTime": {
     "end_time": "2024-07-15T15:28:47.099034Z",
     "start_time": "2024-07-15T15:28:47.087068Z"
    }
   },
   "source": [
    "# clientes_df = pd.read_csv(csv_base + clientes + '.csv')\n",
    "clientes_df = pd.read_csv(csv_base + clientes + 'test' + '.csv')\n",
    "clientes_df"
   ],
   "outputs": [
    {
     "data": {
      "text/plain": [
       "        Clientes\n",
       "0  Distribuidor1\n",
       "1  Distribuidor2"
      ],
      "text/html": [
       "<div>\n",
       "<style scoped>\n",
       "    .dataframe tbody tr th:only-of-type {\n",
       "        vertical-align: middle;\n",
       "    }\n",
       "\n",
       "    .dataframe tbody tr th {\n",
       "        vertical-align: top;\n",
       "    }\n",
       "\n",
       "    .dataframe thead th {\n",
       "        text-align: right;\n",
       "    }\n",
       "</style>\n",
       "<table border=\"1\" class=\"dataframe\">\n",
       "  <thead>\n",
       "    <tr style=\"text-align: right;\">\n",
       "      <th></th>\n",
       "      <th>Clientes</th>\n",
       "    </tr>\n",
       "  </thead>\n",
       "  <tbody>\n",
       "    <tr>\n",
       "      <th>0</th>\n",
       "      <td>Distribuidor1</td>\n",
       "    </tr>\n",
       "    <tr>\n",
       "      <th>1</th>\n",
       "      <td>Distribuidor2</td>\n",
       "    </tr>\n",
       "  </tbody>\n",
       "</table>\n",
       "</div>"
      ]
     },
     "execution_count": 5,
     "metadata": {},
     "output_type": "execute_result"
    }
   ],
   "execution_count": 5
  },
  {
   "cell_type": "markdown",
   "metadata": {},
   "source": [
    "## Productos"
   ]
  },
  {
   "cell_type": "code",
   "metadata": {
    "ExecuteTime": {
     "end_time": "2024-07-15T15:28:47.108368Z",
     "start_time": "2024-07-15T15:28:47.101037Z"
    }
   },
   "source": [
    "productos_df = pd.read_csv(csv_base + productos + '.csv')\n",
    "productos_df.head()"
   ],
   "outputs": [
    {
     "data": {
      "text/plain": [
       "      Productos\n",
       "0    Queso duro\n",
       "1  Queso blando"
      ],
      "text/html": [
       "<div>\n",
       "<style scoped>\n",
       "    .dataframe tbody tr th:only-of-type {\n",
       "        vertical-align: middle;\n",
       "    }\n",
       "\n",
       "    .dataframe tbody tr th {\n",
       "        vertical-align: top;\n",
       "    }\n",
       "\n",
       "    .dataframe thead th {\n",
       "        text-align: right;\n",
       "    }\n",
       "</style>\n",
       "<table border=\"1\" class=\"dataframe\">\n",
       "  <thead>\n",
       "    <tr style=\"text-align: right;\">\n",
       "      <th></th>\n",
       "      <th>Productos</th>\n",
       "    </tr>\n",
       "  </thead>\n",
       "  <tbody>\n",
       "    <tr>\n",
       "      <th>0</th>\n",
       "      <td>Queso duro</td>\n",
       "    </tr>\n",
       "    <tr>\n",
       "      <th>1</th>\n",
       "      <td>Queso blando</td>\n",
       "    </tr>\n",
       "  </tbody>\n",
       "</table>\n",
       "</div>"
      ]
     },
     "execution_count": 6,
     "metadata": {},
     "output_type": "execute_result"
    }
   ],
   "execution_count": 6
  },
  {
   "cell_type": "markdown",
   "metadata": {},
   "source": [
    "### Capacidades \n",
    "Obteniendo las capacidades de cada centro de acopio"
   ]
  },
  {
   "cell_type": "code",
   "metadata": {
    "ExecuteTime": {
     "end_time": "2024-07-15T15:28:47.119481Z",
     "start_time": "2024-07-15T15:28:47.108368Z"
    }
   },
   "source": [
    "# cap_df = pd.read_csv(csv_base + routes['cic'], **csv_config)\n",
    "cap_df = pd.read_csv(csv_base + routes['cictest'], **csv_config)\n",
    "cap_df"
   ],
   "outputs": [
    {
     "data": {
      "text/plain": [
       "             CAcopios     Productos  CapInvCA\n",
       "0  San Juan del Cesar    Queso duro        50\n",
       "1  San Juan del Cesar  Queso blando       320\n",
       "2            Riohacha    Queso duro       100\n",
       "3            Riohacha  Queso blando        90\n",
       "4              Maicao    Queso duro        10\n",
       "5              Maicao  Queso blando         0"
      ],
      "text/html": [
       "<div>\n",
       "<style scoped>\n",
       "    .dataframe tbody tr th:only-of-type {\n",
       "        vertical-align: middle;\n",
       "    }\n",
       "\n",
       "    .dataframe tbody tr th {\n",
       "        vertical-align: top;\n",
       "    }\n",
       "\n",
       "    .dataframe thead th {\n",
       "        text-align: right;\n",
       "    }\n",
       "</style>\n",
       "<table border=\"1\" class=\"dataframe\">\n",
       "  <thead>\n",
       "    <tr style=\"text-align: right;\">\n",
       "      <th></th>\n",
       "      <th>CAcopios</th>\n",
       "      <th>Productos</th>\n",
       "      <th>CapInvCA</th>\n",
       "    </tr>\n",
       "  </thead>\n",
       "  <tbody>\n",
       "    <tr>\n",
       "      <th>0</th>\n",
       "      <td>San Juan del Cesar</td>\n",
       "      <td>Queso duro</td>\n",
       "      <td>50</td>\n",
       "    </tr>\n",
       "    <tr>\n",
       "      <th>1</th>\n",
       "      <td>San Juan del Cesar</td>\n",
       "      <td>Queso blando</td>\n",
       "      <td>320</td>\n",
       "    </tr>\n",
       "    <tr>\n",
       "      <th>2</th>\n",
       "      <td>Riohacha</td>\n",
       "      <td>Queso duro</td>\n",
       "      <td>100</td>\n",
       "    </tr>\n",
       "    <tr>\n",
       "      <th>3</th>\n",
       "      <td>Riohacha</td>\n",
       "      <td>Queso blando</td>\n",
       "      <td>90</td>\n",
       "    </tr>\n",
       "    <tr>\n",
       "      <th>4</th>\n",
       "      <td>Maicao</td>\n",
       "      <td>Queso duro</td>\n",
       "      <td>10</td>\n",
       "    </tr>\n",
       "    <tr>\n",
       "      <th>5</th>\n",
       "      <td>Maicao</td>\n",
       "      <td>Queso blando</td>\n",
       "      <td>0</td>\n",
       "    </tr>\n",
       "  </tbody>\n",
       "</table>\n",
       "</div>"
      ]
     },
     "execution_count": 7,
     "metadata": {},
     "output_type": "execute_result"
    }
   ],
   "execution_count": 7
  },
  {
   "cell_type": "markdown",
   "metadata": {
    "collapsed": false,
    "jupyter": {
     "outputs_hidden": false
    }
   },
   "source": [
    "### Costos de Inventario\n",
    "$$\n",
    "  CInventario_t = \\sum_{j \\in J} \\sum_{p \\in P} CostoInvAcopio_{pjt} InvCA_{pjt} \\qquad \\forall_t \\in T\n",
    "$$"
   ]
  },
  {
   "cell_type": "code",
   "metadata": {
    "collapsed": false,
    "jupyter": {
     "outputs_hidden": false
    },
    "ExecuteTime": {
     "end_time": "2024-07-15T15:28:47.128331Z",
     "start_time": "2024-07-15T15:28:47.119481Z"
    }
   },
   "source": [
    "# cia_df = pd.read_csv(csv_base + routes['cia'], **csv_config)\n",
    "cia_df = pd.read_csv(csv_base + routes['ciatest'], **csv_config)\n",
    "cia_df.head()"
   ],
   "outputs": [
    {
     "data": {
      "text/plain": [
       "             CAcopios     Productos  CostoInvCA\n",
       "0  San Juan del Cesar    Queso duro        1000\n",
       "1  San Juan del Cesar  Queso blando        1500\n",
       "2            Riohacha    Queso duro        2000\n",
       "3            Riohacha  Queso blando         800\n",
       "4              Maicao    Queso duro        5000"
      ],
      "text/html": [
       "<div>\n",
       "<style scoped>\n",
       "    .dataframe tbody tr th:only-of-type {\n",
       "        vertical-align: middle;\n",
       "    }\n",
       "\n",
       "    .dataframe tbody tr th {\n",
       "        vertical-align: top;\n",
       "    }\n",
       "\n",
       "    .dataframe thead th {\n",
       "        text-align: right;\n",
       "    }\n",
       "</style>\n",
       "<table border=\"1\" class=\"dataframe\">\n",
       "  <thead>\n",
       "    <tr style=\"text-align: right;\">\n",
       "      <th></th>\n",
       "      <th>CAcopios</th>\n",
       "      <th>Productos</th>\n",
       "      <th>CostoInvCA</th>\n",
       "    </tr>\n",
       "  </thead>\n",
       "  <tbody>\n",
       "    <tr>\n",
       "      <th>0</th>\n",
       "      <td>San Juan del Cesar</td>\n",
       "      <td>Queso duro</td>\n",
       "      <td>1000</td>\n",
       "    </tr>\n",
       "    <tr>\n",
       "      <th>1</th>\n",
       "      <td>San Juan del Cesar</td>\n",
       "      <td>Queso blando</td>\n",
       "      <td>1500</td>\n",
       "    </tr>\n",
       "    <tr>\n",
       "      <th>2</th>\n",
       "      <td>Riohacha</td>\n",
       "      <td>Queso duro</td>\n",
       "      <td>2000</td>\n",
       "    </tr>\n",
       "    <tr>\n",
       "      <th>3</th>\n",
       "      <td>Riohacha</td>\n",
       "      <td>Queso blando</td>\n",
       "      <td>800</td>\n",
       "    </tr>\n",
       "    <tr>\n",
       "      <th>4</th>\n",
       "      <td>Maicao</td>\n",
       "      <td>Queso duro</td>\n",
       "      <td>5000</td>\n",
       "    </tr>\n",
       "  </tbody>\n",
       "</table>\n",
       "</div>"
      ]
     },
     "execution_count": 8,
     "metadata": {},
     "output_type": "execute_result"
    }
   ],
   "execution_count": 8
  },
  {
   "cell_type": "markdown",
   "metadata": {
    "collapsed": false,
    "jupyter": {
     "outputs_hidden": false
    }
   },
   "source": [
    "### Costos de Transporte\n",
    "$$\n",
    "  CTransporte_t = \\sum_{k \\in K} \\sum_{j \\in J} \\sum_{p \\in P} CostoTransAcopioClie_{pjkt} \\qquad \\forall_t \\in T\n",
    "$$"
   ]
  },
  {
   "cell_type": "code",
   "metadata": {
    "collapsed": false,
    "jupyter": {
     "outputs_hidden": false
    },
    "ExecuteTime": {
     "end_time": "2024-07-15T15:28:47.139926Z",
     "start_time": "2024-07-15T15:28:47.128331Z"
    }
   },
   "source": [
    "# ctac_df = pd.read_csv(csv_base + routes['ctac'], **csv_config)\n",
    "ctac_df = pd.read_csv(csv_base + routes['ctactest'], **csv_config)\n",
    "ctac_df.head()"
   ],
   "outputs": [
    {
     "data": {
      "text/plain": [
       "             CAcopios       Clientes  CostoTransCAClie\n",
       "0  San Juan del Cesar  Distribuidor1              5000\n",
       "1  San Juan del Cesar  Distribuidor2             38000\n",
       "2            Riohacha  Distribuidor1              5000\n",
       "3            Riohacha  Distribuidor2             15000\n",
       "4              Maicao  Distribuidor1              5000"
      ],
      "text/html": [
       "<div>\n",
       "<style scoped>\n",
       "    .dataframe tbody tr th:only-of-type {\n",
       "        vertical-align: middle;\n",
       "    }\n",
       "\n",
       "    .dataframe tbody tr th {\n",
       "        vertical-align: top;\n",
       "    }\n",
       "\n",
       "    .dataframe thead th {\n",
       "        text-align: right;\n",
       "    }\n",
       "</style>\n",
       "<table border=\"1\" class=\"dataframe\">\n",
       "  <thead>\n",
       "    <tr style=\"text-align: right;\">\n",
       "      <th></th>\n",
       "      <th>CAcopios</th>\n",
       "      <th>Clientes</th>\n",
       "      <th>CostoTransCAClie</th>\n",
       "    </tr>\n",
       "  </thead>\n",
       "  <tbody>\n",
       "    <tr>\n",
       "      <th>0</th>\n",
       "      <td>San Juan del Cesar</td>\n",
       "      <td>Distribuidor1</td>\n",
       "      <td>5000</td>\n",
       "    </tr>\n",
       "    <tr>\n",
       "      <th>1</th>\n",
       "      <td>San Juan del Cesar</td>\n",
       "      <td>Distribuidor2</td>\n",
       "      <td>38000</td>\n",
       "    </tr>\n",
       "    <tr>\n",
       "      <th>2</th>\n",
       "      <td>Riohacha</td>\n",
       "      <td>Distribuidor1</td>\n",
       "      <td>5000</td>\n",
       "    </tr>\n",
       "    <tr>\n",
       "      <th>3</th>\n",
       "      <td>Riohacha</td>\n",
       "      <td>Distribuidor2</td>\n",
       "      <td>15000</td>\n",
       "    </tr>\n",
       "    <tr>\n",
       "      <th>4</th>\n",
       "      <td>Maicao</td>\n",
       "      <td>Distribuidor1</td>\n",
       "      <td>5000</td>\n",
       "    </tr>\n",
       "  </tbody>\n",
       "</table>\n",
       "</div>"
      ]
     },
     "execution_count": 9,
     "metadata": {},
     "output_type": "execute_result"
    }
   ],
   "execution_count": 9
  },
  {
   "cell_type": "markdown",
   "metadata": {},
   "source": [
    "## Esquema de representación\n",
    "Se recibe la demanda $DemandaClie_{pkt}$ como parámetro de entrada.\n",
    "\n",
    "Se representa la cantidad $n$ de centros de acopio como un vector, donde se asigna una cantidad $x_i$ para cada centro de acopio $j_i$, la cantidad asignada representa la demanda que va a ser suplida por ese centro de acopio.\n",
    "$$\n",
    "\\begin{array} {|r|r|r|r|r|r|}\n",
    "    \\hline x_0 & x_1 & x_2 & x_3 & \\cdots & x_n \\\\\n",
    "    \\hline\n",
    "\\end{array}\n",
    "\\quad \\therefore \\quad x_i = AC_{pjkt}\n",
    "$$\n",
    "Donde se aplican las restricciones:\n",
    "$$\n",
    "\\begin{align*}\n",
    "    \\sum_{i=0}^{n} x_i &= DemandaClie_{pkt} \\\\\n",
    "    x_i &\\leq InvCA_{pjt}\n",
    "\\end{align*}\n",
    "$$"
   ]
  },
  {
   "metadata": {},
   "cell_type": "markdown",
   "source": [
    "# Escenarios de prueba\n",
    "Tomando demandas por cada centro de acopio, se definen distintos escenarios de posibles casos.\n",
    "\n",
    "**Escenario 1**: Un centro de acopio sobrepasa la demanda del cliente\n",
    "- El modelo puede asignar dicho centro de acopio para suplir con la demanda\n",
    "- El centro de acopio debe proveer esa demanda\n",
    "\n",
    "**Escenario 2**: Ningún centro de acopio cumple con toda la demanda del cliente\n",
    "- El modelo debe dar una solución de varios centros de acopio\n",
    "- La suma de la demanda por cada centro de acopio debe ser igual a la demanda\n",
    "\n",
    "**Escenario 3**: Un centro de acopio tiene en stock exactamente la cantidad de la demanda de un cliente.\n",
    "- El modelo puede tomar el centro de acopio que tiene en stock exactamente la demanda a cumplir"
   ]
  },
  {
   "metadata": {},
   "cell_type": "markdown",
   "source": [
    "### Demandas\n",
    "Generando demandas para cada cliente, se usarán como entrada para el modelo"
   ]
  },
  {
   "cell_type": "code",
   "metadata": {
    "ExecuteTime": {
     "end_time": "2024-07-15T16:04:28.676622Z",
     "start_time": "2024-07-15T16:04:28.671476Z"
    }
   },
   "source": [
    "demanda = 120\n",
    "cap_queso = cap_df[cap_df[productos] == 'Queso duro']\n",
    "bounds = tuple((0, x_i) for x_i in cap_queso['CapInvCA'])"
   ],
   "outputs": [],
   "execution_count": 27
  },
  {
   "cell_type": "markdown",
   "metadata": {},
   "source": [
    "## Función objetivo\n",
    "$$\n",
    "Min(F) = CInventario + CTransporte\n",
    "$$"
   ]
  },
  {
   "cell_type": "code",
   "metadata": {
    "ExecuteTime": {
     "end_time": "2024-07-15T15:28:47.152048Z",
     "start_time": "2024-07-15T15:28:47.144755Z"
    }
   },
   "source": [
    "# F(x)\n",
    "def f(x):\n",
    "    delta = 0\n",
    "\n",
    "    for idx in range(x.shape[0]):\n",
    "        ca = cacopios_df.loc[idx]\n",
    "\n",
    "        if x[idx] == 0.:\n",
    "            continue\n",
    "\n",
    "        # Costos de Inventario\n",
    "        costo_inv_ca = cia_df[(cia_df[cacopios] == ca[cacopios]) & (cia_df[productos] == 'Queso duro')]\n",
    "        # Costos de Transporte\n",
    "        costo_trans_ca = ctac_df[(ctac_df[cacopios] == ca[cacopios]) & (ctac_df[clientes] == 'Distribuidor1')]\n",
    "\n",
    "        delta += x[idx] * costo_inv_ca['CostoInvCA'].values[0]\n",
    "        delta += np.array(costo_trans_ca['CostoTransCAClie'].values[0])\n",
    "    \n",
    "    return delta"
   ],
   "outputs": [],
   "execution_count": 11
  },
  {
   "cell_type": "markdown",
   "metadata": {},
   "source": [
    "## scipy"
   ]
  },
  {
   "cell_type": "markdown",
   "metadata": {},
   "source": [
    "**LinearConstraint**: $ lb \\leq A \\cdot v[x] \\leq ub $\n",
    "\n",
    "**NonLinearConstraint**: $ lb \\leq g(x) \\leq ub $"
   ]
  },
  {
   "cell_type": "code",
   "metadata": {
    "ExecuteTime": {
     "end_time": "2024-07-15T16:36:07.437953Z",
     "start_time": "2024-07-15T16:36:07.434011Z"
    }
   },
   "source": [
    "c = tuple(idx for (_, idx) in bounds)\n",
    "Aeq = np.ones((1, len(c)))\n",
    "beq = 1"
   ],
   "outputs": [],
   "execution_count": 55
  },
  {
   "cell_type": "code",
   "metadata": {
    "ExecuteTime": {
     "end_time": "2024-07-15T16:45:58.848163Z",
     "start_time": "2024-07-15T16:45:58.840056Z"
    }
   },
   "source": [
    "from scipy.optimize import linprog\n",
    "# from scipy.optimize import differential_evolution\n",
    "\n",
    "result = linprog(\n",
    "    c,\n",
    "    A_ub=Aeq,\n",
    "    b_ub=beq,\n",
    "    bounds=bounds,\n",
    "    method='highs',\n",
    "    integrality=1\n",
    ")\n",
    "print(result)"
   ],
   "outputs": [
    {
     "name": "stdout",
     "output_type": "stream",
     "text": [
      "       message: Optimization terminated successfully. (HiGHS Status 7: Optimal)\n",
      "       success: True\n",
      "        status: 0\n",
      "           fun: 0.0\n",
      "             x: [ 0.000e+00  0.000e+00  0.000e+00]\n",
      "           nit: -1\n",
      "         lower:  residual: [ 0.000e+00  0.000e+00  0.000e+00]\n",
      "                marginals: [ 0.000e+00  0.000e+00  0.000e+00]\n",
      "         upper:  residual: [ 5.000e+01  1.000e+02  1.000e+01]\n",
      "                marginals: [ 0.000e+00  0.000e+00  0.000e+00]\n",
      "         eqlin:  residual: []\n",
      "                marginals: []\n",
      "       ineqlin:  residual: [ 1.000e+00]\n",
      "                marginals: [ 0.000e+00]\n"
     ]
    }
   ],
   "execution_count": 72
  },
  {
   "metadata": {},
   "cell_type": "markdown",
   "source": "## pymoo"
  },
  {
   "cell_type": "code",
   "metadata": {
    "ExecuteTime": {
     "end_time": "2024-07-15T16:04:32.675209Z",
     "start_time": "2024-07-15T16:04:32.669909Z"
    }
   },
   "source": [
    "from pymoo.core.problem import ElementwiseProblem\n",
    "\n",
    "xl = np.zeros(cacopios_df.shape)\n",
    "xu = np.asarray([b for _, b in bounds])\n",
    "\n",
    "class Queso(ElementwiseProblem):\n",
    "    def __init__(self):\n",
    "        super().__init__(\n",
    "            n_var=len(xl),\n",
    "            n_obj=1,\n",
    "            # n_eq_constr=1,\n",
    "            n_ieq_constr=1,\n",
    "            xl=0,\n",
    "            xu=xu,\n",
    "            vtype=int\n",
    "        )\n",
    "        \n",
    "    def _evaluate(self, x, out, *args, **kwargs):\n",
    "        out['F'] = f(x)\n",
    "        out['G'] = demanda - np.sum(x)\n",
    "        # out['H'] = demanda - np.sum(x)"
   ],
   "outputs": [],
   "execution_count": 28
  },
  {
   "cell_type": "code",
   "metadata": {
    "ExecuteTime": {
     "end_time": "2024-07-15T16:04:39.119677Z",
     "start_time": "2024-07-15T16:04:34.101650Z"
    }
   },
   "source": [
    "from pymoo.algorithms.soo.nonconvex.ga import GA\n",
    "from pymoo.optimize import minimize\n",
    "from pymoo.termination import get_termination\n",
    "\n",
    "problem = Queso()\n",
    "\n",
    "algorithm = GA(\n",
    "    pop_size=9,\n",
    "    eliminate_duplicates=True\n",
    ")\n",
    "\n",
    "termination = get_termination('time', '00:00:05')\n",
    "\n",
    "res = minimize(problem,\n",
    "               algorithm,\n",
    "               termination,\n",
    "               seed=1,\n",
    "               verbose=False)\n",
    "\n",
    "print(f'F: {res.F}, \\nX: {res.X}')"
   ],
   "outputs": [
    {
     "name": "stdout",
     "output_type": "stream",
     "text": [
      "F: [200187.39029581], \n",
      "X: [49.95628312 70.11555359  0.        ]\n"
     ]
    }
   ],
   "execution_count": 29
  }
 ],
 "metadata": {
  "colab": {
   "provenance": []
  },
  "kernelspec": {
   "display_name": "Python 3 (ipykernel)",
   "language": "python",
   "name": "python3"
  },
  "language_info": {
   "codemirror_mode": {
    "name": "ipython",
    "version": 3
   },
   "file_extension": ".py",
   "mimetype": "text/x-python",
   "name": "python",
   "nbconvert_exporter": "python",
   "pygments_lexer": "ipython3",
   "version": "3.11.7"
  }
 },
 "nbformat": 4,
 "nbformat_minor": 4
}
