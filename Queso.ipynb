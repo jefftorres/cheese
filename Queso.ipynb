{
 "nbformat": 4,
 "nbformat_minor": 0,
 "metadata": {
  "colab": {
   "provenance": []
  },
  "kernelspec": {
   "name": "python3",
   "language": "python",
   "display_name": "Python 3 (ipykernel)"
  },
  "language_info": {
   "name": "python"
  }
 },
 "cells": [
  {
   "cell_type": "code",
   "execution_count": 1,
   "metadata": {
    "id": "sLLmzB6qJwiG",
    "ExecuteTime": {
     "end_time": "2024-06-13T13:14:32.632158800Z",
     "start_time": "2024-06-13T13:14:30.943698200Z"
    }
   },
   "outputs": [],
   "source": [
    "import numpy as np\n",
    "import pandas as pd\n",
    "import matplotlib.pyplot as plt\n"
   ]
  },
  {
   "cell_type": "markdown",
   "source": [
    "**Conjuntos** del modelo de optimización\n",
    "\n",
    "| **Término** | **Descripción**                |\n",
    "|-------------|--------------------------------|\n",
    "| I           | Conjunto de productores        |\n",
    "| J           | Conjunto de centros de acopio  |\n",
    "| K           | Conjunto de clientes           |\n",
    "| P           | Conjunto de productos          |\n",
    "| T           | Conjunto de periodos de tiempo |"
   ],
   "metadata": {
    "id": "ZZ20H0g88fr9"
   }
  },
  {
   "cell_type": "code",
   "source": [
    "# Variables\n",
    "I = 'Productores'\n",
    "J = 'CAcopios'\n",
    "K = 'Clientes'\n",
    "P = 'Productos'\n",
    "T = 'Tiempo'"
   ],
   "metadata": {
    "id": "rIc1Q2z08Ejj",
    "ExecuteTime": {
     "end_time": "2024-06-13T13:14:32.656120200Z",
     "start_time": "2024-06-13T13:14:32.636148800Z"
    }
   },
   "execution_count": 2,
   "outputs": []
  },
  {
   "cell_type": "code",
   "source": [
    "csv_base = '../CSV/'\n",
    "\n",
    "routes = {\n",
    "    'cap_almacenamiento_ca' : 'CapAlmacenamientoCA.csv',\n",
    "    'cap_productor' : 'CapProductor.csv',\n",
    "    'c_produccion' : 'CostoProduccion.csv',\n",
    "    'c_fijo_acopio': 'CostoFijoAcopio.csv',\n",
    "    'c_var_acopio' : 'CostoVarAcopio.csv',\n",
    "    'c_inv_acopio' : 'CostoInvAcopio.csv',\n",
    "    'c_trans_prod_acopio' : 'CostoTransProdAcopio.csv',\n",
    "    'c_trans_acopio_clie' : 'CostoTransAcopioClie.csv',\n",
    "    'demanda_clie' : 'DemandaClie.csv'\n",
    "}\n",
    "\n",
    "csv_config = {\n",
    "    'delimiter' : ';',\n",
    "    'decimal' : ','\n",
    "}\n",
    "\n",
    "# pd.read_csv(r'' + csv_base + routes.get('...'), delimiter=csv_config.get('delimiter'), decimal=csv_config.get('decimal'))"
   ],
   "metadata": {
    "id": "vQTQCvL0-G49",
    "ExecuteTime": {
     "end_time": "2024-06-13T13:14:32.657143900Z",
     "start_time": "2024-06-13T13:14:32.647171600Z"
    }
   },
   "execution_count": 3,
   "outputs": []
  },
  {
   "cell_type": "code",
   "source": [
    "P_df = pd.read_csv(r'' + csv_base + P + '.csv')\n",
    "P_df.head()"
   ],
   "metadata": {
    "id": "uXpvF6rV_DHz",
    "ExecuteTime": {
     "end_time": "2024-06-13T13:14:32.742859100Z",
     "start_time": "2024-06-13T13:14:32.656120200Z"
    }
   },
   "execution_count": 4,
   "outputs": [
    {
     "data": {
      "text/plain": "      Productos\n0    Queso duro\n1  Queso blando",
      "text/html": "<div>\n<style scoped>\n    .dataframe tbody tr th:only-of-type {\n        vertical-align: middle;\n    }\n\n    .dataframe tbody tr th {\n        vertical-align: top;\n    }\n\n    .dataframe thead th {\n        text-align: right;\n    }\n</style>\n<table border=\"1\" class=\"dataframe\">\n  <thead>\n    <tr style=\"text-align: right;\">\n      <th></th>\n      <th>Productos</th>\n    </tr>\n  </thead>\n  <tbody>\n    <tr>\n      <th>0</th>\n      <td>Queso duro</td>\n    </tr>\n    <tr>\n      <th>1</th>\n      <td>Queso blando</td>\n    </tr>\n  </tbody>\n</table>\n</div>"
     },
     "execution_count": 4,
     "metadata": {},
     "output_type": "execute_result"
    }
   ]
  },
  {
   "cell_type": "markdown",
   "source": [
    "## Escenarios de prueba de demandas por centro de acopio\n",
    "Escenario 1: Un centro de acopio sobrepasa la demanda del cliente\n",
    "- El modelo puede asignar dicho centro de acopio para suplir con la demanda\n",
    "- El centro de acopio debe proveer esa demanda\n",
    "\n",
    "Escenario 2: Ningún centro de acopio cumple con toda la demanda del cliente\n",
    "- El modelo debe dar una solución de varios centros de acopio\n",
    "- La suma de la demanda por cada centro de acopio debe ser igual a la demanda\n",
    "\n",
    "Escenario 3: Un centro de acopio tiene en stock exactamente la cantidad de la demanda de un cliente.\n",
    "- El modelo puede tomar el centro de acopio que tiene en stock exactamente la demanda a cumplir"
   ],
   "metadata": {
    "id": "UU6lrYtfPHem"
   }
  },
  {
   "cell_type": "markdown",
   "source": [
    "### Generando demandas por cliente"
   ],
   "metadata": {
    "id": "3E2jXwGK1kw3"
   }
  },
  {
   "cell_type": "code",
   "source": [
    "import random\n",
    "\n",
    "K_df = pd.read_csv(r'' + csv_base + K + '.csv')\n",
    "clients = K_df[K].drop_duplicates()\n",
    "\n",
    "X = []\n",
    "\n",
    "for client in clients:\n",
    "  X.append(10 * random.randint(0, 100))\n",
    "\n",
    "clients = pd.DataFrame(clients)\n",
    "\n",
    "clients['Demanda'] = pd.DataFrame(X)\n",
    "clients"
   ],
   "metadata": {
    "id": "_9EyCBM9KaIU",
    "ExecuteTime": {
     "end_time": "2024-06-13T13:14:32.767279900Z",
     "start_time": "2024-06-13T13:14:32.725818900Z"
    }
   },
   "execution_count": 5,
   "outputs": [
    {
     "data": {
      "text/plain": "        Clientes  Demanda\n0    Santa Marta      910\n1       Riohacha      270\n2       Monteria      260\n3   Barranquilla      270\n4         Bogotá      520\n5    Bucaramanga      930\n6      Cartagena      260\n7           Cali      870\n8         Cúcuta      350\n9       Medellín      820\n10    Valledupar      600",
      "text/html": "<div>\n<style scoped>\n    .dataframe tbody tr th:only-of-type {\n        vertical-align: middle;\n    }\n\n    .dataframe tbody tr th {\n        vertical-align: top;\n    }\n\n    .dataframe thead th {\n        text-align: right;\n    }\n</style>\n<table border=\"1\" class=\"dataframe\">\n  <thead>\n    <tr style=\"text-align: right;\">\n      <th></th>\n      <th>Clientes</th>\n      <th>Demanda</th>\n    </tr>\n  </thead>\n  <tbody>\n    <tr>\n      <th>0</th>\n      <td>Santa Marta</td>\n      <td>910</td>\n    </tr>\n    <tr>\n      <th>1</th>\n      <td>Riohacha</td>\n      <td>270</td>\n    </tr>\n    <tr>\n      <th>2</th>\n      <td>Monteria</td>\n      <td>260</td>\n    </tr>\n    <tr>\n      <th>3</th>\n      <td>Barranquilla</td>\n      <td>270</td>\n    </tr>\n    <tr>\n      <th>4</th>\n      <td>Bogotá</td>\n      <td>520</td>\n    </tr>\n    <tr>\n      <th>5</th>\n      <td>Bucaramanga</td>\n      <td>930</td>\n    </tr>\n    <tr>\n      <th>6</th>\n      <td>Cartagena</td>\n      <td>260</td>\n    </tr>\n    <tr>\n      <th>7</th>\n      <td>Cali</td>\n      <td>870</td>\n    </tr>\n    <tr>\n      <th>8</th>\n      <td>Cúcuta</td>\n      <td>350</td>\n    </tr>\n    <tr>\n      <th>9</th>\n      <td>Medellín</td>\n      <td>820</td>\n    </tr>\n    <tr>\n      <th>10</th>\n      <td>Valledupar</td>\n      <td>600</td>\n    </tr>\n  </tbody>\n</table>\n</div>"
     },
     "execution_count": 5,
     "metadata": {},
     "output_type": "execute_result"
    }
   ]
  },
  {
   "cell_type": "code",
   "source": [
    "# Tomando una demanda\n",
    "clients.loc[0]"
   ],
   "metadata": {
    "id": "-rhIgXl--QzR",
    "ExecuteTime": {
     "end_time": "2024-06-13T13:14:32.811321500Z",
     "start_time": "2024-06-13T13:14:32.760445900Z"
    }
   },
   "execution_count": 6,
   "outputs": [
    {
     "data": {
      "text/plain": "Clientes    Santa Marta\nDemanda             910\nName: 0, dtype: object"
     },
     "execution_count": 6,
     "metadata": {},
     "output_type": "execute_result"
    }
   ]
  },
  {
   "cell_type": "markdown",
   "source": [
    "### Generando capacidades para cada centro de acopio"
   ],
   "metadata": {
    "id": "x_BjEzuc1pO8"
   }
  },
  {
   "cell_type": "code",
   "execution_count": 7,
   "outputs": [
    {
     "data": {
      "text/plain": "              Cacopio  Capacidad\n0  San Juan del Cesar        920\n1            Riohacha         90\n2              Maicao        210\n3              Guamal        860\n4             Pivijay        800\n5       Nueva granada        590\n6            Monteria        340\n7               Chinu         90\n8        Planeta rica        170",
      "text/html": "<div>\n<style scoped>\n    .dataframe tbody tr th:only-of-type {\n        vertical-align: middle;\n    }\n\n    .dataframe tbody tr th {\n        vertical-align: top;\n    }\n\n    .dataframe thead th {\n        text-align: right;\n    }\n</style>\n<table border=\"1\" class=\"dataframe\">\n  <thead>\n    <tr style=\"text-align: right;\">\n      <th></th>\n      <th>Cacopio</th>\n      <th>Capacidad</th>\n    </tr>\n  </thead>\n  <tbody>\n    <tr>\n      <th>0</th>\n      <td>San Juan del Cesar</td>\n      <td>920</td>\n    </tr>\n    <tr>\n      <th>1</th>\n      <td>Riohacha</td>\n      <td>90</td>\n    </tr>\n    <tr>\n      <th>2</th>\n      <td>Maicao</td>\n      <td>210</td>\n    </tr>\n    <tr>\n      <th>3</th>\n      <td>Guamal</td>\n      <td>860</td>\n    </tr>\n    <tr>\n      <th>4</th>\n      <td>Pivijay</td>\n      <td>800</td>\n    </tr>\n    <tr>\n      <th>5</th>\n      <td>Nueva granada</td>\n      <td>590</td>\n    </tr>\n    <tr>\n      <th>6</th>\n      <td>Monteria</td>\n      <td>340</td>\n    </tr>\n    <tr>\n      <th>7</th>\n      <td>Chinu</td>\n      <td>90</td>\n    </tr>\n    <tr>\n      <th>8</th>\n      <td>Planeta rica</td>\n      <td>170</td>\n    </tr>\n  </tbody>\n</table>\n</div>"
     },
     "execution_count": 7,
     "metadata": {},
     "output_type": "execute_result"
    }
   ],
   "source": [
    "J_df = pd.read_csv(r'' + csv_base + J + '.csv')\n",
    "c_acopios = J_df['Cacopio']\n",
    "X = []\n",
    "\n",
    "for c_acopio in c_acopios:\n",
    "  X.append(10 * random.randint(0, 100))\n",
    "\n",
    "c_acopios = pd.DataFrame(c_acopios)\n",
    "c_acopios['Capacidad'] = pd.DataFrame(X)\n",
    "c_acopios"
   ],
   "metadata": {
    "collapsed": false,
    "ExecuteTime": {
     "end_time": "2024-06-13T13:14:32.949788300Z",
     "start_time": "2024-06-13T13:14:32.775785700Z"
    }
   }
  },
  {
   "cell_type": "markdown",
   "source": [
    "### func. obj\n",
    "\n",
    "$$\n",
    "Min(F) = CProduccion_t + COperacion_t + CInventario_t + CTransporte_t\n",
    "$$"
   ],
   "metadata": {
    "collapsed": false
   }
  },
  {
   "cell_type": "markdown",
   "source": [
    "#### Costos de producción\n",
    "$$\n",
    "  CProduccion_t = \\sum_{i \\in I} \\sum_{j \\in J} \\sum_{p \\in P} CostoProduccion_{pit} PA_{pijt} \\qquad \\forall_t \\in T\n",
    "$$"
   ],
   "metadata": {
    "collapsed": false
   }
  },
  {
   "cell_type": "code",
   "execution_count": 8,
   "outputs": [
    {
     "data": {
      "text/plain": "Productores\nALBERTO URIANO                     454118\nALEXANDER VASQUEZ ROMERO           451138\nALFONSO GUERRA ARROYO              464352\nALVARO DE JESUS GUERRA AMAYA       454118\nANA HELENA BETANCOURT SIERRA       464352\n                                    ...  \nVICTOR SALCEDO CASTRO              464352\nWILSON ALFREDO IBARRA DELUQUE      451138\nWILSON ORJUELA PATIÑO              454118\nYAJAIRA CATALINA AGUIRRE FLOREZ    468276\nYOLMIS AMAYA ORTIZ                 454118\nName: CostoProduccion, Length: 103, dtype: int64"
     },
     "execution_count": 8,
     "metadata": {},
     "output_type": "execute_result"
    }
   ],
   "source": [
    "cp_df = pd.read_csv(r'' + csv_base + routes.get('c_produccion'))\n",
    "\n",
    "cp_sum = cp_df.groupby('Productores')['CostoProduccion'].agg('sum')\n",
    "cp_sum"
   ],
   "metadata": {
    "collapsed": false,
    "ExecuteTime": {
     "end_time": "2024-06-13T13:14:33.121933300Z",
     "start_time": "2024-06-13T13:14:32.812314300Z"
    }
   }
  },
  {
   "cell_type": "markdown",
   "source": [
    "#### Costos de Operación\n",
    "$$\n",
    "  COperacion_t = CFijos_t + CVariables_t\n",
    "$$"
   ],
   "metadata": {
    "collapsed": false
   }
  },
  {
   "cell_type": "code",
   "execution_count": 9,
   "outputs": [
    {
     "data": {
      "text/plain": "CAcopios\nChinu                 58440000\nGuamal                51600000\nMaicao                51960000\nMonteria              57588000\nNueva granada         51960000\nPivijay               53400000\nPlaneta rica          57000000\nRiohacha              53400000\nSan Juan del Cesar    51600000\nName: CostoFijoAcopio, dtype: int64"
     },
     "execution_count": 9,
     "metadata": {},
     "output_type": "execute_result"
    }
   ],
   "source": [
    "cfa_df = pd.read_csv(r'' + csv_base + routes.get('c_fijo_acopio'))\n",
    "\n",
    "cfa_sum = cfa_df.groupby('CAcopios')['CostoFijoAcopio'].agg('sum')\n",
    "cfa_sum"
   ],
   "metadata": {
    "collapsed": false,
    "ExecuteTime": {
     "end_time": "2024-06-13T13:14:33.162250400Z",
     "start_time": "2024-06-13T13:14:32.852330700Z"
    }
   }
  },
  {
   "cell_type": "code",
   "execution_count": 10,
   "outputs": [
    {
     "data": {
      "text/plain": "CAcopios\nChinu                 21000\nGuamal                18480\nMaicao                18840\nMonteria              22080\nNueva granada         18840\nPivijay               19440\nPlaneta rica          20400\nRiohacha              19440\nSan Juan del Cesar    18480\nName: CostoVarAcopio, dtype: int64"
     },
     "execution_count": 10,
     "metadata": {},
     "output_type": "execute_result"
    }
   ],
   "source": [
    "cva_df = pd.read_csv(r'' + csv_base + routes.get('c_var_acopio'))\n",
    "cva_sum = cva_df.groupby('CAcopios')['CostoVarAcopio'].agg('sum')\n",
    "cva_sum"
   ],
   "metadata": {
    "collapsed": false,
    "ExecuteTime": {
     "end_time": "2024-06-13T13:14:33.196852200Z",
     "start_time": "2024-06-13T13:14:32.879149900Z"
    }
   }
  },
  {
   "cell_type": "markdown",
   "source": [
    "#### Costos de Inventario\n",
    "$$\n",
    "  CInventario_t = \\sum_{j \\in J} \\sum_{p \\in P} CostoInvAcopio_{pjt} InvCA_{pjt} \\qquad \\forall_t \\in T\n",
    "$$"
   ],
   "metadata": {
    "collapsed": false
   }
  },
  {
   "cell_type": "code",
   "execution_count": 11,
   "outputs": [
    {
     "data": {
      "text/plain": "CAcopios\nChinu                 13200\nGuamal                10800\nMaicao                13200\nMonteria              13200\nNueva granada         13200\nPivijay               12000\nPlaneta rica          12000\nRiohacha              12000\nSan Juan del Cesar    10800\nName: CostoInvAcopio, dtype: int64"
     },
     "execution_count": 11,
     "metadata": {},
     "output_type": "execute_result"
    }
   ],
   "source": [
    "cia_df = pd.read_csv(r'' + csv_base + routes.get('c_inv_acopio'))\n",
    "\n",
    "cia_sum = cia_df.groupby('CAcopios')['CostoInvAcopio'].agg('sum')\n",
    "cia_sum"
   ],
   "metadata": {
    "collapsed": false,
    "ExecuteTime": {
     "end_time": "2024-06-13T13:14:33.255778Z",
     "start_time": "2024-06-13T13:14:32.907071800Z"
    }
   }
  },
  {
   "cell_type": "markdown",
   "source": [
    "#### Costos de Transporte\n",
    "$$\n",
    "  CTransporte_t = \\sum_{j \\in J} \\sum_{i \\in I} \\sum_{p \\in P} CostoTransAcopio_{pijt} PA_{pijt} + \\sum_{k \\in K} \\sum_{j \\in J} \\sum_{p \\in P} \\qquad \\forall_t \\in T\n",
    "$$"
   ],
   "metadata": {
    "collapsed": false
   }
  },
  {
   "cell_type": "code",
   "execution_count": 12,
   "outputs": [
    {
     "data": {
      "text/plain": "CAcopios\nChinu                 140256.00\nGuamal                148307.64\nMaicao                265420.80\nMonteria              124776.00\nNueva granada         129672.00\nPivijay               194010.00\nPlaneta rica          122592.00\nRiohacha              269722.80\nSan Juan del Cesar    267592.32\nName: CostoTransProdAcopio, dtype: float64"
     },
     "execution_count": 12,
     "metadata": {},
     "output_type": "execute_result"
    }
   ],
   "source": [
    "ctpa_df = pd.read_csv(r'' + csv_base + routes.get('c_trans_prod_acopio'))\n",
    "\n",
    "ctpa_sum = ctpa_df.groupby('CAcopios')['CostoTransProdAcopio'].agg('sum')\n",
    "ctpa_sum"
   ],
   "metadata": {
    "collapsed": false,
    "ExecuteTime": {
     "end_time": "2024-06-13T13:14:33.269276300Z",
     "start_time": "2024-06-13T13:14:32.935822800Z"
    }
   }
  },
  {
   "cell_type": "code",
   "execution_count": 13,
   "outputs": [
    {
     "data": {
      "text/plain": "CAcopios\nChinu                 213264.0\nGuamal                135416.4\nMaicao                246598.8\nMonteria              225888.0\nNueva granada         283290.0\nPivijay               250152.0\nPlaneta rica          231072.0\nRiohacha              257730.0\nSan Juan del Cesar    269108.4\nName: CostoTransAcopioClie, dtype: float64"
     },
     "execution_count": 13,
     "metadata": {},
     "output_type": "execute_result"
    }
   ],
   "source": [
    "ctac_df = pd.read_csv(r'' + csv_base + routes.get('c_trans_acopio_clie'))\n",
    "\n",
    "ctac_sum = ctac_df.groupby('CAcopios')['CostoTransAcopioClie'].agg('sum')\n",
    "ctac_sum"
   ],
   "metadata": {
    "collapsed": false,
    "ExecuteTime": {
     "end_time": "2024-06-13T13:14:33.401147400Z",
     "start_time": "2024-06-13T13:14:32.984343300Z"
    }
   }
  },
  {
   "cell_type": "markdown",
   "source": [
    "### scipy"
   ],
   "metadata": {
    "collapsed": false
   }
  },
  {
   "cell_type": "code",
   "execution_count": 14,
   "outputs": [
    {
     "name": "stdout",
     "output_type": "stream",
     "text": [
      " message: ['Maximum number of iteration reached']\n",
      " success: True\n",
      "  status: 0\n",
      "     fun: -12120000.0\n",
      "       x: [-2.000e+03]\n",
      "     nit: 1000\n",
      "    nfev: 2005\n",
      "    njev: 2\n",
      "    nhev: 0\n"
     ]
    }
   ],
   "source": [
    "from scipy.optimize import dual_annealing\n",
    "\n",
    "def f(x):\n",
    "  x = x * sum(clients['Demanda'].values.tolist())\n",
    "  return x\n",
    "\n",
    "bounds = [(-2000, 2000)]\n",
    "result = dual_annealing(f, bounds=bounds)\n",
    "print(result)"
   ],
   "metadata": {
    "collapsed": false,
    "ExecuteTime": {
     "end_time": "2024-06-13T13:14:34.443625200Z",
     "start_time": "2024-06-13T13:14:33.025028600Z"
    }
   }
  },
  {
   "cell_type": "code",
   "execution_count": 15,
   "outputs": [],
   "source": [
    "dc_df = pd.read_csv(r'' + csv_base + routes.get('demanda_clie'))\n",
    "res = dc_df.groupby('Clientes')['DemandaClie'].agg('sum')"
   ],
   "metadata": {
    "collapsed": false,
    "ExecuteTime": {
     "end_time": "2024-06-13T13:14:34.469755400Z",
     "start_time": "2024-06-13T13:14:34.431126900Z"
    }
   }
  },
  {
   "cell_type": "markdown",
   "source": [
    "# Capacidades"
   ],
   "metadata": {
    "collapsed": false
   }
  },
  {
   "cell_type": "code",
   "execution_count": 16,
   "outputs": [
    {
     "data": {
      "text/plain": "    Ciudad   Productos      Productores  Tiempo  CapProductor\n0  Cordoba  Queso duro  FRANCISCO PEREZ       1         33900\n1  Cordoba  Queso duro  FRANCISCO PEREZ       2         33900\n2  Cordoba  Queso duro  FRANCISCO PEREZ       3         33900\n3  Cordoba  Queso duro  FRANCISCO PEREZ       4         33900\n4  Cordoba  Queso duro  FRANCISCO PEREZ       5         33900",
      "text/html": "<div>\n<style scoped>\n    .dataframe tbody tr th:only-of-type {\n        vertical-align: middle;\n    }\n\n    .dataframe tbody tr th {\n        vertical-align: top;\n    }\n\n    .dataframe thead th {\n        text-align: right;\n    }\n</style>\n<table border=\"1\" class=\"dataframe\">\n  <thead>\n    <tr style=\"text-align: right;\">\n      <th></th>\n      <th>Ciudad</th>\n      <th>Productos</th>\n      <th>Productores</th>\n      <th>Tiempo</th>\n      <th>CapProductor</th>\n    </tr>\n  </thead>\n  <tbody>\n    <tr>\n      <th>0</th>\n      <td>Cordoba</td>\n      <td>Queso duro</td>\n      <td>FRANCISCO PEREZ</td>\n      <td>1</td>\n      <td>33900</td>\n    </tr>\n    <tr>\n      <th>1</th>\n      <td>Cordoba</td>\n      <td>Queso duro</td>\n      <td>FRANCISCO PEREZ</td>\n      <td>2</td>\n      <td>33900</td>\n    </tr>\n    <tr>\n      <th>2</th>\n      <td>Cordoba</td>\n      <td>Queso duro</td>\n      <td>FRANCISCO PEREZ</td>\n      <td>3</td>\n      <td>33900</td>\n    </tr>\n    <tr>\n      <th>3</th>\n      <td>Cordoba</td>\n      <td>Queso duro</td>\n      <td>FRANCISCO PEREZ</td>\n      <td>4</td>\n      <td>33900</td>\n    </tr>\n    <tr>\n      <th>4</th>\n      <td>Cordoba</td>\n      <td>Queso duro</td>\n      <td>FRANCISCO PEREZ</td>\n      <td>5</td>\n      <td>33900</td>\n    </tr>\n  </tbody>\n</table>\n</div>"
     },
     "execution_count": 16,
     "metadata": {},
     "output_type": "execute_result"
    }
   ],
   "source": [
    "cpr_df = pd.read_csv(r'' + csv_base + routes.get('cap_productor'))\n",
    "cpr_df.head()"
   ],
   "metadata": {
    "collapsed": false,
    "ExecuteTime": {
     "end_time": "2024-06-13T13:14:34.566288Z",
     "start_time": "2024-06-13T13:14:34.467756Z"
    }
   }
  },
  {
   "cell_type": "code",
   "execution_count": 17,
   "outputs": [
    {
     "data": {
      "text/plain": "       Ciudad   Productos            CAcopios  Tiempo  CapAlmacenamientoCA\n0  La Guajira  Queso duro  San Juan del Cesar       1                30000\n1  La Guajira  Queso duro  San Juan del Cesar       2                30000\n2  La Guajira  Queso duro  San Juan del Cesar       3                30000\n3  La Guajira  Queso duro  San Juan del Cesar       4                30000\n4  La Guajira  Queso duro  San Juan del Cesar       5                30000",
      "text/html": "<div>\n<style scoped>\n    .dataframe tbody tr th:only-of-type {\n        vertical-align: middle;\n    }\n\n    .dataframe tbody tr th {\n        vertical-align: top;\n    }\n\n    .dataframe thead th {\n        text-align: right;\n    }\n</style>\n<table border=\"1\" class=\"dataframe\">\n  <thead>\n    <tr style=\"text-align: right;\">\n      <th></th>\n      <th>Ciudad</th>\n      <th>Productos</th>\n      <th>CAcopios</th>\n      <th>Tiempo</th>\n      <th>CapAlmacenamientoCA</th>\n    </tr>\n  </thead>\n  <tbody>\n    <tr>\n      <th>0</th>\n      <td>La Guajira</td>\n      <td>Queso duro</td>\n      <td>San Juan del Cesar</td>\n      <td>1</td>\n      <td>30000</td>\n    </tr>\n    <tr>\n      <th>1</th>\n      <td>La Guajira</td>\n      <td>Queso duro</td>\n      <td>San Juan del Cesar</td>\n      <td>2</td>\n      <td>30000</td>\n    </tr>\n    <tr>\n      <th>2</th>\n      <td>La Guajira</td>\n      <td>Queso duro</td>\n      <td>San Juan del Cesar</td>\n      <td>3</td>\n      <td>30000</td>\n    </tr>\n    <tr>\n      <th>3</th>\n      <td>La Guajira</td>\n      <td>Queso duro</td>\n      <td>San Juan del Cesar</td>\n      <td>4</td>\n      <td>30000</td>\n    </tr>\n    <tr>\n      <th>4</th>\n      <td>La Guajira</td>\n      <td>Queso duro</td>\n      <td>San Juan del Cesar</td>\n      <td>5</td>\n      <td>30000</td>\n    </tr>\n  </tbody>\n</table>\n</div>"
     },
     "execution_count": 17,
     "metadata": {},
     "output_type": "execute_result"
    }
   ],
   "source": [
    "cac_df = pd.read_csv(r'' + csv_base + routes.get('cap_almacenamiento_ca'))\n",
    "cac_df.head()"
   ],
   "metadata": {
    "collapsed": false,
    "ExecuteTime": {
     "end_time": "2024-06-13T13:14:34.627883800Z",
     "start_time": "2024-06-13T13:14:34.524300500Z"
    }
   }
  }
 ]
}
