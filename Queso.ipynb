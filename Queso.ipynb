{
 "cells": [
  {
   "cell_type": "code",
   "metadata": {
    "id": "sLLmzB6qJwiG",
    "ExecuteTime": {
     "end_time": "2024-07-31T23:28:36.656918Z",
     "start_time": "2024-07-31T23:28:34.683123Z"
    }
   },
   "source": [
    "import numpy as np\n",
    "import pandas as pd"
   ],
   "outputs": [],
   "execution_count": 1
  },
  {
   "cell_type": "code",
   "metadata": {
    "id": "vQTQCvL0-G49",
    "ExecuteTime": {
     "end_time": "2024-07-31T23:28:36.661826Z",
     "start_time": "2024-07-31T23:28:36.656918Z"
    }
   },
   "source": [
    "csv_base = './csv/'\n",
    "\n",
    "csv_config = {\n",
    "    'delimiter' : ';',\n",
    "    'decimal' : ','\n",
    "}"
   ],
   "outputs": [],
   "execution_count": 2
  },
  {
   "metadata": {},
   "cell_type": "markdown",
   "source": [
    "### Parámetros de entrada\n",
    "Información que obtiene el modelo del sistema de información"
   ]
  },
  {
   "cell_type": "code",
   "metadata": {
    "ExecuteTime": {
     "end_time": "2024-07-31T23:28:36.705723Z",
     "start_time": "2024-07-31T23:28:36.662837Z"
    }
   },
   "source": [
    "# Demanda\n",
    "demanda = 100\n",
    "# Costo por unidad de tiempo\n",
    "ctiempo = 1000\n",
    "\n",
    "# Estos datos pueden ser obtenidos al consultar una vista en la base de datos\n",
    "params_df = pd.read_csv(csv_base + 'entry_params.csv')\n",
    "params_df.head()"
   ],
   "outputs": [
    {
     "data": {
      "text/plain": [
       "     id_acopio  stock  precio  ppotencial  tiempo_alistam  ctransp  \\\n",
       "0  Santa Marta     30     100          20               2     3000   \n",
       "1   La Guajira     90     120          20               2    12000   \n",
       "2      Cordoba     10     105          40               2     6000   \n",
       "\n",
       "   tiempo_transp  \n",
       "0              1  \n",
       "1              4  \n",
       "2              3  "
      ],
      "text/html": [
       "<div>\n",
       "<style scoped>\n",
       "    .dataframe tbody tr th:only-of-type {\n",
       "        vertical-align: middle;\n",
       "    }\n",
       "\n",
       "    .dataframe tbody tr th {\n",
       "        vertical-align: top;\n",
       "    }\n",
       "\n",
       "    .dataframe thead th {\n",
       "        text-align: right;\n",
       "    }\n",
       "</style>\n",
       "<table border=\"1\" class=\"dataframe\">\n",
       "  <thead>\n",
       "    <tr style=\"text-align: right;\">\n",
       "      <th></th>\n",
       "      <th>id_acopio</th>\n",
       "      <th>stock</th>\n",
       "      <th>precio</th>\n",
       "      <th>ppotencial</th>\n",
       "      <th>tiempo_alistam</th>\n",
       "      <th>ctransp</th>\n",
       "      <th>tiempo_transp</th>\n",
       "    </tr>\n",
       "  </thead>\n",
       "  <tbody>\n",
       "    <tr>\n",
       "      <th>0</th>\n",
       "      <td>Santa Marta</td>\n",
       "      <td>30</td>\n",
       "      <td>100</td>\n",
       "      <td>20</td>\n",
       "      <td>2</td>\n",
       "      <td>3000</td>\n",
       "      <td>1</td>\n",
       "    </tr>\n",
       "    <tr>\n",
       "      <th>1</th>\n",
       "      <td>La Guajira</td>\n",
       "      <td>90</td>\n",
       "      <td>120</td>\n",
       "      <td>20</td>\n",
       "      <td>2</td>\n",
       "      <td>12000</td>\n",
       "      <td>4</td>\n",
       "    </tr>\n",
       "    <tr>\n",
       "      <th>2</th>\n",
       "      <td>Cordoba</td>\n",
       "      <td>10</td>\n",
       "      <td>105</td>\n",
       "      <td>40</td>\n",
       "      <td>2</td>\n",
       "      <td>6000</td>\n",
       "      <td>3</td>\n",
       "    </tr>\n",
       "  </tbody>\n",
       "</table>\n",
       "</div>"
      ]
     },
     "execution_count": 3,
     "metadata": {},
     "output_type": "execute_result"
    }
   ],
   "execution_count": 3
  },
  {
   "metadata": {},
   "cell_type": "markdown",
   "source": [
    "### Variables\n",
    "Definición de variables para el modelo de optimización"
   ]
  },
  {
   "cell_type": "code",
   "metadata": {
    "ExecuteTime": {
     "end_time": "2024-07-31T23:28:36.709575Z",
     "start_time": "2024-07-31T23:28:36.705723Z"
    }
   },
   "source": [
    "N = params_df.shape[0]\n",
    "# bounds = tuple((0, x_i) for x_i in params_df['stock'])"
   ],
   "outputs": [],
   "execution_count": 4
  },
  {
   "metadata": {},
   "cell_type": "markdown",
   "source": [
    "# Función objetivo\n",
    "$$\n",
    "\\begin{align*}\n",
    "    \\sum_{i=0 \\quad i\\neq p}^{N} &\\big[ \\, kCA_i \\times Precio(CA_i) + kCA_i \\times cTransp(CA_i) + Tiempo(CA_i) \\times cTiempo \\, \\big] \\, + \\\\\n",
    "                                 &\\big[ \\, kCA_p \\times Precio(CA_p) + Demanda \\times cTransp(CA_p) + Tiempo(CA_p) \\times cTiempo \\, \\big]\n",
    "\\end{align*}\n",
    "$$\n",
    "Sujeto a las restricciones:\n",
    "$$\n",
    "\\begin{align*}\n",
    "    \\sum_{i=0}^{N} kCA_i &= Demanda \\\\\n",
    "    kCA_i &\\leq Stock(CA_i) + Ppotencial(CA_i) &\\therefore \\, i=0,\\cdots ,N \\\\\n",
    "    TiempoAlistam(CA_i) &\\leq TiempoMaxDefinido &\\therefore \\, i=0,\\cdots ,N \\\\\n",
    "    Tiempo(CA_i) &= TiempoAlistam(CA_i) + TiempoTransp(CA_i) \\\\\n",
    "\\end{align*}\n",
    "$$"
   ]
  },
  {
   "metadata": {
    "ExecuteTime": {
     "end_time": "2024-07-31T23:28:36.722986Z",
     "start_time": "2024-07-31T23:28:36.709575Z"
    }
   },
   "cell_type": "code",
   "source": [
    "import random\n",
    "\n",
    "def f(x):\n",
    "    delta = 0\n",
    "    # p = random.randint(0, N-1) \n",
    "    p = 0\n",
    "    \n",
    "    for i in range(N):\n",
    "        if i == p or x[i] == 0:\n",
    "            continue\n",
    "        \n",
    "        delta += get_delta(x, i)\n",
    "    \n",
    "    delta += get_delta(x, p, True)\n",
    "    \n",
    "    return delta\n",
    "\n",
    "def get_delta(x, idx, p=False):\n",
    "    kca = x[idx]\n",
    "    precio = params_df['precio'].iloc[idx]\n",
    "    ctransp = params_df['ctransp'].iloc[idx]\n",
    "    tiempo = params_df['tiempo_transp'].iloc[idx] + params_df['tiempo_alistam'].iloc[idx]\n",
    "    \n",
    "    if not p:\n",
    "        return (kca * precio) + (kca * ctransp) + (tiempo * ctiempo) \n",
    "    else:\n",
    "        return (kca * precio) + (demanda * ctransp) + (tiempo * ctiempo)\n",
    "    \n",
    "        \n",
    "f((50, 0, 10))"
   ],
   "outputs": [
    {
     "data": {
      "text/plain": [
       "374050"
      ]
     },
     "execution_count": 5,
     "metadata": {},
     "output_type": "execute_result"
    }
   ],
   "execution_count": 5
  },
  {
   "cell_type": "markdown",
   "metadata": {},
   "source": [
    "## scipy"
   ]
  },
  {
   "cell_type": "markdown",
   "metadata": {},
   "source": [
    "**LinearConstraint**: $ lb \\leq A \\cdot v[x] \\leq ub $\n",
    "\n",
    "**NonLinearConstraint**: $ lb \\leq g(x) \\leq ub $"
   ]
  },
  {
   "cell_type": "code",
   "metadata": {
    "ExecuteTime": {
     "end_time": "2024-07-31T23:28:36.732868Z",
     "start_time": "2024-07-31T23:28:36.722986Z"
    }
   },
   "source": [
    "# c = tuple(idx for (_, idx) in bounds)\n",
    "# Aeq = np.ones((1, len(c)))\n",
    "# beq = 1"
   ],
   "outputs": [],
   "execution_count": 6
  },
  {
   "cell_type": "code",
   "metadata": {
    "ExecuteTime": {
     "end_time": "2024-07-31T23:28:36.744137Z",
     "start_time": "2024-07-31T23:28:36.732868Z"
    }
   },
   "source": [
    "# from scipy.optimize import linprog\n",
    "# # from scipy.optimize import differential_evolution\n",
    "# \n",
    "# result = linprog(\n",
    "#     c,\n",
    "#     A_ub=Aeq,\n",
    "#     b_ub=beq,\n",
    "#     bounds=bounds,\n",
    "#     method='highs',\n",
    "#     integrality=1\n",
    "# )\n",
    "# print(result)"
   ],
   "outputs": [],
   "execution_count": 7
  },
  {
   "metadata": {},
   "cell_type": "markdown",
   "source": "## pymoo"
  },
  {
   "cell_type": "code",
   "metadata": {
    "ExecuteTime": {
     "end_time": "2024-07-31T23:28:36.789010Z",
     "start_time": "2024-07-31T23:28:36.744137Z"
    }
   },
   "source": [
    "from pymoo.core.problem import ElementwiseProblem\n",
    "\n",
    "xl = np.zeros(N)\n",
    "xu = np.asarray([x_i for x_i in params_df['stock']])\n",
    "\n",
    "class Queso(ElementwiseProblem):\n",
    "    def __init__(self):\n",
    "        super().__init__(\n",
    "            n_var=len(xl),\n",
    "            n_obj=1,\n",
    "            n_eq_constr=1,\n",
    "            # n_ieq_constr=1,\n",
    "            xl=xl,\n",
    "            xu=xu,\n",
    "            vtype=int\n",
    "        )\n",
    "        \n",
    "    def _evaluate(self, x, out, *args, **kwargs):\n",
    "        out['F'] = f(x)\n",
    "        out['H'] = demanda - np.sum(x)"
   ],
   "outputs": [],
   "execution_count": 8
  },
  {
   "cell_type": "code",
   "metadata": {
    "ExecuteTime": {
     "end_time": "2024-07-31T23:28:38.358176Z",
     "start_time": "2024-07-31T23:28:36.789010Z"
    }
   },
   "source": [
    "from pymoo.algorithms.soo.nonconvex.ga import GA\n",
    "from pymoo.optimize import minimize\n",
    "from pymoo.operators.sampling.rnd import IntegerRandomSampling\n",
    "from pymoo.termination import get_termination\n",
    "\n",
    "problem = Queso()\n",
    "\n",
    "algorithm = GA(\n",
    "    # pop_size=9,\n",
    "    sampling=IntegerRandomSampling(),\n",
    "    eliminate_duplicates=True\n",
    ")\n",
    "\n",
    "# termination = get_termination('time', '00:00:05')\n",
    "\n",
    "res = minimize(problem,\n",
    "               algorithm,\n",
    "               # termination,\n",
    "               seed=1,\n",
    "               verbose=False)\n",
    "\n",
    "print(f'F: {res.F}, \\nX: {res.X}')"
   ],
   "outputs": [
    {
     "name": "stdout",
     "output_type": "stream",
     "text": [
      "\n",
      "Compiled modules for significant speedup can not be used!\n",
      "https://pymoo.org/installation.html#installation\n",
      "\n",
      "To disable this warning:\n",
      "from pymoo.config import Config\n",
      "Config.warnings['not_compiled'] = False\n",
      "\n",
      "F: [1201440.], \n",
      "X: [25 71  4]\n"
     ]
    }
   ],
   "execution_count": 9
  },
  {
   "metadata": {
    "ExecuteTime": {
     "end_time": "2024-07-31T23:28:38.363756Z",
     "start_time": "2024-07-31T23:28:38.358176Z"
    }
   },
   "cell_type": "code",
   "source": [
    "from pymoo.core.sampling import Sampling\n",
    "import random\n",
    "\n",
    "class TopOrZeroSampling(Sampling):\n",
    "    def _do(self, problem, n_samples, **kwargs):\n",
    "        vec = np.zeros(problem.n_var, dtype=np.int64)\n",
    "        \n",
    "        while np.sum(vec) < demanda:\n",
    "            idx = np.random.randint(problem.n_var)\n",
    "            vec[idx] += random.choice((0, xu[idx]))\n",
    "            \n",
    "            if np.sum(vec) > demanda:\n",
    "                vec[idx] = vec[idx] - (np.sum(vec) - demanda)\n",
    "                \n",
    "        return [vec]"
   ],
   "outputs": [],
   "execution_count": 10
  },
  {
   "metadata": {
    "ExecuteTime": {
     "end_time": "2024-07-31T23:28:38.376486Z",
     "start_time": "2024-07-31T23:28:38.363756Z"
    }
   },
   "cell_type": "code",
   "source": [
    "from pymoo.core.mutation import Mutation\n",
    "\n",
    "class Mut(Mutation):\n",
    "    def __init__(self):\n",
    "        super().__init__()\n",
    "        \n",
    "    def _do(self, problem, X, **kwargs):\n",
    "        \n",
    "        for i in range(len(X)):\n",
    "            r = np.random.random()\n",
    "            \n",
    "            if r < 0.4:\n",
    "                idx = np.random.randint(len(X))\n",
    "                \n",
    "                if X[idx] == 0:\n",
    "                    delta = xu[idx]\n",
    "                    X[idx] = delta\n",
    "                    ca = list(range(len(X))).remove(idx)\n",
    "                    \n",
    "                    while np.sum(X) > demanda:\n",
    "                        temp = random.choice(ca)\n",
    "                        if X[temp] + delta <= xu[temp]:\n",
    "                            X[temp] = xu[temp]\n",
    "                        else:\n",
    "                            continue\n",
    "                    \n",
    "                else:\n",
    "                    delta = xu[idx]\n",
    "                    X[idx] = 0\n",
    "                    ca = list(range(len(X))).remove(idx)\n",
    "                    \n",
    "                    while np.sum(X) < demanda:\n",
    "                        temp = random.choice(ca)\n",
    "                        if X[temp] + delta <= xu[temp]:\n",
    "                            X[temp] = xu[temp]\n",
    "                        else:\n",
    "                            continue\n",
    "                \n",
    "            # elif r < 0.8:\n",
    "                \n",
    "        return X"
   ],
   "outputs": [],
   "execution_count": 11
  },
  {
   "metadata": {
    "ExecuteTime": {
     "end_time": "2024-07-31T23:28:38.778885Z",
     "start_time": "2024-07-31T23:28:38.376486Z"
    }
   },
   "cell_type": "code",
   "source": [
    "from pymoo.operators.crossover.sbx import SBX\n",
    "from pymoo.operators.mutation.pm import PM\n",
    "from pymoo.operators.repair.rounding import RoundingRepair\n",
    "\n",
    "algorithm = GA(\n",
    "    pop_size=20,\n",
    "    sampling=TopOrZeroSampling(),\n",
    "    crossover=SBX(prob=1.0, eta=3.0, vtype=float, repair=RoundingRepair()),\n",
    "    mutation=PM(prob=1.0, eta=3.0, vtype=float, repair=RoundingRepair()),\n",
    "    eliminate_duplicates=True\n",
    ")\n",
    "\n",
    "res = minimize(problem,\n",
    "               algorithm,\n",
    "               seed=1,\n",
    "               verbose=False)\n",
    "\n",
    "print(f'F: {res.F}, \\nX: {res.X}')"
   ],
   "outputs": [
    {
     "name": "stdout",
     "output_type": "stream",
     "text": [
      "F: [1141340.], \n",
      "X: [30 66  4]\n"
     ]
    }
   ],
   "execution_count": 12
  }
 ],
 "metadata": {
  "colab": {
   "provenance": []
  },
  "kernelspec": {
   "display_name": "Python 3 (ipykernel)",
   "language": "python",
   "name": "python3"
  },
  "language_info": {
   "codemirror_mode": {
    "name": "ipython",
    "version": 3
   },
   "file_extension": ".py",
   "mimetype": "text/x-python",
   "name": "python",
   "nbconvert_exporter": "python",
   "pygments_lexer": "ipython3",
   "version": "3.11.7"
  }
 },
 "nbformat": 4,
 "nbformat_minor": 4
}
