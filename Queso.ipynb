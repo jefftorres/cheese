{
 "cells": [
  {
   "cell_type": "code",
   "metadata": {
    "id": "sLLmzB6qJwiG",
    "ExecuteTime": {
     "end_time": "2024-10-09T13:48:48.644646Z",
     "start_time": "2024-10-09T13:48:47.502090Z"
    }
   },
   "source": [
    "import timeit\n",
    "\n",
    "import numpy as np\n",
    "import pandas as pd\n",
    "\n",
    "# Ejecutar esta línea si pymoo no ha sido instalado\n",
    "# %pip install -U pymoo"
   ],
   "outputs": [],
   "execution_count": 1
  },
  {
   "metadata": {},
   "cell_type": "markdown",
   "source": [
    "### Parámetros\n",
    "Información que obtiene el modelo del sistema de información"
   ]
  },
  {
   "metadata": {
    "ExecuteTime": {
     "end_time": "2024-10-09T13:48:49.091062Z",
     "start_time": "2024-10-09T13:48:48.648156Z"
    }
   },
   "cell_type": "code",
   "source": [
    "# Demanda\n",
    "DEMANDA = 60\n",
    "# Costo por unidad de tiempo\n",
    "CTIEMPO = 100\n",
    "# Tiempo máximo definido\n",
    "T_MAX = 360\n",
    "# Parámetros de entrada\n",
    "params_df = pd.read_excel('./data/' + 'nuevo_info_acopios.xlsx')\n",
    "# Matriz de costos de transporte\n",
    "trans_cost_df = pd.read_excel('./data/' + 'costoTransporteCAi.xlsx', index_col=0)\n",
    "# Matriz de tiempos de transporte\n",
    "trans_time_df = pd.read_excel('./data/' + 'tiempoTransporteCAi.xlsx', index_col=0)"
   ],
   "outputs": [],
   "execution_count": 2
  },
  {
   "metadata": {},
   "cell_type": "markdown",
   "source": [
    "### Variables\n",
    "Definición de variables para el modelo"
   ]
  },
  {
   "metadata": {
    "ExecuteTime": {
     "end_time": "2024-10-09T13:48:49.098952Z",
     "start_time": "2024-10-09T13:48:49.092068Z"
    }
   },
   "cell_type": "code",
   "source": [
    "# Número de centros de acopio\n",
    "N = params_df.shape[0]\n",
    "\n",
    "# Vector de representación\n",
    "CAPACIDADES = np.empty(N*2, dtype=float)\n",
    "\n",
    "# Capacidades en stock y potencial por centro de acopio\n",
    "for cap_i in range(0, N*2, 2):\n",
    "    CAPACIDADES[cap_i] = params_df['Stock'].iloc[cap_i//2]\n",
    "    CAPACIDADES[cap_i+1] = params_df['Ppotencial'].iloc[cap_i//2]\n",
    "    \n",
    "CAPACIDADES = np.append(CAPACIDADES, N-1)"
   ],
   "outputs": [],
   "execution_count": 3
  },
  {
   "metadata": {},
   "cell_type": "markdown",
   "source": [
    "### Parámetros\n",
    "\n",
    "Para las operaciones de optimización"
   ]
  },
  {
   "metadata": {
    "ExecuteTime": {
     "end_time": "2024-10-09T13:48:49.108823Z",
     "start_time": "2024-10-09T13:48:49.099959Z"
    }
   },
   "cell_type": "code",
   "source": [
    "# Probabilidad de cruce\n",
    "p_cross = 0.4\n",
    "# Probabilidad de mutación\n",
    "p_mutate = 0.4\n",
    "# Tamaño de la población\n",
    "pop_size = 50\n",
    "# Máximo número de generaciones\n",
    "max_gen = 1000\n",
    "# Máximo número de llamados a la función objetivo\n",
    "max_evals = 100000"
   ],
   "outputs": [],
   "execution_count": 4
  },
  {
   "metadata": {},
   "cell_type": "markdown",
   "source": [
    "# Función objetivo\n",
    "$$\n",
    "\\begin{align*}\n",
    "    \\sum_{i=1 \\quad i\\neq p}^{N} &\\big[ \\, kCA_i \\times Precio(CA_i) + cTransp(CA_i) + Tiempo(CA_i) \\times cTiempo \\, \\big] \\, + \\\\\n",
    "                                 &\\big[ \\, kCA_p \\times Precio(CA_p) + cTransp(CA_p) + Tiempo(CA_p) \\times cTiempo \\, \\big]\n",
    "\\end{align*}\n",
    "$$"
   ]
  },
  {
   "metadata": {},
   "cell_type": "markdown",
   "source": [
    "Sujeta a las restricciones:\n",
    "$$\n",
    "\\begin{align*}\n",
    "    \\sum_{i=0}^{N} kCA_i &= Demanda \\\\\n",
    "    kCA_i &\\leq Stock(CA_i) + Ppotencial(CA_i) &\\therefore \\, i=0,\\cdots ,N \\\\\n",
    "    TiempoAlistam(CA_i) &\\leq TiempoMaxDefinido &\\therefore \\, i=0,\\cdots ,N \\\\\n",
    "    Tiempo(CA_i) &= TiempoAlistam(CA_i) + TiempoTransp(CA_i) \\\\\n",
    "\\end{align*}\n",
    "$$"
   ]
  },
  {
   "metadata": {
    "ExecuteTime": {
     "end_time": "2024-10-09T13:48:49.119478Z",
     "start_time": "2024-10-09T13:48:49.109830Z"
    }
   },
   "cell_type": "code",
   "source": [
    "def f(x):\n",
    "    delta = 0\n",
    "    idx_principal = int(x[N*2])\n",
    "\n",
    "    for i in range(0, N*2, 2):\n",
    "        idx_acopio = i//2\n",
    "\n",
    "        if x[i] == 0 and x[i+1] == 0:\n",
    "            continue\n",
    "\n",
    "        if idx_acopio == idx_principal:\n",
    "            # Única suma de kCAp\n",
    "            delta += get_delta(x, i, idx_acopio)\n",
    "            continue\n",
    "            \n",
    "        # Sumas con kCAi\n",
    "        delta += get_delta(x, i, idx_acopio, idx_principal)\n",
    "\n",
    "    return delta\n",
    "\n",
    "def get_delta(x, i, idx_acopio, idx_principal=-1):\n",
    "    kca = x[i] + x[i + 1]\n",
    "    precio = params_df['Precio'].iloc[idx_acopio]\n",
    "    talistam = 0\n",
    "    \n",
    "    if x[i + 1]:\n",
    "        talistam = params_df['TiempoAlistam'].iloc[idx_acopio]\n",
    "\n",
    "    ' Si es el centro de acopio principal (idx_principal=-1) '\n",
    "    if idx_principal < 0:\n",
    "        ctransp = params_df['Ctransp'].iloc[idx_acopio]\n",
    "        ttransp = params_df['TiempoTransp'].iloc[idx_acopio]\n",
    "        tiempo = talistam + ttransp\n",
    "        \n",
    "        return (kca * precio) + ctransp + (tiempo * CTIEMPO)\n",
    "    else:\n",
    "        ctransp = trans_cost_df.iloc[idx_acopio, idx_principal]\n",
    "        ttransp = trans_time_df.iloc[idx_acopio, idx_principal]\n",
    "        tiempo = talistam + ttransp\n",
    "\n",
    "        return (kca * precio) + ctransp + (tiempo * CTIEMPO)"
   ],
   "outputs": [],
   "execution_count": 5
  },
  {
   "metadata": {},
   "cell_type": "markdown",
   "source": "Función que altera el vector para que cumpla con la restricción de igualdad"
  },
  {
   "metadata": {
    "ExecuteTime": {
     "end_time": "2024-10-09T13:48:49.128908Z",
     "start_time": "2024-10-09T13:48:49.122510Z"
    }
   },
   "cell_type": "code",
   "source": [
    "def balance(individual, delta, diff):\n",
    "    delta = np.squeeze(delta)\n",
    "    \n",
    "    # Reducir para igualar a la demanda\n",
    "    if diff:\n",
    "        acopios = list(np.nonzero(individual)[0])\n",
    "\n",
    "        while delta > 0 and len(acopios) > 0:\n",
    "            idx = np.random.choice(acopios)\n",
    "            acopios.remove(idx)\n",
    "\n",
    "            if delta <= individual[idx]:\n",
    "                individual[idx] -= delta\n",
    "                delta = 0\n",
    "            else:\n",
    "                delta -= individual[idx]\n",
    "                individual[idx] = 0\n",
    "    # Aumentar para igualar a la demanda\n",
    "    else:\n",
    "        acopios = list(np.where(individual == 0)[0])\n",
    "\n",
    "        while delta > 0 and len(acopios) > 0:\n",
    "            idx = np.random.choice(acopios)\n",
    "            acopios.remove(idx)\n",
    "\n",
    "            if delta <= CAPACIDADES[idx]:\n",
    "                individual[idx] = delta\n",
    "                delta = 0\n",
    "            else:\n",
    "                individual[idx] = CAPACIDADES[idx]\n",
    "                delta -= CAPACIDADES[idx]"
   ],
   "outputs": [],
   "execution_count": 6
  },
  {
   "metadata": {},
   "cell_type": "markdown",
   "source": "# pymoo"
  },
  {
   "metadata": {},
   "cell_type": "markdown",
   "source": "Definición del modelo de optimización"
  },
  {
   "metadata": {
    "ExecuteTime": {
     "end_time": "2024-10-09T13:48:49.189641Z",
     "start_time": "2024-10-09T13:48:49.129908Z"
    }
   },
   "cell_type": "code",
   "source": [
    "from pymoo.core.problem import ElementwiseProblem\n",
    "\n",
    "xl = np.zeros(CAPACIDADES.shape[0])\n",
    "xu = CAPACIDADES\n",
    "\n",
    "class Queso(ElementwiseProblem):\n",
    "    def __init__(self):\n",
    "        super().__init__(\n",
    "            n_var=len(xl),\n",
    "            n_obj=1,\n",
    "            n_eq_constr=1,\n",
    "            # n_ieq_constr=1,\n",
    "            xl=xl,\n",
    "            xu=xu\n",
    "        )\n",
    "\n",
    "\n",
    "    def _evaluate(self, x, out, *args, **kwargs):\n",
    "        out['F'] = f(x)\n",
    "        # Se retira el último elemento del vector (centro de acopio principal), \n",
    "        # para validar la restricción de igualdad\n",
    "        individual = np.delete(x, N*2)\n",
    "        out['H'] = DEMANDA - np.sum(individual)\n",
    "\n",
    "model = Queso()"
   ],
   "outputs": [],
   "execution_count": 7
  },
  {
   "metadata": {},
   "cell_type": "markdown",
   "source": [
    "## Generación \n",
    "De nuevas posibles soluciones"
   ]
  },
  {
   "metadata": {
    "ExecuteTime": {
     "end_time": "2024-10-09T13:48:49.198134Z",
     "start_time": "2024-10-09T13:48:49.190646Z"
    }
   },
   "cell_type": "code",
   "source": [
    "from pymoo.core.sampling import Sampling\n",
    "\n",
    "class TopOrZeroSampling(Sampling):\n",
    "    def _do(self, problem, n_samples, **kwargs):\n",
    "        gen_matrix = np.zeros((n_samples, problem.n_var), dtype=float)\n",
    "        # Se indexan los centros de acopio\n",
    "        n_vars = problem.n_var\n",
    "\n",
    "        for i in range(n_samples):\n",
    "            # Se reorganizan todos los índices de los centros de acopio, de forma aleatoria\n",
    "            indices = np.arange(n_vars-1)\n",
    "            np.random.shuffle(indices)\n",
    "\n",
    "            while np.sum(gen_matrix[i]) < DEMANDA and indices.size > 0:\n",
    "                idx = indices[0]\n",
    "                gen_matrix[i, idx] += CAPACIDADES[idx]\n",
    "                indices = np.delete(indices, 0)\n",
    "\n",
    "                if np.sum(gen_matrix[i]) > DEMANDA:\n",
    "                    gen_matrix[i, idx] = gen_matrix[i, idx] - (np.sum(gen_matrix[i]) - DEMANDA)\n",
    "                    break\n",
    "\n",
    "            gen_matrix[i, N*2] = np.random.randint(CAPACIDADES[N*2] + 1)\n",
    "\n",
    "        return gen_matrix"
   ],
   "outputs": [],
   "execution_count": 8
  },
  {
   "metadata": {},
   "cell_type": "markdown",
   "source": [
    "## Cruce\n",
    "\n",
    "Implementación de cruce en un punto"
   ]
  },
  {
   "metadata": {
    "ExecuteTime": {
     "end_time": "2024-10-09T13:48:49.215479Z",
     "start_time": "2024-10-09T13:48:49.199141Z"
    }
   },
   "cell_type": "code",
   "source": [
    "from pymoo.core.crossover import Crossover\n",
    "\n",
    "class SinglePointCross(Crossover):\n",
    "    def __init__(self, prob): \n",
    "        # Para la implementación personalizada de este método, se consideraron 2 padres,\n",
    "        # entonces cambiar los valores de la llamada a init no tendrá efecto.\n",
    "        # Lo mismo pasa con el único offspring.\n",
    "        super().__init__(n_parents=2, n_offsprings=1, prob=prob)\n",
    "\n",
    "    def _do(self, problem, X, **kwargs):\n",
    "        # n_parents, n_matings, n_var\n",
    "        _, n_matings, n_var = X.shape\n",
    "\n",
    "        T = np.zeros((1, n_matings, n_var))\n",
    "        Y = np.full_like(T, None, dtype=float)\n",
    "\n",
    "        for idx in range(n_matings):\n",
    "\n",
    "            # Primera mitad\n",
    "            p1 = X[0, idx, : n_var//2]\n",
    "            # Segunda mitad\n",
    "            p2 = X[1, idx, n_var//2 : n_var - 1]\n",
    "\n",
    "            offspring = np.concatenate((p1, p2))\n",
    "\n",
    "            if np.sum(offspring) > DEMANDA:\n",
    "                delta = np.sum(offspring) - DEMANDA\n",
    "                balance(offspring, delta, True)\n",
    "            else:\n",
    "                delta = DEMANDA - np.sum(offspring)\n",
    "                balance(offspring, delta, False)\n",
    "\n",
    "            for i in range(offspring.shape[0]):\n",
    "                Y[0, idx, i] = offspring[i]\n",
    "\n",
    "            # Centro de acopio principal (última posición)\n",
    "            main = np.random.choice([X[0, idx, n_var-1], X[1, idx, n_var-1]])\n",
    "            Y[0, idx, n_var-1] = main\n",
    "\n",
    "        return Y"
   ],
   "outputs": [],
   "execution_count": 9
  },
  {
   "metadata": {},
   "cell_type": "markdown",
   "source": [
    "## Mutación\n",
    "Con una probabilidad dada, reasignar la cantidad asignada a un centro de acopio **o**, reasignar el centro de acopio principal."
   ]
  },
  {
   "metadata": {
    "ExecuteTime": {
     "end_time": "2024-10-09T13:48:49.226669Z",
     "start_time": "2024-10-09T13:48:49.216489Z"
    }
   },
   "cell_type": "code",
   "source": [
    "from pymoo.core.mutation import Mutation\n",
    "\n",
    "class ReassignMutation(Mutation):\n",
    "    def __init__(self, prob):\n",
    "        super().__init__()\n",
    "        self.prob = prob\n",
    "\n",
    "    def _do(self, problem, X, **kwargs):\n",
    "        for i in range(len(X)):\n",
    "            r = np.random.random()\n",
    "\n",
    "            if r < self.prob:\n",
    "                # Se toma un índice aleatorio\n",
    "                individual = X[i]\n",
    "                idx_mut = np.random.randint(individual.shape)\n",
    "                \n",
    "                # Si es el índice del centro de acopio principal (N*2)\n",
    "                if idx_mut == N*2:\n",
    "                    X[i, problem.n_var-1] = np.random.randint(CAPACIDADES[N*2] + 1)\n",
    "                \n",
    "                else:\n",
    "                    if individual[idx_mut] == 0:\n",
    "                        # Se asigna la máxima cantidad posible del índice\n",
    "                        delta = CAPACIDADES[idx_mut]\n",
    "                        individual[idx_mut] = CAPACIDADES[idx_mut]\n",
    "                        diff = True\n",
    "                    else:\n",
    "                        # Se asigna cero a la cantidad del índice\n",
    "                        delta = individual[idx_mut]\n",
    "                        individual[idx_mut] = 0\n",
    "                        diff = False\n",
    "    \n",
    "                    balance(individual, delta, diff)\n",
    "    \n",
    "                    for j in range(individual.shape[0]):\n",
    "                        X[i, j] = individual[j]\n",
    "\n",
    "        return X"
   ],
   "outputs": [],
   "execution_count": 10
  },
  {
   "metadata": {},
   "cell_type": "markdown",
   "source": "## Aplicación"
  },
  {
   "metadata": {},
   "cell_type": "markdown",
   "source": "Función para mostrar la cantidad asignada y la total por centro de acopio"
  },
  {
   "metadata": {
    "ExecuteTime": {
     "end_time": "2024-10-09T13:48:49.232924Z",
     "start_time": "2024-10-09T13:48:49.228175Z"
    }
   },
   "cell_type": "code",
   "source": [
    "def print_acopios(X):\n",
    "    for i in range(0, N*2, 2):\n",
    "        idx_ca = i // 2\n",
    "        print(f'Centro de acopio {params_df['Id_CA'].iloc[idx_ca]}:')\n",
    "        print(f'Stock: {params_df['Stock'].iloc[idx_ca]}, \\t\\t\\tAsignado: {X[i]}')\n",
    "        print(f'Potencial: {params_df['Ppotencial'].iloc[idx_ca]}, \\tAsignado: {X[i+1]}\\n')\n",
    "\n",
    "    print(f'Centro de acopio principal: {params_df['Id_CA'].iloc[int(X[N*2])]}')"
   ],
   "outputs": [],
   "execution_count": 11
  },
  {
   "metadata": {},
   "cell_type": "markdown",
   "source": "Definición de plantilla para medir el tiempo de ejecución"
  },
  {
   "metadata": {
    "ExecuteTime": {
     "end_time": "2024-10-09T13:48:49.241989Z",
     "start_time": "2024-10-09T13:48:49.233931Z"
    }
   },
   "cell_type": "code",
   "source": [
    "timeit.template = '''\n",
    "def inner(_it, _timer{init}):\n",
    "    {setup}\n",
    "    _t0 = _timer()\n",
    "    for _i in _it:\n",
    "        retval = {stmt}\n",
    "    _t1 = _timer()\n",
    "    return _t1 - _t0, retval\n",
    "'''"
   ],
   "outputs": [],
   "execution_count": 12
  },
  {
   "metadata": {},
   "cell_type": "markdown",
   "source": "Criterio de terminación: https://pymoo.org/interface/termination.html"
  },
  {
   "metadata": {
    "ExecuteTime": {
     "end_time": "2024-10-09T13:48:49.287807Z",
     "start_time": "2024-10-09T13:48:49.242993Z"
    }
   },
   "cell_type": "code",
   "source": [
    "# Criterios simples\n",
    "# from pymoo.termination import get_termination\n",
    "\n",
    "# termination = get_termination('n_eval', 1000)\n",
    "# termination = get_termination('n_gen', 50)\n",
    "# termination = get_termination('time', '00:00:03')\n",
    "\n",
    "from pymoo.termination.default import DefaultSingleObjectiveTermination\n",
    "\n",
    "termination = DefaultSingleObjectiveTermination(\n",
    "    xtol=1e-8,\n",
    "    cvtol=1e-6,\n",
    "    ftol=1e-6,\n",
    "    period=20,\n",
    "    n_max_gen=max_gen,\n",
    "    n_max_evals=max_evals\n",
    ")"
   ],
   "outputs": [],
   "execution_count": 13
  },
  {
   "metadata": {},
   "cell_type": "markdown",
   "source": "Definición del algoritmo genético"
  },
  {
   "metadata": {
    "ExecuteTime": {
     "end_time": "2024-10-09T13:48:49.410141Z",
     "start_time": "2024-10-09T13:48:49.288817Z"
    }
   },
   "cell_type": "code",
   "source": [
    "from pymoo.algorithms.soo.nonconvex.ga import GA\n",
    "\n",
    "algorithm = GA(\n",
    "    pop_size=pop_size,\n",
    "    sampling=TopOrZeroSampling(),\n",
    "    crossover=SinglePointCross(prob=p_cross),\n",
    "    mutation=ReassignMutation(prob=p_mutate),\n",
    "    eliminate_duplicates=True\n",
    ")"
   ],
   "outputs": [
    {
     "name": "stdout",
     "output_type": "stream",
     "text": [
      "\n",
      "Compiled modules for significant speedup can not be used!\n",
      "https://pymoo.org/installation.html#installation\n",
      "\n",
      "To disable this warning:\n",
      "from pymoo.config import Config\n",
      "Config.warnings['not_compiled'] = False\n",
      "\n"
     ]
    }
   ],
   "execution_count": 14
  },
  {
   "metadata": {},
   "cell_type": "markdown",
   "source": "Optimización y resultados"
  },
  {
   "metadata": {
    "ExecuteTime": {
     "end_time": "2024-10-09T13:48:51.893952Z",
     "start_time": "2024-10-09T13:48:49.411144Z"
    }
   },
   "cell_type": "code",
   "source": [
    "# Minimización, no se ejecuta directamente, para tomar el tiempo\n",
    "# from pymoo.optimize import minimize\n",
    "# res = minimize(model, algorithm, termination, seed=1, verbose=False)\n",
    "\n",
    "setup = 'from pymoo.optimize import minimize'\n",
    "stmt = 'minimize(model, algorithm, termination, seed=1, verbose=False)'\n",
    "\n",
    "t, res = timeit.timeit(stmt=stmt, setup=setup, number=1, globals=globals())\n",
    "\n",
    "print_acopios(res.X)\n",
    "print(f'Precio: {res.F}')\n",
    "print(f'Tiempo: {round(t * 1000)}ms, ({t})')"
   ],
   "outputs": [
    {
     "name": "stdout",
     "output_type": "stream",
     "text": [
      "Centro de acopio CA1:\n",
      "Stock: 10, \t\t\tAsignado: 10.0\n",
      "Potencial: 0.5, \tAsignado: 0.5\n",
      "\n",
      "Centro de acopio CA2:\n",
      "Stock: 12, \t\t\tAsignado: 9.875\n",
      "Potencial: 0.625, \tAsignado: 0.625\n",
      "\n",
      "Centro de acopio CA3:\n",
      "Stock: 4, \t\t\tAsignado: 0.0\n",
      "Potencial: 14.0, \tAsignado: 0.0\n",
      "\n",
      "Centro de acopio CA4:\n",
      "Stock: 8, \t\t\tAsignado: 8.0\n",
      "Potencial: 13.0, \tAsignado: 13.0\n",
      "\n",
      "Centro de acopio CA5:\n",
      "Stock: 18, \t\t\tAsignado: 0.0\n",
      "Potencial: 15.0, \tAsignado: 0.0\n",
      "\n",
      "Centro de acopio CA6:\n",
      "Stock: 6, \t\t\tAsignado: 0.0\n",
      "Potencial: 14.0, \tAsignado: 0.0\n",
      "\n",
      "Centro de acopio CA7:\n",
      "Stock: 12, \t\t\tAsignado: 3.5\n",
      "Potencial: 13.0, \tAsignado: 0.0\n",
      "\n",
      "Centro de acopio CA8:\n",
      "Stock: 2, \t\t\tAsignado: 2.0\n",
      "Potencial: 12.5, \tAsignado: 12.5\n",
      "\n",
      "Centro de acopio CA9:\n",
      "Stock: 30, \t\t\tAsignado: 0.0\n",
      "Potencial: 15.0, \tAsignado: 0.0\n",
      "\n",
      "Centro de acopio CA10:\n",
      "Stock: 15, \t\t\tAsignado: 0.0\n",
      "Potencial: 18.0, \tAsignado: 0.0\n",
      "\n",
      "Centro de acopio principal: CA2\n",
      "Precio: [403233.]\n",
      "Tiempo: 2471ms, (2.471455799997784)\n"
     ]
    }
   ],
   "execution_count": 15
  },
  {
   "metadata": {
    "ExecuteTime": {
     "end_time": "2024-10-09T14:23:25.602127Z",
     "start_time": "2024-10-09T14:23:25.588307Z"
    }
   },
   "cell_type": "code",
   "source": [
    "rep = pd.DataFrame(np.repeat(params_df, [2], axis=0))[0]\n",
    "rep.loc[rep.reset_index().index % 2 == 0] = rep + ' Stock'\n",
    "rep.loc[rep.reset_index().index % 2 == 1] = rep + ' Potencial'\n",
    "rep = rep.reset_index()\n",
    "rep.insert(2, \"Capacidad\", np.delete(CAPACIDADES, N*2))\n",
    "rep.insert(3, \"Asignada\", np.delete(res.X, N*2))\n",
    "rep"
   ],
   "outputs": [
    {
     "data": {
      "text/plain": [
       "    index               0  Capacidad  Asignada\n",
       "0       0       CA1 Stock     10.000    10.000\n",
       "1       1   CA1 Potencial      0.500     0.500\n",
       "2       2       CA2 Stock     12.000     9.875\n",
       "3       3   CA2 Potencial      0.625     0.625\n",
       "4       4       CA3 Stock      4.000     0.000\n",
       "5       5   CA3 Potencial     14.000     0.000\n",
       "6       6       CA4 Stock      8.000     8.000\n",
       "7       7   CA4 Potencial     13.000    13.000\n",
       "8       8       CA5 Stock     18.000     0.000\n",
       "9       9   CA5 Potencial     15.000     0.000\n",
       "10     10       CA6 Stock      6.000     0.000\n",
       "11     11   CA6 Potencial     14.000     0.000\n",
       "12     12       CA7 Stock     12.000     3.500\n",
       "13     13   CA7 Potencial     13.000     0.000\n",
       "14     14       CA8 Stock      2.000     2.000\n",
       "15     15   CA8 Potencial     12.500    12.500\n",
       "16     16       CA9 Stock     30.000     0.000\n",
       "17     17   CA9 Potencial     15.000     0.000\n",
       "18     18      CA10 Stock     15.000     0.000\n",
       "19     19  CA10 Potencial     18.000     0.000"
      ],
      "text/html": [
       "<div>\n",
       "<style scoped>\n",
       "    .dataframe tbody tr th:only-of-type {\n",
       "        vertical-align: middle;\n",
       "    }\n",
       "\n",
       "    .dataframe tbody tr th {\n",
       "        vertical-align: top;\n",
       "    }\n",
       "\n",
       "    .dataframe thead th {\n",
       "        text-align: right;\n",
       "    }\n",
       "</style>\n",
       "<table border=\"1\" class=\"dataframe\">\n",
       "  <thead>\n",
       "    <tr style=\"text-align: right;\">\n",
       "      <th></th>\n",
       "      <th>index</th>\n",
       "      <th>0</th>\n",
       "      <th>Capacidad</th>\n",
       "      <th>Asignada</th>\n",
       "    </tr>\n",
       "  </thead>\n",
       "  <tbody>\n",
       "    <tr>\n",
       "      <th>0</th>\n",
       "      <td>0</td>\n",
       "      <td>CA1 Stock</td>\n",
       "      <td>10.000</td>\n",
       "      <td>10.000</td>\n",
       "    </tr>\n",
       "    <tr>\n",
       "      <th>1</th>\n",
       "      <td>1</td>\n",
       "      <td>CA1 Potencial</td>\n",
       "      <td>0.500</td>\n",
       "      <td>0.500</td>\n",
       "    </tr>\n",
       "    <tr>\n",
       "      <th>2</th>\n",
       "      <td>2</td>\n",
       "      <td>CA2 Stock</td>\n",
       "      <td>12.000</td>\n",
       "      <td>9.875</td>\n",
       "    </tr>\n",
       "    <tr>\n",
       "      <th>3</th>\n",
       "      <td>3</td>\n",
       "      <td>CA2 Potencial</td>\n",
       "      <td>0.625</td>\n",
       "      <td>0.625</td>\n",
       "    </tr>\n",
       "    <tr>\n",
       "      <th>4</th>\n",
       "      <td>4</td>\n",
       "      <td>CA3 Stock</td>\n",
       "      <td>4.000</td>\n",
       "      <td>0.000</td>\n",
       "    </tr>\n",
       "    <tr>\n",
       "      <th>5</th>\n",
       "      <td>5</td>\n",
       "      <td>CA3 Potencial</td>\n",
       "      <td>14.000</td>\n",
       "      <td>0.000</td>\n",
       "    </tr>\n",
       "    <tr>\n",
       "      <th>6</th>\n",
       "      <td>6</td>\n",
       "      <td>CA4 Stock</td>\n",
       "      <td>8.000</td>\n",
       "      <td>8.000</td>\n",
       "    </tr>\n",
       "    <tr>\n",
       "      <th>7</th>\n",
       "      <td>7</td>\n",
       "      <td>CA4 Potencial</td>\n",
       "      <td>13.000</td>\n",
       "      <td>13.000</td>\n",
       "    </tr>\n",
       "    <tr>\n",
       "      <th>8</th>\n",
       "      <td>8</td>\n",
       "      <td>CA5 Stock</td>\n",
       "      <td>18.000</td>\n",
       "      <td>0.000</td>\n",
       "    </tr>\n",
       "    <tr>\n",
       "      <th>9</th>\n",
       "      <td>9</td>\n",
       "      <td>CA5 Potencial</td>\n",
       "      <td>15.000</td>\n",
       "      <td>0.000</td>\n",
       "    </tr>\n",
       "    <tr>\n",
       "      <th>10</th>\n",
       "      <td>10</td>\n",
       "      <td>CA6 Stock</td>\n",
       "      <td>6.000</td>\n",
       "      <td>0.000</td>\n",
       "    </tr>\n",
       "    <tr>\n",
       "      <th>11</th>\n",
       "      <td>11</td>\n",
       "      <td>CA6 Potencial</td>\n",
       "      <td>14.000</td>\n",
       "      <td>0.000</td>\n",
       "    </tr>\n",
       "    <tr>\n",
       "      <th>12</th>\n",
       "      <td>12</td>\n",
       "      <td>CA7 Stock</td>\n",
       "      <td>12.000</td>\n",
       "      <td>3.500</td>\n",
       "    </tr>\n",
       "    <tr>\n",
       "      <th>13</th>\n",
       "      <td>13</td>\n",
       "      <td>CA7 Potencial</td>\n",
       "      <td>13.000</td>\n",
       "      <td>0.000</td>\n",
       "    </tr>\n",
       "    <tr>\n",
       "      <th>14</th>\n",
       "      <td>14</td>\n",
       "      <td>CA8 Stock</td>\n",
       "      <td>2.000</td>\n",
       "      <td>2.000</td>\n",
       "    </tr>\n",
       "    <tr>\n",
       "      <th>15</th>\n",
       "      <td>15</td>\n",
       "      <td>CA8 Potencial</td>\n",
       "      <td>12.500</td>\n",
       "      <td>12.500</td>\n",
       "    </tr>\n",
       "    <tr>\n",
       "      <th>16</th>\n",
       "      <td>16</td>\n",
       "      <td>CA9 Stock</td>\n",
       "      <td>30.000</td>\n",
       "      <td>0.000</td>\n",
       "    </tr>\n",
       "    <tr>\n",
       "      <th>17</th>\n",
       "      <td>17</td>\n",
       "      <td>CA9 Potencial</td>\n",
       "      <td>15.000</td>\n",
       "      <td>0.000</td>\n",
       "    </tr>\n",
       "    <tr>\n",
       "      <th>18</th>\n",
       "      <td>18</td>\n",
       "      <td>CA10 Stock</td>\n",
       "      <td>15.000</td>\n",
       "      <td>0.000</td>\n",
       "    </tr>\n",
       "    <tr>\n",
       "      <th>19</th>\n",
       "      <td>19</td>\n",
       "      <td>CA10 Potencial</td>\n",
       "      <td>18.000</td>\n",
       "      <td>0.000</td>\n",
       "    </tr>\n",
       "  </tbody>\n",
       "</table>\n",
       "</div>"
      ]
     },
     "execution_count": 77,
     "metadata": {},
     "output_type": "execute_result"
    }
   ],
   "execution_count": 77
  },
  {
   "metadata": {},
   "cell_type": "markdown",
   "source": [
    "# todo\n",
    "\n",
    "Comenzar a buscar parámetros óptimos y documentar los resultados (La solución es óptima?) "
   ]
  }
 ],
 "metadata": {
  "colab": {
   "provenance": []
  },
  "kernelspec": {
   "display_name": "Python 3 (ipykernel)",
   "language": "python",
   "name": "python3"
  },
  "language_info": {
   "codemirror_mode": {
    "name": "ipython",
    "version": 3
   },
   "file_extension": ".py",
   "mimetype": "text/x-python",
   "name": "python",
   "nbconvert_exporter": "python",
   "pygments_lexer": "ipython3",
   "version": "3.11.7"
  }
 },
 "nbformat": 4,
 "nbformat_minor": 4
}
